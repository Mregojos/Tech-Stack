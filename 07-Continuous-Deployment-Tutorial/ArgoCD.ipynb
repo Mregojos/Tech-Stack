{
 "cells": [
  {
   "cell_type": "markdown",
   "id": "d0449b19-42bc-4c61-ba70-8e3cfecbfd88",
   "metadata": {},
   "source": [
    "# ArgoCD Tutorial\n",
    "\n",
    "Reference: argo-cd.readthedocs.io"
   ]
  },
  {
   "cell_type": "markdown",
   "id": "b07731fc-eb5e-4e51-bab9-babe8708abb4",
   "metadata": {},
   "source": [
    "## Getting Started\n",
    "\n",
    "Reference: argo-cd.readthedocs.io/en/stable/getting_started"
   ]
  },
  {
   "cell_type": "markdown",
   "id": "2c6403e4-b70a-4b21-90b4-291f78409c42",
   "metadata": {},
   "source": [
    "### (Option 1) Create a GKE cluster\n",
    "\n",
    "Reference: cloud.google.com/kubernetes-engine/docs"
   ]
  },
  {
   "cell_type": "code",
   "execution_count": null,
   "id": "85e2f8b8-e777-4c5f-a712-7265f6a5ae55",
   "metadata": {},
   "outputs": [],
   "source": [
    "# Install kubectl\n",
    "# !sudo apt update\n",
    "# !sudo apt install -y kubectl\n",
    "# !kubectl version "
   ]
  },
  {
   "cell_type": "code",
   "execution_count": null,
   "id": "a39b2d21-5abb-4e4c-bb10-383c9a931709",
   "metadata": {},
   "outputs": [],
   "source": [
    "# Install required plugins\n",
    "!sudo apt install google-cloud-sdk-gke-gcloud-auth-plugin\n",
    "!gke-gcloud-auth-plugin --version"
   ]
  },
  {
   "cell_type": "code",
   "execution_count": null,
   "id": "ee67b7c6-023c-4117-b3de-4d95e7adc881",
   "metadata": {},
   "outputs": [],
   "source": [
    "# Create a GKE cluster\n",
    "!gcloud container clusters create-auto matt-argocd \\\n",
    "    --location=us-west1\n",
    "    --project=training1029"
   ]
  },
  {
   "cell_type": "code",
   "execution_count": null,
   "id": "66504bdc-e883-464e-ad6e-e3f9664d90af",
   "metadata": {},
   "outputs": [],
   "source": [
    "# Connect to the cluster\n",
    "!gcloud container clusters get-credentials matt-argocd \\\n",
    "    --location=us-west1 \\\n",
    "    --project=training1029"
   ]
  },
  {
   "cell_type": "code",
   "execution_count": null,
   "id": "36fefdd5-f8d0-4b44-9479-c133612b479c",
   "metadata": {},
   "outputs": [],
   "source": [
    "# Verify the cluster mode\n",
    "!gcloud container clusters describe matt-argocd \\\n",
    "    --location=us-west1"
   ]
  },
  {
   "cell_type": "code",
   "execution_count": null,
   "id": "79186d76-cd3c-4f6a-af69-3a2afa5edef1",
   "metadata": {},
   "outputs": [],
   "source": [
    "!kubectl get namespaces"
   ]
  },
  {
   "cell_type": "code",
   "execution_count": null,
   "id": "290082f0-32f4-42bd-a89a-cd5d2d1456ae",
   "metadata": {},
   "outputs": [],
   "source": [
    "!cat ~/.kube/config"
   ]
  },
  {
   "cell_type": "markdown",
   "id": "27b84832-dfa6-4fa1-856f-7315e86bb600",
   "metadata": {},
   "source": [
    "### (Option 2) Create a Minikube cluster"
   ]
  },
  {
   "cell_type": "raw",
   "id": "fd057fb5-9516-4a23-85c9-f8c68d9168e8",
   "metadata": {},
   "source": [
    "# Reference: kubernetes.io/docs\n",
    "\n",
    "# Install kubectl on Linux\n",
    "# Referene: https://kubernetes.io/docs/tasks/tools/install-kubectl-linux/\n",
    "\n",
    "# Install kubectl binary with curl on Linux\n",
    "curl -LO \"https://dl.k8s.io/release/$(curl -L -s https://dl.k8s.io/release/stable.txt)/bin/linux/amd64/kubectl\"\n",
    "sudo install -o root -g root -m 0755 kubectl /usr/local/bin/kubectl\n",
    "kubectl version --client --output=yaml\n",
    "\n",
    "# Install using native package management\n",
    "sudo apt-get update\n",
    "# apt-transport-https may be a dummy package; if so, you can skip that package\n",
    "sudo apt-get install -y apt-transport-https ca-certificates curl\n",
    "curl -fsSL https://pkgs.k8s.io/core:/stable:/v1.28/deb/Release.key | sudo gpg --dearmor -o /etc/apt/keyrings/kubernetes-apt-keyring.gpg\n",
    "# This overwrites any existing configuration in /etc/apt/sources.list.d/kubernetes.list\n",
    "echo 'deb [signed-by=/etc/apt/keyrings/kubernetes-apt-keyring.gpg] https://pkgs.k8s.io/core:/stable:/v1.28/deb/ /' | sudo tee /etc/apt/sources.list.d/kubernetes.list\n",
    "sudo apt-get update\n",
    "sudo apt-get install -y kubectl"
   ]
  },
  {
   "cell_type": "code",
   "execution_count": null,
   "id": "df0dc050-45e6-4e0e-855b-238081991f06",
   "metadata": {},
   "outputs": [],
   "source": [
    "%%sh\n",
    "## Install Minkinube\n",
    "curl -LO https://storage.googleapis.com/minikube/releases/latest/minikube-linux-amd64\n",
    "sudo install minikube-linux-amd64 /usr/local/bin/minikube\n",
    "# Start Minikube\n",
    "minikube start"
   ]
  },
  {
   "cell_type": "code",
   "execution_count": null,
   "id": "3b369bee-811a-492d-8bd6-7e85e28b29d7",
   "metadata": {},
   "outputs": [],
   "source": [
    "!kubectl get namespaces"
   ]
  },
  {
   "cell_type": "code",
   "execution_count": null,
   "id": "6dd015ee-a171-45ec-be94-edcb0607c64d",
   "metadata": {},
   "outputs": [],
   "source": [
    "!cat ~/.kube/config"
   ]
  },
  {
   "cell_type": "markdown",
   "id": "a7fc3b08-a668-4698-873d-dd6c76bec01e",
   "metadata": {},
   "source": [
    "### Install Argo CD"
   ]
  },
  {
   "cell_type": "code",
   "execution_count": null,
   "id": "67155096-1556-4a95-94f0-9a118509a69e",
   "metadata": {},
   "outputs": [],
   "source": [
    "!kubectl create namespace argocd"
   ]
  },
  {
   "cell_type": "code",
   "execution_count": null,
   "id": "29eaf4b5-df2f-4880-9969-a8dba5c6beb9",
   "metadata": {},
   "outputs": [],
   "source": [
    "!kubectl apply -n argocd -f https://raw.githubusercontent.com/argoproj/argo-cd/stable/manifests/install.yaml"
   ]
  },
  {
   "cell_type": "markdown",
   "id": "1416dcd1-0b9c-4a0e-b83f-0e9bcc4de61e",
   "metadata": {},
   "source": [
    "### Download Argo CD CLI"
   ]
  },
  {
   "cell_type": "code",
   "execution_count": null,
   "id": "d9559c30-a5bf-483e-9076-796da0ec4c7c",
   "metadata": {},
   "outputs": [],
   "source": [
    "%%sh\n",
    "# Latest Version\n",
    "curl -sSL -o argocd-linux-amd64 https://github.com/argoproj/argo-cd/releases/latest/download/argocd-linux-amd64\n",
    "sudo install -m 555 argocd-linux-amd64 /usr/local/bin/argocd\n",
    "rm argocd-linux-amd64"
   ]
  },
  {
   "cell_type": "markdown",
   "id": "2ba8d6f1-c800-47f4-b57b-78f0320fe335",
   "metadata": {},
   "source": [
    "### Access The Argo CD API Server"
   ]
  },
  {
   "cell_type": "code",
   "execution_count": null,
   "id": "c88a0e46-30b1-4af1-b647-befb1b46f79d",
   "metadata": {},
   "outputs": [],
   "source": [
    "!kubectl patch svc argocd-server -n argocd -p '{\"spec\": {\"type\": \"LoadBalancer\"}}'"
   ]
  },
  {
   "cell_type": "code",
   "execution_count": null,
   "id": "1442b8ad-7ee8-4299-a134-ab83dd715aad",
   "metadata": {},
   "outputs": [],
   "source": [
    "# RUn in another terminal\n",
    "!kubectl port-forward svc/argocd-server -n argocd 8000:443 --address 0.0.0.0"
   ]
  },
  {
   "cell_type": "code",
   "execution_count": null,
   "id": "12741e3a-c45e-4a94-a24a-755c982401e7",
   "metadata": {},
   "outputs": [],
   "source": [
    "!argocd admin initial-password -n argocd"
   ]
  },
  {
   "cell_type": "code",
   "execution_count": null,
   "id": "02e4d989-f0ef-46ce-82df-e8511a76d3c0",
   "metadata": {},
   "outputs": [],
   "source": [
    "# USERNAME: ADMIN\n",
    "# PASSORD: <!argocd admin initial-password -n argocd> #password\n",
    "\n",
    "# You can change it using the UI"
   ]
  },
  {
   "cell_type": "code",
   "execution_count": null,
   "id": "77843d5c-dfbb-4865-a854-5a4be7d17a6f",
   "metadata": {},
   "outputs": [],
   "source": [
    "# argocd login <ARGOCD_SERVER>"
   ]
  },
  {
   "cell_type": "code",
   "execution_count": null,
   "id": "63b59818-7dc1-478e-a53c-4c97a5533914",
   "metadata": {},
   "outputs": [],
   "source": [
    "# !argocd account update-password"
   ]
  },
  {
   "cell_type": "markdown",
   "id": "1df4abd5-e79f-43ba-befc-3ec824a6811c",
   "metadata": {},
   "source": [
    "### Create an application from a git repository"
   ]
  },
  {
   "cell_type": "code",
   "execution_count": null,
   "id": "fa894704-b9c7-4c1b-bf10-a91a79cee718",
   "metadata": {},
   "outputs": [],
   "source": [
    "# Create Apps Via CLI\n",
    "# !kubectl config set-context --current --namespace=argocd\n",
    "# !argocd app create guestbook --repo https://github.com/argoproj/argocd-example-apps.git --path guestbook --dest-server https://kubernetes.default.svc --dest-namespace default"
   ]
  },
  {
   "cell_type": "code",
   "execution_count": null,
   "id": "52bb898e-3eb6-4c97-9e50-7dfc55738724",
   "metadata": {},
   "outputs": [],
   "source": [
    "# Create Apps Via UI"
   ]
  }
 ],
 "metadata": {
  "environment": {
   "kernel": "python3",
   "name": "tf2-cpu.2-11.m112",
   "type": "gcloud",
   "uri": "gcr.io/deeplearning-platform-release/tf2-cpu.2-11:m112"
  },
  "kernelspec": {
   "display_name": "Python 3",
   "language": "python",
   "name": "python3"
  },
  "language_info": {
   "codemirror_mode": {
    "name": "ipython",
    "version": 3
   },
   "file_extension": ".py",
   "mimetype": "text/x-python",
   "name": "python",
   "nbconvert_exporter": "python",
   "pygments_lexer": "ipython3",
   "version": "3.10.12"
  }
 },
 "nbformat": 4,
 "nbformat_minor": 5
}
