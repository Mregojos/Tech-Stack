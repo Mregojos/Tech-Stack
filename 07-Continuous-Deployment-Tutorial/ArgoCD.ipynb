{
 "cells": [
  {
   "cell_type": "markdown",
   "id": "d0449b19-42bc-4c61-ba70-8e3cfecbfd88",
   "metadata": {},
   "source": [
    "# ArgoCD Tutorial\n",
    "\n",
    "Reference: argo-cd.readthedocs.io"
   ]
  },
  {
   "cell_type": "markdown",
   "id": "b07731fc-eb5e-4e51-bab9-babe8708abb4",
   "metadata": {},
   "source": [
    "## Getting Started\n",
    "\n",
    "Reference: argo-cd.readthedocs.io/en/stable/getting_started"
   ]
  },
  {
   "cell_type": "markdown",
   "id": "2c6403e4-b70a-4b21-90b4-291f78409c42",
   "metadata": {},
   "source": [
    "### Create a cluster\n",
    "\n",
    "Reference: cloud.google.com/kubernetes-engine/docs"
   ]
  },
  {
   "cell_type": "code",
   "execution_count": null,
   "id": "85e2f8b8-e777-4c5f-a712-7265f6a5ae55",
   "metadata": {},
   "outputs": [],
   "source": [
    "# Install kubectl\n",
    "# !sudo apt update\n",
    "# !sudo apt install -y kubectl\n",
    "# !kubectl version "
   ]
  },
  {
   "cell_type": "code",
   "execution_count": null,
   "id": "a39b2d21-5abb-4e4c-bb10-383c9a931709",
   "metadata": {},
   "outputs": [],
   "source": [
    "# Install required plugins\n",
    "!sudo apt install google-cloud-sdk-gke-gcloud-auth-plugin\n",
    "!gke-gcloud-auth-plugin --version"
   ]
  },
  {
   "cell_type": "code",
   "execution_count": null,
   "id": "ee67b7c6-023c-4117-b3de-4d95e7adc881",
   "metadata": {},
   "outputs": [],
   "source": [
    "# Create a GKE cluster\n",
    "!gcloud container clusters create-auto matt-argocd \\\n",
    "    --location=us-west1\n",
    "    --project=training1029"
   ]
  },
  {
   "cell_type": "code",
   "execution_count": 10,
   "id": "66504bdc-e883-464e-ad6e-e3f9664d90af",
   "metadata": {},
   "outputs": [
    {
     "name": "stdout",
     "output_type": "stream",
     "text": [
      "Fetching cluster endpoint and auth data.\n",
      "kubeconfig entry generated for matt-argocd.\n"
     ]
    }
   ],
   "source": [
    "# Connect to the cluster\n",
    "!gcloud container clusters get-credentials matt-argocd \\\n",
    "    --location=us-west1 \\\n",
    "    --project=training1029"
   ]
  },
  {
   "cell_type": "code",
   "execution_count": null,
   "id": "36fefdd5-f8d0-4b44-9479-c133612b479c",
   "metadata": {},
   "outputs": [],
   "source": [
    "# Verify the cluster mode\n",
    "!gcloud container clusters describe matt-argocd \\\n",
    "    --location=us-west1"
   ]
  },
  {
   "cell_type": "code",
   "execution_count": null,
   "id": "79186d76-cd3c-4f6a-af69-3a2afa5edef1",
   "metadata": {},
   "outputs": [],
   "source": [
    "!kubectl get namespaces"
   ]
  },
  {
   "cell_type": "code",
   "execution_count": null,
   "id": "290082f0-32f4-42bd-a89a-cd5d2d1456ae",
   "metadata": {},
   "outputs": [],
   "source": [
    "!cat ~/.kube/config"
   ]
  },
  {
   "cell_type": "markdown",
   "id": "a7fc3b08-a668-4698-873d-dd6c76bec01e",
   "metadata": {},
   "source": [
    "### Install Argo CD"
   ]
  },
  {
   "cell_type": "code",
   "execution_count": null,
   "id": "67155096-1556-4a95-94f0-9a118509a69e",
   "metadata": {},
   "outputs": [],
   "source": []
  }
 ],
 "metadata": {
  "environment": {
   "kernel": "python3",
   "name": "tf2-cpu.2-11.m112",
   "type": "gcloud",
   "uri": "gcr.io/deeplearning-platform-release/tf2-cpu.2-11:m112"
  },
  "kernelspec": {
   "display_name": "Python 3",
   "language": "python",
   "name": "python3"
  },
  "language_info": {
   "codemirror_mode": {
    "name": "ipython",
    "version": 3
   },
   "file_extension": ".py",
   "mimetype": "text/x-python",
   "name": "python",
   "nbconvert_exporter": "python",
   "pygments_lexer": "ipython3",
   "version": "3.10.12"
  }
 },
 "nbformat": 4,
 "nbformat_minor": 5
}
