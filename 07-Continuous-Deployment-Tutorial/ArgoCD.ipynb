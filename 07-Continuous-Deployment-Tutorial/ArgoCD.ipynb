{
 "cells": [
  {
   "cell_type": "markdown",
   "id": "d0449b19-42bc-4c61-ba70-8e3cfecbfd88",
   "metadata": {},
   "source": [
    "# ArgoCD Tutorial\n",
    "\n",
    "Reference: argo-cd.readthedocs.io"
   ]
  },
  {
   "cell_type": "code",
   "execution_count": null,
   "id": "f2f9cdd1-e32f-4284-af7f-67422427c66e",
   "metadata": {},
   "outputs": [],
   "source": []
  }
 ],
 "metadata": {
  "environment": {
   "kernel": "python3",
   "name": "tf2-cpu.2-11.m112",
   "type": "gcloud",
   "uri": "gcr.io/deeplearning-platform-release/tf2-cpu.2-11:m112"
  },
  "kernelspec": {
   "display_name": "Python 3",
   "language": "python",
   "name": "python3"
  },
  "language_info": {
   "codemirror_mode": {
    "name": "ipython",
    "version": 3
   },
   "file_extension": ".py",
   "mimetype": "text/x-python",
   "name": "python",
   "nbconvert_exporter": "python",
   "pygments_lexer": "ipython3",
   "version": "3.10.12"
  }
 },
 "nbformat": 4,
 "nbformat_minor": 5
}
