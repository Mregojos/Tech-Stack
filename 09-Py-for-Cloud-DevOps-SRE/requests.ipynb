{
 "cells": [
  {
   "cell_type": "markdown",
   "id": "66d9225b-cff6-4815-ab44-3d6b8a444f2c",
   "metadata": {},
   "source": [
    "# Requests Library Tutorial\n",
    "\n",
    "Reference: https://requests.readthedocs.io"
   ]
  },
  {
   "cell_type": "code",
   "execution_count": null,
   "id": "6bd84de3-7fc9-4e90-bb30-7461d94e7c63",
   "metadata": {},
   "outputs": [],
   "source": []
  }
 ],
 "metadata": {
  "environment": {
   "kernel": "python3",
   "name": "tf2-cpu.2-11.m112",
   "type": "gcloud",
   "uri": "gcr.io/deeplearning-platform-release/tf2-cpu.2-11:m112"
  },
  "kernelspec": {
   "display_name": "Python 3",
   "language": "python",
   "name": "python3"
  },
  "language_info": {
   "codemirror_mode": {
    "name": "ipython",
    "version": 3
   },
   "file_extension": ".py",
   "mimetype": "text/x-python",
   "name": "python",
   "nbconvert_exporter": "python",
   "pygments_lexer": "ipython3",
   "version": "3.10.12"
  }
 },
 "nbformat": 4,
 "nbformat_minor": 5
}
