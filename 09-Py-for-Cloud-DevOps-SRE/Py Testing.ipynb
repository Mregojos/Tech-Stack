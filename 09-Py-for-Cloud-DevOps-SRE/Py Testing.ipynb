{
 "cells": [
  {
   "cell_type": "markdown",
   "id": "522eb728-e19b-49e6-9bb5-0fcbe6b21199",
   "metadata": {},
   "source": [
    "# Python Testing"
   ]
  },
  {
   "cell_type": "markdown",
   "id": "40a7bb1b-3337-41dd-a7b1-df4f0699b8f6",
   "metadata": {},
   "source": [
    "## Python Testing"
   ]
  },
  {
   "cell_type": "code",
   "execution_count": null,
   "id": "4ba439d7-4bbd-4700-b571-78513386f798",
   "metadata": {},
   "outputs": [],
   "source": []
  },
  {
   "cell_type": "markdown",
   "id": "296bf5d7-fad9-4416-8ea2-3722142a111f",
   "metadata": {},
   "source": [
    "## pytest"
   ]
  },
  {
   "cell_type": "code",
   "execution_count": null,
   "id": "985ebc4b-f395-44fe-aec7-a9a9677001e8",
   "metadata": {},
   "outputs": [],
   "source": []
  }
 ],
 "metadata": {
  "environment": {
   "kernel": "python3",
   "name": "tf2-cpu.2-11.m112",
   "type": "gcloud",
   "uri": "gcr.io/deeplearning-platform-release/tf2-cpu.2-11:m112"
  },
  "kernelspec": {
   "display_name": "Python 3",
   "language": "python",
   "name": "python3"
  },
  "language_info": {
   "codemirror_mode": {
    "name": "ipython",
    "version": 3
   },
   "file_extension": ".py",
   "mimetype": "text/x-python",
   "name": "python",
   "nbconvert_exporter": "python",
   "pygments_lexer": "ipython3",
   "version": "3.10.12"
  }
 },
 "nbformat": 4,
 "nbformat_minor": 5
}
