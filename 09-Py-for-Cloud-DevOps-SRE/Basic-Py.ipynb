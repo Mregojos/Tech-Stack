{
 "cells": [
  {
   "cell_type": "markdown",
   "id": "4d390e13-c413-432e-85b3-7c7e380fce22",
   "metadata": {},
   "source": [
    "# Basic Python\n",
    "\n",
    "Reference: https://docs.python.org"
   ]
  },
  {
   "cell_type": "code",
   "execution_count": null,
   "id": "0a21a8d8-9445-4cd3-881c-0860010d5a05",
   "metadata": {},
   "outputs": [],
   "source": [
    "# Python Version\n",
    "!python -V"
   ]
  },
  {
   "cell_type": "code",
   "execution_count": null,
   "id": "1660f0f3-e479-495a-ac7c-ac1f7de7b978",
   "metadata": {},
   "outputs": [],
   "source": [
    "# Help\n",
    "help()\n",
    "help(<LIBRARY_NAME>)"
   ]
  },
  {
   "cell_type": "code",
   "execution_count": null,
   "id": "b9c854e5-d440-4c4c-ba7b-19c9fc8696fd",
   "metadata": {},
   "outputs": [],
   "source": [
    "# Print Directory\n",
    "dir()\n",
    "dir(LIBRARY_NAME)"
   ]
  },
  {
   "cell_type": "code",
   "execution_count": null,
   "id": "6c873618-99a3-45b4-8f21-c9cdc7f5df60",
   "metadata": {},
   "outputs": [],
   "source": [
    "# Install a library\n",
    "!pip install <LIBRARY_NAME> <...>"
   ]
  },
  {
   "cell_type": "code",
   "execution_count": null,
   "id": "fa1e0017-364c-470f-b823-2e58ec706434",
   "metadata": {},
   "outputs": [],
   "source": [
    "# Pip Help\n",
    "!pip help"
   ]
  },
  {
   "cell_type": "code",
   "execution_count": null,
   "id": "69dccd66-6a09-4340-845f-99fa73a9aa8f",
   "metadata": {},
   "outputs": [],
   "source": [
    "# Import library\n",
    "import <LIBRARY_NAME>\n",
    "from <LIBRARY_NAME> import <FUNCTION>\n",
    "from <LIBRARY_NAME> import <FUNCTION> # All"
   ]
  }
 ],
 "metadata": {
  "environment": {
   "kernel": "python3",
   "name": "tf2-cpu.2-11.m112",
   "type": "gcloud",
   "uri": "gcr.io/deeplearning-platform-release/tf2-cpu.2-11:m112"
  },
  "kernelspec": {
   "display_name": "Python 3",
   "language": "python",
   "name": "python3"
  },
  "language_info": {
   "codemirror_mode": {
    "name": "ipython",
    "version": 3
   },
   "file_extension": ".py",
   "mimetype": "text/x-python",
   "name": "python",
   "nbconvert_exporter": "python",
   "pygments_lexer": "ipython3",
   "version": "3.10.12"
  }
 },
 "nbformat": 4,
 "nbformat_minor": 5
}
