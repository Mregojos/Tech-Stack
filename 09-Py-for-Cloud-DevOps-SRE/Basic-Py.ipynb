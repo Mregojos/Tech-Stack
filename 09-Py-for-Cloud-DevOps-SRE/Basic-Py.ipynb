{
 "cells": [
  {
   "cell_type": "markdown",
   "id": "4d390e13-c413-432e-85b3-7c7e380fce22",
   "metadata": {},
   "source": [
    "# Basic Python\n",
    "\n",
    "Reference: docs.python.org"
   ]
  },
  {
   "cell_type": "code",
   "execution_count": null,
   "id": "1660f0f3-e479-495a-ac7c-ac1f7de7b978",
   "metadata": {},
   "outputs": [],
   "source": []
  }
 ],
 "metadata": {
  "environment": {
   "kernel": "python3",
   "name": "tf2-cpu.2-11.m112",
   "type": "gcloud",
   "uri": "gcr.io/deeplearning-platform-release/tf2-cpu.2-11:m112"
  },
  "kernelspec": {
   "display_name": "Python 3",
   "language": "python",
   "name": "python3"
  },
  "language_info": {
   "codemirror_mode": {
    "name": "ipython",
    "version": 3
   },
   "file_extension": ".py",
   "mimetype": "text/x-python",
   "name": "python",
   "nbconvert_exporter": "python",
   "pygments_lexer": "ipython3",
   "version": "3.10.12"
  }
 },
 "nbformat": 4,
 "nbformat_minor": 5
}
