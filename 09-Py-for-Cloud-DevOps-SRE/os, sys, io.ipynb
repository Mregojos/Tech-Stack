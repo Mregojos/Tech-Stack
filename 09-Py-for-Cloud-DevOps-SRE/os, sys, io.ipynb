{
 "cells": [
  {
   "cell_type": "markdown",
   "id": "ec61eba3-ac69-48df-8424-d6ba3906b378",
   "metadata": {},
   "source": [
    "# os Library"
   ]
  },
  {
   "cell_type": "code",
   "execution_count": null,
   "id": "3ab045cc-021d-4cd7-86ae-b39775588b56",
   "metadata": {},
   "outputs": [],
   "source": [
    "import os"
   ]
  },
  {
   "cell_type": "code",
   "execution_count": null,
   "id": "25d4c269-10ea-4355-be91-eb5660dc7d52",
   "metadata": {},
   "outputs": [],
   "source": [
    "dir(os)"
   ]
  },
  {
   "cell_type": "code",
   "execution_count": null,
   "id": "f5a21c2f-b0ee-47d0-bf9a-93e3a466c6c9",
   "metadata": {},
   "outputs": [],
   "source": [
    "help(os)"
   ]
  },
  {
   "cell_type": "markdown",
   "id": "6018e19d-ca1b-4ee3-971e-9deb080252c0",
   "metadata": {},
   "source": [
    "# sys Library"
   ]
  },
  {
   "cell_type": "code",
   "execution_count": null,
   "id": "c74c1a25-64bd-4aa5-84bf-8d96d3d3f676",
   "metadata": {},
   "outputs": [],
   "source": [
    "import sys"
   ]
  },
  {
   "cell_type": "code",
   "execution_count": null,
   "id": "89a249d8-e80b-406a-987e-3b9d3fd7804e",
   "metadata": {},
   "outputs": [],
   "source": [
    "help(sys)"
   ]
  },
  {
   "cell_type": "code",
   "execution_count": null,
   "id": "4c61f078-583d-49d4-9073-f7b59117a2c5",
   "metadata": {},
   "outputs": [],
   "source": [
    "dir(sys)"
   ]
  },
  {
   "cell_type": "markdown",
   "id": "d29465af-26f5-4f63-a657-0d6108dce796",
   "metadata": {},
   "source": [
    "# io Library"
   ]
  },
  {
   "cell_type": "code",
   "execution_count": null,
   "id": "4d1f93b1-dde5-4709-a0f2-aae1315594c7",
   "metadata": {},
   "outputs": [],
   "source": [
    "import io"
   ]
  },
  {
   "cell_type": "code",
   "execution_count": null,
   "id": "c89f01fe-ac2b-4a6c-a987-1f45ef75b472",
   "metadata": {},
   "outputs": [],
   "source": [
    "help(io)"
   ]
  },
  {
   "cell_type": "code",
   "execution_count": null,
   "id": "fef0452b-2a5d-45ab-8031-f871f63c3172",
   "metadata": {},
   "outputs": [],
   "source": [
    "dir(io)"
   ]
  }
 ],
 "metadata": {
  "environment": {
   "kernel": "python3",
   "name": "tf2-cpu.2-11.m112",
   "type": "gcloud",
   "uri": "gcr.io/deeplearning-platform-release/tf2-cpu.2-11:m112"
  },
  "kernelspec": {
   "display_name": "Python 3",
   "language": "python",
   "name": "python3"
  },
  "language_info": {
   "codemirror_mode": {
    "name": "ipython",
    "version": 3
   },
   "file_extension": ".py",
   "mimetype": "text/x-python",
   "name": "python",
   "nbconvert_exporter": "python",
   "pygments_lexer": "ipython3",
   "version": "3.10.12"
  }
 },
 "nbformat": 4,
 "nbformat_minor": 5
}
