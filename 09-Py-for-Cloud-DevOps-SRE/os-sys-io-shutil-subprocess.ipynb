{
 "cells": [
  {
   "cell_type": "markdown",
   "id": "ec61eba3-ac69-48df-8424-d6ba3906b378",
   "metadata": {},
   "source": [
    "# os Library"
   ]
  },
  {
   "cell_type": "code",
   "execution_count": null,
   "id": "3ab045cc-021d-4cd7-86ae-b39775588b56",
   "metadata": {},
   "outputs": [],
   "source": [
    "import os"
   ]
  },
  {
   "cell_type": "code",
   "execution_count": null,
   "id": "25d4c269-10ea-4355-be91-eb5660dc7d52",
   "metadata": {},
   "outputs": [],
   "source": [
    "dir(os)"
   ]
  },
  {
   "cell_type": "code",
   "execution_count": null,
   "id": "f5a21c2f-b0ee-47d0-bf9a-93e3a466c6c9",
   "metadata": {},
   "outputs": [],
   "source": [
    "help(os)"
   ]
  },
  {
   "cell_type": "markdown",
   "id": "6018e19d-ca1b-4ee3-971e-9deb080252c0",
   "metadata": {},
   "source": [
    "# sys Library"
   ]
  },
  {
   "cell_type": "code",
   "execution_count": null,
   "id": "c74c1a25-64bd-4aa5-84bf-8d96d3d3f676",
   "metadata": {},
   "outputs": [],
   "source": [
    "import sys"
   ]
  },
  {
   "cell_type": "code",
   "execution_count": null,
   "id": "89a249d8-e80b-406a-987e-3b9d3fd7804e",
   "metadata": {},
   "outputs": [],
   "source": [
    "help(sys)"
   ]
  },
  {
   "cell_type": "code",
   "execution_count": null,
   "id": "4c61f078-583d-49d4-9073-f7b59117a2c5",
   "metadata": {},
   "outputs": [],
   "source": [
    "dir(sys)"
   ]
  },
  {
   "cell_type": "markdown",
   "id": "d29465af-26f5-4f63-a657-0d6108dce796",
   "metadata": {},
   "source": [
    "# io Library"
   ]
  },
  {
   "cell_type": "code",
   "execution_count": null,
   "id": "4d1f93b1-dde5-4709-a0f2-aae1315594c7",
   "metadata": {},
   "outputs": [],
   "source": [
    "import io"
   ]
  },
  {
   "cell_type": "code",
   "execution_count": null,
   "id": "c89f01fe-ac2b-4a6c-a987-1f45ef75b472",
   "metadata": {},
   "outputs": [],
   "source": [
    "help(io)"
   ]
  },
  {
   "cell_type": "code",
   "execution_count": null,
   "id": "fef0452b-2a5d-45ab-8031-f871f63c3172",
   "metadata": {},
   "outputs": [],
   "source": [
    "dir(io)"
   ]
  },
  {
   "cell_type": "markdown",
   "id": "e1a61583-6fb7-4b43-ac7e-42149dd49658",
   "metadata": {},
   "source": [
    "# shutil Library"
   ]
  },
  {
   "cell_type": "code",
   "execution_count": null,
   "id": "2a8d8607-c5cf-4445-b573-6ba10ff7aa41",
   "metadata": {},
   "outputs": [],
   "source": [
    "import io"
   ]
  },
  {
   "cell_type": "code",
   "execution_count": null,
   "id": "7b83dee2-4dff-4aa2-aad5-bfa8481525f3",
   "metadata": {},
   "outputs": [],
   "source": [
    "help(io)"
   ]
  },
  {
   "cell_type": "code",
   "execution_count": null,
   "id": "14123079-37d9-4a8a-8985-ff18ef25576a",
   "metadata": {},
   "outputs": [],
   "source": [
    "dir(io)"
   ]
  },
  {
   "cell_type": "markdown",
   "id": "31ac57dc-7669-4933-be0d-ea4ee59e5103",
   "metadata": {},
   "source": [
    "# subprocess Library"
   ]
  },
  {
   "cell_type": "code",
   "execution_count": null,
   "id": "8c6ff564-ef48-43b7-9d2d-17fe726ef6b9",
   "metadata": {},
   "outputs": [],
   "source": [
    "import io"
   ]
  },
  {
   "cell_type": "code",
   "execution_count": null,
   "id": "82e422ff-6bfc-41db-ae93-1905ba0e599f",
   "metadata": {},
   "outputs": [],
   "source": [
    "help(io)"
   ]
  },
  {
   "cell_type": "code",
   "execution_count": null,
   "id": "477ca72f-6f70-4992-acf8-fd7a954c1541",
   "metadata": {},
   "outputs": [],
   "source": [
    "dir(io)"
   ]
  }
 ],
 "metadata": {
  "environment": {
   "kernel": "python3",
   "name": "tf2-cpu.2-11.m112",
   "type": "gcloud",
   "uri": "gcr.io/deeplearning-platform-release/tf2-cpu.2-11:m112"
  },
  "kernelspec": {
   "display_name": "Python 3",
   "language": "python",
   "name": "python3"
  },
  "language_info": {
   "codemirror_mode": {
    "name": "ipython",
    "version": 3
   },
   "file_extension": ".py",
   "mimetype": "text/x-python",
   "name": "python",
   "nbconvert_exporter": "python",
   "pygments_lexer": "ipython3",
   "version": "3.10.12"
  }
 },
 "nbformat": 4,
 "nbformat_minor": 5
}
