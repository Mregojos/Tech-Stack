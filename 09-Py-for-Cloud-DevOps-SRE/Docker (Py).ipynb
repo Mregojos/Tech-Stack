{
 "cells": [
  {
   "cell_type": "markdown",
   "id": "51a07e5b-8097-46cc-afbe-81060e6d5fe2",
   "metadata": {},
   "source": [
    "# Docker Python"
   ]
  },
  {
   "cell_type": "markdown",
   "id": "ce971be7-25d2-486f-8f2c-922b6979ec99",
   "metadata": {},
   "source": [
    "## Simple App Docker Python"
   ]
  },
  {
   "cell_type": "code",
   "execution_count": null,
   "id": "f670a954-1156-415c-8f49-09ce7f2181be",
   "metadata": {},
   "outputs": [],
   "source": [
    "import os\n",
    "dir_name = \"simple-app-docker-py\"\n",
    "if dir_name in os.listdir():\n",
    "    print(\"Directory is already created.\")\n",
    "else:\n",
    "    os.mkdir(dir_name)\n",
    "    print(\"Successfully created.\")"
   ]
  },
  {
   "cell_type": "code",
   "execution_count": null,
   "id": "ea72c8ff-fc74-45ae-8e91-8796106f47df",
   "metadata": {},
   "outputs": [],
   "source": [
    "cd simple-app-docker-py"
   ]
  },
  {
   "cell_type": "code",
   "execution_count": null,
   "id": "c77c5499-6613-4036-a4de-28f584526294",
   "metadata": {},
   "outputs": [],
   "source": [
    "%%writefile app.py\n",
    "# Simple App\n",
    "print(\"It's working.\")"
   ]
  },
  {
   "cell_type": "code",
   "execution_count": null,
   "id": "977877b1-7fbf-4792-ae3e-4ba278a640b1",
   "metadata": {},
   "outputs": [],
   "source": [
    "%%writefile Dockerfile\n",
    "# Simple Docker\n",
    "FROM python\n",
    "WORKDIR /app\n",
    "COPY app.py .\n",
    "CMD [\"python\", \"app.py\"]"
   ]
  },
  {
   "cell_type": "code",
   "execution_count": null,
   "id": "59161163-8dc2-4136-9818-57413b5cbc1f",
   "metadata": {},
   "outputs": [],
   "source": [
    "# Build an image\n",
    "!docker build -t simple-app-image . -q"
   ]
  },
  {
   "cell_type": "code",
   "execution_count": null,
   "id": "a5b207ee-7a71-467e-b6c1-1226109a1f87",
   "metadata": {},
   "outputs": [],
   "source": [
    "# List images\n",
    "!docker images"
   ]
  },
  {
   "cell_type": "code",
   "execution_count": null,
   "id": "616db53a-851b-4580-92b5-6829968c04fe",
   "metadata": {},
   "outputs": [],
   "source": [
    "# Run the app\n",
    "!docker run simple-app-image"
   ]
  },
  {
   "cell_type": "markdown",
   "id": "d35221c6-8a1b-494a-89b6-d86f21bde613",
   "metadata": {},
   "source": [
    "## Simple Streamlit App Docker Python"
   ]
  },
  {
   "cell_type": "code",
   "execution_count": null,
   "id": "dc06c94f-d0ff-4496-b737-8fd7f444b28b",
   "metadata": {},
   "outputs": [],
   "source": [
    "cd ~/tech-stack/09-Py-for-Cloud-DevOps-SRE"
   ]
  },
  {
   "cell_type": "code",
   "execution_count": null,
   "id": "ab9c1dec-8251-4bd7-b2fd-717182af6711",
   "metadata": {},
   "outputs": [],
   "source": [
    "import os\n",
    "dir_name = \"simple-streamlit-app-docker-py\"\n",
    "if dir_name in os.listdir():\n",
    "    print(\"Directory is already created.\")\n",
    "else:\n",
    "    os.mkdir(dir_name)\n",
    "    print(\"Successfully created.\")"
   ]
  },
  {
   "cell_type": "code",
   "execution_count": null,
   "id": "d09bbd0b-2771-4e6f-8fb6-56d0d134413c",
   "metadata": {},
   "outputs": [],
   "source": [
    "cd simple-streamlit-app-docker-py"
   ]
  },
  {
   "cell_type": "code",
   "execution_count": null,
   "id": "3b0f489e-7e2b-4957-9b94-16206ba593c2",
   "metadata": {},
   "outputs": [],
   "source": [
    "# Install Streamlit\n",
    "!pip install streamlit -q"
   ]
  },
  {
   "cell_type": "code",
   "execution_count": null,
   "id": "07eb6ad4-353e-4f5c-b8d4-8e0610d9e2d7",
   "metadata": {},
   "outputs": [],
   "source": [
    "%%writefile app.py\n",
    "# Simple Streamlit App Docker Python\n",
    "import streamlit as st\n",
    "st.text(\"It's working.\")"
   ]
  },
  {
   "cell_type": "code",
   "execution_count": null,
   "id": "666a6dda-db11-4e55-b57d-3dde91624c02",
   "metadata": {},
   "outputs": [],
   "source": [
    "%%writefile Dockerfile\n",
    "FROM python\n",
    "WORKDIR /app\n",
    "RUN pip install streamlit -q\n",
    "COPY app.py .\n",
    "EXPOSE 8501\n",
    "CMD [\"streamlit\", \"run\", \"app.py\", \"--server.address\", \"0.0.0.0\"]"
   ]
  },
  {
   "cell_type": "code",
   "execution_count": null,
   "id": "80e051ee-7e11-4eae-bfe6-483b60123214",
   "metadata": {},
   "outputs": [],
   "source": [
    "# Build an image\n",
    "!docker build -t simple-streamlit-app-docker-py-image . -q"
   ]
  },
  {
   "cell_type": "code",
   "execution_count": null,
   "id": "44ac541d-d09b-4406-a5f8-7571c4df91dd",
   "metadata": {},
   "outputs": [],
   "source": [
    "# List images\n",
    "!docker images"
   ]
  },
  {
   "cell_type": "code",
   "execution_count": null,
   "id": "c909f486-7dd2-4a06-892f-9bb8e06f15c0",
   "metadata": {},
   "outputs": [],
   "source": [
    "# Run the app in detached mode\n",
    "!docker run -d -p 8501:8501 simple-streamlit-app-docker-py-image"
   ]
  }
 ],
 "metadata": {
  "environment": {
   "kernel": "python3",
   "name": "tf2-cpu.2-11.m112",
   "type": "gcloud",
   "uri": "gcr.io/deeplearning-platform-release/tf2-cpu.2-11:m112"
  },
  "kernelspec": {
   "display_name": "Python 3",
   "language": "python",
   "name": "python3"
  },
  "language_info": {
   "codemirror_mode": {
    "name": "ipython",
    "version": 3
   },
   "file_extension": ".py",
   "mimetype": "text/x-python",
   "name": "python",
   "nbconvert_exporter": "python",
   "pygments_lexer": "ipython3",
   "version": "3.10.12"
  }
 },
 "nbformat": 4,
 "nbformat_minor": 5
}
