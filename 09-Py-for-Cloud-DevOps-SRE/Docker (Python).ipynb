{
 "cells": [
  {
   "cell_type": "markdown",
   "id": "51a07e5b-8097-46cc-afbe-81060e6d5fe2",
   "metadata": {},
   "source": [
    "# Docker Python"
   ]
  },
  {
   "cell_type": "markdown",
   "id": "ce971be7-25d2-486f-8f2c-922b6979ec99",
   "metadata": {},
   "source": [
    "## Simple App Docker Python"
   ]
  },
  {
   "cell_type": "code",
   "execution_count": null,
   "id": "72450848-557c-46ed-8197-97e88631ef86",
   "metadata": {},
   "outputs": [],
   "source": [
    "!mkdir simple-app-docker-py"
   ]
  },
  {
   "cell_type": "code",
   "execution_count": null,
   "id": "ea72c8ff-fc74-45ae-8e91-8796106f47df",
   "metadata": {},
   "outputs": [],
   "source": [
    "cd simple-app-docker-py"
   ]
  },
  {
   "cell_type": "code",
   "execution_count": 6,
   "id": "c77c5499-6613-4036-a4de-28f584526294",
   "metadata": {},
   "outputs": [
    {
     "name": "stdout",
     "output_type": "stream",
     "text": [
      "Overwriting app.py\n"
     ]
    }
   ],
   "source": [
    "%%writefile app.py\n",
    "# Simple App\n",
    "print(\"It's working.\")"
   ]
  },
  {
   "cell_type": "code",
   "execution_count": 7,
   "id": "977877b1-7fbf-4792-ae3e-4ba278a640b1",
   "metadata": {},
   "outputs": [
    {
     "name": "stdout",
     "output_type": "stream",
     "text": [
      "Overwriting Dockerfile\n"
     ]
    }
   ],
   "source": [
    "%%writefile Dockerfile\n",
    "# Simple Docker\n",
    "FROM python\n",
    "WORKDIR /app\n",
    "COPY app.py .\n",
    "CMD [\"python\", \"app.py\"]"
   ]
  },
  {
   "cell_type": "code",
   "execution_count": null,
   "id": "59161163-8dc2-4136-9818-57413b5cbc1f",
   "metadata": {},
   "outputs": [],
   "source": []
  },
  {
   "cell_type": "markdown",
   "id": "d35221c6-8a1b-494a-89b6-d86f21bde613",
   "metadata": {},
   "source": [
    "## Simple Streamlit App Docker Python"
   ]
  },
  {
   "cell_type": "code",
   "execution_count": null,
   "id": "8417082a-b3b2-486d-8387-12c2ea1f0c5b",
   "metadata": {},
   "outputs": [],
   "source": []
  }
 ],
 "metadata": {
  "environment": {
   "kernel": "python3",
   "name": "tf2-cpu.2-11.m112",
   "type": "gcloud",
   "uri": "gcr.io/deeplearning-platform-release/tf2-cpu.2-11:m112"
  },
  "kernelspec": {
   "display_name": "Python 3",
   "language": "python",
   "name": "python3"
  },
  "language_info": {
   "codemirror_mode": {
    "name": "ipython",
    "version": 3
   },
   "file_extension": ".py",
   "mimetype": "text/x-python",
   "name": "python",
   "nbconvert_exporter": "python",
   "pygments_lexer": "ipython3",
   "version": "3.10.12"
  }
 },
 "nbformat": 4,
 "nbformat_minor": 5
}
