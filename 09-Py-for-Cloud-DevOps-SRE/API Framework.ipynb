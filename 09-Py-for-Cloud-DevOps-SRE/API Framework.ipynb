{
 "cells": [
  {
   "cell_type": "markdown",
   "id": "a215f530-6002-4817-8c12-24ba3df291ab",
   "metadata": {},
   "source": [
    "# Django FrameworK"
   ]
  },
  {
   "cell_type": "code",
   "execution_count": null,
   "id": "6f8c9025-3bad-4538-9e29-a9c503592126",
   "metadata": {},
   "outputs": [],
   "source": []
  }
 ],
 "metadata": {
  "environment": {
   "kernel": "python3",
   "name": "tf2-cpu.2-11.m112",
   "type": "gcloud",
   "uri": "gcr.io/deeplearning-platform-release/tf2-cpu.2-11:m112"
  },
  "kernelspec": {
   "display_name": "Python 3",
   "language": "python",
   "name": "python3"
  },
  "language_info": {
   "codemirror_mode": {
    "name": "ipython",
    "version": 3
   },
   "file_extension": ".py",
   "mimetype": "text/x-python",
   "name": "python",
   "nbconvert_exporter": "python",
   "pygments_lexer": "ipython3",
   "version": "3.10.12"
  }
 },
 "nbformat": 4,
 "nbformat_minor": 5
}
