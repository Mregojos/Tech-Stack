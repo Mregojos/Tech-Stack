{
 "cells": [
  {
   "cell_type": "markdown",
   "id": "a7dfec40-ecf6-4f9c-85f4-b46a6ac290cc",
   "metadata": {},
   "source": [
    "# SQL (Python)\n",
    "\n",
    "Resource: https://docs.python.org (Search sqlite3)"
   ]
  },
  {
   "cell_type": "markdown",
   "id": "a0142f66-cffc-4adc-b457-463814271b20",
   "metadata": {},
   "source": [
    "# sqlite3\n",
    "\n",
    "Resource: https://docs.python.org/3/library/sqlite3.html"
   ]
  },
  {
   "cell_type": "code",
   "execution_count": 1,
   "id": "50f2dce8-c58a-4c10-a6f3-bfc3589413cb",
   "metadata": {},
   "outputs": [],
   "source": [
    "import sqlite3"
   ]
  },
  {
   "cell_type": "code",
   "execution_count": 2,
   "id": "7f4b7f3e-6e76-4477-943b-6bf986536dbe",
   "metadata": {},
   "outputs": [],
   "source": [
    "# Create a database and connnection (con)\n",
    "con = sqlite3.connect(\"tutorial.db\")"
   ]
  },
  {
   "cell_type": "code",
   "execution_count": 3,
   "id": "9f1a9de0-b729-49ab-be96-8901d6350d98",
   "metadata": {},
   "outputs": [],
   "source": [
    "# Database cursor (cur)\n",
    "cur = con.cursor()"
   ]
  },
  {
   "cell_type": "code",
   "execution_count": 4,
   "id": "cacc6d7b-bafe-4b32-a934-a051c65f44f4",
   "metadata": {},
   "outputs": [
    {
     "data": {
      "text/plain": [
       "<sqlite3.Cursor at 0x7fdc204c0bc0>"
      ]
     },
     "execution_count": 4,
     "metadata": {},
     "output_type": "execute_result"
    }
   ],
   "source": [
    "cur.execute(\"CREATE TABLE movie(title, year, score)\")"
   ]
  },
  {
   "cell_type": "code",
   "execution_count": 5,
   "id": "41ad59a9-f965-4612-a445-7d61f3208691",
   "metadata": {},
   "outputs": [
    {
     "data": {
      "text/plain": [
       "('movie',)"
      ]
     },
     "execution_count": 5,
     "metadata": {},
     "output_type": "execute_result"
    }
   ],
   "source": [
    "# Result\n",
    "res = cur.execute(\"SELECT name FROM sqlite_master\")\n",
    "res.fetchone()"
   ]
  },
  {
   "cell_type": "code",
   "execution_count": 7,
   "id": "6d96594e-fa72-4f81-8753-8f3ecb75aaf9",
   "metadata": {},
   "outputs": [
    {
     "data": {
      "text/plain": [
       "True"
      ]
     },
     "execution_count": 7,
     "metadata": {},
     "output_type": "execute_result"
    }
   ],
   "source": [
    "# None\n",
    "# Result\n",
    "res = cur.execute(\"SELECT name FROM sqlite_master WHERE name='spam'\")\n",
    "res.fetchone() is None"
   ]
  },
  {
   "cell_type": "code",
   "execution_count": 9,
   "id": "1c3c383e-8d92-4fba-a265-9133abdd0842",
   "metadata": {},
   "outputs": [
    {
     "data": {
      "text/plain": [
       "<sqlite3.Cursor at 0x7fdc204c0bc0>"
      ]
     },
     "execution_count": 9,
     "metadata": {},
     "output_type": "execute_result"
    }
   ],
   "source": [
    "# Add two rows\n",
    "cur.execute(\"\"\"\n",
    "    INSERT INTO movie VALUES\n",
    "        ('MOVIE 1', 2023, 9),\n",
    "        ('MOVIE 2', 2023, 9.5)\n",
    "\"\"\")"
   ]
  },
  {
   "cell_type": "code",
   "execution_count": 10,
   "id": "b49ebf01-812d-4bb7-b23e-e9563499895e",
   "metadata": {},
   "outputs": [],
   "source": [
    "# Commit the transaction\n",
    "con.commit()"
   ]
  },
  {
   "cell_type": "code",
   "execution_count": 11,
   "id": "05447e6f-ed83-4b2c-ac64-a22093eb4fd0",
   "metadata": {},
   "outputs": [
    {
     "data": {
      "text/plain": [
       "(9,)"
      ]
     },
     "execution_count": 11,
     "metadata": {},
     "output_type": "execute_result"
    }
   ],
   "source": [
    "# Result\n",
    "res = cur.execute(\"SELECT score FROM movie\")\n",
    "res.fetchone()"
   ]
  },
  {
   "cell_type": "raw",
   "id": "07ff2ec8-1347-48da-bdac-73df96639bb6",
   "metadata": {},
   "source": [
    "# Add two rows\n",
    "cur.execute(\"\"\"\n",
    "    INSERT INTO movie VALUES\n",
    "        ('MOVIE 3', 2023, 9),\n",
    "        ('MOVIE 4', 2023, 9.5)\n",
    "\"\"\")"
   ]
  },
  {
   "cell_type": "raw",
   "id": "74f7c99c-8d54-4fad-a2e0-0c6a65198723",
   "metadata": {},
   "source": [
    "# Result res.fetchall()\n",
    "res = cur.execute(\"SELECT * FROM movie\")\n",
    "res.fetchall()"
   ]
  },
  {
   "cell_type": "code",
   "execution_count": 18,
   "id": "35b5c2d7-3531-475c-aa65-e92f2e8fe939",
   "metadata": {},
   "outputs": [],
   "source": [
    "# Insert more rows\n",
    "data = [\n",
    "    (\"Movie 4\", 2022, 8),\n",
    "    (\"Movie 5\", 2022, 8.5),\n",
    "    (\"Movie 6\", 2022, 8.7)\n",
    "]"
   ]
  },
  {
   "cell_type": "code",
   "execution_count": 20,
   "id": "856650d3-b600-4817-86d9-3fcddee3625b",
   "metadata": {},
   "outputs": [],
   "source": [
    "cur.executemany(\"INSERT INTO movie VALUES(?, ?, ?)\", data)\n",
    "con.commit()"
   ]
  },
  {
   "cell_type": "code",
   "execution_count": 24,
   "id": "10ca76ec-1cdc-433f-a090-60bb1b72f3c2",
   "metadata": {},
   "outputs": [
    {
     "name": "stdout",
     "output_type": "stream",
     "text": [
      "(2022, 'Movie 4')\n",
      "(2022, 'Movie 5')\n",
      "(2022, 'Movie 6')\n",
      "(2022, 'Movie 4')\n",
      "(2022, 'Movie 5')\n",
      "(2022, 'Movie 6')\n",
      "(2023, 'MOVIE 1')\n",
      "(2023, 'MOVIE 2')\n",
      "(2023, 'MOVIE 3')\n",
      "(2023, 'MOVIE 4')\n"
     ]
    }
   ],
   "source": [
    "# Veriy new rows\n",
    "for row in cur.execute(\"\"\"\n",
    "                        SELECT year, title\n",
    "                        FROM movie\n",
    "                        ORDER By year\n",
    "                        \"\"\"):\n",
    "    print(row)         "
   ]
  },
  {
   "cell_type": "code",
   "execution_count": 25,
   "id": "1f3ccd0d-dca3-48a3-9742-da32f0ac0240",
   "metadata": {},
   "outputs": [],
   "source": [
    "# CLose the connection\n",
    "con.close()"
   ]
  },
  {
   "cell_type": "code",
   "execution_count": 26,
   "id": "606187f4-c1e7-4b70-af84-13eda37ff77c",
   "metadata": {},
   "outputs": [],
   "source": [
    "# Opening a new one\n",
    "new_con = sqlite3.connect(\"tutorial.db\")\n",
    "new_cur = new_con.cursor()"
   ]
  },
  {
   "cell_type": "code",
   "execution_count": 27,
   "id": "c1a6e321-5c22-41a9-8fa3-9eeb9af19261",
   "metadata": {},
   "outputs": [],
   "source": [
    "res = new_cur.execute(\"\"\"\n",
    "                        SELECT title, year\n",
    "                        FROM movie\n",
    "                        ORDER By score DESC\"\"\")"
   ]
  },
  {
   "cell_type": "code",
   "execution_count": 29,
   "id": "8055171f-9558-4cc8-9f16-16da57a2072b",
   "metadata": {},
   "outputs": [],
   "source": [
    "title, year = res.fetchone()"
   ]
  },
  {
   "cell_type": "code",
   "execution_count": 31,
   "id": "772cf292-267b-4ecb-adf3-5066c160d5b1",
   "metadata": {},
   "outputs": [
    {
     "name": "stdout",
     "output_type": "stream",
     "text": [
      "The highest score is 'MOVIE 2', released in 2023\n"
     ]
    }
   ],
   "source": [
    "print(f'The highest score is {title!r}, released in {year}')"
   ]
  },
  {
   "cell_type": "code",
   "execution_count": null,
   "id": "4bae85a6-ed40-4cfa-a515-affe5f3ac45c",
   "metadata": {},
   "outputs": [],
   "source": []
  }
 ],
 "metadata": {
  "environment": {
   "kernel": "python3",
   "name": "tf2-cpu.2-11.m112",
   "type": "gcloud",
   "uri": "gcr.io/deeplearning-platform-release/tf2-cpu.2-11:m112"
  },
  "kernelspec": {
   "display_name": "Python 3",
   "language": "python",
   "name": "python3"
  },
  "language_info": {
   "codemirror_mode": {
    "name": "ipython",
    "version": 3
   },
   "file_extension": ".py",
   "mimetype": "text/x-python",
   "name": "python",
   "nbconvert_exporter": "python",
   "pygments_lexer": "ipython3",
   "version": "3.10.12"
  }
 },
 "nbformat": 4,
 "nbformat_minor": 5
}
