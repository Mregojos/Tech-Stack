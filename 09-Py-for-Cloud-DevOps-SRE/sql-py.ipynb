{
 "cells": [
  {
   "cell_type": "markdown",
   "id": "a7dfec40-ecf6-4f9c-85f4-b46a6ac290cc",
   "metadata": {},
   "source": [
    "# SQL (Python)\n",
    "\n",
    "Resource: https://docs.python.org (Search sqlite3)"
   ]
  },
  {
   "cell_type": "markdown",
   "id": "a0142f66-cffc-4adc-b457-463814271b20",
   "metadata": {},
   "source": [
    "## sqlite3\n",
    "\n",
    "Resource: https://docs.python.org/3/library/sqlite3.html"
   ]
  },
  {
   "cell_type": "code",
   "execution_count": null,
   "id": "50f2dce8-c58a-4c10-a6f3-bfc3589413cb",
   "metadata": {},
   "outputs": [],
   "source": [
    "import sqlite3"
   ]
  },
  {
   "cell_type": "code",
   "execution_count": null,
   "id": "7f4b7f3e-6e76-4477-943b-6bf986536dbe",
   "metadata": {},
   "outputs": [],
   "source": [
    "# Create a database and connnection (con)\n",
    "con = sqlite3.connect(\"tutorial.db\")"
   ]
  },
  {
   "cell_type": "code",
   "execution_count": null,
   "id": "9f1a9de0-b729-49ab-be96-8901d6350d98",
   "metadata": {},
   "outputs": [],
   "source": [
    "# Database cursor (cur)\n",
    "cur = con.cursor()"
   ]
  },
  {
   "cell_type": "code",
   "execution_count": null,
   "id": "cacc6d7b-bafe-4b32-a934-a051c65f44f4",
   "metadata": {},
   "outputs": [],
   "source": [
    "cur.execute(\"CREATE TABLE movie(title, year, score)\")"
   ]
  },
  {
   "cell_type": "code",
   "execution_count": null,
   "id": "41ad59a9-f965-4612-a445-7d61f3208691",
   "metadata": {},
   "outputs": [],
   "source": [
    "# Result\n",
    "res = cur.execute(\"SELECT name FROM sqlite_master\")\n",
    "res.fetchone()"
   ]
  },
  {
   "cell_type": "code",
   "execution_count": null,
   "id": "6d96594e-fa72-4f81-8753-8f3ecb75aaf9",
   "metadata": {},
   "outputs": [],
   "source": [
    "# None\n",
    "# Result\n",
    "res = cur.execute(\"SELECT name FROM sqlite_master WHERE name='spam'\")\n",
    "res.fetchone() is None"
   ]
  },
  {
   "cell_type": "code",
   "execution_count": null,
   "id": "1c3c383e-8d92-4fba-a265-9133abdd0842",
   "metadata": {},
   "outputs": [],
   "source": [
    "# Add two rows\n",
    "cur.execute(\"\"\"\n",
    "    INSERT INTO movie VALUES\n",
    "        ('MOVIE 1', 2023, 9),\n",
    "        ('MOVIE 2', 2023, 9.5)\n",
    "\"\"\")"
   ]
  },
  {
   "cell_type": "code",
   "execution_count": null,
   "id": "b49ebf01-812d-4bb7-b23e-e9563499895e",
   "metadata": {},
   "outputs": [],
   "source": [
    "# Commit the transaction\n",
    "con.commit()"
   ]
  },
  {
   "cell_type": "code",
   "execution_count": null,
   "id": "05447e6f-ed83-4b2c-ac64-a22093eb4fd0",
   "metadata": {},
   "outputs": [],
   "source": [
    "# Result\n",
    "res = cur.execute(\"SELECT score FROM movie\")\n",
    "res.fetchone()"
   ]
  },
  {
   "cell_type": "raw",
   "id": "07ff2ec8-1347-48da-bdac-73df96639bb6",
   "metadata": {},
   "source": [
    "# Add two rows\n",
    "cur.execute(\"\"\"\n",
    "    INSERT INTO movie VALUES\n",
    "        ('MOVIE 3', 2023, 9),\n",
    "        ('MOVIE 4', 2023, 9.5)\n",
    "\"\"\")"
   ]
  },
  {
   "cell_type": "raw",
   "id": "74f7c99c-8d54-4fad-a2e0-0c6a65198723",
   "metadata": {},
   "source": [
    "# Result res.fetchall()\n",
    "res = cur.execute(\"SELECT * FROM movie\")\n",
    "res.fetchall()"
   ]
  },
  {
   "cell_type": "code",
   "execution_count": null,
   "id": "35b5c2d7-3531-475c-aa65-e92f2e8fe939",
   "metadata": {},
   "outputs": [],
   "source": [
    "# Insert more rows\n",
    "data = [\n",
    "    (\"Movie 4\", 2022, 8),\n",
    "    (\"Movie 5\", 2022, 8.5),\n",
    "    (\"Movie 6\", 2022, 8.7)\n",
    "]"
   ]
  },
  {
   "cell_type": "code",
   "execution_count": null,
   "id": "856650d3-b600-4817-86d9-3fcddee3625b",
   "metadata": {},
   "outputs": [],
   "source": [
    "cur.executemany(\"INSERT INTO movie VALUES(?, ?, ?)\", data)\n",
    "con.commit()"
   ]
  },
  {
   "cell_type": "code",
   "execution_count": null,
   "id": "10ca76ec-1cdc-433f-a090-60bb1b72f3c2",
   "metadata": {},
   "outputs": [],
   "source": [
    "# Veriy new rows\n",
    "for row in cur.execute(\"\"\"\n",
    "                        SELECT year, title\n",
    "                        FROM movie\n",
    "                        ORDER By year\n",
    "                        \"\"\"):\n",
    "    print(row)         "
   ]
  },
  {
   "cell_type": "code",
   "execution_count": null,
   "id": "1f3ccd0d-dca3-48a3-9742-da32f0ac0240",
   "metadata": {},
   "outputs": [],
   "source": [
    "# CLose the connection\n",
    "con.close()"
   ]
  },
  {
   "cell_type": "code",
   "execution_count": null,
   "id": "606187f4-c1e7-4b70-af84-13eda37ff77c",
   "metadata": {},
   "outputs": [],
   "source": [
    "# Opening a new one\n",
    "new_con = sqlite3.connect(\"tutorial.db\")\n",
    "new_cur = new_con.cursor()"
   ]
  },
  {
   "cell_type": "code",
   "execution_count": null,
   "id": "c1a6e321-5c22-41a9-8fa3-9eeb9af19261",
   "metadata": {},
   "outputs": [],
   "source": [
    "res = new_cur.execute(\"\"\"\n",
    "                        SELECT title, year\n",
    "                        FROM movie\n",
    "                        ORDER By score DESC\"\"\")"
   ]
  },
  {
   "cell_type": "code",
   "execution_count": null,
   "id": "8055171f-9558-4cc8-9f16-16da57a2072b",
   "metadata": {},
   "outputs": [],
   "source": [
    "title, year = res.fetchone()"
   ]
  },
  {
   "cell_type": "code",
   "execution_count": null,
   "id": "772cf292-267b-4ecb-adf3-5066c160d5b1",
   "metadata": {},
   "outputs": [],
   "source": [
    "print(f'The highest score is {title!r}, released in {year}')"
   ]
  },
  {
   "cell_type": "markdown",
   "id": "6090ef9a-45c7-4618-a7fa-8fbe1b5a8d78",
   "metadata": {},
   "source": [
    "## Notepad (sqlite3 and streamlit)"
   ]
  },
  {
   "cell_type": "code",
   "execution_count": null,
   "id": "0c6c5a85-74ef-4595-a9bb-4fd265944089",
   "metadata": {},
   "outputs": [],
   "source": [
    "# Install streamlit\n",
    "!pip install streamlit -q"
   ]
  },
  {
   "cell_type": "code",
   "execution_count": null,
   "id": "9d527e45-e4ab-4694-9908-8a3da23f98a6",
   "metadata": {},
   "outputs": [],
   "source": [
    "# Import libraries\n",
    "import sqlite3\n",
    "import streamlit as st"
   ]
  },
  {
   "cell_type": "code",
   "execution_count": null,
   "id": "ae4cdfe9-9b3c-4170-8134-26d6379af672",
   "metadata": {},
   "outputs": [],
   "source": [
    "# Create a folder\n",
    "import os\n",
    "dir_name = \"app\"\n",
    "if dir_name in os.listdir():\n",
    "    print(\"Directory is already created.\")\n",
    "else:\n",
    "    os.mkdir(dir_name)\n",
    "    print(\"Successfully created.\")"
   ]
  },
  {
   "cell_type": "code",
   "execution_count": null,
   "id": "87f371a0-916e-490b-94e1-33fe6a5917c2",
   "metadata": {},
   "outputs": [],
   "source": [
    "# Change directory\n",
    "os.chdir(dir_name)"
   ]
  },
  {
   "cell_type": "code",
   "execution_count": null,
   "id": "1b1749ac-22b8-4f20-8350-fb98c300b096",
   "metadata": {},
   "outputs": [],
   "source": [
    "# Print working directory\n",
    "os.getcwd()"
   ]
  },
  {
   "cell_type": "raw",
   "id": "e6d09ce9-3080-428e-ae79-e0179b9ba5bd",
   "metadata": {},
   "source": [
    "%%writefile app.py\n",
    "# Simple Streamlit App Docker Python\n",
    "import streamlit as st\n",
    "st.subheader(\"Simple Notepad :notebook:\")\n",
    "st.caption(\"Add your thoughts here! It will be stored in a database!\")\n",
    "st.subheader(\"\",divider=\"rainbow\")\n",
    "\n",
    "name = st.text_input(\"Your Name here\")\n",
    "note = st.text_area(\"Add Note here\")\n",
    "if st.button(\"Add a note\"):\n",
    "    st.write(name,\":\", note)\n",
    "    st.balloons()\n",
    "    \n",
    "st.subheader(\"\",divider=\"rainbow\")\n",
    "st.write(\"**Previous Notes**\")"
   ]
  },
  {
   "cell_type": "code",
   "execution_count": null,
   "id": "cd901067-1238-4adf-8d99-b41738085772",
   "metadata": {},
   "outputs": [],
   "source": [
    "%%writefile app.py\n",
    "# Import libraries\n",
    "import streamlit as st\n",
    "import sqlite3\n",
    "import os\n",
    "\n",
    "# Header\n",
    "st.subheader(\"Simple Notepad :notebook:\")\n",
    "st.caption(\"\"\"\n",
    "            Add your thoughts here! It will be stored in a database! \\n\n",
    "            :warning: :red[Do not add sensitive data].\n",
    "            \"\"\")\n",
    "st.subheader(\"\",divider=\"rainbow\")\n",
    "\n",
    "# Variable\n",
    "database_name = \"notes.db\"\n",
    "con = sqlite3.connect(database_name)\n",
    "cur = con.cursor()\n",
    "\n",
    "# Create a database\n",
    "if database_name in os.listdir():\n",
    "    pass\n",
    "else:\n",
    "    con = sqlite3.connect(database_name)\n",
    "    # Database Cursor (cur)\n",
    "    cur = con.cursor()\n",
    "    cur.execute(\"CREATE TABLE notes(name, note)\")\n",
    "\n",
    "# Inputs\n",
    "name = st.text_input(\"Your Name here\")\n",
    "note = st.text_area(\"Add Note here\")\n",
    "if st.button(\"Add a note\"):\n",
    "    st.write(name,\":\", note)\n",
    "    st.success(\"Successful Added.\")\n",
    "    # st.balloons()\n",
    "    ### Insert into adatabase\n",
    "    cur.execute(f\"\"\"\n",
    "            INSERT INTO notes VALUES\n",
    "            (\"{name}\", \"{note}\")\n",
    "            \"\"\")\n",
    "    con.commit()\n",
    "    \n",
    "# Previous Notes \n",
    "st.subheader(\"\",divider=\"rainbow\")\n",
    "st.write(\"**Previous Notes**\")\n",
    "# Write the data\n",
    "result = cur.execute(\"\"\"\n",
    "                    SELECT * \n",
    "                    FROM notes\n",
    "                    ORDER BY name DESC\n",
    "                    \"\"\")\n",
    "for name, note in result.fetchall():\n",
    "    st.write(name,\":\", note)\n",
    "    \n",
    "# Close Connection\n",
    "con.close()"
   ]
  },
  {
   "cell_type": "code",
   "execution_count": null,
   "id": "666a6dda-db11-4e55-b57d-3dde91624c02",
   "metadata": {},
   "outputs": [],
   "source": [
    "%%writefile Dockerfile\n",
    "FROM python\n",
    "WORKDIR /app\n",
    "RUN pip install streamlit -q\n",
    "COPY app.py .\n",
    "EXPOSE 8501\n",
    "CMD [\"streamlit\", \"run\", \"app.py\", \"--server.address\", \"0.0.0.0\"]"
   ]
  },
  {
   "cell_type": "code",
   "execution_count": null,
   "id": "80e051ee-7e11-4eae-bfe6-483b60123214",
   "metadata": {},
   "outputs": [],
   "source": [
    "# Build an image\n",
    "!docker build -t simple-notepad-app . -q"
   ]
  },
  {
   "cell_type": "code",
   "execution_count": null,
   "id": "44ac541d-d09b-4406-a5f8-7571c4df91dd",
   "metadata": {},
   "outputs": [],
   "source": [
    "# List images\n",
    "!docker images"
   ]
  },
  {
   "cell_type": "code",
   "execution_count": null,
   "id": "c909f486-7dd2-4a06-892f-9bb8e06f15c0",
   "metadata": {},
   "outputs": [],
   "source": [
    "# Run the app in detached mode\n",
    "!docker run -d -p 8501:8501 -v $(pwd):/app simple-notepad-app"
   ]
  },
  {
   "cell_type": "code",
   "execution_count": null,
   "id": "7810934a-4510-4b76-bcbe-d41ad8ad75d6",
   "metadata": {},
   "outputs": [],
   "source": [
    "!docker ps -a"
   ]
  },
  {
   "cell_type": "code",
   "execution_count": null,
   "id": "0797a1cf-c0b0-4818-b6a8-6ae1879422bc",
   "metadata": {},
   "outputs": [],
   "source": [
    "# Remove all docker ps\n",
    "# !docker rm -f $(docker ps -aq)"
   ]
  },
  {
   "cell_type": "code",
   "execution_count": null,
   "id": "b952140d-36bb-42d6-9226-dcce9afb3ef4",
   "metadata": {},
   "outputs": [],
   "source": [
    "# Create a firewall (GCP)\n",
    "!gcloud compute --project=$(gcloud config get project) firewall-rules create ports \\\n",
    "    --direction=INGRESS --priority=1000 --network=default --action=ALLOW --rules=tcp:8501,tcp:8000,tcp:9000 --source-ranges=0.0.0.0/0"
   ]
  },
  {
   "cell_type": "code",
   "execution_count": null,
   "id": "fbfb85e2-1a9b-4459-835e-c1a53b16a45c",
   "metadata": {},
   "outputs": [],
   "source": []
  }
 ],
 "metadata": {
  "environment": {
   "kernel": "python3",
   "name": "tf2-cpu.2-11.m112",
   "type": "gcloud",
   "uri": "gcr.io/deeplearning-platform-release/tf2-cpu.2-11:m112"
  },
  "kernelspec": {
   "display_name": "Python 3",
   "language": "python",
   "name": "python3"
  },
  "language_info": {
   "codemirror_mode": {
    "name": "ipython",
    "version": 3
   },
   "file_extension": ".py",
   "mimetype": "text/x-python",
   "name": "python",
   "nbconvert_exporter": "python",
   "pygments_lexer": "ipython3",
   "version": "3.10.12"
  }
 },
 "nbformat": 4,
 "nbformat_minor": 5
}
