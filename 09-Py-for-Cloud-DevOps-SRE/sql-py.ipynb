{
 "cells": [
  {
   "cell_type": "markdown",
   "id": "a7dfec40-ecf6-4f9c-85f4-b46a6ac290cc",
   "metadata": {},
   "source": [
    "# SQL (Python)"
   ]
  },
  {
   "cell_type": "code",
   "execution_count": null,
   "id": "846f14f9-c2f8-4d0c-8d60-024d03f34b31",
   "metadata": {},
   "outputs": [],
   "source": []
  }
 ],
 "metadata": {
  "environment": {
   "kernel": "python3",
   "name": "tf2-cpu.2-11.m112",
   "type": "gcloud",
   "uri": "gcr.io/deeplearning-platform-release/tf2-cpu.2-11:m112"
  },
  "kernelspec": {
   "display_name": "Python 3",
   "language": "python",
   "name": "python3"
  },
  "language_info": {
   "codemirror_mode": {
    "name": "ipython",
    "version": 3
   },
   "file_extension": ".py",
   "mimetype": "text/x-python",
   "name": "python",
   "nbconvert_exporter": "python",
   "pygments_lexer": "ipython3",
   "version": "3.10.12"
  }
 },
 "nbformat": 4,
 "nbformat_minor": 5
}
