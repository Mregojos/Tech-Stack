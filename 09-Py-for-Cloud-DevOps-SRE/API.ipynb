{
 "cells": [
  {
   "cell_type": "markdown",
   "id": "57867d65-bf32-4d75-8ee3-98866c7bb6a2",
   "metadata": {},
   "source": [
    "# Application Programming Interface (API)\n",
    "\n",
    "* HTTP API\n",
    "* REST API"
   ]
  },
  {
   "cell_type": "code",
   "execution_count": null,
   "id": "c48edfd5-2cb5-4921-81d5-8dea4041f0a5",
   "metadata": {},
   "outputs": [],
   "source": []
  }
 ],
 "metadata": {
  "environment": {
   "kernel": "python3",
   "name": "tf2-cpu.2-11.m112",
   "type": "gcloud",
   "uri": "gcr.io/deeplearning-platform-release/tf2-cpu.2-11:m112"
  },
  "kernelspec": {
   "display_name": "Python 3",
   "language": "python",
   "name": "python3"
  },
  "language_info": {
   "codemirror_mode": {
    "name": "ipython",
    "version": 3
   },
   "file_extension": ".py",
   "mimetype": "text/x-python",
   "name": "python",
   "nbconvert_exporter": "python",
   "pygments_lexer": "ipython3",
   "version": "3.10.12"
  }
 },
 "nbformat": 4,
 "nbformat_minor": 5
}
