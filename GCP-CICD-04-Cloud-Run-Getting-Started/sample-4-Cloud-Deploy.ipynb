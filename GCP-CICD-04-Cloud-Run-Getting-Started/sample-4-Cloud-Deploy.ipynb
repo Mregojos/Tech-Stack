{
 "cells": [
  {
   "cell_type": "markdown",
   "id": "e1e069d4-b9b4-4ee6-8d29-44086002ffe4",
   "metadata": {},
   "source": [
    "# Sample 4: Cloud Run\n",
    "\n",
    "Reference: cloud.google.com/run/docs/overview"
   ]
  },
  {
   "cell_type": "code",
   "execution_count": null,
   "id": "39e1b41e-be67-4bca-9cd7-ad79916d89f5",
   "metadata": {},
   "outputs": [],
   "source": []
  }
 ],
 "metadata": {
  "environment": {
   "kernel": "python3",
   "name": "tf2-cpu.2-11.m112",
   "type": "gcloud",
   "uri": "gcr.io/deeplearning-platform-release/tf2-cpu.2-11:m112"
  },
  "kernelspec": {
   "display_name": "Python 3",
   "language": "python",
   "name": "python3"
  },
  "language_info": {
   "codemirror_mode": {
    "name": "ipython",
    "version": 3
   },
   "file_extension": ".py",
   "mimetype": "text/x-python",
   "name": "python",
   "nbconvert_exporter": "python",
   "pygments_lexer": "ipython3",
   "version": "3.10.12"
  }
 },
 "nbformat": 4,
 "nbformat_minor": 5
}
