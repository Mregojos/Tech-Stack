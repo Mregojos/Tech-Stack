{
 "cells": [
  {
   "cell_type": "markdown",
   "id": "9db496aa-caf6-4a53-ad11-cbd5ef690011",
   "metadata": {},
   "source": [
    "# Sample 3: Cloud Deploy\n",
    "\n",
    "Reference: cloud.google.com/deploy/docs/overview"
   ]
  },
  {
   "cell_type": "markdown",
   "id": "3aad9e98-d5fb-4509-a109-a1eeeb45f1ad",
   "metadata": {},
   "source": [
    "## Deploy an app to GKE using Cloud Deploy\n",
    "\n",
    "Reference: https://cloud.google.com/deploy/docs/deploy-app-gke"
   ]
  },
  {
   "cell_type": "raw",
   "id": "78d40e2f-ee6b-4c1d-b8c9-ff42fba20ea8",
   "metadata": {},
   "source": [
    "# Enable APIs\n",
    "* Cloud Deploy\n",
    "* Cloud Build\n",
    "* GKE\n",
    "* Cloud Storage"
   ]
  },
  {
   "cell_type": "code",
   "execution_count": 2,
   "id": "8cd1dafc-589e-4252-a09f-d44f7a24e56c",
   "metadata": {},
   "outputs": [],
   "source": [
    "# gcloud init"
   ]
  },
  {
   "cell_type": "code",
   "execution_count": 5,
   "id": "02a83061-7c1a-4894-9826-b9f7aefa3eb1",
   "metadata": {},
   "outputs": [
    {
     "name": "stdout",
     "output_type": "stream",
     "text": [
      "training1027\n"
     ]
    }
   ],
   "source": [
    "!echo $(gcloud config get-value project)"
   ]
  },
  {
   "cell_type": "code",
   "execution_count": 4,
   "id": "4602f53a-06d0-4509-8fd2-a1ac9ccd022c",
   "metadata": {},
   "outputs": [
    {
     "name": "stdout",
     "output_type": "stream",
     "text": [
      "Updated IAM policy for project [training1027].\n",
      "bindings:\n",
      "- members:\n",
      "  - serviceAccount:service-487762169828@gcp-sa-artifactregistry.iam.gserviceaccount.com\n",
      "  role: roles/artifactregistry.serviceAgent\n",
      "- members:\n",
      "  - serviceAccount:487762169828@cloudbuild.gserviceaccount.com\n",
      "  role: roles/cloudbuild.builds.builder\n",
      "- members:\n",
      "  - serviceAccount:matt-training@training1027.iam.gserviceaccount.com\n",
      "  role: roles/cloudbuild.builds.editor\n",
      "- members:\n",
      "  - serviceAccount:service-487762169828@gcp-sa-cloudbuild.iam.gserviceaccount.com\n",
      "  role: roles/cloudbuild.serviceAgent\n",
      "- members:\n",
      "  - serviceAccount:matt-training@training1027.iam.gserviceaccount.com\n",
      "  role: roles/clouddeploy.admin\n",
      "- members:\n",
      "  - serviceAccount:487762169828-compute@developer.gserviceaccount.com\n",
      "  role: roles/clouddeploy.jobRunner\n",
      "- members:\n",
      "  - serviceAccount:service-487762169828@compute-system.iam.gserviceaccount.com\n",
      "  role: roles/compute.serviceAgent\n",
      "- members:\n",
      "  - serviceAccount:service-487762169828@container-engine-robot.iam.gserviceaccount.com\n",
      "  role: roles/container.serviceAgent\n",
      "- members:\n",
      "  - serviceAccount:service-487762169828@containerregistry.iam.gserviceaccount.com\n",
      "  role: roles/containerregistry.ServiceAgent\n",
      "- members:\n",
      "  - serviceAccount:487762169828-compute@developer.gserviceaccount.com\n",
      "  - serviceAccount:487762169828@cloudservices.gserviceaccount.com\n",
      "  - serviceAccount:matt-training@training1027.iam.gserviceaccount.com\n",
      "  role: roles/editor\n",
      "- members:\n",
      "  - serviceAccount:matt-training@training1027.iam.gserviceaccount.com\n",
      "  role: roles/iam.securityAdmin\n",
      "- members:\n",
      "  - serviceAccount:service-487762169828@gcp-sa-notebooks.iam.gserviceaccount.com\n",
      "  role: roles/notebooks.serviceAgent\n",
      "- members:\n",
      "  - user:mattiregojos@gmail.com\n",
      "  role: roles/owner\n",
      "- members:\n",
      "  - serviceAccount:service-487762169828@gcp-sa-pubsub.iam.gserviceaccount.com\n",
      "  role: roles/pubsub.serviceAgent\n",
      "- members:\n",
      "  - serviceAccount:matt-training@training1027.iam.gserviceaccount.com\n",
      "  role: roles/resourcemanager.projectIamAdmin\n",
      "- members:\n",
      "  - serviceAccount:487762169828@cloudbuild.gserviceaccount.com\n",
      "  - serviceAccount:matt-training@training1027.iam.gserviceaccount.com\n",
      "  role: roles/run.admin\n",
      "- members:\n",
      "  - serviceAccount:service-487762169828@serverless-robot-prod.iam.gserviceaccount.com\n",
      "  role: roles/run.serviceAgent\n",
      "etag: BwYIrdk-BuQ=\n",
      "version: 1\n"
     ]
    }
   ],
   "source": [
    "# Make sure the default ompute Engine service account has sufficient permissions\n",
    "# Add the clouddeploy.jobRunner role\n",
    "!gcloud projects add-iam-policy-binding $(gcloud config get-value project) \\\n",
    "    --member=serviceAccount:$(gcloud projects describe $(gcloud config get-value project) \\\n",
    "    --format=\"value(projectNumber)\")-compute@developer.gserviceaccount.com \\\n",
    "    --role=\"roles/clouddeploy.jobRunner\""
   ]
  },
  {
   "cell_type": "code",
   "execution_count": 7,
   "id": "494cd2e5-d648-4d7a-bb7e-8e59cf6707af",
   "metadata": {},
   "outputs": [
    {
     "name": "stdout",
     "output_type": "stream",
     "text": [
      "Updated IAM policy for project [training1027].\n",
      "bindings:\n",
      "- members:\n",
      "  - serviceAccount:service-487762169828@gcp-sa-artifactregistry.iam.gserviceaccount.com\n",
      "  role: roles/artifactregistry.serviceAgent\n",
      "- members:\n",
      "  - serviceAccount:487762169828@cloudbuild.gserviceaccount.com\n",
      "  role: roles/cloudbuild.builds.builder\n",
      "- members:\n",
      "  - serviceAccount:matt-training@training1027.iam.gserviceaccount.com\n",
      "  role: roles/cloudbuild.builds.editor\n",
      "- members:\n",
      "  - serviceAccount:service-487762169828@gcp-sa-cloudbuild.iam.gserviceaccount.com\n",
      "  role: roles/cloudbuild.serviceAgent\n",
      "- members:\n",
      "  - serviceAccount:matt-training@training1027.iam.gserviceaccount.com\n",
      "  role: roles/clouddeploy.admin\n",
      "- members:\n",
      "  - serviceAccount:487762169828-compute@developer.gserviceaccount.com\n",
      "  role: roles/clouddeploy.jobRunner\n",
      "- members:\n",
      "  - serviceAccount:service-487762169828@compute-system.iam.gserviceaccount.com\n",
      "  role: roles/compute.serviceAgent\n",
      "- members:\n",
      "  - serviceAccount:487762169828-compute@developer.gserviceaccount.com\n",
      "  role: roles/container.developer\n",
      "- members:\n",
      "  - serviceAccount:service-487762169828@container-engine-robot.iam.gserviceaccount.com\n",
      "  role: roles/container.serviceAgent\n",
      "- members:\n",
      "  - serviceAccount:service-487762169828@containerregistry.iam.gserviceaccount.com\n",
      "  role: roles/containerregistry.ServiceAgent\n",
      "- members:\n",
      "  - serviceAccount:487762169828-compute@developer.gserviceaccount.com\n",
      "  - serviceAccount:487762169828@cloudservices.gserviceaccount.com\n",
      "  - serviceAccount:matt-training@training1027.iam.gserviceaccount.com\n",
      "  role: roles/editor\n",
      "- members:\n",
      "  - serviceAccount:matt-training@training1027.iam.gserviceaccount.com\n",
      "  role: roles/iam.securityAdmin\n",
      "- members:\n",
      "  - serviceAccount:service-487762169828@gcp-sa-notebooks.iam.gserviceaccount.com\n",
      "  role: roles/notebooks.serviceAgent\n",
      "- members:\n",
      "  - user:mattiregojos@gmail.com\n",
      "  role: roles/owner\n",
      "- members:\n",
      "  - serviceAccount:service-487762169828@gcp-sa-pubsub.iam.gserviceaccount.com\n",
      "  role: roles/pubsub.serviceAgent\n",
      "- members:\n",
      "  - serviceAccount:matt-training@training1027.iam.gserviceaccount.com\n",
      "  role: roles/resourcemanager.projectIamAdmin\n",
      "- members:\n",
      "  - serviceAccount:487762169828@cloudbuild.gserviceaccount.com\n",
      "  - serviceAccount:matt-training@training1027.iam.gserviceaccount.com\n",
      "  role: roles/run.admin\n",
      "- members:\n",
      "  - serviceAccount:service-487762169828@serverless-robot-prod.iam.gserviceaccount.com\n",
      "  role: roles/run.serviceAgent\n",
      "etag: BwYIrd7Hl8Q=\n",
      "version: 1\n"
     ]
    }
   ],
   "source": [
    "# Add the Kubernetes developer permissions\n",
    "!gcloud projects add-iam-policy-binding $(gcloud config get-value project) \\\n",
    "    --member=serviceAccount:$(gcloud projects describe $(gcloud config get-value project) \\\n",
    "    --format=\"value(projectNumber)\")-compute@developer.gserviceaccount.com \\\n",
    "    --role=\"roles/container.developer\""
   ]
  },
  {
   "cell_type": "code",
   "execution_count": 8,
   "id": "e64d9a9e-91e1-459a-85f7-e5758f360bc8",
   "metadata": {},
   "outputs": [
    {
     "name": "stdout",
     "output_type": "stream",
     "text": [
      "Updated IAM policy for serviceAccount [487762169828-compute@developer.gserviceaccount.com].\n",
      "bindings:\n",
      "- members:\n",
      "  - serviceAccount:487762169828-compute@developer.gserviceaccount.com\n",
      "  - serviceAccount:487762169828@cloudbuild.gserviceaccount.com\n",
      "  role: roles/iam.serviceAccountUser\n",
      "etag: BwYIreLaEwQ=\n",
      "version: 1\n"
     ]
    }
   ],
   "source": [
    "# Add the iam.serviceAccountUser role, which includes the actAs permission to deploy to the runtime\n",
    "!gcloud iam service-accounts add-iam-policy-binding $(gcloud projects describe $(gcloud config get-value project) \\\n",
    "    --format=\"value(projectNumber)\")-compute@developer.gserviceaccount.com \\\n",
    "    --member=serviceAccount:$(gcloud projects describe $(gcloud config get-value project) \\\n",
    "    --format=\"value(projectNumber)\")-compute@developer.gserviceaccount.com \\\n",
    "    --role=\"roles/iam.serviceAccountUser\" \\\n",
    "    --project=$(gcloud config get-value project)"
   ]
  },
  {
   "cell_type": "markdown",
   "id": "fe052db3-8a7e-42e3-ad33-7e893db8145d",
   "metadata": {},
   "source": [
    "### Create Google Kubernetes Engine clusters"
   ]
  },
  {
   "cell_type": "code",
   "execution_count": 12,
   "id": "ae4cf17d-6d05-4e68-9971-ecd07b34db67",
   "metadata": {},
   "outputs": [
    {
     "name": "stdout",
     "output_type": "stream",
     "text": [
      "Note: The Pod address range limits the maximum size of the cluster. Please refer to https://cloud.google.com/kubernetes-engine/docs/how-to/flexible-pod-cidr to learn how to optimize IP address allocation.\n",
      "Creating cluster quickstart-cluster-qsdev in us-west1... Cluster is being confi\n",
      "gured...⠼                                                                      \n",
      "Creating cluster quickstart-cluster-qsdev in us-west1... Cluster is being deplo\n",
      "yed...⠼                                                                        \n",
      "Creating cluster quickstart-cluster-qsdev in us-west1... Cluster is being healt\n",
      "h-checked (master is healthy)...done.                                          \n",
      "Created [https://container.googleapis.com/v1/projects/training1027/zones/us-west1/clusters/quickstart-cluster-qsdev].\n",
      "To inspect the contents of your cluster, go to: https://console.cloud.google.com/kubernetes/workload_/gcloud/us-west1/quickstart-cluster-qsdev?project=training1027\n",
      "\u001b[1;31mCRITICAL: ACTION REQUIRED: gke-gcloud-auth-plugin, which is needed for continued use of kubectl, was not found or is not executable. Install gke-gcloud-auth-plugin for use with kubectl by following https://cloud.google.com/blog/products/containers-kubernetes/kubectl-auth-changes-in-gke\u001b[0m\n",
      "kubeconfig entry generated for quickstart-cluster-qsdev.\n",
      "NAME                      LOCATION  MASTER_VERSION  MASTER_IP     MACHINE_TYPE  NODE_VERSION    NUM_NODES  STATUS\n",
      "quickstart-cluster-qsdev  us-west1  1.27.3-gke.100  34.83.254.36  e2-medium     1.27.3-gke.100  3          RUNNING\n",
      "Note: The Pod address range limits the maximum size of the cluster. Please refer to https://cloud.google.com/kubernetes-engine/docs/how-to/flexible-pod-cidr to learn how to optimize IP address allocation.\n",
      "Creating cluster quickstart-cluster-qsprod in us-west1... Cluster is being conf\n",
      "igured...⠹                                                                     \n",
      "Creating cluster quickstart-cluster-qsprod in us-west1... Cluster is being depl\n",
      "oyed...⠧                                                                       \n",
      "Creating cluster quickstart-cluster-qsprod in us-west1... Cluster is being heal\n",
      "th-checked (master is healthy)...done.                                         \n",
      "Created [https://container.googleapis.com/v1/projects/training1027/zones/us-west1/clusters/quickstart-cluster-qsprod].\n",
      "To inspect the contents of your cluster, go to: https://console.cloud.google.com/kubernetes/workload_/gcloud/us-west1/quickstart-cluster-qsprod?project=training1027\n",
      "\u001b[1;31mCRITICAL: ACTION REQUIRED: gke-gcloud-auth-plugin, which is needed for continued use of kubectl, was not found or is not executable. Install gke-gcloud-auth-plugin for use with kubectl by following https://cloud.google.com/blog/products/containers-kubernetes/kubectl-auth-changes-in-gke\u001b[0m\n",
      "kubeconfig entry generated for quickstart-cluster-qsprod.\n",
      "NAME                       LOCATION  MASTER_VERSION  MASTER_IP      MACHINE_TYPE  NODE_VERSION    NUM_NODES  STATUS\n",
      "quickstart-cluster-qsprod  us-west1  1.27.3-gke.100  35.233.249.98  e2-medium     1.27.3-gke.100  3          RUNNING\n"
     ]
    }
   ],
   "source": [
    "!gcloud container clusters create-auto quickstart-cluster-qsdev \\\n",
    "    --project=$(gcloud config get-value project) \\\n",
    "    --region=us-west1 && gcloud container clusters create-auto quickstart-cluster-qsprod \\\n",
    "    --project=$(gcloud config get-value project) \\\n",
    "    --region=us-west1"
   ]
  },
  {
   "cell_type": "markdown",
   "id": "8365b04e-879c-488f-81c3-9194ba194d73",
   "metadata": {},
   "source": [
    "### Prepare Skaffold configuration and Kubernetes manifest"
   ]
  },
  {
   "cell_type": "code",
   "execution_count": 13,
   "id": "d08f48d6-1675-489a-8c22-f8b2bad889c1",
   "metadata": {},
   "outputs": [],
   "source": [
    "!mkdir deploy-gke-quickstart"
   ]
  },
  {
   "cell_type": "code",
   "execution_count": 14,
   "id": "f2a24870-b2f1-442b-a52b-8699799db4eb",
   "metadata": {},
   "outputs": [
    {
     "data": {
      "text/plain": [
       "'/home/jupyter/CI-CD-GCP/sample-3-Cloud-Deploy'"
      ]
     },
     "execution_count": 14,
     "metadata": {},
     "output_type": "execute_result"
    }
   ],
   "source": [
    "pwd"
   ]
  },
  {
   "cell_type": "code",
   "execution_count": 15,
   "id": "faf6081e-989a-4bdf-9756-895db3aedaf5",
   "metadata": {},
   "outputs": [
    {
     "name": "stdout",
     "output_type": "stream",
     "text": [
      "/home/jupyter/CI-CD-GCP/sample-3-Cloud-Deploy/deploy-gke-quickstart\n"
     ]
    }
   ],
   "source": [
    "cd deploy-gke-quickstart"
   ]
  },
  {
   "cell_type": "code",
   "execution_count": 16,
   "id": "4e38c2dc-bc67-4863-937b-2f0c5c0eb2c5",
   "metadata": {},
   "outputs": [
    {
     "data": {
      "text/plain": [
       "'/home/jupyter/CI-CD-GCP/sample-3-Cloud-Deploy/deploy-gke-quickstart'"
      ]
     },
     "execution_count": 16,
     "metadata": {},
     "output_type": "execute_result"
    }
   ],
   "source": [
    "pwd"
   ]
  },
  {
   "cell_type": "code",
   "execution_count": 17,
   "id": "84bfbb45-cb59-4618-8c5f-e5b4f23eed7f",
   "metadata": {},
   "outputs": [
    {
     "name": "stdout",
     "output_type": "stream",
     "text": [
      "Writing skaffold.yaml\n"
     ]
    }
   ],
   "source": [
    "%%writefile skaffold.yaml\n",
    "apiVersion: skaffold/v2beta16\n",
    "kind: Config\n",
    "deploy:\n",
    "  kubectl:\n",
    "    manifests:\n",
    "      - k8s-*"
   ]
  },
  {
   "cell_type": "code",
   "execution_count": 18,
   "id": "eaca49a0-1b6b-4bc4-869a-b65024535875",
   "metadata": {},
   "outputs": [
    {
     "name": "stdout",
     "output_type": "stream",
     "text": [
      "Writing k8s-pod.yaml\n"
     ]
    }
   ],
   "source": [
    "%%writefile k8s-pod.yaml\n",
    "apiVersion: v1\n",
    "kind: Pod\n",
    "metadata:\n",
    "  name: getting-started\n",
    "spec:\n",
    "  containers:\n",
    "  - name: nginx\n",
    "    image: my-app-image"
   ]
  },
  {
   "cell_type": "markdown",
   "id": "7bb696db-a14b-4aaa-9646-3ec2499a6554",
   "metadata": {},
   "source": [
    "### Create your delivery pipeline and targets"
   ]
  },
  {
   "cell_type": "code",
   "execution_count": 19,
   "id": "1c9c6734-7a55-414b-906b-1a36e951db11",
   "metadata": {},
   "outputs": [
    {
     "name": "stdout",
     "output_type": "stream",
     "text": [
      "Writing clouddeploy.yaml\n"
     ]
    }
   ],
   "source": [
    "%%writefile clouddeploy.yaml\n",
    "apiVersion: deploy.cloud.google.com/v1\n",
    "kind: DeliveryPipeline\n",
    "metadata:\n",
    "  name: my-gke-demo-app-1\n",
    "description: main application pipeline\n",
    "serialPipeline:\n",
    "  stages:\n",
    "  - targetId: qsdev\n",
    "    profiles: []\n",
    "  - targetId: qsprod\n",
    "    profiles: []\n",
    "---\n",
    "\n",
    "apiVersion: deploy.cloud.google.com/v1\n",
    "kind: Target\n",
    "metadata:\n",
    "  name: qsdev\n",
    "description: development cluster\n",
    "gke:\n",
    "  cluster: projects/training1027/locations/us-west1/clusters/quickstart-cluster-qsdev\n",
    "---\n",
    "\n",
    "apiVersion: deploy.cloud.google.com/v1\n",
    "kind: Target\n",
    "metadata:\n",
    "  name: qsprod\n",
    "description: production cluster\n",
    "gke:\n",
    "  cluster: projects/training1027/locations/us-west1/clusters/quickstart-cluster-qsprod"
   ]
  },
  {
   "cell_type": "code",
   "execution_count": 24,
   "id": "c570db21-3600-49ed-9503-d0d4f5d2ec1b",
   "metadata": {},
   "outputs": [
    {
     "name": "stdout",
     "output_type": "stream",
     "text": [
      "Waiting for the operation on resource projects/training1027/locations/us-west1/\n",
      "deliveryPipelines/my-gke-demo-app-1...done.                                    \n",
      "Created Cloud Deploy resource: projects/training1027/locations/us-west1/deliveryPipelines/my-gke-demo-app-1.\n",
      "Waiting for the operation on resource projects/training1027/locations/us-west1/\n",
      "targets/qsdev...done.                                                          \n",
      "Created Cloud Deploy resource: projects/training1027/locations/us-west1/targets/qsdev.\n",
      "Waiting for the operation on resource projects/training1027/locations/us-west1/\n",
      "targets/qsprod...done.                                                         \n",
      "Created Cloud Deploy resource: projects/training1027/locations/us-west1/targets/qsprod.\n"
     ]
    }
   ],
   "source": [
    "# Register your pipeline and targets with the Cloud Deploy service\n",
    "!gcloud deploy apply --file=clouddeploy.yaml --region=us-west1 \\\n",
    "    --project=$(gcloud config get-value project)"
   ]
  },
  {
   "cell_type": "markdown",
   "id": "9818e82b-e690-4f72-9d6e-e0b880181b9d",
   "metadata": {},
   "source": [
    "### Create a release"
   ]
  },
  {
   "cell_type": "code",
   "execution_count": 26,
   "id": "744cd0d9-dd8a-488e-a445-575cca176986",
   "metadata": {},
   "outputs": [
    {
     "name": "stdout",
     "output_type": "stream",
     "text": [
      "Creating temporary tarball archive of 3 file(s) totalling 859 bytes before compression.\n",
      "Uploading tarball of [.] to [gs://8aa5b76878204bd29a86a85d0500b451_clouddeploy/source/1698394112.49276-3cb5e373a9fc43018e0820346a77b9a0.tgz]\n",
      "Waiting for operation [operation-1698394113885-608ae31d8c609-eedceb49-4104fabc]\n",
      "...done.                                                                       \n",
      "Created Cloud Deploy release test-release-001.\n",
      "Creating rollout projects/training1027/locations/us-west1/deliveryPipelines/my-gke-demo-app-1/releases/test-release-001/rollouts/test-release-001-to-qsdev-0001 in target qsdev\n",
      "Waiting for rollout creation operation to complete...done.                     \n"
     ]
    }
   ],
   "source": [
    "!gcloud deploy releases create test-release-001 \\\n",
    "  --project=$(gcloud config get-value project) \\\n",
    "  --region=us-west1 \\\n",
    "  --delivery-pipeline=my-gke-demo-app-1 \\\n",
    "  --images=my-app-image=gcr.io/google-containers/nginx@sha256:f49a843c290594dcf4d193535d1f4ba8af7d56cea2cf79d1e9554f077f1e7aaa"
   ]
  },
  {
   "cell_type": "markdown",
   "id": "b936f726-f3af-4e8f-bbe2-83fc463776bf",
   "metadata": {},
   "source": [
    "### Promote the release"
   ]
  },
  {
   "cell_type": "markdown",
   "id": "df9f24c2-3c05-4349-97b2-4c6f8f598b35",
   "metadata": {},
   "source": [
    "### View the results in Google Cloud console"
   ]
  },
  {
   "cell_type": "code",
   "execution_count": null,
   "id": "3a0bd0e4-b3e5-4e1c-a615-25281d80b7dd",
   "metadata": {},
   "outputs": [],
   "source": [
    "# It didn't work!"
   ]
  },
  {
   "cell_type": "markdown",
   "id": "599d2cc0-894d-4492-a533-019c320689fe",
   "metadata": {},
   "source": [
    "### Clean up"
   ]
  },
  {
   "cell_type": "code",
   "execution_count": null,
   "id": "1692c771-55bf-4eb4-97fc-c4f568a95fdf",
   "metadata": {},
   "outputs": [],
   "source": [
    "# gcloud container clusters delete quickstart-cluster-qsdev --region=us-west1 --project=$(gcloud config get-value project)\n",
    "# gcloud container clusters delete quickstart-cluster-qsprod --region=us-west1 --project=$(gcloud config get-value project)\n",
    "# gcloud deploy delete --file=clouddeploy.yaml --force --region=us-west1 --project=$(gcloud config get-value project)"
   ]
  },
  {
   "cell_type": "code",
   "execution_count": null,
   "id": "ff7df2d5-ff78-4106-8ab3-b5a6248b2c78",
   "metadata": {},
   "outputs": [],
   "source": []
  }
 ],
 "metadata": {
  "environment": {
   "kernel": "python3",
   "name": "tf2-cpu.2-11.m112",
   "type": "gcloud",
   "uri": "gcr.io/deeplearning-platform-release/tf2-cpu.2-11:m112"
  },
  "kernelspec": {
   "display_name": "Python 3",
   "language": "python",
   "name": "python3"
  },
  "language_info": {
   "codemirror_mode": {
    "name": "ipython",
    "version": 3
   },
   "file_extension": ".py",
   "mimetype": "text/x-python",
   "name": "python",
   "nbconvert_exporter": "python",
   "pygments_lexer": "ipython3",
   "version": "3.10.12"
  }
 },
 "nbformat": 4,
 "nbformat_minor": 5
}
