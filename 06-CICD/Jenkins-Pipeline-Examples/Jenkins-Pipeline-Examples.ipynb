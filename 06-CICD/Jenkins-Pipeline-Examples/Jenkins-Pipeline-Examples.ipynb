{
 "cells": [
  {
   "cell_type": "markdown",
   "id": "8bc6b37e-3bed-4445-a64b-c88614400e11",
   "metadata": {},
   "source": [
    "### Sample "
   ]
  },
  {
   "cell_type": "code",
   "execution_count": 1,
   "id": "4d54c19f-3e59-418f-b913-3554f835ab1a",
   "metadata": {},
   "outputs": [
    {
     "name": "stdout",
     "output_type": "stream",
     "text": [
      "Writing jenkinsfile\n"
     ]
    }
   ],
   "source": [
    "%%writefile jenkinsfile\n",
    "pipeline {\n",
    "    agent any\n",
    "    stages {\n",
    "        stage ('Build') {\n",
    "            steps {\n",
    "                sh \"\"\"\n",
    "                ### Script\n",
    "                \"\"\"\n",
    "            }\n",
    "        }    \n",
    "        stage ('Test') {\n",
    "            steps {\n",
    "                sh \"\"\"\n",
    "                ### Script\n",
    "                \"\"\"\n",
    "            }\n",
    "        }\n",
    "        stage ('Deploy') {\n",
    "            steps {\n",
    "                sh \"\"\"\n",
    "                ### Script\n",
    "                \"\"\"\n",
    "            }\n",
    "        }\n",
    "    }\n",
    "}"
   ]
  },
  {
   "cell_type": "code",
   "execution_count": null,
   "id": "f4f0cfad-64fd-45f9-9a0e-f9c29e205f9e",
   "metadata": {},
   "outputs": [],
   "source": []
  }
 ],
 "metadata": {
  "environment": {
   "kernel": "python3",
   "name": "tf2-cpu.2-11.m112",
   "type": "gcloud",
   "uri": "gcr.io/deeplearning-platform-release/tf2-cpu.2-11:m112"
  },
  "kernelspec": {
   "display_name": "Python 3",
   "language": "python",
   "name": "python3"
  },
  "language_info": {
   "codemirror_mode": {
    "name": "ipython",
    "version": 3
   },
   "file_extension": ".py",
   "mimetype": "text/x-python",
   "name": "python",
   "nbconvert_exporter": "python",
   "pygments_lexer": "ipython3",
   "version": "3.10.12"
  }
 },
 "nbformat": 4,
 "nbformat_minor": 5
}
