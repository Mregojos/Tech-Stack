{
 "cells": [
  {
   "cell_type": "markdown",
   "id": "7a70989b-0ab6-4149-bf32-71ad233e0302",
   "metadata": {},
   "source": [
    "### TF Sample\n",
    "Reference: cloud.google.com/docs/terraform/get-started-with-terraform"
   ]
  },
  {
   "cell_type": "code",
   "execution_count": 1,
   "id": "ad0504f7-24d3-4e51-abb8-6e37c9edf181",
   "metadata": {},
   "outputs": [
    {
     "name": "stdout",
     "output_type": "stream",
     "text": [
      "Overwriting main.tf\n"
     ]
    }
   ],
   "source": [
    "%%writefile main.tf\n",
    "# Provider\n",
    "terraform {\n",
    "  required_providers {\n",
    "    google = {\n",
    "      source = \"hashicorp/google\"\n",
    "      version = \"4.51.0\"\n",
    "    }\n",
    "  }\n",
    "}\n",
    "\n",
    "provider \"google\" {\n",
    "  project = \"<PROJECT_ID>\"\n",
    "  region  = \"us-central1\"\n",
    "  zone    = \"us-central1-c\"\n",
    "}\n",
    "\n",
    "# Create the VPC and subnet\n",
    "resource \"google_compute_network\" \"vpc_network\" {\n",
    "  name                    = \"my-custom-mode-network\"\n",
    "  auto_create_subnetworks = false\n",
    "  mtu                     = 1460\n",
    "}\n",
    "\n",
    "resource \"google_compute_subnetwork\" \"default\" {\n",
    "  name          = \"my-custom-subnet\"\n",
    "  ip_cidr_range = \"10.0.1.0/24\"\n",
    "  region        = \"northamerica-northeast1\"\n",
    "  network       = google_compute_network.vpc_network.id\n",
    "}\n",
    "\n",
    "# Create a single Compute Engine instance\n",
    "resource \"google_compute_instance\" \"default\" {\n",
    "  name         = \"flask-vm\"\n",
    "  machine_type = \"e2-standard-4\"\n",
    "  zone         = \"northamerica-northeast1-a\"\n",
    "  tags         = [\"ssh\"]\n",
    "\n",
    "  boot_disk {\n",
    "    initialize_params {\n",
    "      image = \"debian-cloud/debian-11\"\n",
    "    }\n",
    "  }\n",
    "\n",
    "  # Install Flask\n",
    "  metadata_startup_script = \"sudo apt-get update; sudo apt-get install -yq build-essential python3-pip rsync; pip install flask\"\n",
    "\n",
    "  network_interface {\n",
    "    subnetwork = google_compute_subnetwork.default.id\n",
    "\n",
    "    access_config {\n",
    "      # Include this section to give the VM an external IP address\n",
    "    }\n",
    "  }\n",
    "}\n",
    "\n",
    "# Ad a custom SSH firewall rule\n",
    "resource \"google_compute_firewall\" \"ssh\" {\n",
    "  name = \"allow-ssh\"\n",
    "  allow {\n",
    "    ports    = [\"22\"]\n",
    "    protocol = \"tcp\"\n",
    "  }\n",
    "  direction     = \"INGRESS\"\n",
    "  network       = google_compute_network.vpc_network.id\n",
    "  priority      = 1000\n",
    "  source_ranges = [\"0.0.0.0/0\"]\n",
    "  target_tags   = [\"ssh\"]\n",
    "}\n",
    "\n",
    "# Open port 5000 on the VM\n",
    "resource \"google_compute_firewall\" \"flask\" {\n",
    "  name    = \"flask-app-firewall\"\n",
    "  network = google_compute_network.vpc_network.id\n",
    "\n",
    "  allow {\n",
    "    protocol = \"tcp\"\n",
    "    ports    = [\"5000\"]\n",
    "  }\n",
    "  source_ranges = [\"0.0.0.0/0\"]\n",
    "}\n",
    "\n",
    "# Add an output variable for the web server URL\n",
    "// A variable for extracting the external IP address of the VM\n",
    "output \"Web-server-URL\" {\n",
    " value = join(\"\",[\"http://\",google_compute_instance.default.network_interface.0.access_config.0.nat_ip,\":5000\"])\n",
    "}"
   ]
  },
  {
   "cell_type": "code",
   "execution_count": null,
   "id": "7c9882eb-3246-448a-8ef2-e12fb8ca0a49",
   "metadata": {},
   "outputs": [],
   "source": [
    "!terraform init -upgrade"
   ]
  },
  {
   "cell_type": "code",
   "execution_count": null,
   "id": "18fc25b0-0754-4a38-80fd-9c51e0ef829c",
   "metadata": {},
   "outputs": [],
   "source": [
    "!terraform plan"
   ]
  },
  {
   "cell_type": "code",
   "execution_count": null,
   "id": "08d5b472-f71e-4f12-ac9f-60192b0512ab",
   "metadata": {},
   "outputs": [],
   "source": [
    "!terraform apply -auto-approve"
   ]
  },
  {
   "cell_type": "code",
   "execution_count": null,
   "id": "f706fe8f-e423-43ce-be0a-9f8ebf8396ef",
   "metadata": {},
   "outputs": [],
   "source": [
    "!terraform output"
   ]
  },
  {
   "cell_type": "code",
   "execution_count": null,
   "id": "015b6c4a-8bf6-42bb-8d62-97688be8a066",
   "metadata": {},
   "outputs": [],
   "source": [
    "%%writefile app.py\n",
    "# SSH the VM and add this file\n",
    "# nano app.py\n",
    "# python3 app.py\n",
    "# Open another SSH and curl localhost:5000\n",
    "\n",
    "from flask import Flask\n",
    "app = Flask(__name__)\n",
    "\n",
    "@app.route('/')\n",
    "def hello_cloud():\n",
    "  return 'Hello Cloud!'\n",
    "\n",
    "app.run(host='0.0.0.0')"
   ]
  },
  {
   "cell_type": "code",
   "execution_count": null,
   "id": "26087888-e9af-4be0-a3fc-76eb7e8309fb",
   "metadata": {},
   "outputs": [],
   "source": [
    "!terraform destroy -auto-approve"
   ]
  }
 ],
 "metadata": {
  "environment": {
   "kernel": "python3",
   "name": "tf2-cpu.2-11.m112",
   "type": "gcloud",
   "uri": "gcr.io/deeplearning-platform-release/tf2-cpu.2-11:m112"
  },
  "kernelspec": {
   "display_name": "Python 3",
   "language": "python",
   "name": "python3"
  },
  "language_info": {
   "codemirror_mode": {
    "name": "ipython",
    "version": 3
   },
   "file_extension": ".py",
   "mimetype": "text/x-python",
   "name": "python",
   "nbconvert_exporter": "python",
   "pygments_lexer": "ipython3",
   "version": "3.10.12"
  }
 },
 "nbformat": 4,
 "nbformat_minor": 5
}
