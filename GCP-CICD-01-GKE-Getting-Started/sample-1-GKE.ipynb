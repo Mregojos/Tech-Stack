{
 "cells": [
  {
   "cell_type": "markdown",
   "id": "63bfb5f8-0fd2-4690-a059-2fbf00e637f6",
   "metadata": {},
   "source": [
    "# Sample 1: GKE\n",
    "\n",
    "Reference: cloud.google.com/kubernetes-engine/docs/"
   ]
  },
  {
   "cell_type": "markdown",
   "id": "f98c1aec-85df-4f82-b9a1-44a9d8009353",
   "metadata": {},
   "source": [
    "## Install kubectl and configure cluster access\n",
    "\n",
    "Reference: cloud.google.com/kubernetes-engine/docs/how-to/cluster-acess-for-kubectl"
   ]
  },
  {
   "cell_type": "code",
   "execution_count": null,
   "id": "9dbeda4c-454e-4af1-a272-0ecf3970a7f6",
   "metadata": {},
   "outputs": [],
   "source": [
    "# Install kubectl using apt\n",
    "!grep -rhE ^deb /etc/apt/sources.list* | grep \"cloud-sdk\"\n",
    "!sudo apt-get update\n",
    "!sudo apt-get install -y kubectl\n",
    "\n",
    "# Using gcloud\n",
    "# !gcloud components install kubectl"
   ]
  },
  {
   "cell_type": "code",
   "execution_count": null,
   "id": "b45d645d-433a-4fb1-898e-210334c02298",
   "metadata": {},
   "outputs": [],
   "source": [
    "# kubectl version\n",
    "!kubectl version --client"
   ]
  },
  {
   "cell_type": "code",
   "execution_count": null,
   "id": "99bf2c2b-b04c-44b6-8db8-71fac14c2827",
   "metadata": {},
   "outputs": [],
   "source": [
    "# Check gke-gcloud-auth-plugin\n",
    "# !gke-gcloud-auth-plugin --version"
   ]
  },
  {
   "cell_type": "code",
   "execution_count": null,
   "id": "cd0df425-936a-452e-8e52-e99e22c83b1c",
   "metadata": {},
   "outputs": [],
   "source": [
    "# Install gke-gcloud-auth-plugin\n",
    "!sudo apt-get install google-cloud-sdk-gke-gcloud-auth-plugin"
   ]
  },
  {
   "cell_type": "code",
   "execution_count": null,
   "id": "7b958e01-948f-4b36-80cc-6c17ee588e18",
   "metadata": {},
   "outputs": [],
   "source": [
    "# Check gke-gcloud-auth-plugin\n",
    "!gke-gcloud-auth-plugin --version"
   ]
  },
  {
   "cell_type": "code",
   "execution_count": null,
   "id": "cf09ee9e-24ab-473a-b48b-630194291ca5",
   "metadata": {},
   "outputs": [],
   "source": [
    "# Create an Autopilot cluster named hello-cluster\n",
    "# !gcloud container clusters create-auto hello-cluster --location=northamerica-northeast1"
   ]
  },
  {
   "cell_type": "code",
   "execution_count": null,
   "id": "a7975e0d-e652-4c7b-b16d-e391a02c11dd",
   "metadata": {},
   "outputs": [],
   "source": [
    "# Get authentication credentials for the cluster\n",
    "# !gcloud container clusters get-credentials hello-cluster \\\n",
    "#    --location northamerica-northeast1"
   ]
  },
  {
   "cell_type": "code",
   "execution_count": null,
   "id": "035d8723-5da0-4fcd-837a-f8fba4d4dc0f",
   "metadata": {},
   "outputs": [],
   "source": [
    "# Get authentication credentials for the cluster\n",
    "!gcloud container clusters get-credentials hello-cluster \\\n",
    "    --region=northamerica-northeast1"
   ]
  },
  {
   "cell_type": "code",
   "execution_count": null,
   "id": "d93fca2f-4d8d-4ff7-84f7-cfa69afa4539",
   "metadata": {},
   "outputs": [],
   "source": [
    "!kubectl get namespaces"
   ]
  },
  {
   "cell_type": "code",
   "execution_count": null,
   "id": "ea788e68-97da-4d8c-8458-763de916b133",
   "metadata": {},
   "outputs": [],
   "source": [
    "# View kubeconfig. $HOMW/.kube/config\n",
    "!kubectl config view"
   ]
  },
  {
   "cell_type": "markdown",
   "id": "99f4dc55-ded2-41b3-b621-0fc881fbd78d",
   "metadata": {},
   "source": [
    "## Deploy a containerized web server\n",
    "\n",
    "Reference: cloud.google.com/kubernetes-engine/docs/deploy-app-cluster"
   ]
  },
  {
   "cell_type": "markdown",
   "id": "9b66ae9a-cc74-434b-b44d-f71d9245752a",
   "metadata": {},
   "source": [
    "### Configure cloud project"
   ]
  },
  {
   "cell_type": "code",
   "execution_count": null,
   "id": "9516e4b7-fe56-4677-bb0f-e07764e4e6f5",
   "metadata": {},
   "outputs": [],
   "source": [
    "# Configure cloud project\n",
    "!gcloud config list\n",
    "# !gcloud config set project <PROJECT_ID>"
   ]
  },
  {
   "cell_type": "markdown",
   "id": "af0adfcf-5b49-4c2f-b13b-c65e0c73a902",
   "metadata": {},
   "source": [
    "### Create a GKE Cluster"
   ]
  },
  {
   "cell_type": "code",
   "execution_count": null,
   "id": "220c594b-0535-4714-91c2-19436192fca0",
   "metadata": {},
   "outputs": [],
   "source": [
    "# Create an Autopilot cluster named hello-cluster\n",
    "!gcloud container clusters create-auto hello-cluster --location=northamerica-northeast1"
   ]
  },
  {
   "cell_type": "code",
   "execution_count": null,
   "id": "9abfec69-f7ca-47ef-b72b-d3f7b2ed6382",
   "metadata": {},
   "outputs": [],
   "source": [
    "# Get authentication credentials for the cluster\n",
    "!gcloud container clusters get-credentials hello-cluster \\\n",
    "    --location northamerica-northeast1"
   ]
  },
  {
   "cell_type": "markdown",
   "id": "08355262-2efa-4e82-930b-d30f7fc291d8",
   "metadata": {},
   "source": [
    "### Deploy an application to the cluster"
   ]
  },
  {
   "cell_type": "code",
   "execution_count": null,
   "id": "b94bc58a-cd0a-494d-bb77-84e5d97ba32a",
   "metadata": {},
   "outputs": [],
   "source": [
    "# Create the deployment\n",
    "!kubectl create deployment hello-server \\\n",
    "    --image=us-docker.pkg.dev/google-samples/containers/gke/hello-app:1.0"
   ]
  },
  {
   "cell_type": "code",
   "execution_count": null,
   "id": "6e493cde-d063-4c59-a932-8d5c982ffca9",
   "metadata": {},
   "outputs": [],
   "source": [
    "# Expose the Deployment\n",
    "!kubectl expose deployment hello-server \\\n",
    "    --type LoadBalancer \\\n",
    "    --port 80 \\\n",
    "    --target-port 8080"
   ]
  },
  {
   "cell_type": "code",
   "execution_count": null,
   "id": "d623cd23-374d-46d5-b1e1-8ca3cca7f801",
   "metadata": {},
   "outputs": [],
   "source": [
    "# Inspect and view the application\n",
    "!kubectl get pods"
   ]
  },
  {
   "cell_type": "code",
   "execution_count": null,
   "id": "89f574ef-1b92-4cc2-9735-0293c27c1e07",
   "metadata": {},
   "outputs": [],
   "source": [
    "!kubectl get service hello-server"
   ]
  },
  {
   "cell_type": "markdown",
   "id": "486350a2-bf2f-44e3-bb5a-a2a48dc2c78e",
   "metadata": {},
   "source": [
    "### Clean Up"
   ]
  },
  {
   "cell_type": "code",
   "execution_count": null,
   "id": "50f62950-920f-4c98-9a6c-c437603b83b0",
   "metadata": {},
   "outputs": [],
   "source": [
    "# Delete the application's Service\n",
    "# !kubectl delete"
   ]
  }
 ],
 "metadata": {
  "environment": {
   "kernel": "python3",
   "name": "tf2-cpu.2-11.m112",
   "type": "gcloud",
   "uri": "gcr.io/deeplearning-platform-release/tf2-cpu.2-11:m112"
  },
  "kernelspec": {
   "display_name": "Python 3",
   "language": "python",
   "name": "python3"
  },
  "language_info": {
   "codemirror_mode": {
    "name": "ipython",
    "version": 3
   },
   "file_extension": ".py",
   "mimetype": "text/x-python",
   "name": "python",
   "nbconvert_exporter": "python",
   "pygments_lexer": "ipython3",
   "version": "3.10.12"
  }
 },
 "nbformat": 4,
 "nbformat_minor": 5
}
