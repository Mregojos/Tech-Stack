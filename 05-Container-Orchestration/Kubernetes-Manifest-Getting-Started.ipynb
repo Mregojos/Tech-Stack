{
 "cells": [
  {
   "cell_type": "markdown",
   "id": "d6bc31e4-ff9c-49f2-9320-f7832227442f",
   "metadata": {},
   "source": [
    "# Kubernetes Manifest Getting Started\n",
    "\n",
    "Reference: https://kubernetes.io/docs"
   ]
  },
  {
   "cell_type": "markdown",
   "id": "fb347a36-67bb-42b0-9877-c100c88fba0d",
   "metadata": {},
   "source": [
    "## Install Minikube and start Minikube cluster"
   ]
  },
  {
   "cell_type": "code",
   "execution_count": null,
   "id": "9cd2513d-9f37-4fde-ae7b-69f1cd39ce9b",
   "metadata": {},
   "outputs": [],
   "source": [
    "%%sh\n",
    "## Install Minkinube\n",
    "curl -LO https://storage.googleapis.com/minikube/releases/latest/minikube-linux-amd64\n",
    "sudo install minikube-linux-amd64 /usr/local/bin/minikube\n",
    "# Start Minikube\n",
    "minikube start"
   ]
  },
  {
   "cell_type": "code",
   "execution_count": 3,
   "id": "5dc7823c-2311-4621-a58f-1e9043a1a124",
   "metadata": {},
   "outputs": [],
   "source": [
    "!rm -rf mi*"
   ]
  },
  {
   "cell_type": "code",
   "execution_count": null,
   "id": "cea39f9a-12cb-4f2e-b618-8726125f032e",
   "metadata": {},
   "outputs": [],
   "source": [
    "!minikube status"
   ]
  },
  {
   "cell_type": "code",
   "execution_count": null,
   "id": "0bd24bfa-398d-45a1-bcb1-0381665ca487",
   "metadata": {},
   "outputs": [],
   "source": [
    "!kubectl cluster-info"
   ]
  },
  {
   "cell_type": "markdown",
   "id": "df39a489-ad5a-4e2e-8929-24ceb11137da",
   "metadata": {},
   "source": [
    "## Kubernetes Manifest"
   ]
  },
  {
   "cell_type": "code",
   "execution_count": null,
   "id": "1cbb35f2-d9e6-4b61-8405-5b59085d4b43",
   "metadata": {},
   "outputs": [],
   "source": []
  }
 ],
 "metadata": {
  "environment": {
   "kernel": "python3",
   "name": "tf2-cpu.2-11.m112",
   "type": "gcloud",
   "uri": "gcr.io/deeplearning-platform-release/tf2-cpu.2-11:m112"
  },
  "kernelspec": {
   "display_name": "Python 3",
   "language": "python",
   "name": "python3"
  },
  "language_info": {
   "codemirror_mode": {
    "name": "ipython",
    "version": 3
   },
   "file_extension": ".py",
   "mimetype": "text/x-python",
   "name": "python",
   "nbconvert_exporter": "python",
   "pygments_lexer": "ipython3",
   "version": "3.10.12"
  }
 },
 "nbformat": 4,
 "nbformat_minor": 5
}
