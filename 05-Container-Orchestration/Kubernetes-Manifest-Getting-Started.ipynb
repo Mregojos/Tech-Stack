{
 "cells": [
  {
   "cell_type": "markdown",
   "id": "d6bc31e4-ff9c-49f2-9320-f7832227442f",
   "metadata": {},
   "source": [
    "# Kubernetes Manifest Getting Started\n",
    "\n",
    "Reference: https://kubernetes.io/docs"
   ]
  },
  {
   "cell_type": "markdown",
   "id": "fb347a36-67bb-42b0-9877-c100c88fba0d",
   "metadata": {},
   "source": [
    "## Install Minikubeand and start Minikube cluster"
   ]
  },
  {
   "cell_type": "code",
   "execution_count": null,
   "id": "9cd2513d-9f37-4fde-ae7b-69f1cd39ce9b",
   "metadata": {},
   "outputs": [],
   "source": []
  }
 ],
 "metadata": {
  "environment": {
   "kernel": "python3",
   "name": "tf2-cpu.2-11.m112",
   "type": "gcloud",
   "uri": "gcr.io/deeplearning-platform-release/tf2-cpu.2-11:m112"
  },
  "kernelspec": {
   "display_name": "Python 3",
   "language": "python",
   "name": "python3"
  },
  "language_info": {
   "codemirror_mode": {
    "name": "ipython",
    "version": 3
   },
   "file_extension": ".py",
   "mimetype": "text/x-python",
   "name": "python",
   "nbconvert_exporter": "python",
   "pygments_lexer": "ipython3",
   "version": "3.10.12"
  }
 },
 "nbformat": 4,
 "nbformat_minor": 5
}
