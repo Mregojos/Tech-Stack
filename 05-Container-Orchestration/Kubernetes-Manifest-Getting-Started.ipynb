{
 "cells": [
  {
   "cell_type": "markdown",
   "id": "d6bc31e4-ff9c-49f2-9320-f7832227442f",
   "metadata": {},
   "source": [
    "# Kubernetes Manifest Getting Started\n",
    "\n",
    "Reference: https://kubernetes.io/docs"
   ]
  },
  {
   "cell_type": "markdown",
   "id": "fb347a36-67bb-42b0-9877-c100c88fba0d",
   "metadata": {},
   "source": [
    "## Install Minikube and start Minikube cluster"
   ]
  },
  {
   "cell_type": "code",
   "execution_count": null,
   "id": "9cd2513d-9f37-4fde-ae7b-69f1cd39ce9b",
   "metadata": {},
   "outputs": [],
   "source": [
    "%%sh\n",
    "## Install Minkinube\n",
    "curl -LO https://storage.googleapis.com/minikube/releases/latest/minikube-linux-amd64\n",
    "sudo install minikube-linux-amd64 /usr/local/bin/minikube\n",
    "# Start Minikube\n",
    "minikube start"
   ]
  },
  {
   "cell_type": "code",
   "execution_count": 3,
   "id": "5dc7823c-2311-4621-a58f-1e9043a1a124",
   "metadata": {},
   "outputs": [],
   "source": [
    "!rm -rf mi*"
   ]
  },
  {
   "cell_type": "code",
   "execution_count": null,
   "id": "cea39f9a-12cb-4f2e-b618-8726125f032e",
   "metadata": {},
   "outputs": [],
   "source": [
    "!minikube status"
   ]
  },
  {
   "cell_type": "code",
   "execution_count": null,
   "id": "0bd24bfa-398d-45a1-bcb1-0381665ca487",
   "metadata": {},
   "outputs": [],
   "source": [
    "!kubectl cluster-info"
   ]
  },
  {
   "cell_type": "markdown",
   "id": "df39a489-ad5a-4e2e-8929-24ceb11137da",
   "metadata": {},
   "source": [
    "## Kubernetes Manifest"
   ]
  },
  {
   "cell_type": "markdown",
   "id": "fc0aa68a-86f2-4b07-a653-16ae02a5cce3",
   "metadata": {},
   "source": [
    "### Creating a Deployment\n",
    "\n",
    "Reference: https://kubernetes.io/docs/concepts/workloads/controllers/deployment"
   ]
  },
  {
   "cell_type": "code",
   "execution_count": null,
   "id": "aa331d1f-bbe3-447b-9e7a-7a76b39ee75e",
   "metadata": {},
   "outputs": [],
   "source": [
    "%%writefile nginx-deployment.yaml\n",
    "apiVersion: apps/v1\n",
    "kind: Deployment\n",
    "metadata:\n",
    "  name: nginx-deployment\n",
    "  labels: \n",
    "    app: nginx\n",
    "spec:\n",
    "  replicas: 3\n",
    "  selector: \n",
    "    matchLabels:\n",
    "      app: nginx\n",
    "  template:\n",
    "    metadata: \n",
    "      labels:\n",
    "        app: nginx\n",
    "    spec:\n",
    "      containers:\n",
    "      - name: nginx\n",
    "        image: nginx:1.14.2\n",
    "        ports:\n",
    "        - containerPort: 80"
   ]
  },
  {
   "cell_type": "code",
   "execution_count": null,
   "id": "ada10ae4-1de5-4b00-b8b7-fd7f067c41cc",
   "metadata": {},
   "outputs": [],
   "source": [
    "# Apply deployment\n",
    "!kubectl apply -f nginx-deployment.yaml"
   ]
  },
  {
   "cell_type": "code",
   "execution_count": null,
   "id": "f010c4de-ef19-4812-a2b6-cf4f246d6f95",
   "metadata": {},
   "outputs": [],
   "source": [
    " !kubectl get all"
   ]
  },
  {
   "cell_type": "code",
   "execution_count": null,
   "id": "a045bfa6-5c2d-4742-87b3-21fec349a5b8",
   "metadata": {},
   "outputs": [],
   "source": [
    "!kubectl expose deployment/nginx-deployment"
   ]
  },
  {
   "cell_type": "code",
   "execution_count": null,
   "id": "5d1a5b64-6464-4fa0-bf99-9d77bb930edf",
   "metadata": {},
   "outputs": [],
   "source": [
    "!kubectl port-forward svc/nginx-deployment 8000:80 --address 0.0.0.0"
   ]
  }
 ],
 "metadata": {
  "environment": {
   "kernel": "python3",
   "name": "tf2-cpu.2-11.m112",
   "type": "gcloud",
   "uri": "gcr.io/deeplearning-platform-release/tf2-cpu.2-11:m112"
  },
  "kernelspec": {
   "display_name": "Python 3",
   "language": "python",
   "name": "python3"
  },
  "language_info": {
   "codemirror_mode": {
    "name": "ipython",
    "version": 3
   },
   "file_extension": ".py",
   "mimetype": "text/x-python",
   "name": "python",
   "nbconvert_exporter": "python",
   "pygments_lexer": "ipython3",
   "version": "3.10.12"
  }
 },
 "nbformat": 4,
 "nbformat_minor": 5
}
