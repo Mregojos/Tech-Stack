{
 "cells": [
  {
   "cell_type": "markdown",
   "id": "d6bc31e4-ff9c-49f2-9320-f7832227442f",
   "metadata": {},
   "source": [
    "# Kubernetes Manifest Getting Started\n",
    "\n",
    "Reference: https://kubernetes.io/docs"
   ]
  },
  {
   "cell_type": "markdown",
   "id": "fb347a36-67bb-42b0-9877-c100c88fba0d",
   "metadata": {},
   "source": [
    "## Install Minikube and start Minikube cluster"
   ]
  },
  {
   "cell_type": "code",
   "execution_count": null,
   "id": "9cd2513d-9f37-4fde-ae7b-69f1cd39ce9b",
   "metadata": {},
   "outputs": [],
   "source": [
    "%%sh\n",
    "## Install Minkinube\n",
    "curl -LO https://storage.googleapis.com/minikube/releases/latest/minikube-linux-amd64\n",
    "sudo install minikube-linux-amd64 /usr/local/bin/minikube\n",
    "# Start Minikube\n",
    "minikube start"
   ]
  },
  {
   "cell_type": "code",
   "execution_count": null,
   "id": "5dc7823c-2311-4621-a58f-1e9043a1a124",
   "metadata": {},
   "outputs": [],
   "source": [
    "!rm -rf mi*"
   ]
  },
  {
   "cell_type": "code",
   "execution_count": null,
   "id": "cea39f9a-12cb-4f2e-b618-8726125f032e",
   "metadata": {},
   "outputs": [],
   "source": [
    "!minikube status"
   ]
  },
  {
   "cell_type": "code",
   "execution_count": null,
   "id": "0bd24bfa-398d-45a1-bcb1-0381665ca487",
   "metadata": {},
   "outputs": [],
   "source": [
    "!kubectl cluster-info"
   ]
  },
  {
   "cell_type": "markdown",
   "id": "df39a489-ad5a-4e2e-8929-24ceb11137da",
   "metadata": {},
   "source": [
    "## Kubernetes Manifest"
   ]
  },
  {
   "cell_type": "markdown",
   "id": "fc0aa68a-86f2-4b07-a653-16ae02a5cce3",
   "metadata": {},
   "source": [
    "### Creating a Deployment\n",
    "\n",
    "Reference: https://kubernetes.io/docs/concepts/workloads/controllers/deployment"
   ]
  },
  {
   "cell_type": "code",
   "execution_count": null,
   "id": "23865f52-a984-47f8-9bdd-07c8b373b2b3",
   "metadata": {},
   "outputs": [],
   "source": [
    "### nginx-deployment.yaml"
   ]
  },
  {
   "cell_type": "code",
   "execution_count": null,
   "id": "aa331d1f-bbe3-447b-9e7a-7a76b39ee75e",
   "metadata": {},
   "outputs": [],
   "source": [
    "%%writefile nginx-deployment.yaml\n",
    "apiVersion: apps/v1\n",
    "kind: Deployment\n",
    "metadata:\n",
    "  name: nginx-deployment\n",
    "  labels: \n",
    "    app: nginx\n",
    "spec:\n",
    "  replicas: 3\n",
    "  selector: \n",
    "    matchLabels:\n",
    "      app: nginx\n",
    "  template:\n",
    "    metadata: \n",
    "      labels:\n",
    "        app: nginx\n",
    "    spec:\n",
    "      containers:\n",
    "      - name: nginx\n",
    "        image: nginx:1.14.2\n",
    "        ports:\n",
    "        - containerPort: 80"
   ]
  },
  {
   "cell_type": "code",
   "execution_count": null,
   "id": "ada10ae4-1de5-4b00-b8b7-fd7f067c41cc",
   "metadata": {},
   "outputs": [],
   "source": [
    "# Apply deployment\n",
    "!kubectl apply -f nginx-deployment.yaml"
   ]
  },
  {
   "cell_type": "code",
   "execution_count": null,
   "id": "f010c4de-ef19-4812-a2b6-cf4f246d6f95",
   "metadata": {},
   "outputs": [],
   "source": [
    "!kubectl get all"
   ]
  },
  {
   "cell_type": "code",
   "execution_count": null,
   "id": "a045bfa6-5c2d-4742-87b3-21fec349a5b8",
   "metadata": {},
   "outputs": [],
   "source": [
    "!kubectl expose deployment/nginx-deployment"
   ]
  },
  {
   "cell_type": "code",
   "execution_count": null,
   "id": "5d1a5b64-6464-4fa0-bf99-9d77bb930edf",
   "metadata": {},
   "outputs": [],
   "source": [
    "!kubectl port-forward svc/nginx-deployment 8000:80 --address 0.0.0.0"
   ]
  },
  {
   "cell_type": "markdown",
   "id": "282c3261-4613-4753-9eb2-e519fd0e83db",
   "metadata": {},
   "source": [
    "### Edit a deployment"
   ]
  },
  {
   "cell_type": "code",
   "execution_count": null,
   "id": "e94a9570-f601-493c-ad23-e8641c0df74c",
   "metadata": {},
   "outputs": [],
   "source": [
    "!kubectl set image deployment.v1.apps/nginx-deployment nginx=nginx:1.16.1"
   ]
  },
  {
   "cell_type": "code",
   "execution_count": null,
   "id": "1b05f891-1170-405b-90e3-2a9205010470",
   "metadata": {},
   "outputs": [],
   "source": [
    "!kubectl edit deployment/nginx-deployment"
   ]
  },
  {
   "cell_type": "code",
   "execution_count": null,
   "id": "a7783ea8-a5c3-4bf8-9a92-1efd437dcbd5",
   "metadata": {},
   "outputs": [],
   "source": [
    "!kubectl get rs"
   ]
  },
  {
   "cell_type": "code",
   "execution_count": null,
   "id": "5da840d0-bd3a-4afe-8a34-f8b2de24bc7d",
   "metadata": {},
   "outputs": [],
   "source": [
    "!kubectl get all"
   ]
  },
  {
   "cell_type": "code",
   "execution_count": null,
   "id": "0ef52ce1-a96c-4dec-a072-d000400e37b3",
   "metadata": {},
   "outputs": [],
   "source": [
    "!kubectl rollout status deployment/nginx-deployment"
   ]
  },
  {
   "cell_type": "code",
   "execution_count": null,
   "id": "bce64280-533e-45ae-b23c-f419cff4e02b",
   "metadata": {},
   "outputs": [],
   "source": [
    "!kubectl describe deployments"
   ]
  },
  {
   "cell_type": "markdown",
   "id": "699fb735-894e-41b6-b7ec-5cafe0913d8e",
   "metadata": {},
   "source": [
    "### Rolling bacK a Deployment"
   ]
  },
  {
   "cell_type": "code",
   "execution_count": null,
   "id": "5780b8a9-8d16-41c7-973a-ae77d9ce6156",
   "metadata": {},
   "outputs": [],
   "source": [
    "!kubectl set image deployment.v1.apps/nginx-deployment nginx=nginx:1.161"
   ]
  },
  {
   "cell_type": "code",
   "execution_count": null,
   "id": "fd8195c5-9526-4872-9b9e-fcd87d925437",
   "metadata": {},
   "outputs": [],
   "source": [
    "!kubectl rollout status deployment/nginx-deployment"
   ]
  },
  {
   "cell_type": "code",
   "execution_count": null,
   "id": "eb320236-2474-4599-aa6a-07e98a9715c8",
   "metadata": {},
   "outputs": [],
   "source": [
    "!kubectl get all"
   ]
  },
  {
   "cell_type": "code",
   "execution_count": null,
   "id": "538b45ff-46f3-421d-beec-3a36b2d4586d",
   "metadata": {},
   "outputs": [],
   "source": [
    "!kubectl describe deployments"
   ]
  },
  {
   "cell_type": "markdown",
   "id": "ddf43be8-0b78-4226-85af-15e945ba925f",
   "metadata": {},
   "source": [
    "### Checking Rollout History of a Deployment"
   ]
  },
  {
   "cell_type": "code",
   "execution_count": null,
   "id": "7719d195-6f28-42b1-9e3b-09952737b69c",
   "metadata": {},
   "outputs": [],
   "source": [
    "!kubectl rollout history deployment/nginx-deployment"
   ]
  },
  {
   "cell_type": "code",
   "execution_count": null,
   "id": "79e9d8ae-2db5-44d9-a681-533e6ca877f9",
   "metadata": {},
   "outputs": [],
   "source": [
    "!kubectl rollout history deployment/nginx-deployment --revision=2"
   ]
  },
  {
   "cell_type": "markdown",
   "id": "2b1b1eaa-b71d-4564-b3c2-8918ffa5d642",
   "metadata": {},
   "source": [
    "### Rolling Back to a Previous Revision"
   ]
  },
  {
   "cell_type": "code",
   "execution_count": null,
   "id": "6e215bf7-4647-4b87-9290-79f10edfaabd",
   "metadata": {},
   "outputs": [],
   "source": [
    "!kubectl rollout undo deployment/nginx-deployment"
   ]
  },
  {
   "cell_type": "code",
   "execution_count": null,
   "id": "ff650695-9a7b-4961-a134-553521c12187",
   "metadata": {},
   "outputs": [],
   "source": [
    "!kubectl get all"
   ]
  },
  {
   "cell_type": "code",
   "execution_count": null,
   "id": "06727b9b-655c-46bd-bc9f-99fb78b61c6f",
   "metadata": {},
   "outputs": [],
   "source": [
    "# Specific revision\n",
    "!kubectl rollout undo deployment/nginx-deployment --to-revision=3"
   ]
  },
  {
   "cell_type": "code",
   "execution_count": null,
   "id": "6192b94c-bc98-4fd1-8a02-311f647f3cc0",
   "metadata": {},
   "outputs": [],
   "source": [
    "!kubectl get deployment nginx-deployment"
   ]
  },
  {
   "cell_type": "code",
   "execution_count": null,
   "id": "5f332309-c592-4c36-b539-1c76575c9b90",
   "metadata": {},
   "outputs": [],
   "source": [
    "!kubectl describe deployment nginx-deployment"
   ]
  }
 ],
 "metadata": {
  "environment": {
   "kernel": "python3",
   "name": "tf2-cpu.2-11.m112",
   "type": "gcloud",
   "uri": "gcr.io/deeplearning-platform-release/tf2-cpu.2-11:m112"
  },
  "kernelspec": {
   "display_name": "Python 3",
   "language": "python",
   "name": "python3"
  },
  "language_info": {
   "codemirror_mode": {
    "name": "ipython",
    "version": 3
   },
   "file_extension": ".py",
   "mimetype": "text/x-python",
   "name": "python",
   "nbconvert_exporter": "python",
   "pygments_lexer": "ipython3",
   "version": "3.10.12"
  }
 },
 "nbformat": 4,
 "nbformat_minor": 5
}
