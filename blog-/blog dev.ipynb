{
 "cells": [
  {
   "cell_type": "markdown",
   "id": "dd222139-e709-4389-8d8e-4833b60a42f2",
   "metadata": {},
   "source": [
    "# Blog Dev\n",
    "\n",
    "For Development"
   ]
  },
  {
   "cell_type": "code",
   "execution_count": null,
   "id": "f151d10e-3d7e-4c74-8947-dc50ff9b9898",
   "metadata": {},
   "outputs": [],
   "source": []
  }
 ],
 "metadata": {
  "environment": {
   "kernel": "python3",
   "name": "tf2-cpu.2-11.m112",
   "type": "gcloud",
   "uri": "gcr.io/deeplearning-platform-release/tf2-cpu.2-11:m112"
  },
  "kernelspec": {
   "display_name": "Python 3",
   "language": "python",
   "name": "python3"
  },
  "language_info": {
   "codemirror_mode": {
    "name": "ipython",
    "version": 3
   },
   "file_extension": ".py",
   "mimetype": "text/x-python",
   "name": "python",
   "nbconvert_exporter": "python",
   "pygments_lexer": "ipython3",
   "version": "3.10.12"
  }
 },
 "nbformat": 4,
 "nbformat_minor": 5
}
