{
 "cells": [
  {
   "cell_type": "markdown",
   "id": "0f118681-f679-4c84-9ed0-85fb279799be",
   "metadata": {},
   "source": [
    "# Helm\n",
    "\n",
    "Resource: https://helm.sh"
   ]
  },
  {
   "cell_type": "markdown",
   "id": "9fb3d924-28d4-405a-808a-69bd8b79f7c4",
   "metadata": {},
   "source": [
    "## Introduction: Quickstart Guide & Installing Helm\n",
    "\n",
    "Resource: https://helm.sh/docs/intro/quickstart"
   ]
  },
  {
   "cell_type": "markdown",
   "id": "156c4060-1c50-4382-ae91-f4f61fa2c1b3",
   "metadata": {},
   "source": [
    "### Prerequisites"
   ]
  },
  {
   "cell_type": "code",
   "execution_count": null,
   "id": "714a2306-d966-4c4d-9bf2-ce899742be2c",
   "metadata": {},
   "outputs": [],
   "source": [
    "%%sh\n",
    "# kubernetes Cluster\n",
    "# Using minikube\n",
    "## Install Minkinube\n",
    "curl -LO https://storage.googleapis.com/minikube/releases/latest/minikube-linux-amd64\n",
    "sudo install minikube-linux-amd64 /usr/local/bin/minikube\n",
    "# Start Minikube\n",
    "minikube start"
   ]
  },
  {
   "cell_type": "code",
   "execution_count": null,
   "id": "93a593e5-cec4-49ff-95a2-e49847340a5d",
   "metadata": {},
   "outputs": [],
   "source": [
    "!minikube status"
   ]
  },
  {
   "cell_type": "code",
   "execution_count": null,
   "id": "366d0513-aff9-44e4-93dd-01833f9c934a",
   "metadata": {},
   "outputs": [],
   "source": [
    "!kubectl cluster-info"
   ]
  },
  {
   "cell_type": "code",
   "execution_count": null,
   "id": "a5a83000-5d92-404b-818e-7ae9f57db30d",
   "metadata": {},
   "outputs": [],
   "source": [
    "# Remove Minikube-linux-amd64\n",
    "!rm minikube*"
   ]
  },
  {
   "cell_type": "markdown",
   "id": "0f95dc6f-6db5-4de8-9c9c-09474220f508",
   "metadata": {},
   "source": [
    "### Installing Helm"
   ]
  },
  {
   "cell_type": "code",
   "execution_count": null,
   "id": "c80566e3-461b-4c1a-ab26-2b9c5dd49004",
   "metadata": {},
   "outputs": [],
   "source": [
    "!wget https://get.helm.sh/helm-v3.13.1-linux-amd64.tar.gz"
   ]
  },
  {
   "cell_type": "code",
   "execution_count": null,
   "id": "33e51b79-1954-4c20-bf5c-25e241b3d85a",
   "metadata": {},
   "outputs": [],
   "source": [
    "!tar -zxvf helm-v3.13.1-linux-amd64.tar.gz"
   ]
  },
  {
   "cell_type": "code",
   "execution_count": null,
   "id": "4d12f87c-0648-41ba-8b62-f2403949ac34",
   "metadata": {},
   "outputs": [],
   "source": [
    "!sudo mv linux-amd64/helm /usr/local/bin/helm"
   ]
  },
  {
   "cell_type": "code",
   "execution_count": null,
   "id": "e5af450b-3ced-4f22-91a9-38168f022e48",
   "metadata": {},
   "outputs": [],
   "source": [
    "%%sh \n",
    "# Remove linux-amd64 and helm-v*\n",
    "rm -rf linux-amd64\n",
    "rm helm-v*"
   ]
  },
  {
   "cell_type": "code",
   "execution_count": null,
   "id": "cd1201f7-3996-4647-9135-56bd73770c24",
   "metadata": {},
   "outputs": [],
   "source": [
    "# Verify\n",
    "!helm help"
   ]
  },
  {
   "cell_type": "markdown",
   "id": "d11fbece-cdbb-495d-8b2c-b1849c31b40c",
   "metadata": {},
   "source": [
    "### Initialize a Helm Chart Repository"
   ]
  },
  {
   "cell_type": "code",
   "execution_count": null,
   "id": "ea8054dc-4dca-4064-bf30-bb20d098f545",
   "metadata": {},
   "outputs": [],
   "source": [
    "!helm repo add bitnami https://charts.bitnami.com/bitnami"
   ]
  },
  {
   "cell_type": "code",
   "execution_count": null,
   "id": "8c92859d-418d-4de9-a25a-40e2dc710f6c",
   "metadata": {},
   "outputs": [],
   "source": [
    "!helm search repo bitnami"
   ]
  },
  {
   "cell_type": "markdown",
   "id": "874f4ff3-ae6c-48a7-8083-34e80b444fec",
   "metadata": {},
   "source": [
    "### Install an Example Chart"
   ]
  },
  {
   "cell_type": "code",
   "execution_count": null,
   "id": "9fcfc453-a1e0-4ae5-8994-31be6bc0d9e6",
   "metadata": {},
   "outputs": [],
   "source": [
    "!helm repo update"
   ]
  },
  {
   "cell_type": "code",
   "execution_count": null,
   "id": "8dee19d8-f797-45cf-b2c8-f361ec76cab0",
   "metadata": {},
   "outputs": [],
   "source": [
    "!helm install bitnami/mysql --generate-name"
   ]
  },
  {
   "cell_type": "code",
   "execution_count": null,
   "id": "80899364-8d9d-467e-9f64-5a721bbf2a8c",
   "metadata": {},
   "outputs": [],
   "source": [
    "!helm show chart bitnami/mysql"
   ]
  },
  {
   "cell_type": "code",
   "execution_count": null,
   "id": "93764d1b-fe09-4159-8829-5b1fc20c8893",
   "metadata": {},
   "outputs": [],
   "source": [
    "!helm show all bitnami/mysql"
   ]
  },
  {
   "cell_type": "markdown",
   "id": "27ddfabb-ad85-45e4-9964-86bfa4d59115",
   "metadata": {},
   "source": [
    "### Learn About Releases"
   ]
  },
  {
   "cell_type": "code",
   "execution_count": null,
   "id": "3789219f-0afb-4eca-aae0-ed21326d0978",
   "metadata": {},
   "outputs": [],
   "source": [
    "!helm list"
   ]
  },
  {
   "cell_type": "code",
   "execution_count": null,
   "id": "18a51669-a8eb-4a02-9a55-13e7c6ebdfe8",
   "metadata": {},
   "outputs": [],
   "source": [
    "!helm ls"
   ]
  },
  {
   "cell_type": "markdown",
   "id": "e6996c7e-bd16-497c-95bd-5201a4d2a0ee",
   "metadata": {},
   "source": [
    "### Uninstall a Release"
   ]
  },
  {
   "cell_type": "code",
   "execution_count": 18,
   "id": "c3612feb-2a73-4072-ad12-482a4b987711",
   "metadata": {},
   "outputs": [
    {
     "name": "stdout",
     "output_type": "stream",
     "text": [
      "release \"mysql-1699107702\" uninstalled\n"
     ]
    }
   ],
   "source": [
    "!helm uninstall <CHART_NAME> --keep-history"
   ]
  },
  {
   "cell_type": "code",
   "execution_count": null,
   "id": "e71e3ee5-56bf-48fc-a4dd-80ff463382fc",
   "metadata": {},
   "outputs": [],
   "source": [
    "# Check Status\n",
    "!helm status <CHART_NAME>"
   ]
  },
  {
   "cell_type": "code",
   "execution_count": 23,
   "id": "b0aeeda0-3a00-475d-bce2-34ccc216c564",
   "metadata": {},
   "outputs": [
    {
     "name": "stdout",
     "output_type": "stream",
     "text": [
      "Rollback was a success! Happy Helming!\n"
     ]
    }
   ],
   "source": [
    "# Rollback (Only with helm uninstall <CHART_NAME> --keep-history)\n",
    "!helm rollback <CHART_NAME> <REVISION>"
   ]
  },
  {
   "cell_type": "markdown",
   "id": "024c281e-8b37-49d6-b6b6-3b3f3d22a174",
   "metadata": {},
   "source": [
    "### Reading the Help text"
   ]
  },
  {
   "cell_type": "code",
   "execution_count": null,
   "id": "07b51d34-99a6-4ce6-8b06-9eb1ac2f3db4",
   "metadata": {},
   "outputs": [],
   "source": [
    "!helm get -h"
   ]
  }
 ],
 "metadata": {
  "environment": {
   "kernel": "python3",
   "name": "tf2-cpu.2-11.m112",
   "type": "gcloud",
   "uri": "gcr.io/deeplearning-platform-release/tf2-cpu.2-11:m112"
  },
  "kernelspec": {
   "display_name": "Python 3",
   "language": "python",
   "name": "python3"
  },
  "language_info": {
   "codemirror_mode": {
    "name": "ipython",
    "version": 3
   },
   "file_extension": ".py",
   "mimetype": "text/x-python",
   "name": "python",
   "nbconvert_exporter": "python",
   "pygments_lexer": "ipython3",
   "version": "3.10.12"
  }
 },
 "nbformat": 4,
 "nbformat_minor": 5
}
