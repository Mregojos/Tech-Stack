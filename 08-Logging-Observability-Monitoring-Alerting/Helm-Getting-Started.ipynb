{
 "cells": [
  {
   "cell_type": "markdown",
   "id": "0f118681-f679-4c84-9ed0-85fb279799be",
   "metadata": {},
   "source": [
    "# Helm\n",
    "\n",
    "Resource: https://helm.sh"
   ]
  },
  {
   "cell_type": "code",
   "execution_count": null,
   "id": "96010ee4-ca4c-4c92-bee5-7aad5dfef207",
   "metadata": {},
   "outputs": [],
   "source": []
  }
 ],
 "metadata": {
  "environment": {
   "kernel": "python3",
   "name": "tf2-cpu.2-11.m112",
   "type": "gcloud",
   "uri": "gcr.io/deeplearning-platform-release/tf2-cpu.2-11:m112"
  },
  "kernelspec": {
   "display_name": "Python 3",
   "language": "python",
   "name": "python3"
  },
  "language_info": {
   "codemirror_mode": {
    "name": "ipython",
    "version": 3
   },
   "file_extension": ".py",
   "mimetype": "text/x-python",
   "name": "python",
   "nbconvert_exporter": "python",
   "pygments_lexer": "ipython3",
   "version": "3.10.12"
  }
 },
 "nbformat": 4,
 "nbformat_minor": 5
}
