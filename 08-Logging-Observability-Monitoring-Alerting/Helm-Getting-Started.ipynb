{
 "cells": [
  {
   "cell_type": "markdown",
   "id": "0f118681-f679-4c84-9ed0-85fb279799be",
   "metadata": {},
   "source": [
    "# Helm\n",
    "\n",
    "Resource: https://helm.sh"
   ]
  },
  {
   "cell_type": "markdown",
   "id": "9fb3d924-28d4-405a-808a-69bd8b79f7c4",
   "metadata": {},
   "source": [
    "## Introduction: Quickstart Guide & Installing Helm\n",
    "\n",
    "Resource: https://helm.sh/docs/intro/quickstart"
   ]
  },
  {
   "cell_type": "markdown",
   "id": "156c4060-1c50-4382-ae91-f4f61fa2c1b3",
   "metadata": {},
   "source": [
    "### Prerequisites"
   ]
  },
  {
   "cell_type": "code",
   "execution_count": null,
   "id": "714a2306-d966-4c4d-9bf2-ce899742be2c",
   "metadata": {},
   "outputs": [],
   "source": [
    "# kubernetes Cluster\n",
    "# Using minikube\n",
    "!minikube start"
   ]
  },
  {
   "cell_type": "code",
   "execution_count": null,
   "id": "366d0513-aff9-44e4-93dd-01833f9c934a",
   "metadata": {},
   "outputs": [],
   "source": [
    "!kubectl cluster-info"
   ]
  },
  {
   "cell_type": "markdown",
   "id": "0f95dc6f-6db5-4de8-9c9c-09474220f508",
   "metadata": {},
   "source": [
    "### Installing Helm"
   ]
  },
  {
   "cell_type": "code",
   "execution_count": null,
   "id": "c80566e3-461b-4c1a-ab26-2b9c5dd49004",
   "metadata": {},
   "outputs": [],
   "source": [
    "!wget https://get.helm.sh/helm-v3.13.1-linux-amd64.tar.gz"
   ]
  },
  {
   "cell_type": "code",
   "execution_count": null,
   "id": "33e51b79-1954-4c20-bf5c-25e241b3d85a",
   "metadata": {},
   "outputs": [],
   "source": [
    "!tar -zxvf helm-v3.13.1-linux-amd64.tar.gz"
   ]
  },
  {
   "cell_type": "code",
   "execution_count": null,
   "id": "4d12f87c-0648-41ba-8b62-f2403949ac34",
   "metadata": {},
   "outputs": [],
   "source": [
    "!sudo mv linux-amd64/helm /usr/local/bin/helm"
   ]
  },
  {
   "cell_type": "code",
   "execution_count": null,
   "id": "e5af450b-3ced-4f22-91a9-38168f022e48",
   "metadata": {},
   "outputs": [],
   "source": [
    "!rm -rf linux-amd64"
   ]
  },
  {
   "cell_type": "code",
   "execution_count": null,
   "id": "304efe39-8046-4bed-b7c1-7c8565ad300d",
   "metadata": {},
   "outputs": [],
   "source": [
    "!rm helm-v*"
   ]
  },
  {
   "cell_type": "code",
   "execution_count": null,
   "id": "cd1201f7-3996-4647-9135-56bd73770c24",
   "metadata": {},
   "outputs": [],
   "source": [
    "!helm help"
   ]
  },
  {
   "cell_type": "markdown",
   "id": "d11fbece-cdbb-495d-8b2c-b1849c31b40c",
   "metadata": {},
   "source": [
    "### Initialize a Helm Chart Repository"
   ]
  },
  {
   "cell_type": "code",
   "execution_count": null,
   "id": "ea8054dc-4dca-4064-bf30-bb20d098f545",
   "metadata": {},
   "outputs": [],
   "source": [
    "!helm repo add bitnami https://charts.bitnami.com/bitnami"
   ]
  },
  {
   "cell_type": "code",
   "execution_count": null,
   "id": "8c92859d-418d-4de9-a25a-40e2dc710f6c",
   "metadata": {},
   "outputs": [],
   "source": [
    "!helm search repo bitnami"
   ]
  },
  {
   "cell_type": "markdown",
   "id": "874f4ff3-ae6c-48a7-8083-34e80b444fec",
   "metadata": {},
   "source": [
    "### Install an Example Chart"
   ]
  },
  {
   "cell_type": "code",
   "execution_count": null,
   "id": "9fcfc453-a1e0-4ae5-8994-31be6bc0d9e6",
   "metadata": {},
   "outputs": [],
   "source": [
    "!helm repo update"
   ]
  },
  {
   "cell_type": "code",
   "execution_count": null,
   "id": "8dee19d8-f797-45cf-b2c8-f361ec76cab0",
   "metadata": {},
   "outputs": [],
   "source": [
    "!helm install bitnami/mysql --generate-name"
   ]
  },
  {
   "cell_type": "code",
   "execution_count": null,
   "id": "7346f11a-e230-4ea1-81f9-4caa33433221",
   "metadata": {},
   "outputs": [],
   "source": []
  }
 ],
 "metadata": {
  "environment": {
   "kernel": "python3",
   "name": "tf2-cpu.2-11.m112",
   "type": "gcloud",
   "uri": "gcr.io/deeplearning-platform-release/tf2-cpu.2-11:m112"
  },
  "kernelspec": {
   "display_name": "Python 3",
   "language": "python",
   "name": "python3"
  },
  "language_info": {
   "codemirror_mode": {
    "name": "ipython",
    "version": 3
   },
   "file_extension": ".py",
   "mimetype": "text/x-python",
   "name": "python",
   "nbconvert_exporter": "python",
   "pygments_lexer": "ipython3",
   "version": "3.10.12"
  }
 },
 "nbformat": 4,
 "nbformat_minor": 5
}
