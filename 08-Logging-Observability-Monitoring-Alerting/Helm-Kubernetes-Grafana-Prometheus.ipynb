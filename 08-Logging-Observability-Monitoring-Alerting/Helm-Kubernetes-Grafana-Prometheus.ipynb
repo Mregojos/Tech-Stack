{
 "cells": [
  {
   "cell_type": "markdown",
   "id": "4d953d27-0043-43a3-99c3-d2734502f33a",
   "metadata": {},
   "source": [
    "# Helm: Kubernetes, Grafana, Prometheus (Container Observability)"
   ]
  },
  {
   "cell_type": "markdown",
   "id": "c2341eab-408b-4c35-87ba-cae7e19bb0ef",
   "metadata": {
    "jp-MarkdownHeadingCollapsed": true,
    "tags": []
   },
   "source": [
    "## Install Minikube and start Minikube cluster"
   ]
  },
  {
   "cell_type": "code",
   "execution_count": null,
   "id": "8b9790a5-c712-499b-92c0-b1a1428ef9c5",
   "metadata": {},
   "outputs": [],
   "source": [
    "%%sh\n",
    "## Install Minkinube\n",
    "curl -LO https://storage.googleapis.com/minikube/releases/latest/minikube-linux-amd64\n",
    "sudo install minikube-linux-amd64 /usr/local/bin/minikube\n",
    "# Start Minikube\n",
    "minikube start"
   ]
  },
  {
   "cell_type": "code",
   "execution_count": null,
   "id": "8b4a4c10-5ce3-4e33-853f-f2ca1cff06f8",
   "metadata": {},
   "outputs": [],
   "source": [
    "!rm -rf mi*"
   ]
  },
  {
   "cell_type": "code",
   "execution_count": null,
   "id": "0293db92-bb38-498c-a4ce-936ddb50e5ba",
   "metadata": {},
   "outputs": [],
   "source": [
    "!minikube status"
   ]
  },
  {
   "cell_type": "code",
   "execution_count": null,
   "id": "1f81f6cc-9863-41e6-8359-c12b43a4d502",
   "metadata": {},
   "outputs": [],
   "source": [
    "!kubectl cluster-info"
   ]
  },
  {
   "cell_type": "markdown",
   "id": "4cb034f5-dd0f-4ed6-b192-336ec7132b26",
   "metadata": {},
   "source": [
    "## Kubernetes Manifest"
   ]
  },
  {
   "cell_type": "markdown",
   "id": "7f274eb6-cce2-4c68-a9ec-2699fa1e33a4",
   "metadata": {
    "jp-MarkdownHeadingCollapsed": true,
    "tags": []
   },
   "source": [
    "### NGINX Deployment\n",
    "\n",
    "Reference: https://kubernetes.io/docs/concepts/workloads/controllers/deployment"
   ]
  },
  {
   "cell_type": "code",
   "execution_count": null,
   "id": "95a0d75f-2b23-4fcd-b600-b7f865062058",
   "metadata": {},
   "outputs": [],
   "source": [
    "### nginx-deployment.yaml"
   ]
  },
  {
   "cell_type": "code",
   "execution_count": null,
   "id": "870b8024-a96d-47bc-b639-efb312a56af7",
   "metadata": {},
   "outputs": [],
   "source": [
    "%%writefile nginx-deployment.yaml\n",
    "apiVersion: apps/v1\n",
    "kind: Deployment\n",
    "metadata:\n",
    "  name: nginx-deployment\n",
    "  labels: \n",
    "    app: nginx\n",
    "spec:\n",
    "  replicas: 3\n",
    "  selector: \n",
    "    matchLabels:\n",
    "      app: nginx\n",
    "  template:\n",
    "    metadata: \n",
    "      labels:\n",
    "        app: nginx\n",
    "    spec:\n",
    "      containers:\n",
    "      - name: nginx\n",
    "        image: nginx:1.14.2\n",
    "        ports:\n",
    "        - containerPort: 80"
   ]
  },
  {
   "cell_type": "code",
   "execution_count": null,
   "id": "fa948db8-818e-4fbc-bb0e-11a27550e527",
   "metadata": {},
   "outputs": [],
   "source": [
    "# Apply deployment\n",
    "!kubectl apply -f nginx-deployment.yaml"
   ]
  },
  {
   "cell_type": "code",
   "execution_count": null,
   "id": "1fc1376e-75cb-4486-8901-b152879de202",
   "metadata": {},
   "outputs": [],
   "source": [
    "!kubectl get all"
   ]
  },
  {
   "cell_type": "code",
   "execution_count": null,
   "id": "fcf20dfc-5da5-4347-af99-40aae1fb932a",
   "metadata": {},
   "outputs": [],
   "source": [
    "!kubectl expose deployment/nginx-deployment"
   ]
  },
  {
   "cell_type": "code",
   "execution_count": null,
   "id": "5f67675c-b630-4789-95a1-911e96d958e5",
   "metadata": {},
   "outputs": [],
   "source": [
    "!kubectl port-forward svc/nginx-deployment 8000:80 --address 0.0.0.0"
   ]
  },
  {
   "cell_type": "markdown",
   "id": "d15273b1-4a56-4f1a-835a-f6301b2f1bac",
   "metadata": {
    "tags": []
   },
   "source": [
    "### Notepad Deployment"
   ]
  },
  {
   "cell_type": "markdown",
   "id": "f278f5b0-2cc4-46c9-acc0-1a85d558312f",
   "metadata": {
    "jp-MarkdownHeadingCollapsed": true,
    "tags": []
   },
   "source": [
    "#### Notepad App (Streamlit and sqlite3)"
   ]
  },
  {
   "cell_type": "code",
   "execution_count": null,
   "id": "3491c8c1-0aee-4f03-a482-f5e43b82dfc9",
   "metadata": {},
   "outputs": [],
   "source": [
    "# Install streamlit\n",
    "!pip install streamlit -q"
   ]
  },
  {
   "cell_type": "code",
   "execution_count": null,
   "id": "47f49178-4f0f-4a84-a6a3-0dd3324f6dcf",
   "metadata": {},
   "outputs": [],
   "source": [
    "# Import libraries\n",
    "import sqlite3\n",
    "import streamlit as st"
   ]
  },
  {
   "cell_type": "code",
   "execution_count": null,
   "id": "8d64eecd-8e42-44de-a6aa-c7e69296f19f",
   "metadata": {
    "tags": []
   },
   "outputs": [],
   "source": [
    "%%writefile app.py\n",
    "# Import libraries\n",
    "import streamlit as st\n",
    "import sqlite3\n",
    "import os\n",
    "import time\n",
    "\n",
    "# Header\n",
    "st.write(\"# Notepad :notebook: v2\")\n",
    "st.caption(\"\"\"\n",
    "            Add your thoughts here! It will be stored in a database! \\n\n",
    "            :warning: :red[Do not add sensitive data].\n",
    "            \"\"\")\n",
    "st.subheader(\"\",divider=\"rainbow\")\n",
    "\n",
    "# Variable\n",
    "database_name = \"notes.db\"\n",
    "\n",
    "# Create a database\n",
    "if database_name in os.listdir():\n",
    "    con = sqlite3.connect(database_name)\n",
    "    cur = con.cursor()\n",
    "else:\n",
    "    con = sqlite3.connect(database_name)\n",
    "    # Database Cursor (cur)\n",
    "    cur = con.cursor()\n",
    "    cur.execute(\"CREATE TABLE notes(name, note, time)\")\n",
    "    con.commit()\n",
    "\n",
    "# Inputs\n",
    "name = st.text_input(\"Your Name here\")\n",
    "note = st.text_area(\"Add Note here\",)\n",
    "if st.button(\"Add a note\"):\n",
    "    time = time.strftime(\"Date: %Y-%m-%d | Time: %H:%M:%S UTC\")\n",
    "    st.write(f\"\"\" \\n\n",
    "            ### :pencil: {note} \\n\n",
    "            :man: {name} \\n\n",
    "            :watch: {time}\"\"\")\n",
    "    st.success(\"Successful Added.\")\n",
    "    # st.balloons()\n",
    "    ### Insert into adatabase\n",
    "    cur.execute(f\"\"\"\n",
    "            INSERT INTO notes VALUES\n",
    "            (\"{name}\", \"{note}\", \"{time}\")\n",
    "            \"\"\")\n",
    "    con.commit()\n",
    "    \n",
    "# Previous Notes \n",
    "st.subheader(\"\",divider=\"rainbow\")\n",
    "st.write(\"### *Previous Notes*\")\n",
    "# Write the data\n",
    "result = cur.execute(\"\"\"\n",
    "                    SELECT * \n",
    "                    FROM notes\n",
    "                    ORDER BY time DESC\n",
    "                    \"\"\")\n",
    "for name, note, time in result.fetchall():\n",
    "    st.write(f\"\"\" \\n\n",
    "            #### :pencil: {note} \\n\n",
    "            :man: Written By: **{name}** \\n\n",
    "            :watch: {time}\"\"\")\n",
    "    st.subheader(\"\",divider=\"gray\")\n",
    "    \n",
    "# Close Connection\n",
    "con.close()"
   ]
  },
  {
   "cell_type": "code",
   "execution_count": null,
   "id": "5962c797-a504-49e7-bc65-27419335d62a",
   "metadata": {},
   "outputs": [],
   "source": [
    "%%writefile Dockerfile\n",
    "FROM python\n",
    "WORKDIR /app\n",
    "RUN pip install streamlit -q\n",
    "COPY app.py .\n",
    "EXPOSE 8501\n",
    "CMD [\"streamlit\", \"run\", \"app.py\", \"--server.address\", \"0.0.0.0\"]"
   ]
  },
  {
   "cell_type": "code",
   "execution_count": null,
   "id": "c58fc42b-bb80-4830-8d3a-609d7e64a9f3",
   "metadata": {},
   "outputs": [],
   "source": [
    "# Docker login\n",
    "# docker login"
   ]
  },
  {
   "cell_type": "code",
   "execution_count": null,
   "id": "00b95692-ace7-4a95-988f-786de7a91325",
   "metadata": {},
   "outputs": [],
   "source": [
    "DOCKER_USERNAME=\"\""
   ]
  },
  {
   "cell_type": "code",
   "execution_count": null,
   "id": "3f5d68cd-2649-4d55-b58d-3cc36fbd5ee5",
   "metadata": {},
   "outputs": [],
   "source": [
    "# Build an image\n",
    "!docker build -t $DOCKER_USERNAME/app . -q"
   ]
  },
  {
   "cell_type": "code",
   "execution_count": null,
   "id": "50203a8c-cbcd-48b5-a4c2-127acab681fb",
   "metadata": {},
   "outputs": [],
   "source": [
    "# List images\n",
    "!docker images"
   ]
  },
  {
   "cell_type": "code",
   "execution_count": null,
   "id": "1152ecb4-777d-42b1-9aa2-ac49325d34cd",
   "metadata": {},
   "outputs": [],
   "source": [
    "!docker push $DOCKER_USERNAME/app"
   ]
  },
  {
   "cell_type": "code",
   "execution_count": null,
   "id": "21df7620-6aca-47fc-942e-05403f7105f4",
   "metadata": {},
   "outputs": [],
   "source": [
    "# Remove all docker ps\n",
    "# !docker rm -f $(docker ps -aq)"
   ]
  },
  {
   "cell_type": "code",
   "execution_count": null,
   "id": "020a1feb-d250-46df-a9ed-73081771f082",
   "metadata": {},
   "outputs": [],
   "source": [
    "# Create a firewall (GCP)\n",
    "!gcloud compute --project=$(gcloud config get project) firewall-rules create ports \\\n",
    "    --direction=INGRESS --priority=1000 --network=default --action=ALLOW --rules=tcp:8501,tcp:8000,tcp:9000 --source-ranges=0.0.0.0/0"
   ]
  },
  {
   "cell_type": "code",
   "execution_count": null,
   "id": "713d7887-5700-4853-a748-e1af4e1de708",
   "metadata": {},
   "outputs": [],
   "source": []
  },
  {
   "cell_type": "markdown",
   "id": "353620a6-4d82-48dc-9a43-c6d963a26a07",
   "metadata": {
    "jp-MarkdownHeadingCollapsed": true,
    "tags": []
   },
   "source": [
    "#### notepadd-deployment.yaml"
   ]
  },
  {
   "cell_type": "code",
   "execution_count": null,
   "id": "4df5c1d8-9c53-4251-9b5c-75f863a550bd",
   "metadata": {},
   "outputs": [],
   "source": [
    "### notepadd-deployment.yaml"
   ]
  },
  {
   "cell_type": "code",
   "execution_count": null,
   "id": "bc030a64-4990-462d-90f6-1d2c4ca1ac5f",
   "metadata": {},
   "outputs": [],
   "source": [
    "%%writefile notepad-deployment.yaml\n",
    "apiVersion: apps/v1\n",
    "kind: Deployment\n",
    "metadata:\n",
    "  name: notepad-deployment\n",
    "  labels: \n",
    "    app: notepad\n",
    "spec:\n",
    "  replicas: 3\n",
    "  selector: \n",
    "    matchLabels:\n",
    "      app: notepad\n",
    "  template:\n",
    "    metadata: \n",
    "      labels:\n",
    "        app: notepad\n",
    "    spec:\n",
    "      containers:\n",
    "      - name: notepad\n",
    "        image: mattregojos/app:latest\n",
    "        ports:\n",
    "        - containerPort: 8501"
   ]
  },
  {
   "cell_type": "code",
   "execution_count": null,
   "id": "41a43634-6016-433a-86dd-ef36f37ef61e",
   "metadata": {},
   "outputs": [],
   "source": [
    "# Create notepad namespace\n",
    "!kubectl create namespace notepad"
   ]
  },
  {
   "cell_type": "code",
   "execution_count": null,
   "id": "c90e8cb3-f34e-4937-8a09-5c4698446c0f",
   "metadata": {},
   "outputs": [],
   "source": [
    "# Apply deployment\n",
    "!kubectl apply -f notepad-deployment.yaml -n notepad"
   ]
  },
  {
   "cell_type": "code",
   "execution_count": null,
   "id": "7b1a3e20-ca9b-47c5-b434-f5836e810703",
   "metadata": {},
   "outputs": [],
   "source": [
    "!kubectl get all -n notepad"
   ]
  },
  {
   "cell_type": "code",
   "execution_count": null,
   "id": "fc333ca0-ec0a-4300-bb83-07d7cf0175df",
   "metadata": {},
   "outputs": [],
   "source": [
    "!kubectl expose deployment.apps/notepad-deployment -n notepad"
   ]
  },
  {
   "cell_type": "code",
   "execution_count": null,
   "id": "0cbc52c6-953e-4ee4-be82-00244df127d2",
   "metadata": {},
   "outputs": [],
   "source": [
    "!kubectl get all -n notepad"
   ]
  },
  {
   "cell_type": "code",
   "execution_count": null,
   "id": "c7888d86-26e0-4299-ac35-a2bfe364ea82",
   "metadata": {},
   "outputs": [],
   "source": [
    "!kubectl port-forward service/notepad-deployment 8501:8501 --address 0.0.0.0 -n notepad"
   ]
  },
  {
   "cell_type": "code",
   "execution_count": null,
   "id": "9484a923-a339-45cc-bc88-be8777c82283",
   "metadata": {},
   "outputs": [],
   "source": [
    "!kubectl get pods -n notepad"
   ]
  },
  {
   "cell_type": "code",
   "execution_count": null,
   "id": "374832c0-02fd-410c-b5aa-dc6feffb37ea",
   "metadata": {},
   "outputs": [],
   "source": []
  },
  {
   "cell_type": "markdown",
   "id": "d443e2e1-6b67-4bd0-9155-84d6df92165c",
   "metadata": {
    "tags": []
   },
   "source": [
    "## Helm: Kubernetes, Grafana, Prometheus"
   ]
  },
  {
   "cell_type": "markdown",
   "id": "24eddb29-0c1d-485d-96ca-6a85b279d5e2",
   "metadata": {
    "jp-MarkdownHeadingCollapsed": true,
    "tags": []
   },
   "source": [
    "### Install Helm"
   ]
  },
  {
   "cell_type": "code",
   "execution_count": null,
   "id": "c80566e3-461b-4c1a-ab26-2b9c5dd49004",
   "metadata": {},
   "outputs": [],
   "source": [
    "!wget https://get.helm.sh/helm-v3.13.1-linux-amd64.tar.gz"
   ]
  },
  {
   "cell_type": "code",
   "execution_count": null,
   "id": "33e51b79-1954-4c20-bf5c-25e241b3d85a",
   "metadata": {},
   "outputs": [],
   "source": [
    "!tar -zxvf helm-v3.13.1-linux-amd64.tar.gz"
   ]
  },
  {
   "cell_type": "code",
   "execution_count": null,
   "id": "4d12f87c-0648-41ba-8b62-f2403949ac34",
   "metadata": {},
   "outputs": [],
   "source": [
    "!sudo mv linux-amd64/helm /usr/local/bin/helm"
   ]
  },
  {
   "cell_type": "code",
   "execution_count": null,
   "id": "e5af450b-3ced-4f22-91a9-38168f022e48",
   "metadata": {},
   "outputs": [],
   "source": [
    "%%sh \n",
    "# Remove linux-amd64 and helm-v*\n",
    "rm -rf linux-amd64\n",
    "rm helm-v*"
   ]
  },
  {
   "cell_type": "code",
   "execution_count": null,
   "id": "cd1201f7-3996-4647-9135-56bd73770c24",
   "metadata": {},
   "outputs": [],
   "source": [
    "# Verify\n",
    "!helm help"
   ]
  },
  {
   "cell_type": "markdown",
   "id": "464522c3-f811-48e6-b0b5-387d06480f66",
   "metadata": {},
   "source": [
    "### Helm Artifact Hub\n",
    "\n",
    "Resource: \n",
    "- https://helm.sh\n",
    "- https://artifacthub.io"
   ]
  },
  {
   "cell_type": "markdown",
   "id": "8b053846-eb1b-44ea-aec4-feb82bd3d8b8",
   "metadata": {},
   "source": [
    "#### Kube-Promethus-Stack"
   ]
  },
  {
   "cell_type": "code",
   "execution_count": null,
   "id": "c8b73718-cffe-40c1-bc08-d46beac8530f",
   "metadata": {},
   "outputs": [],
   "source": [
    "!helm repo add prometheus-community https://prometheus-community.github.io/helm-charts"
   ]
  },
  {
   "cell_type": "code",
   "execution_count": null,
   "id": "84960e2c-6c09-4f58-a735-8b8431e6015c",
   "metadata": {},
   "outputs": [],
   "source": [
    "# I add namespace monitoring\n",
    "!kubectl create namespace monitoring"
   ]
  },
  {
   "cell_type": "code",
   "execution_count": null,
   "id": "cdd62b5b-d903-4699-a389-cdd5820c9c27",
   "metadata": {},
   "outputs": [],
   "source": [
    "!helm install my-kube-prometheus-stack prometheus-community/kube-prometheus-stack --version 52.1.0 -n monitoring"
   ]
  },
  {
   "cell_type": "code",
   "execution_count": null,
   "id": "b90010ca-d2a9-4bdf-a51b-2785be1ea078",
   "metadata": {},
   "outputs": [],
   "source": [
    "!helm list -n monitoring"
   ]
  },
  {
   "cell_type": "code",
   "execution_count": null,
   "id": "73118b5d-ade0-4dfa-bd74-86a67a5204b7",
   "metadata": {},
   "outputs": [],
   "source": [
    "!kubectl get all -n monitoring"
   ]
  },
  {
   "cell_type": "code",
   "execution_count": null,
   "id": "5ddfc64d-b198-4e45-84da-4cdf035c2361",
   "metadata": {},
   "outputs": [],
   "source": [
    "# Create a firewall\n",
    "!gcloud compute --project=$(gcloud config get project) firewall-rules create ports \\\n",
    "    --direction=INGRESS --priority=1000 --network=default --action=ALLOW --rules=tcp:8000,tcp:9000,tcp:10000 --source-ranges=0.0.0.0/0"
   ]
  },
  {
   "cell_type": "code",
   "execution_count": null,
   "id": "c79da1d1-aae4-438d-8e14-2e3c15ab07a2",
   "metadata": {},
   "outputs": [],
   "source": [
    "# Port-forward\n",
    "!kubectl port-forward svc/my-kube-prometheus-stack-grafana  8000:80 -n monitoring --address 0.0.0.0 "
   ]
  },
  {
   "cell_type": "code",
   "execution_count": null,
   "id": "2dc1b2f8-df00-47ad-aa38-5168c8e9e9e7",
   "metadata": {},
   "outputs": [],
   "source": [
    "# User: Admin\n",
    "# Password: prom-operator"
   ]
  }
 ],
 "metadata": {
  "environment": {
   "kernel": "python3",
   "name": "tf2-cpu.2-11.m112",
   "type": "gcloud",
   "uri": "gcr.io/deeplearning-platform-release/tf2-cpu.2-11:m112"
  },
  "kernelspec": {
   "display_name": "Python 3",
   "language": "python",
   "name": "python3"
  },
  "language_info": {
   "codemirror_mode": {
    "name": "ipython",
    "version": 3
   },
   "file_extension": ".py",
   "mimetype": "text/x-python",
   "name": "python",
   "nbconvert_exporter": "python",
   "pygments_lexer": "ipython3",
   "version": "3.10.12"
  }
 },
 "nbformat": 4,
 "nbformat_minor": 5
}
