{
 "cells": [
  {
   "cell_type": "markdown",
   "id": "4d953d27-0043-43a3-99c3-d2734502f33a",
   "metadata": {},
   "source": [
    "# Helm: Kubernetes, Grafana, Prometheus (Container Observability)"
   ]
  },
  {
   "cell_type": "markdown",
   "id": "34454b5b-2bea-431f-842f-d09ad747add2",
   "metadata": {},
   "source": []
  }
 ],
 "metadata": {
  "environment": {
   "kernel": "python3",
   "name": "tf2-cpu.2-11.m112",
   "type": "gcloud",
   "uri": "gcr.io/deeplearning-platform-release/tf2-cpu.2-11:m112"
  },
  "kernelspec": {
   "display_name": "Python 3",
   "language": "python",
   "name": "python3"
  },
  "language_info": {
   "codemirror_mode": {
    "name": "ipython",
    "version": 3
   },
   "file_extension": ".py",
   "mimetype": "text/x-python",
   "name": "python",
   "nbconvert_exporter": "python",
   "pygments_lexer": "ipython3",
   "version": "3.10.12"
  }
 },
 "nbformat": 4,
 "nbformat_minor": 5
}
