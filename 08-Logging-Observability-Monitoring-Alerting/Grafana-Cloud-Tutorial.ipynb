{
 "cells": [
  {
   "cell_type": "markdown",
   "id": "b2f56e40-31a8-4634-ae36-f0623885dde9",
   "metadata": {},
   "source": [
    "# Grafana Cloud Tutorial"
   ]
  },
  {
   "cell_type": "code",
   "execution_count": null,
   "id": "10f9ad8f-c4d1-4387-8c18-ce8a5b295c23",
   "metadata": {},
   "outputs": [],
   "source": []
  }
 ],
 "metadata": {
  "environment": {
   "kernel": "python3",
   "name": "tf2-cpu.2-11.m112",
   "type": "gcloud",
   "uri": "gcr.io/deeplearning-platform-release/tf2-cpu.2-11:m112"
  },
  "kernelspec": {
   "display_name": "Python 3",
   "language": "python",
   "name": "python3"
  },
  "language_info": {
   "codemirror_mode": {
    "name": "ipython",
    "version": 3
   },
   "file_extension": ".py",
   "mimetype": "text/x-python",
   "name": "python",
   "nbconvert_exporter": "python",
   "pygments_lexer": "ipython3",
   "version": "3.10.12"
  }
 },
 "nbformat": 4,
 "nbformat_minor": 5
}
