{
 "cells": [
  {
   "cell_type": "markdown",
   "id": "3e879db1-95a4-4b54-9816-f3f078068e11",
   "metadata": {},
   "source": [
    "# Helm - "
   ]
  },
  {
   "cell_type": "code",
   "execution_count": null,
   "id": "c0c06410-fb6a-46dd-b7ac-6d375a8124d7",
   "metadata": {},
   "outputs": [],
   "source": []
  }
 ],
 "metadata": {
  "environment": {
   "kernel": "python3",
   "name": "tf2-cpu.2-11.m112",
   "type": "gcloud",
   "uri": "gcr.io/deeplearning-platform-release/tf2-cpu.2-11:m112"
  },
  "kernelspec": {
   "display_name": "Python 3",
   "language": "python",
   "name": "python3"
  },
  "language_info": {
   "codemirror_mode": {
    "name": "ipython",
    "version": 3
   },
   "file_extension": ".py",
   "mimetype": "text/x-python",
   "name": "python",
   "nbconvert_exporter": "python",
   "pygments_lexer": "ipython3",
   "version": "3.10.12"
  }
 },
 "nbformat": 4,
 "nbformat_minor": 5
}
