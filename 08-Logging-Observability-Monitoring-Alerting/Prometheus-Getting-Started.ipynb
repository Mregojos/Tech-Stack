{
 "cells": [
  {
   "cell_type": "markdown",
   "id": "f46e8e01-6b76-4d36-bf81-7103a23735a2",
   "metadata": {},
   "source": [
    "# Prometheus Getting Started\n",
    "\n",
    "Resource: https://prometheus.io"
   ]
  },
  {
   "cell_type": "raw",
   "id": "3ab3ada1-424e-4f4a-a3ed-3c92c09d8d90",
   "metadata": {},
   "source": [
    "\"Prometheus is an open-source systems monitoring and alerting toolkit.\"\n",
    "\n",
    "\"Prometheus collects and stores its metrics as time series data, i.e., metrics information is stored with the timestamp at which it was recorded, alongside optional key-value pairs called labels.\"\n",
    "\n",
    "- https://prometheus.io/docs/introduction/overview"
   ]
  },
  {
   "cell_type": "code",
   "execution_count": null,
   "id": "6a8182bc-f623-4461-996b-9345c9f5c59e",
   "metadata": {},
   "outputs": [],
   "source": []
  }
 ],
 "metadata": {
  "environment": {
   "kernel": "python3",
   "name": "tf2-cpu.2-11.m112",
   "type": "gcloud",
   "uri": "gcr.io/deeplearning-platform-release/tf2-cpu.2-11:m112"
  },
  "kernelspec": {
   "display_name": "Python 3",
   "language": "python",
   "name": "python3"
  },
  "language_info": {
   "codemirror_mode": {
    "name": "ipython",
    "version": 3
   },
   "file_extension": ".py",
   "mimetype": "text/x-python",
   "name": "python",
   "nbconvert_exporter": "python",
   "pygments_lexer": "ipython3",
   "version": "3.10.12"
  }
 },
 "nbformat": 4,
 "nbformat_minor": 5
}
