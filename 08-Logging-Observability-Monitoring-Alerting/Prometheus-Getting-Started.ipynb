{
 "cells": [
  {
   "cell_type": "markdown",
   "id": "f46e8e01-6b76-4d36-bf81-7103a23735a2",
   "metadata": {},
   "source": [
    "# Prometheus Getting Started\n",
    "\n",
    "Resource: https://prometheus.io"
   ]
  },
  {
   "cell_type": "raw",
   "id": "3ab3ada1-424e-4f4a-a3ed-3c92c09d8d90",
   "metadata": {},
   "source": [
    "\"Prometheus is an open-source systems monitoring and alerting toolkit.\"\n",
    "\n",
    "\"Prometheus collects and stores its metrics as time series data, i.e., metrics information is stored with the timestamp at which it was recorded, alongside optional key-value pairs called labels.\"\n",
    "\n",
    "- https://prometheus.io/docs/introduction/overview"
   ]
  },
  {
   "cell_type": "code",
   "execution_count": null,
   "id": "6a8182bc-f623-4461-996b-9345c9f5c59e",
   "metadata": {},
   "outputs": [],
   "source": [
    "# Using Helm"
   ]
  },
  {
   "cell_type": "code",
   "execution_count": null,
   "id": "8153164c-8fb9-4595-9de3-db0e1a10b2e8",
   "metadata": {},
   "outputs": [],
   "source": [
    "!helm repo add bitnami https://charts.bitnami.com/bitnami"
   ]
  },
  {
   "cell_type": "code",
   "execution_count": null,
   "id": "29b613d8-2008-4d21-a206-41a7a7e00e5a",
   "metadata": {},
   "outputs": [],
   "source": [
    "!helm search repo prometheus"
   ]
  },
  {
   "cell_type": "code",
   "execution_count": null,
   "id": "42f3c5fd-f514-4ed7-9844-84b43cbd67a0",
   "metadata": {},
   "outputs": [],
   "source": [
    "!helm install bitnami/prometheus --generate-name"
   ]
  },
  {
   "cell_type": "code",
   "execution_count": null,
   "id": "6e055b18-e1dd-46a7-a722-22967e5bb295",
   "metadata": {},
   "outputs": [],
   "source": [
    "!helm install bitnami/grafana --generate-name"
   ]
  },
  {
   "cell_type": "code",
   "execution_count": null,
   "id": "b924ef07-75f1-46bf-bc5c-f5cb7378154c",
   "metadata": {},
   "outputs": [],
   "source": [
    "!helm list"
   ]
  },
  {
   "cell_type": "code",
   "execution_count": null,
   "id": "d818da8f-ec1f-4783-bf24-ff466f788dcd",
   "metadata": {},
   "outputs": [],
   "source": [
    "# Create a firewall for GCP\n",
    "!gcloud compute --project=$(gcloud config get project) firewall-rules create ports \\\n",
    "    --direction=INGRESS --priority=1000 --network=default --action=ALLOW --rules=tcp:8000 --source-ranges=0.0.0.0/0"
   ]
  },
  {
   "cell_type": "code",
   "execution_count": null,
   "id": "cd369f5c-e143-43e8-8300-489b09471c6c",
   "metadata": {},
   "outputs": [],
   "source": [
    "!kubectl get all"
   ]
  },
  {
   "cell_type": "code",
   "execution_count": null,
   "id": "27f76a06-2594-4a9f-8637-9b267424e53f",
   "metadata": {},
   "outputs": [],
   "source": [
    "# Run in another shell \n",
    "!kubectl port-forward service/grafana-1699109269 8000:3000 --address 0.0.0.0"
   ]
  },
  {
   "cell_type": "code",
   "execution_count": null,
   "id": "cc2bf1b4-9040-4939-a418-0edd207bb35b",
   "metadata": {},
   "outputs": [],
   "source": [
    "# For Grafana UI\n",
    "# USER: admin\n",
    "# Password: Use the command given"
   ]
  },
  {
   "cell_type": "code",
   "execution_count": null,
   "id": "6a402989-8a4a-4f17-abbc-19ba6c09d036",
   "metadata": {},
   "outputs": [],
   "source": [
    "!helm search repo prometheus"
   ]
  },
  {
   "cell_type": "code",
   "execution_count": null,
   "id": "94ac4ba5-750b-4fb5-8e3d-09a63ade94de",
   "metadata": {},
   "outputs": [],
   "source": [
    "# Kube Prometheus\n",
    "!helm install bitnami/kube-prometheus --generate-name"
   ]
  },
  {
   "cell_type": "code",
   "execution_count": null,
   "id": "948b54e8-8f62-4378-b749-cb9cf6c851f2",
   "metadata": {},
   "outputs": [],
   "source": [
    "!kubectl get svc"
   ]
  },
  {
   "cell_type": "code",
   "execution_count": null,
   "id": "9b3ee543-38c5-490d-90f0-b270e935ce69",
   "metadata": {},
   "outputs": [],
   "source": [
    "# Update a firewall for GCP\n",
    "!gcloud compute --project=$(gcloud config get project) firewall-rules update ports --allow tcp:8000,tcp:9000"
   ]
  },
  {
   "cell_type": "code",
   "execution_count": null,
   "id": "a1574e20-d629-483f-b264-eb2c64afabe1",
   "metadata": {},
   "outputs": [],
   "source": [
    "# Run in another shell \n",
    "# !kubectl port-forward svc/kube-prometheus-1699111085-prometheus  9000:9090 --address 0.0.0.0"
   ]
  },
  {
   "cell_type": "code",
   "execution_count": null,
   "id": "2ffa9346-15b8-48eb-adfe-49f0dfb1d642",
   "metadata": {},
   "outputs": [],
   "source": [
    "!kubectl get all"
   ]
  },
  {
   "cell_type": "markdown",
   "id": "3552649e-4d27-4bba-8557-774e8f897394",
   "metadata": {},
   "source": [
    "### Test"
   ]
  },
  {
   "cell_type": "code",
   "execution_count": null,
   "id": "1f1f976b-332a-4082-9f19-b20ebe3d10f7",
   "metadata": {},
   "outputs": [],
   "source": [
    "!kubectl create namespace nginx"
   ]
  },
  {
   "cell_type": "code",
   "execution_count": null,
   "id": "36696dfc-e25c-458c-b7ac-b4336cbdca0b",
   "metadata": {},
   "outputs": [],
   "source": [
    "!kubectl get namespaces"
   ]
  },
  {
   "cell_type": "code",
   "execution_count": null,
   "id": "0873685a-611e-4c20-a0de-4f3d2adbc00f",
   "metadata": {},
   "outputs": [],
   "source": [
    "!kubectl run nginx --image=nginx -n nginx"
   ]
  },
  {
   "cell_type": "code",
   "execution_count": null,
   "id": "627c3942-a014-4501-a1be-407c0836f690",
   "metadata": {},
   "outputs": [],
   "source": [
    "!kubectl get all -n nginx"
   ]
  },
  {
   "cell_type": "code",
   "execution_count": null,
   "id": "300680bf-c0ca-4437-8bb4-5d7a3f26202f",
   "metadata": {},
   "outputs": [],
   "source": [
    "!kubectl expose pod/nginx --port=80  -n nginx"
   ]
  },
  {
   "cell_type": "code",
   "execution_count": null,
   "id": "d0572bf7-beb3-4a4d-8c94-017dae6e655a",
   "metadata": {},
   "outputs": [],
   "source": [
    "!kubectl get all -n nginx"
   ]
  },
  {
   "cell_type": "code",
   "execution_count": null,
   "id": "e9a41725-2f7c-4a88-a3c1-21c2331de0e1",
   "metadata": {},
   "outputs": [],
   "source": [
    "# Run in another shell \n",
    "!kubectl port-forward service/nginx 9000:80 --address 0.0.0.0 -n nginx"
   ]
  },
  {
   "cell_type": "code",
   "execution_count": null,
   "id": "6966cd7c-918f-492b-b0db-d2cd3366961e",
   "metadata": {},
   "outputs": [],
   "source": [
    "%%sh\n",
    "kubectl delete pod/nginx\n",
    "kubectl delete svc/nginx"
   ]
  },
  {
   "cell_type": "code",
   "execution_count": null,
   "id": "488c2c4c-547a-437b-957c-88b3b46d03ea",
   "metadata": {},
   "outputs": [],
   "source": []
  }
 ],
 "metadata": {
  "environment": {
   "kernel": "python3",
   "name": "tf2-cpu.2-11.m112",
   "type": "gcloud",
   "uri": "gcr.io/deeplearning-platform-release/tf2-cpu.2-11:m112"
  },
  "kernelspec": {
   "display_name": "Python 3",
   "language": "python",
   "name": "python3"
  },
  "language_info": {
   "codemirror_mode": {
    "name": "ipython",
    "version": 3
   },
   "file_extension": ".py",
   "mimetype": "text/x-python",
   "name": "python",
   "nbconvert_exporter": "python",
   "pygments_lexer": "ipython3",
   "version": "3.10.12"
  }
 },
 "nbformat": 4,
 "nbformat_minor": 5
}
