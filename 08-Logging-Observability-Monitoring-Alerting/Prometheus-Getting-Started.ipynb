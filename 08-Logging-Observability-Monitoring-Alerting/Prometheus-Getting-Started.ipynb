{
 "cells": [
  {
   "cell_type": "markdown",
   "id": "f46e8e01-6b76-4d36-bf81-7103a23735a2",
   "metadata": {},
   "source": [
    "# Prometheus Getting Started\n",
    "\n",
    "Resource: https://prometheus.io"
   ]
  },
  {
   "cell_type": "raw",
   "id": "3ab3ada1-424e-4f4a-a3ed-3c92c09d8d90",
   "metadata": {},
   "source": [
    "\"Prometheus is an open-source systems monitoring and alerting toolkit.\"\n",
    "\n",
    "\"Prometheus collects and stores its metrics as time series data, i.e., metrics information is stored with the timestamp at which it was recorded, alongside optional key-value pairs called labels.\"\n",
    "\n",
    "- https://prometheus.io/docs/introduction/overview"
   ]
  },
  {
   "cell_type": "code",
   "execution_count": null,
   "id": "6a8182bc-f623-4461-996b-9345c9f5c59e",
   "metadata": {},
   "outputs": [],
   "source": [
    "# Using Helm"
   ]
  },
  {
   "cell_type": "code",
   "execution_count": null,
   "id": "8153164c-8fb9-4595-9de3-db0e1a10b2e8",
   "metadata": {},
   "outputs": [],
   "source": [
    "!helm repo add bitnami https://charts.bitnami.com/bitnami"
   ]
  },
  {
   "cell_type": "code",
   "execution_count": null,
   "id": "29b613d8-2008-4d21-a206-41a7a7e00e5a",
   "metadata": {},
   "outputs": [],
   "source": [
    "!helm search repo prometheus"
   ]
  },
  {
   "cell_type": "code",
   "execution_count": null,
   "id": "42f3c5fd-f514-4ed7-9844-84b43cbd67a0",
   "metadata": {},
   "outputs": [],
   "source": [
    "!helm install bitnami/prometheus --generate-name"
   ]
  },
  {
   "cell_type": "code",
   "execution_count": null,
   "id": "6e055b18-e1dd-46a7-a722-22967e5bb295",
   "metadata": {},
   "outputs": [],
   "source": [
    "!helm install bitnami/grafana --generate-name"
   ]
  },
  {
   "cell_type": "code",
   "execution_count": null,
   "id": "b924ef07-75f1-46bf-bc5c-f5cb7378154c",
   "metadata": {},
   "outputs": [],
   "source": [
    "!helm list"
   ]
  },
  {
   "cell_type": "code",
   "execution_count": null,
   "id": "d818da8f-ec1f-4783-bf24-ff466f788dcd",
   "metadata": {},
   "outputs": [],
   "source": [
    "# Create a firewall for GCP\n",
    "!gcloud compute --project=$(gcloud config get project) firewall-rules create ports \\\n",
    "    --direction=INGRESS --priority=1000 --network=default --action=ALLOW --rules=tcp:8000 --source-ranges=0.0.0.0/0"
   ]
  },
  {
   "cell_type": "code",
   "execution_count": null,
   "id": "cd369f5c-e143-43e8-8300-489b09471c6c",
   "metadata": {},
   "outputs": [],
   "source": [
    "!kubectl get all"
   ]
  },
  {
   "cell_type": "code",
   "execution_count": null,
   "id": "27f76a06-2594-4a9f-8637-9b267424e53f",
   "metadata": {},
   "outputs": [],
   "source": [
    "!kubectl port-forward service/grafana-1699109269 8000:3000 --address 0.0.0.0"
   ]
  },
  {
   "cell_type": "code",
   "execution_count": null,
   "id": "8c7ac564-ccb0-4515-9d02-c061b8829eae",
   "metadata": {},
   "outputs": [],
   "source": []
  }
 ],
 "metadata": {
  "environment": {
   "kernel": "python3",
   "name": "tf2-cpu.2-11.m112",
   "type": "gcloud",
   "uri": "gcr.io/deeplearning-platform-release/tf2-cpu.2-11:m112"
  },
  "kernelspec": {
   "display_name": "Python 3",
   "language": "python",
   "name": "python3"
  },
  "language_info": {
   "codemirror_mode": {
    "name": "ipython",
    "version": 3
   },
   "file_extension": ".py",
   "mimetype": "text/x-python",
   "name": "python",
   "nbconvert_exporter": "python",
   "pygments_lexer": "ipython3",
   "version": "3.10.12"
  }
 },
 "nbformat": 4,
 "nbformat_minor": 5
}
