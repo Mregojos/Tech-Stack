{
 "cells": [
  {
   "cell_type": "markdown",
   "id": "3ff295e4-7bf3-4375-ac9e-aa0167d49164",
   "metadata": {},
   "source": [
    "# Grafana Cloud Tutorial\n",
    "\n",
    "Reference: grafana.com\n",
    "\n",
    "mattcloudtech.grafana.net"
   ]
  },
  {
   "cell_type": "markdown",
   "id": "04a02d75-6fac-4401-b405-7e0ea9f8e66a",
   "metadata": {},
   "source": [
    "## Linux Node Integration"
   ]
  },
  {
   "cell_type": "markdown",
   "id": "b4f62e12-3834-4943-be31-e6a38b4f7584",
   "metadata": {},
   "source": [
    "### Prerequisites"
   ]
  },
  {
   "cell_type": "code",
   "execution_count": null,
   "id": "de6cfbbd-9ebd-4312-a1cd-3b50888e6ea8",
   "metadata": {},
   "outputs": [],
   "source": [
    "# Create a VM\n",
    "!gcloud compute instances create monitoring --zone us-west1-a"
   ]
  },
  {
   "cell_type": "code",
   "execution_count": null,
   "id": "379a6c39-375d-4b22-b2b9-5e08f610d0df",
   "metadata": {},
   "outputs": [],
   "source": [
    "# SSH\n",
    "# Open in another terminal\n",
    "# gcloud compute ssh --zone \"us-west1-a\" \"monitoring\" --project \"training1029\"\n",
    "# Check Distro: uname -a"
   ]
  },
  {
   "cell_type": "code",
   "execution_count": null,
   "id": "0c21720d-85ec-4dcb-8641-5e155271a4b0",
   "metadata": {},
   "outputs": [],
   "source": [
    "# ?"
   ]
  },
  {
   "cell_type": "markdown",
   "id": "690aa60c-11c8-43b9-903c-eeee4d4a3109",
   "metadata": {},
   "source": [
    "## Kubernetes Monitoring"
   ]
  },
  {
   "cell_type": "markdown",
   "id": "5a5db02e-2d90-404d-83cc-0db8af2592c5",
   "metadata": {},
   "source": [
    "### Prerequisites"
   ]
  },
  {
   "cell_type": "code",
   "execution_count": null,
   "id": "08d99d4c-c2da-4cda-824d-e875a2b3842f",
   "metadata": {},
   "outputs": [],
   "source": [
    "# Kubernetes CLI\n",
    "!kubectl "
   ]
  },
  {
   "cell_type": "code",
   "execution_count": null,
   "id": "0ed9d0be-38f3-4338-bae4-a54d29efa014",
   "metadata": {},
   "outputs": [],
   "source": [
    "%%sh\n",
    "# Install Helm\n",
    "# helm.sh/docs/intro/install\n",
    "wget https://get.helm.sh/helm-v3.13.1-linux-amd64.tar.gz\n",
    "tar -zxvf helm-v3.13.1-linux-amd64.tar.gz\n",
    "sudo mv linux-amd64/helm /usr/local/bin/helm"
   ]
  },
  {
   "cell_type": "code",
   "execution_count": null,
   "id": "a1d17003-284e-49aa-80f8-416c11368c35",
   "metadata": {},
   "outputs": [],
   "source": [
    "!helm"
   ]
  },
  {
   "cell_type": "code",
   "execution_count": null,
   "id": "e52903ce-ddcd-45d4-9304-82504726b543",
   "metadata": {},
   "outputs": [],
   "source": [
    "%%sh\n",
    "# Create a cluster\n",
    "## Install Minkinube\n",
    "curl -LO https://storage.googleapis.com/minikube/releases/latest/minikube-linux-amd64\n",
    "sudo install minikube-linux-amd64 /usr/local/bin/minikube\n",
    "# Start Minikube\n",
    "minikube start"
   ]
  },
  {
   "cell_type": "code",
   "execution_count": null,
   "id": "315853fc-fd84-4602-becf-12253168d48a",
   "metadata": {},
   "outputs": [],
   "source": [
    "!kubectl get all"
   ]
  },
  {
   "cell_type": "code",
   "execution_count": null,
   "id": "2706ffec-affd-4468-bf86-f3c9fa877aca",
   "metadata": {},
   "outputs": [],
   "source": [
    "%%sh\n",
    "helm repo add grafana https://grafana.github.io/helm-charts &&\n",
    "  helm repo update &&\n",
    "  helm upgrade --install grafana-k8s-monitoring grafana/k8s-monitoring \\\n",
    "    --namespace \"default\" --create-namespace --values - <<EOF\n",
    "cluster:\n",
    "  name: my-cluster\n",
    "externalServices:\n",
    "  prometheus:\n",
    "    host: https://prometheus-prod-13-prod-us-east-0.grafana.net\n",
    "    basicAuth:\n",
    "      username: \"1258617\"\n",
    "      password: glc_eyJvIjoiOTc2ODM3IiwibiI6Imt1YmVybmV0ZXMtdG9rZW4iLCJrIjoiOWhHMkw2NVRvU3QyenRLOUJuMzkzOE5aIiwibSI6eyJyIjoicHJvZC11cy1lYXN0LTAifX0=\n",
    "  loki:\n",
    "    host: https://logs-prod-006.grafana.net\n",
    "    basicAuth:\n",
    "      username: \"728354\"\n",
    "      password: glc_eyJvIjoiOTc2ODM3IiwibiI6Imt1YmVybmV0ZXMtdG9rZW4iLCJrIjoiOWhHMkw2NVRvU3QyenRLOUJuMzkzOE5aIiwibSI6eyJyIjoicHJvZC11cy1lYXN0LTAifX0=\n",
    "opencost:\n",
    "  opencost:\n",
    "    exporter:\n",
    "      defaultClusterId: my-cluster\n",
    "    prometheus:\n",
    "      external:\n",
    "        url: https://prometheus-prod-13-prod-us-east-0.grafana.net/api/prom\n",
    "EOF"
   ]
  },
  {
   "cell_type": "code",
   "execution_count": 50,
   "id": "da967e28-3b98-4663-99cf-0c5ce3cd1eb2",
   "metadata": {},
   "outputs": [
    {
     "name": "stdout",
     "output_type": "stream",
     "text": [
      "Display resource (CPU/memory) usage.\n",
      "\n",
      " The top command allows you to see the resource consumption for nodes or pods.\n",
      "\n",
      " This command requires Metrics Server to be correctly configured and working on\n",
      "the server.\n",
      "\n",
      "Available Commands:\n",
      "  node          Display resource (CPU/memory) usage of nodes\n",
      "  pod           Display resource (CPU/memory) usage of pods\n",
      "\n",
      "Usage:\n",
      "  kubectl top [flags] [options]\n",
      "\n",
      "Use \"kubectl top <command> --help\" for more information about a given command.\n",
      "Use \"kubectl options\" for a list of global command-line options (applies to all\n",
      "commands).\n"
     ]
    }
   ],
   "source": [
    "!kubectl top "
   ]
  },
  {
   "cell_type": "code",
   "execution_count": 51,
   "id": "39ea7109-fe61-4208-b051-a15a4c7ee763",
   "metadata": {},
   "outputs": [
    {
     "name": "stdout",
     "output_type": "stream",
     "text": [
      "NAME                                                         READY   STATUS    RESTARTS   AGE\n",
      "grafana-k8s-monitoring-grafana-agent-0                       2/2     Running   0          15m\n",
      "grafana-k8s-monitoring-grafana-agent-logs-n6xfs              2/2     Running   0          16m\n",
      "grafana-k8s-monitoring-kube-state-metrics-7c5b5d844c-zf22h   1/1     Running   0          16m\n",
      "grafana-k8s-monitoring-opencost-fdd5b98cb-z6w85              1/1     Running   0          16m\n",
      "grafana-k8s-monitoring-prometheus-node-exporter-q2np7        1/1     Running   0          16m\n"
     ]
    }
   ],
   "source": [
    "!kubectl get pods "
   ]
  },
  {
   "cell_type": "code",
   "execution_count": 52,
   "id": "1d21965a-7d3c-4923-bd84-99ddb48c9f83",
   "metadata": {},
   "outputs": [
    {
     "name": "stdout",
     "output_type": "stream",
     "text": [
      "NAME                                        READY   UP-TO-DATE   AVAILABLE   AGE\n",
      "grafana-k8s-monitoring-kube-state-metrics   1/1     1            1           16m\n",
      "grafana-k8s-monitoring-opencost             1/1     1            1           16m\n"
     ]
    }
   ],
   "source": [
    "!kubectl get deployments"
   ]
  },
  {
   "cell_type": "code",
   "execution_count": 53,
   "id": "508f0189-5287-4a50-b3eb-7742a556908f",
   "metadata": {},
   "outputs": [
    {
     "name": "stdout",
     "output_type": "stream",
     "text": [
      "NAME       STATUS   ROLES           AGE   VERSION\n",
      "minikube   Ready    control-plane   19m   v1.27.4\n"
     ]
    }
   ],
   "source": [
    "!kubectl get nodes"
   ]
  },
  {
   "cell_type": "code",
   "execution_count": 54,
   "id": "4757694c-339f-44e6-9e9b-a9adc4bce651",
   "metadata": {},
   "outputs": [
    {
     "name": "stdout",
     "output_type": "stream",
     "text": [
      "NAME                                                             READY   STATUS    RESTARTS   AGE\n",
      "pod/grafana-k8s-monitoring-grafana-agent-0                       2/2     Running   0          16m\n",
      "pod/grafana-k8s-monitoring-grafana-agent-logs-n6xfs              2/2     Running   0          16m\n",
      "pod/grafana-k8s-monitoring-kube-state-metrics-7c5b5d844c-zf22h   1/1     Running   0          16m\n",
      "pod/grafana-k8s-monitoring-opencost-fdd5b98cb-z6w85              1/1     Running   0          16m\n",
      "pod/grafana-k8s-monitoring-prometheus-node-exporter-q2np7        1/1     Running   0          16m\n",
      "\n",
      "NAME                                                      TYPE        CLUSTER-IP      EXTERNAL-IP   PORT(S)    AGE\n",
      "service/grafana-k8s-monitoring-grafana-agent              ClusterIP   10.111.250.87   <none>        80/TCP     16m\n",
      "service/grafana-k8s-monitoring-grafana-agent-cluster      ClusterIP   None            <none>        80/TCP     16m\n",
      "service/grafana-k8s-monitoring-grafana-agent-logs         ClusterIP   10.100.92.248   <none>        80/TCP     16m\n",
      "service/grafana-k8s-monitoring-kube-state-metrics         ClusterIP   10.111.58.231   <none>        8080/TCP   16m\n",
      "service/grafana-k8s-monitoring-opencost                   ClusterIP   10.98.4.197     <none>        9003/TCP   16m\n",
      "service/grafana-k8s-monitoring-prometheus-node-exporter   ClusterIP   10.100.19.212   <none>        9100/TCP   16m\n",
      "service/kubernetes                                        ClusterIP   10.96.0.1       <none>        443/TCP    19m\n",
      "\n",
      "NAME                                                             DESIRED   CURRENT   READY   UP-TO-DATE   AVAILABLE   NODE SELECTOR            AGE\n",
      "daemonset.apps/grafana-k8s-monitoring-grafana-agent-logs         1         1         1       1            1           kubernetes.io/os=linux   16m\n",
      "daemonset.apps/grafana-k8s-monitoring-prometheus-node-exporter   1         1         1       1            1           kubernetes.io/os=linux   16m\n",
      "\n",
      "NAME                                                        READY   UP-TO-DATE   AVAILABLE   AGE\n",
      "deployment.apps/grafana-k8s-monitoring-kube-state-metrics   1/1     1            1           16m\n",
      "deployment.apps/grafana-k8s-monitoring-opencost             1/1     1            1           16m\n",
      "\n",
      "NAME                                                                   DESIRED   CURRENT   READY   AGE\n",
      "replicaset.apps/grafana-k8s-monitoring-kube-state-metrics-7c5b5d844c   1         1         1       16m\n",
      "replicaset.apps/grafana-k8s-monitoring-opencost-fdd5b98cb              1         1         1       16m\n",
      "\n",
      "NAME                                                    READY   AGE\n",
      "statefulset.apps/grafana-k8s-monitoring-grafana-agent   1/1     16m\n"
     ]
    }
   ],
   "source": [
    "!kubectl get all "
   ]
  },
  {
   "cell_type": "code",
   "execution_count": 55,
   "id": "5ab0d1b3-9efa-4d7f-ab57-8d68638ce965",
   "metadata": {},
   "outputs": [
    {
     "name": "stdout",
     "output_type": "stream",
     "text": [
      "NAME              STATUS   AGE\n",
      "default           Active   19m\n",
      "kube-node-lease   Active   19m\n",
      "kube-public       Active   19m\n",
      "kube-system       Active   19m\n"
     ]
    }
   ],
   "source": [
    "!kubectl get namespaces"
   ]
  },
  {
   "cell_type": "code",
   "execution_count": null,
   "id": "603b918f-f24d-4e40-910f-1f2c93fe73e4",
   "metadata": {},
   "outputs": [],
   "source": []
  }
 ],
 "metadata": {
  "environment": {
   "kernel": "python3",
   "name": "tf2-cpu.2-11.m112",
   "type": "gcloud",
   "uri": "gcr.io/deeplearning-platform-release/tf2-cpu.2-11:m112"
  },
  "kernelspec": {
   "display_name": "Python 3",
   "language": "python",
   "name": "python3"
  },
  "language_info": {
   "codemirror_mode": {
    "name": "ipython",
    "version": 3
   },
   "file_extension": ".py",
   "mimetype": "text/x-python",
   "name": "python",
   "nbconvert_exporter": "python",
   "pygments_lexer": "ipython3",
   "version": "3.10.12"
  }
 },
 "nbformat": 4,
 "nbformat_minor": 5
}
