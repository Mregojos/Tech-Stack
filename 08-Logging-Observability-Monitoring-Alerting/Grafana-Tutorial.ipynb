{
 "cells": [
  {
   "cell_type": "markdown",
   "id": "3ff295e4-7bf3-4375-ac9e-aa0167d49164",
   "metadata": {},
   "source": [
    "# Grafana Cloud Tutorial\n",
    "\n",
    "Reference: grafana.com\n",
    "\n",
    "mattcloudtech.grafana.net"
   ]
  },
  {
   "cell_type": "markdown",
   "id": "04a02d75-6fac-4401-b405-7e0ea9f8e66a",
   "metadata": {},
   "source": [
    "## Linux Node Integration"
   ]
  },
  {
   "cell_type": "markdown",
   "id": "b4f62e12-3834-4943-be31-e6a38b4f7584",
   "metadata": {},
   "source": [
    "### Prerequisites"
   ]
  },
  {
   "cell_type": "code",
   "execution_count": null,
   "id": "de6cfbbd-9ebd-4312-a1cd-3b50888e6ea8",
   "metadata": {},
   "outputs": [],
   "source": [
    "# Create a VM\n",
    "!gcloud compute instances create monitoring --zone us-west1-a"
   ]
  },
  {
   "cell_type": "code",
   "execution_count": null,
   "id": "379a6c39-375d-4b22-b2b9-5e08f610d0df",
   "metadata": {},
   "outputs": [],
   "source": [
    "# SSH\n",
    "# Open in another terminal\n",
    "# gcloud compute ssh --zone \"us-west1-a\" \"monitoring\" --project \"training1029\"\n",
    "# Check Distro: uname -a"
   ]
  },
  {
   "cell_type": "code",
   "execution_count": null,
   "id": "0c21720d-85ec-4dcb-8641-5e155271a4b0",
   "metadata": {},
   "outputs": [],
   "source": [
    "# ?"
   ]
  },
  {
   "cell_type": "markdown",
   "id": "690aa60c-11c8-43b9-903c-eeee4d4a3109",
   "metadata": {},
   "source": [
    "## Kubernetes Monitoring"
   ]
  },
  {
   "cell_type": "markdown",
   "id": "5a5db02e-2d90-404d-83cc-0db8af2592c5",
   "metadata": {},
   "source": [
    "### Prerequisites"
   ]
  },
  {
   "cell_type": "code",
   "execution_count": null,
   "id": "08d99d4c-c2da-4cda-824d-e875a2b3842f",
   "metadata": {},
   "outputs": [],
   "source": [
    "# Kubernetes CLI\n",
    "!kubectl "
   ]
  },
  {
   "cell_type": "code",
   "execution_count": null,
   "id": "0ed9d0be-38f3-4338-bae4-a54d29efa014",
   "metadata": {},
   "outputs": [],
   "source": [
    "%%sh\n",
    "# Install Helm\n",
    "# helm.sh/docs/intro/install\n",
    "wget https://get.helm.sh/helm-v3.13.1-linux-amd64.tar.gz\n",
    "tar -zxvf helm-v3.13.1-linux-amd64.tar.gz\n",
    "sudo mv linux-amd64/helm /usr/local/bin/helm"
   ]
  },
  {
   "cell_type": "code",
   "execution_count": null,
   "id": "a1d17003-284e-49aa-80f8-416c11368c35",
   "metadata": {},
   "outputs": [],
   "source": [
    "!helm"
   ]
  },
  {
   "cell_type": "code",
   "execution_count": null,
   "id": "e52903ce-ddcd-45d4-9304-82504726b543",
   "metadata": {},
   "outputs": [],
   "source": [
    "%%sh\n",
    "# Create a cluster\n",
    "## Install Minkinube\n",
    "curl -LO https://storage.googleapis.com/minikube/releases/latest/minikube-linux-amd64\n",
    "sudo install minikube-linux-amd64 /usr/local/bin/minikube\n",
    "# Start Minikube\n",
    "minikube start"
   ]
  },
  {
   "cell_type": "code",
   "execution_count": null,
   "id": "315853fc-fd84-4602-becf-12253168d48a",
   "metadata": {},
   "outputs": [],
   "source": [
    "!kubectl get all"
   ]
  },
  {
   "cell_type": "code",
   "execution_count": 37,
   "id": "2706ffec-affd-4468-bf86-f3c9fa877aca",
   "metadata": {},
   "outputs": [
    {
     "name": "stdout",
     "output_type": "stream",
     "text": [
      "\"grafana\" already exists with the same configuration, skipping\n",
      "Hang tight while we grab the latest from your chart repositories...\n",
      "...Successfully got an update from the \"grafana\" chart repository\n",
      "Update Complete. ⎈Happy Helming!⎈\n",
      "Release \"grafana-k8s-monitoring\" does not exist. Installing it now.\n",
      "NAME: grafana-k8s-monitoring\n",
      "LAST DEPLOYED: Thu Nov  2 06:46:00 2023\n",
      "NAMESPACE: default\n",
      "STATUS: deployed\n",
      "REVISION: 1\n"
     ]
    }
   ],
   "source": [
    "%%sh\n",
    "helm repo add grafana https://grafana.github.io/helm-charts &&\n",
    "  helm repo update &&\n",
    "  helm upgrade --install grafana-k8s-monitoring grafana/k8s-monitoring \\\n",
    "    --namespace \"default\" --create-namespace --values - <<EOF\n",
    "cluster:\n",
    "  name: my-cluster\n",
    "externalServices:\n",
    "  prometheus:\n",
    "    host: https://prometheus-prod-13-prod-us-east-0.grafana.net\n",
    "    basicAuth:\n",
    "      username: \"1258617\"\n",
    "      password: glc_eyJvIjoiOTc2ODM3IiwibiI6Imt1YmVybmV0ZXMtdG9rZW4iLCJrIjoiOWhHMkw2NVRvU3QyenRLOUJuMzkzOE5aIiwibSI6eyJyIjoicHJvZC11cy1lYXN0LTAifX0=\n",
    "  loki:\n",
    "    host: https://logs-prod-006.grafana.net\n",
    "    basicAuth:\n",
    "      username: \"728354\"\n",
    "      password: glc_eyJvIjoiOTc2ODM3IiwibiI6Imt1YmVybmV0ZXMtdG9rZW4iLCJrIjoiOWhHMkw2NVRvU3QyenRLOUJuMzkzOE5aIiwibSI6eyJyIjoicHJvZC11cy1lYXN0LTAifX0=\n",
    "opencost:\n",
    "  opencost:\n",
    "    exporter:\n",
    "      defaultClusterId: my-cluster\n",
    "    prometheus:\n",
    "      external:\n",
    "        url: https://prometheus-prod-13-prod-us-east-0.grafana.net/api/prom\n",
    "EOF"
   ]
  },
  {
   "cell_type": "code",
   "execution_count": null,
   "id": "da967e28-3b98-4663-99cf-0c5ce3cd1eb2",
   "metadata": {},
   "outputs": [],
   "source": []
  }
 ],
 "metadata": {
  "environment": {
   "kernel": "python3",
   "name": "tf2-cpu.2-11.m112",
   "type": "gcloud",
   "uri": "gcr.io/deeplearning-platform-release/tf2-cpu.2-11:m112"
  },
  "kernelspec": {
   "display_name": "Python 3",
   "language": "python",
   "name": "python3"
  },
  "language_info": {
   "codemirror_mode": {
    "name": "ipython",
    "version": 3
   },
   "file_extension": ".py",
   "mimetype": "text/x-python",
   "name": "python",
   "nbconvert_exporter": "python",
   "pygments_lexer": "ipython3",
   "version": "3.10.12"
  }
 },
 "nbformat": 4,
 "nbformat_minor": 5
}
