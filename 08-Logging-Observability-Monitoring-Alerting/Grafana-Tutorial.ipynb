{
 "cells": [
  {
   "cell_type": "markdown",
   "id": "3ff295e4-7bf3-4375-ac9e-aa0167d49164",
   "metadata": {},
   "source": [
    "# Grafana Cloud Tutorial\n",
    "\n",
    "Reference: grafana.com\n",
    "\n",
    "mattcloudtech.grafana.net"
   ]
  },
  {
   "cell_type": "markdown",
   "id": "04a02d75-6fac-4401-b405-7e0ea9f8e66a",
   "metadata": {},
   "source": [
    "## Linux Node Integration"
   ]
  },
  {
   "cell_type": "markdown",
   "id": "b4f62e12-3834-4943-be31-e6a38b4f7584",
   "metadata": {},
   "source": [
    "### Prerequisites"
   ]
  },
  {
   "cell_type": "code",
   "execution_count": null,
   "id": "de6cfbbd-9ebd-4312-a1cd-3b50888e6ea8",
   "metadata": {},
   "outputs": [],
   "source": [
    "# Create a VM\n",
    "!gcloud compute instances create monitoring --zone us-west1-a"
   ]
  },
  {
   "cell_type": "code",
   "execution_count": null,
   "id": "379a6c39-375d-4b22-b2b9-5e08f610d0df",
   "metadata": {},
   "outputs": [],
   "source": [
    "# SSH\n",
    "# Open in another terminal\n",
    "# gcloud compute ssh --zone \"us-west1-a\" \"monitoring\" --project \"training1029\"\n",
    "# Check Distro: uname -a"
   ]
  },
  {
   "cell_type": "code",
   "execution_count": null,
   "id": "0c21720d-85ec-4dcb-8641-5e155271a4b0",
   "metadata": {},
   "outputs": [],
   "source": [
    "# ?"
   ]
  },
  {
   "cell_type": "markdown",
   "id": "690aa60c-11c8-43b9-903c-eeee4d4a3109",
   "metadata": {},
   "source": [
    "## Kubernetes Monitoring"
   ]
  },
  {
   "cell_type": "markdown",
   "id": "5a5db02e-2d90-404d-83cc-0db8af2592c5",
   "metadata": {},
   "source": [
    "### Prerequisites"
   ]
  },
  {
   "cell_type": "code",
   "execution_count": null,
   "id": "08d99d4c-c2da-4cda-824d-e875a2b3842f",
   "metadata": {},
   "outputs": [],
   "source": [
    "# Kubernetes CLI\n",
    "!kubectl "
   ]
  },
  {
   "cell_type": "code",
   "execution_count": null,
   "id": "0ed9d0be-38f3-4338-bae4-a54d29efa014",
   "metadata": {},
   "outputs": [],
   "source": [
    "%%sh\n",
    "# Install Helm\n",
    "# helm.sh/docs/intro/install\n",
    "wget https://get.helm.sh/helm-v3.13.1-linux-amd64.tar.gz\n",
    "tar -zxvf helm-v3.13.1-linux-amd64.tar.gz\n",
    "sudo mv linux-amd64/helm /usr/local/bin/helm"
   ]
  },
  {
   "cell_type": "code",
   "execution_count": null,
   "id": "a1d17003-284e-49aa-80f8-416c11368c35",
   "metadata": {},
   "outputs": [],
   "source": [
    "!helm"
   ]
  },
  {
   "cell_type": "code",
   "execution_count": null,
   "id": "e52903ce-ddcd-45d4-9304-82504726b543",
   "metadata": {},
   "outputs": [],
   "source": [
    "%%sh\n",
    "# Create a cluster\n",
    "## Install Minkinube\n",
    "curl -LO https://storage.googleapis.com/minikube/releases/latest/minikube-linux-amd64\n",
    "sudo install minikube-linux-amd64 /usr/local/bin/minikube\n",
    "# Start Minikube\n",
    "minikube start"
   ]
  },
  {
   "cell_type": "code",
   "execution_count": null,
   "id": "315853fc-fd84-4602-becf-12253168d48a",
   "metadata": {},
   "outputs": [],
   "source": [
    "!kubectl get all"
   ]
  },
  {
   "cell_type": "code",
   "execution_count": null,
   "id": "2706ffec-affd-4468-bf86-f3c9fa877aca",
   "metadata": {},
   "outputs": [],
   "source": [
    "%%sh\n",
    "helm repo add grafana https://grafana.github.io/helm-charts &&\n",
    "  helm repo update &&\n",
    "  helm upgrade --install grafana-k8s-monitoring grafana/k8s-monitoring \\\n",
    "    --namespace \"default\" --create-namespace --values - <<EOF\n",
    "cluster:\n",
    "  name: my-cluster\n",
    "externalServices:\n",
    "  prometheus:\n",
    "    host: https://prometheus-prod-13-prod-us-east-0.grafana.net\n",
    "    basicAuth:\n",
    "      username: \"1258617\"\n",
    "      password: glc_eyJvIjoiOTc2ODM3IiwibiI6Imt1YmVybmV0ZXMtdG9rZW4iLCJrIjoiOWhHMkw2NVRvU3QyenRLOUJuMzkzOE5aIiwibSI6eyJyIjoicHJvZC11cy1lYXN0LTAifX0=\n",
    "  loki:\n",
    "    host: https://logs-prod-006.grafana.net\n",
    "    basicAuth:\n",
    "      username: \"728354\"\n",
    "      password: glc_eyJvIjoiOTc2ODM3IiwibiI6Imt1YmVybmV0ZXMtdG9rZW4iLCJrIjoiOWhHMkw2NVRvU3QyenRLOUJuMzkzOE5aIiwibSI6eyJyIjoicHJvZC11cy1lYXN0LTAifX0=\n",
    "opencost:\n",
    "  opencost:\n",
    "    exporter:\n",
    "      defaultClusterId: my-cluster\n",
    "    prometheus:\n",
    "      external:\n",
    "        url: https://prometheus-prod-13-prod-us-east-0.grafana.net/api/prom\n",
    "EOF"
   ]
  },
  {
   "cell_type": "code",
   "execution_count": null,
   "id": "da967e28-3b98-4663-99cf-0c5ce3cd1eb2",
   "metadata": {},
   "outputs": [],
   "source": [
    "!kubectl top "
   ]
  },
  {
   "cell_type": "code",
   "execution_count": null,
   "id": "39ea7109-fe61-4208-b051-a15a4c7ee763",
   "metadata": {},
   "outputs": [],
   "source": [
    "!kubectl get pods "
   ]
  },
  {
   "cell_type": "code",
   "execution_count": null,
   "id": "1d21965a-7d3c-4923-bd84-99ddb48c9f83",
   "metadata": {},
   "outputs": [],
   "source": [
    "!kubectl get deployments"
   ]
  },
  {
   "cell_type": "code",
   "execution_count": null,
   "id": "508f0189-5287-4a50-b3eb-7742a556908f",
   "metadata": {},
   "outputs": [],
   "source": [
    "!kubectl get nodes"
   ]
  },
  {
   "cell_type": "code",
   "execution_count": null,
   "id": "4757694c-339f-44e6-9e9b-a9adc4bce651",
   "metadata": {},
   "outputs": [],
   "source": [
    "!kubectl get all "
   ]
  },
  {
   "cell_type": "code",
   "execution_count": null,
   "id": "5ab0d1b3-9efa-4d7f-ab57-8d68638ce965",
   "metadata": {},
   "outputs": [],
   "source": [
    "!kubectl get namespaces"
   ]
  },
  {
   "cell_type": "code",
   "execution_count": null,
   "id": "35076761-be7f-4b4f-beca-12917e91b557",
   "metadata": {},
   "outputs": [],
   "source": [
    "### To test this let's build an app"
   ]
  },
  {
   "cell_type": "code",
   "execution_count": null,
   "id": "603b918f-f24d-4e40-910f-1f2c93fe73e4",
   "metadata": {},
   "outputs": [],
   "source": [
    "!pip install streamlit -q"
   ]
  },
  {
   "cell_type": "code",
   "execution_count": null,
   "id": "1a969668-662f-4e18-851f-139acff55458",
   "metadata": {},
   "outputs": [],
   "source": [
    "%%writefile app.py\n",
    "import streamlit as st\n",
    "st.text(\"A simple app.\") "
   ]
  },
  {
   "cell_type": "code",
   "execution_count": null,
   "id": "60434356-d6aa-4b07-83f8-2ce4e7cd2062",
   "metadata": {},
   "outputs": [],
   "source": [
    "# On GCp, create a new firewall TCP:8501\n",
    "!streamlit run app.py --server.address \"0.0.0.0\""
   ]
  },
  {
   "cell_type": "code",
   "execution_count": null,
   "id": "7a3b9566-295a-4f90-9e1a-af3dbfc209da",
   "metadata": {},
   "outputs": [],
   "source": [
    "%%writefile Dockerfile\n",
    "FROM python\n",
    "WORKDIR /app\n",
    "COPY . /app\n",
    "RUN pip install streamlit -q\n",
    "EXPOSE 8501\n",
    "CMD [\"streamlit\", \"run\", \"app.py\", \"--server.address\", \"0.0.0.0\"]"
   ]
  },
  {
   "cell_type": "code",
   "execution_count": null,
   "id": "091e25cb-4974-49c8-b52f-825b763ba52f",
   "metadata": {},
   "outputs": [],
   "source": [
    "!docker build -t simple-app ."
   ]
  },
  {
   "cell_type": "code",
   "execution_count": null,
   "id": "bcf9b0db-e679-4196-a80f-180cdd0f0c6b",
   "metadata": {},
   "outputs": [],
   "source": [
    "!docker images"
   ]
  },
  {
   "cell_type": "code",
   "execution_count": null,
   "id": "1665b461-d307-40ba-b50e-748465766212",
   "metadata": {},
   "outputs": [],
   "source": [
    "!docker run -p 8501:8501 --name simple-app-container simple-app "
   ]
  },
  {
   "cell_type": "markdown",
   "id": "49b7758f-3ba2-4432-b581-fc7a59991525",
   "metadata": {},
   "source": [
    "### (Option 1) Push to Artifact Registry "
   ]
  },
  {
   "cell_type": "code",
   "execution_count": null,
   "id": "0a3b3484-3ab0-4dfb-b202-ad53edc46522",
   "metadata": {},
   "outputs": [],
   "source": [
    "%%sh\n",
    "# Create a Docker repository in Artifact Registry\n",
    "gcloud artifacts repositories create docker-repo \\\n",
    "    --repository-format=docker \\\n",
    "    --location=us-west2 \\\n",
    "    --description=\"Docker repository\""
   ]
  },
  {
   "cell_type": "code",
   "execution_count": null,
   "id": "afb014a6-aab3-42c7-b7d0-77466adf0ab0",
   "metadata": {},
   "outputs": [],
   "source": [
    "!gcloud builds submit \\\n",
    "    --region=us-west2 \\\n",
    "    --tag us-west2-docker.pkg.dev/$(gcloud config get-value project)/docker-repo/simple-app:tag1"
   ]
  },
  {
   "cell_type": "markdown",
   "id": "8d69f9e4-dbe3-4497-9497-d95f73e23a45",
   "metadata": {},
   "source": [
    "### (Option 2) Push to Docker Hub\n",
    "\n",
    "Reference: hub.docker.com"
   ]
  },
  {
   "cell_type": "code",
   "execution_count": null,
   "id": "05a5a986-47d1-4cb1-a56d-9c46ab73ea58",
   "metadata": {},
   "outputs": [],
   "source": [
    "# docker login"
   ]
  },
  {
   "cell_type": "code",
   "execution_count": null,
   "id": "3fe68002-7441-43be-b6c6-1f43f055980b",
   "metadata": {},
   "outputs": [],
   "source": [
    "!docker build -t <DOCKER_HUB_ID>/simple_app ."
   ]
  },
  {
   "cell_type": "code",
   "execution_count": null,
   "id": "d35a2b2d-4bd8-4f9b-a10c-10c1ac702199",
   "metadata": {},
   "outputs": [],
   "source": [
    "!docker push <DOCKER_HUB_ID>/simple_app"
   ]
  },
  {
   "cell_type": "markdown",
   "id": "8bce80e5-9049-4bed-8981-83109a97380a",
   "metadata": {},
   "source": [
    "### Kubernetes Deployment and Service"
   ]
  },
  {
   "cell_type": "code",
   "execution_count": null,
   "id": "08e5943a-49bf-4639-86da-5546d33ecad2",
   "metadata": {},
   "outputs": [],
   "source": [
    "# Kubernetes"
   ]
  },
  {
   "cell_type": "code",
   "execution_count": null,
   "id": "0768f3e1-273f-4c77-a60c-7e15b6261df8",
   "metadata": {},
   "outputs": [],
   "source": [
    "!kubectl create namespace simple-app-namespace"
   ]
  },
  {
   "cell_type": "code",
   "execution_count": null,
   "id": "83c88048-799f-4b70-87dd-f5addd805b8c",
   "metadata": {},
   "outputs": [],
   "source": [
    "!kubectl get all --namespace simple-app"
   ]
  },
  {
   "cell_type": "code",
   "execution_count": null,
   "id": "a11e9a7d-3bf3-4503-a237-fa624e0a1fc1",
   "metadata": {},
   "outputs": [],
   "source": [
    "!kubectl run simple-app --image=<DOCKER_HUB_ID>/simple_app"
   ]
  },
  {
   "cell_type": "code",
   "execution_count": null,
   "id": "b8bffd3c-c308-46c9-a20f-7332a82fb8e3",
   "metadata": {},
   "outputs": [],
   "source": [
    "!kubectl expose pod/simple-app --port 8501"
   ]
  },
  {
   "cell_type": "code",
   "execution_count": null,
   "id": "3cfa06f0-12b5-4339-a70e-4e4167be5fce",
   "metadata": {},
   "outputs": [],
   "source": [
    "!kubectl get services "
   ]
  },
  {
   "cell_type": "code",
   "execution_count": null,
   "id": "6fcbaab4-a3e5-4f80-bd45-4d642a87253a",
   "metadata": {},
   "outputs": [],
   "source": [
    "!kubectl port-forward service/simple-app 8501:8501 --address \"0.0.0.0\""
   ]
  },
  {
   "cell_type": "code",
   "execution_count": null,
   "id": "82e7ee2e-1262-4313-b2fd-33d10ead8601",
   "metadata": {},
   "outputs": [],
   "source": []
  }
 ],
 "metadata": {
  "environment": {
   "kernel": "python3",
   "name": "tf2-cpu.2-11.m112",
   "type": "gcloud",
   "uri": "gcr.io/deeplearning-platform-release/tf2-cpu.2-11:m112"
  },
  "kernelspec": {
   "display_name": "Python 3",
   "language": "python",
   "name": "python3"
  },
  "language_info": {
   "codemirror_mode": {
    "name": "ipython",
    "version": 3
   },
   "file_extension": ".py",
   "mimetype": "text/x-python",
   "name": "python",
   "nbconvert_exporter": "python",
   "pygments_lexer": "ipython3",
   "version": "3.10.12"
  }
 },
 "nbformat": 4,
 "nbformat_minor": 5
}
