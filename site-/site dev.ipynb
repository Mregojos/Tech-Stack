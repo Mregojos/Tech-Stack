{
 "cells": [
  {
   "cell_type": "markdown",
   "id": "f0f91593-e3e4-49e5-ad52-43b38f0f7f05",
   "metadata": {},
   "source": [
    "# Site App Dev\n",
    "\n",
    "For development"
   ]
  },
  {
   "cell_type": "markdown",
   "id": "dffed7bd-99cf-4d37-85ba-d62d1c170c03",
   "metadata": {
    "jp-MarkdownHeadingCollapsed": true,
    "tags": []
   },
   "source": [
    "## Database"
   ]
  },
  {
   "cell_type": "markdown",
   "id": "05b9c99c-2e5d-4bbf-81f2-ee4bee0e3ff7",
   "metadata": {
    "tags": []
   },
   "source": [
    "### Create a database server using Docker"
   ]
  },
  {
   "cell_type": "markdown",
   "id": "5501b9d9-edd7-4c49-a60b-94ddb8be2526",
   "metadata": {
    "jp-MarkdownHeadingCollapsed": true,
    "tags": []
   },
   "source": [
    "#### Postgres Docker"
   ]
  },
  {
   "cell_type": "code",
   "execution_count": null,
   "id": "9ba62984-c0a2-49af-a29f-127cefc90f6c",
   "metadata": {},
   "outputs": [],
   "source": [
    "# Without volume/data connected\n",
    "# !docker run --name postgres-sql -e POSTGRES_USER=matt -e POSTGRES_PASSWORD=password  -d postgres"
   ]
  },
  {
   "cell_type": "code",
   "execution_count": null,
   "id": "ce07382b-6eb6-4de6-b34c-67e3d3d6f0ca",
   "metadata": {},
   "outputs": [],
   "source": [
    "# With volume/data connected\n",
    "!docker run -d \\\n",
    "    --name postgres-sql \\\n",
    "    -e POSTGRES_USER=matt \\\n",
    "    -e POSTGRES_PASSWORD=password \\\n",
    "    -v $(pwd)/data/:/var/lib/postgresql/data/ \\\n",
    "    -p 5000:5432 \\\n",
    "    postgres"
   ]
  },
  {
   "cell_type": "code",
   "execution_count": null,
   "id": "e804e316-d06d-4468-bebc-82df92563b74",
   "metadata": {},
   "outputs": [],
   "source": [
    "!docker ps"
   ]
  },
  {
   "cell_type": "code",
   "execution_count": null,
   "id": "e21f2874-b6c0-41e0-8751-fbf3f2dd113d",
   "metadata": {},
   "outputs": [],
   "source": [
    "!ls -a"
   ]
  },
  {
   "cell_type": "code",
   "execution_count": null,
   "id": "19f3d400-4dd8-4342-9582-e8cb725ab2d7",
   "metadata": {},
   "outputs": [],
   "source": [
    "# Check the data\n",
    "# In a terminal\n",
    "# sudo su\n",
    "# cd $(pwd)/data/\n",
    "# ls -a"
   ]
  },
  {
   "cell_type": "code",
   "execution_count": null,
   "id": "bf2936ee-6924-4cf9-8760-c1ebe6e0d67c",
   "metadata": {},
   "outputs": [],
   "source": [
    "# Test the data of the DB\n",
    "# docker rm -f <CONTAINER_ID>\n",
    "# run the docker run <...>\n",
    "# check the pgAdmin\n",
    "# the data persists"
   ]
  },
  {
   "cell_type": "markdown",
   "id": "7b9c789c-08fe-4dce-a30f-82898b81c4bd",
   "metadata": {
    "jp-MarkdownHeadingCollapsed": true,
    "tags": []
   },
   "source": [
    "#### pgAdmin"
   ]
  },
  {
   "cell_type": "code",
   "execution_count": null,
   "id": "04620fde-561c-478b-a0b4-1549368d89a9",
   "metadata": {},
   "outputs": [],
   "source": [
    "!docker run -p 8000:80 \\\n",
    "    -e 'PGADMIN_DEFAULT_EMAIL=matt@example.com' \\\n",
    "    -e 'PGADMIN_DEFAULT_PASSWORD=password' \\\n",
    "    -d dpage/pgadmin4"
   ]
  },
  {
   "cell_type": "code",
   "execution_count": null,
   "id": "f10896ff-79b5-450f-81db-db77a548b515",
   "metadata": {},
   "outputs": [],
   "source": [
    "!docker ps"
   ]
  },
  {
   "cell_type": "markdown",
   "id": "04d9ba33-1594-47c8-b244-4915fbe1899e",
   "metadata": {
    "jp-MarkdownHeadingCollapsed": true,
    "tags": []
   },
   "source": [
    "#### Create a firewall (GCP)"
   ]
  },
  {
   "cell_type": "code",
   "execution_count": null,
   "id": "2641bcb1-fb7c-4f45-a664-f1d95bea3923",
   "metadata": {},
   "outputs": [],
   "source": [
    "!gcloud compute --project=$(gcloud config get project) firewall-rules create ports \\\n",
    "    --direction=INGRESS --priority=1000 --network=default --action=ALLOW --rules=tcp:5000,tcp:8000,tcp:8501,tcp:9000 --source-ranges=0.0.0.0/0"
   ]
  },
  {
   "cell_type": "markdown",
   "id": "def0e4b7-3391-415c-a389-a99a8cdddca7",
   "metadata": {
    "jp-MarkdownHeadingCollapsed": true,
    "tags": []
   },
   "source": [
    "#### Open pgAdmin Browser"
   ]
  },
  {
   "cell_type": "code",
   "execution_count": null,
   "id": "3ebb9d55-3f38-470a-ae2f-45d58aed7066",
   "metadata": {},
   "outputs": [],
   "source": [
    "# http://<IP_ADDRESS>:<PORT>\n",
    "# Login with credentials\n",
    "\n",
    "# Register Server\n",
    "# HOST: <IP_ADDRESS>\n",
    "# PORT: 5000\n",
    "# USER: <POSTGRES_USER>\n",
    "# PASSWORD: <PASSWORD>"
   ]
  },
  {
   "cell_type": "code",
   "execution_count": null,
   "id": "86447d9f-ddb7-4b8f-934c-8612f14c9e8b",
   "metadata": {},
   "outputs": [],
   "source": []
  },
  {
   "cell_type": "markdown",
   "id": "2ff68659-7e98-42c7-9a9b-b910789d014c",
   "metadata": {
    "jp-MarkdownHeadingCollapsed": true,
    "tags": []
   },
   "source": [
    "## Application"
   ]
  },
  {
   "cell_type": "code",
   "execution_count": null,
   "id": "b1a38ed9-1811-4928-9f51-99366f22b62d",
   "metadata": {},
   "outputs": [],
   "source": [
    "!mkdir site-app-dev"
   ]
  },
  {
   "cell_type": "code",
   "execution_count": null,
   "id": "60dc7ca3-9dbd-4a1a-af9a-151e9f74629d",
   "metadata": {},
   "outputs": [],
   "source": [
    "cd site-app-dev"
   ]
  },
  {
   "cell_type": "code",
   "execution_count": null,
   "id": "9a7fa325-aa8d-4ced-9d6f-ca44d30917d7",
   "metadata": {},
   "outputs": [],
   "source": [
    "%%writefile env.py\n",
    "# DB Credentials\n",
    "DBNAME=\"matt\"\n",
    "USER='matt'\n",
    "HOST= ''\n",
    "PORT='5000'\n",
    "PASSWORD='password'"
   ]
  },
  {
   "cell_type": "raw",
   "id": "5abab5a1-deb9-489c-a45c-cc8f53361585",
   "metadata": {},
   "source": [
    "%%writefile app.py\n",
    "# Import libraries\n",
    "import streamlit as st\n",
    "import psycopg2\n",
    "import os\n",
    "import time\n",
    "import vertexai\n",
    "from vertexai.language_models import TextGenerationModel\n",
    "from env import *\n",
    "\n",
    "#----------Page Configuration----------# \n",
    "st.set_page_config(page_title=\"Matt Cloud Tech\",\n",
    "                   page_icon=\":cloud:\",\n",
    "                   menu_items={\n",
    "                       'About':\"# Matt Cloud Tech Version 4\"})\n",
    "\n",
    "#----------About Me Section----------#\n",
    "st.title(\":cloud: Matt Cloud Tech v4\")\n",
    "st.header(\"\", divider=\"rainbow\")\n",
    "\n",
    "st.write(\"\"\"\n",
    "        ### Good day :wave:.\n",
    "        ### My name is :blue[Matt]. I am a Cloud Technology Enthusiast.\n",
    "        ### Currently, I am learning and building Cloud Infrastructure, Data and CI/CD Pipelines, and Intelligent Systems. \n",
    "        \"\"\") \n",
    "st.divider()\n",
    "st.write(\":link: :computer: [Personal Website](https://)\")\n",
    "st.write(\":link: :book: [Project Repository](https://)\")\n",
    "st.write(\":link: :notebook: [Blog](https://)\")\n",
    "st.write(\":link: :hand: [Connect with me](https://)\")\n",
    "#----------End of About Me Section----------#\n",
    "\n",
    "#----------Portfolio Section----------#\n",
    "st.header(\"Project Collections\",divider=\"rainbow\")\n",
    "\n",
    "st.write(\"#### :link: [PROJECT TITLE #1](https://)\")\n",
    "st.caption(\"Caption\")\n",
    "# with st.expander(f\"Learn more\"):\n",
    "#    st.write(\"Description\")\n",
    "    \n",
    "st.divider()\n",
    "\n",
    "st.write(\"#### :link: [PROJECT TITLE #2](https://)\")\n",
    "st.caption(\"Caption\")\n",
    "# with st.expander(f\"Learn more\"):\n",
    "#    st.write(\"Description\")\n",
    "st.divider()\n",
    "\n",
    "#----------End of Portfolio Section----------#\n",
    "\n",
    "#----------Notepad Section----------#\n",
    "st.header(\"Notepad :notebook:\",divider=\"rainbow\")\n",
    "st.caption(\"\"\"\n",
    "            Add your thoughts here! It will be stored in a database! \\n\n",
    "            :warning: :red[Do not add sensitive data.]\n",
    "            \"\"\")\n",
    "# Connect to a database\n",
    "con = psycopg2.connect(f\"\"\"\n",
    "                       dbname={DBNAME}\n",
    "                       user={USER}\n",
    "                       host={HOST}\n",
    "                       port={PORT}\n",
    "                       password={PASSWORD}\n",
    "                       \"\"\")\n",
    "cur = con.cursor()\n",
    "\n",
    "# Create a table if not exists\n",
    "cur.execute(\"CREATE TABLE IF NOT EXISTS notes(id serial PRIMARY KEY, name varchar, header varchar, note varchar, time varchar)\")\n",
    "con.commit()\n",
    "\n",
    "# Inputs\n",
    "name = st.text_input(\"Your Name\")\n",
    "header = st.text_input(\"Header\")\n",
    "note = st.text_area(\"Note\")\n",
    "if st.button(\"Add a note\"):\n",
    "    time = time.strftime(\"Date: %Y-%m-%d | Time: %H:%M:%S UTC\")\n",
    "    st.write(f\"\"\" \\n\n",
    "            ##### :pencil: {header} \\n\n",
    "            #### {note} \\n\n",
    "            :man: {name} \\n\"\"\")\n",
    "    st.caption(f\":watch: {time}\")\n",
    "    st.success(\"Successfully Added.\")\n",
    "    # st.balloons()\n",
    "    ### Insert into adatabase\n",
    "    SQL = \"INSERT INTO notes (name, header, note, time) VALUES(%s, %s, %s, %s);\"\n",
    "    data = (name, header, note, time)\n",
    "    cur.execute(SQL, data)\n",
    "    con.commit()\n",
    "    \n",
    "# Previous Notes \n",
    "st.divider()\n",
    "st.write(\"### *Previous Notes*\")\n",
    "# Write the data\n",
    "cur.execute(\"\"\"\n",
    "            SELECT * \n",
    "            FROM notes\n",
    "            ORDER BY time DESC\n",
    "            \"\"\")\n",
    "for id, name, header, note, time in cur.fetchall():\n",
    "    st.write(f\"\"\" \\n\n",
    "            ##### :pencil: {header} \\n\n",
    "            #### {note} \\n\n",
    "            :man: {name} \\n\"\"\")\n",
    "    st.caption(f\":watch: {time}\")\n",
    "\n",
    "    with st.expander(f\"Edit or Delete (ID #: {id})\"):\n",
    "        name = st.text_input(f\"Your Name (ID #: {id})\", name)\n",
    "        header = st.text_input(f\"Header (ID #: {id})\", header)\n",
    "        note = st.text_area(f\"Note (ID #: {id})\", note)\n",
    "        if st.button(f\"UPDATE ID #: {id}\"):\n",
    "            SQL = \" UPDATE notes SET id=%s, name=%s, header=%s, note=%s WHERE id = %s\"\n",
    "            data = (id, name, header, note, id)\n",
    "            cur.execute(SQL, data)\n",
    "            con.commit()\n",
    "            st.success(\"Successfully Edited.\")\n",
    "        if st.button(f\"DELETE ID #: {id}\"):\n",
    "            cur.execute(f\"DELETE FROM notes WHERE id = {id}\")\n",
    "            con.commit()\n",
    "            st.success(\"Successfully Deleted.\")\n",
    "    st.subheader(\"\",divider=\"gray\")\n",
    "    \n",
    "# Close Connection\n",
    "cur.close()\n",
    "con.close()\n",
    "#----------End of Notepad Section----------#\n",
    "\n",
    "#----------Counter----------#\n",
    "st.header(\"Counter\")\n",
    "st.caption(\"\"\"\n",
    "            Count every request in this app.\n",
    "            \"\"\")\n",
    "st.subheader(\"\",divider=\"rainbow\")\n",
    "\n",
    "con = psycopg2.connect(f\"\"\"\n",
    "                       dbname={DBNAME}\n",
    "                       user={USER}\n",
    "                       host={HOST}\n",
    "                       port={PORT}\n",
    "                       password={PASSWORD}\n",
    "                       \"\"\")\n",
    "cur = con.cursor()\n",
    "# Create a table if not exists\n",
    "cur.execute(\"CREATE TABLE IF NOT EXISTS counter(id serial PRIMARY KEY, view int, time varchar)\")\n",
    "con.commit()\n",
    "\n",
    "# Counter\n",
    "import time\n",
    "time = time.strftime(\"Date: %Y-%m-%d | Time: %H:%M:%S UTC\")\n",
    "view = 1\n",
    "### Insert into a database\n",
    "SQL = \"INSERT INTO counter (view, time) VALUES(%s, %s);\"\n",
    "data = (view, time)\n",
    "cur.execute(SQL, data)\n",
    "con.commit()\n",
    "\n",
    "# Total views\n",
    "cur.execute(\"\"\"\n",
    "            SELECT SUM(view) \n",
    "            FROM counter\n",
    "            \"\"\")\n",
    "st.write(f\"### Total views: **{cur.fetchone()[0]}**\")\n",
    "\n",
    "# Current view\n",
    "st.write(f\"Current: {time}\")\n",
    "# Previous views\n",
    "st.divider()\n",
    "with st.expander(\"See Previous Views\"):\n",
    "    st.write(\"**Previous Views**\")\n",
    "    cur.execute(\"\"\"\n",
    "                SELECT * \n",
    "                FROM counter\n",
    "                ORDER BY time DESC\n",
    "                \"\"\")\n",
    "    for _, _, time in cur.fetchall():\n",
    "        st.text(f\"{time}\")\n",
    "    \n",
    "# Close Connection\n",
    "cur.close()\n",
    "con.close()\n",
    "#----------End of Counter----------#\n",
    "\n",
    "#----------Agent Section----------#\n",
    "#----------Vertex AI----------#\n",
    "vertexai.init(project=\"matt-project-training\", location=\"us-central1\")\n",
    "parameters = {\n",
    "    \"candidate_count\": 1,\n",
    "    \"max_output_tokens\": 1024,\n",
    "    \"temperature\": 0.2,\n",
    "    \"top_p\": 0.8,\n",
    "    \"top_k\": 40\n",
    "}\n",
    "model = TextGenerationModel.from_pretrained(\"text-bison\")\n",
    "\n",
    "# response = model.predict(\n",
    "#    \"\"\"Hi\"\"\",\n",
    "#    **parameters\n",
    "# )\n",
    "# st.write(f\"Response from Model: {response.text}\")\n",
    "\n",
    "#----------End of Vertex AI----------#\n",
    "import time\n",
    "st.header(\":computer: Agent :construction:\",divider=\"rainbow\")\n",
    "st.caption(\"### Chat with my agent (still under construction)\")\n",
    "st.write(f\":violet[Your chat will be stored in a database, so use the same name to see your past conversations]\")\n",
    "st.caption(\":warning: :red[Do not add sensitive data.]\")\n",
    "\n",
    "\n",
    "               \n",
    "# Variable\n",
    "database_name = DBNAME\n",
    "# Connect to a database\n",
    "con = psycopg2.connect(f\"\"\"\n",
    "                       dbname={DBNAME}\n",
    "                       user={USER}\n",
    "                       host={HOST}\n",
    "                       port={PORT}\n",
    "                       password={PASSWORD}\n",
    "                       \"\"\")\n",
    "cur = con.cursor()\n",
    "# Create a table if not exists\n",
    "cur.execute(\"CREATE TABLE IF NOT EXISTS chats(id serial PRIMARY KEY, name varchar, prompt varchar, output varchar, time varchar)\")\n",
    "con.commit()\n",
    "\n",
    "# Prompt\n",
    "input_name = st.text_input(\"Your Name:\")\n",
    "agent = st.toggle(\"**Let's go**\")\n",
    "if agent:\n",
    "    st.write(f\"Your name for this chat is :blue[{input_name}]\")\n",
    "    prompt = st.chat_input(\"Talk to my agent\")\n",
    "    if prompt:\n",
    "        time = time.strftime(\"Date: %Y-%m-%d | Time: %H:%M:%S UTC\")\n",
    "        message = st.chat_message(\"user\")\n",
    "        message.write(f\":blue[{input_name}]: {prompt}\")\n",
    "        message.caption(f\"{time}\")\n",
    "        message = st.chat_message(\"assistant\")\n",
    "        response = model.predict(prompt,\n",
    "            **parameters\n",
    "        )\n",
    "        output = response.text\n",
    "        message.write(output)\n",
    "        message.caption(f\"{time}\")\n",
    "        st.divider()\n",
    "\n",
    "        ### Insert into a database\n",
    "        SQL = \"INSERT INTO chats (name, prompt, output, time) VALUES(%s, %s, %s, %s);\"\n",
    "        data = (input_name, prompt, output, time)\n",
    "        cur.execute(SQL, data)\n",
    "        con.commit()\n",
    "\n",
    "\n",
    "    with st.expander(f\"See Previous Conversation for {input_name}\"):\n",
    "        cur.execute(f\"\"\"\n",
    "                    SELECT * \n",
    "                    FROM chats\n",
    "                    WHERE name='{input_name}'\n",
    "                    ORDER BY time ASC\n",
    "                    \"\"\")\n",
    "        for id, name, prompt, output, time in cur.fetchall():\n",
    "            message = st.chat_message(\"user\")\n",
    "            message.write(f\":blue[{name}]: {prompt}\")\n",
    "            message.caption(f\"{time}\")\n",
    "            message = st.chat_message(\"assistant\")\n",
    "            message.write(output)\n",
    "            message.caption(f\"{time}\")\n",
    "# Close Connection\n",
    "cur.close()\n",
    "con.close()\n",
    "#----------End of Agent Section----------#"
   ]
  },
  {
   "cell_type": "raw",
   "id": "0c84f31e-ae7b-4112-8181-1ed53c007c9b",
   "metadata": {},
   "source": [
    "%%writefile Dockerfile\n",
    "FROM python\n",
    "WORKDIR /app\n",
    "RUN pip install streamlit psycopg2-binary google-cloud-aiplatform -q\n",
    "COPY . /app\n",
    "EXPOSE 9000\n",
    "CMD [\"streamlit\", \"run\", \"app.py\", \"--server.address\", \"0.0.0.0\", \"--server.port\", \"9000\"]"
   ]
  },
  {
   "cell_type": "markdown",
   "id": "5c481886-2d03-4d30-be4e-d225d403fc7e",
   "metadata": {},
   "source": [
    "### Build an image locally"
   ]
  },
  {
   "cell_type": "code",
   "execution_count": null,
   "id": "14c0051c-10bd-4369-b818-0acb42bda867",
   "metadata": {},
   "outputs": [],
   "source": [
    "!pwd"
   ]
  },
  {
   "cell_type": "code",
   "execution_count": null,
   "id": "0786778f-d8d7-4e0c-848f-16010fb6330e",
   "metadata": {},
   "outputs": [],
   "source": [
    "!docker build -t app . -q"
   ]
  },
  {
   "cell_type": "code",
   "execution_count": null,
   "id": "dd7998c6-4c88-46b2-9007-e7428454031a",
   "metadata": {},
   "outputs": [],
   "source": [
    "# List images\n",
    "!docker images"
   ]
  },
  {
   "cell_type": "code",
   "execution_count": null,
   "id": "91165191-ef0a-4a4b-a83b-590b09bd0b2c",
   "metadata": {},
   "outputs": [],
   "source": [
    "# Run the app in detached mode\n",
    "!docker run -d -p 9000:9000 -v $(pwd):/app --name app app"
   ]
  },
  {
   "cell_type": "code",
   "execution_count": null,
   "id": "0076d2c8-8f51-4168-bc17-be9cfa12e155",
   "metadata": {},
   "outputs": [],
   "source": [
    "!docker ps -a"
   ]
  },
  {
   "cell_type": "code",
   "execution_count": null,
   "id": "f637615b-7b18-4c57-82c7-566e615d7e0f",
   "metadata": {},
   "outputs": [],
   "source": [
    "# Remove all docker ps\n",
    "# !docker rm -f $(docker ps -aq)"
   ]
  },
  {
   "cell_type": "code",
   "execution_count": null,
   "id": "e8b4157e-f9e1-4ad4-9dc3-d843acd95278",
   "metadata": {},
   "outputs": [],
   "source": [
    "!docker rm -f app"
   ]
  },
  {
   "cell_type": "markdown",
   "id": "4bed33b5-720f-41ac-a2c5-cb8aa3ed2606",
   "metadata": {
    "jp-MarkdownHeadingCollapsed": true,
    "tags": []
   },
   "source": [
    "## Deployment"
   ]
  },
  {
   "cell_type": "markdown",
   "id": "a3c7066b-1737-4452-8d75-d597ec538001",
   "metadata": {
    "tags": []
   },
   "source": [
    "### Deploy using Cloud Build, Artifact Registry, and Cloud Run"
   ]
  },
  {
   "cell_type": "code",
   "execution_count": null,
   "id": "85a62e77-43ac-42a5-9f08-203be20120ae",
   "metadata": {},
   "outputs": [],
   "source": [
    "%%sh\n",
    "# Create a Docker repository in Artifact Registry\n",
    "gcloud artifacts repositories create simple-app \\\n",
    "    --repository-format=docker \\\n",
    "    --location=us-west2 \\\n",
    "    --description=\"Docker repository\""
   ]
  },
  {
   "cell_type": "code",
   "execution_count": null,
   "id": "3ad4d1f0-5386-484f-acb6-162921430720",
   "metadata": {},
   "outputs": [],
   "source": [
    "%%sh\n",
    "# Verify\n",
    "gcloud artifacts repositories list"
   ]
  },
  {
   "cell_type": "markdown",
   "id": "df898955-e45f-4516-9c27-b57396063d1e",
   "metadata": {},
   "source": [
    "### Build an image using Dockerfile"
   ]
  },
  {
   "cell_type": "code",
   "execution_count": null,
   "id": "dc7c8dda-7078-4541-ae2f-383374c654a6",
   "metadata": {},
   "outputs": [],
   "source": [
    "# Check if the path is correct\n",
    "!pwd"
   ]
  },
  {
   "cell_type": "code",
   "execution_count": null,
   "id": "fc40f875-f7c9-46e5-b0bc-af0933efc7d3",
   "metadata": {},
   "outputs": [],
   "source": [
    "cd cloud-run-test-v2"
   ]
  },
  {
   "cell_type": "code",
   "execution_count": null,
   "id": "bbc5edce-f2a5-4ac3-8525-fcaeb7550009",
   "metadata": {},
   "outputs": [],
   "source": [
    "!gcloud builds submit \\\n",
    "    --region=us-west2 \\\n",
    "    --tag us-west2-docker.pkg.dev/$(gcloud config get-value project)/simple-app/simple-app:tag6"
   ]
  }
 ],
 "metadata": {
  "environment": {
   "kernel": "python3",
   "name": "tf2-cpu.2-11.m112",
   "type": "gcloud",
   "uri": "gcr.io/deeplearning-platform-release/tf2-cpu.2-11:m112"
  },
  "kernelspec": {
   "display_name": "Python 3",
   "language": "python",
   "name": "python3"
  },
  "language_info": {
   "codemirror_mode": {
    "name": "ipython",
    "version": 3
   },
   "file_extension": ".py",
   "mimetype": "text/x-python",
   "name": "python",
   "nbconvert_exporter": "python",
   "pygments_lexer": "ipython3",
   "version": "3.10.12"
  }
 },
 "nbformat": 4,
 "nbformat_minor": 5
}
