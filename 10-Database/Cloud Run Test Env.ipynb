{
 "cells": [
  {
   "cell_type": "markdown",
   "id": "317cf86d-6e5f-4827-88e7-410e3a9f236c",
   "metadata": {},
   "source": [
    "# Cloud Run Test Env"
   ]
  },
  {
   "cell_type": "markdown",
   "id": "059fff4f-66ba-404c-b6f7-27ddaacfd8d7",
   "metadata": {
    "jp-MarkdownHeadingCollapsed": true,
    "tags": []
   },
   "source": [
    "# Cloud Run Test Env Simple App"
   ]
  },
  {
   "cell_type": "code",
   "execution_count": null,
   "id": "04179eb7-ef86-4135-b371-e6d50ca0584f",
   "metadata": {},
   "outputs": [],
   "source": [
    "# Simple App"
   ]
  },
  {
   "cell_type": "code",
   "execution_count": null,
   "id": "3e149f27-be8c-4419-8344-dd6ab0001e4a",
   "metadata": {},
   "outputs": [],
   "source": [
    "!mkdir cloud-run-test-env"
   ]
  },
  {
   "cell_type": "code",
   "execution_count": null,
   "id": "9efb9a99-a378-4bda-90a3-0b38534e851f",
   "metadata": {},
   "outputs": [],
   "source": [
    "cd cloud-run-test-env"
   ]
  },
  {
   "cell_type": "code",
   "execution_count": null,
   "id": "27467264-ff13-47cf-8302-424a9fa3c1ae",
   "metadata": {},
   "outputs": [],
   "source": [
    "%%writefile env.py\n",
    "NAME=\"Matt\""
   ]
  },
  {
   "cell_type": "code",
   "execution_count": null,
   "id": "78a16d54-664d-443c-8e12-9e7d1bd55a97",
   "metadata": {},
   "outputs": [],
   "source": [
    "%%writefile app.py\n",
    "import streamlit as st\n",
    "from env import *\n",
    "import os\n",
    "\n",
    "st.write(\"It's working.\")\n",
    "st.write(NAME)\n",
    "st.write(os.getenv(\"NAME\"))\n",
    "st.write(os.environ.get(\"NAME\"))"
   ]
  },
  {
   "cell_type": "code",
   "execution_count": null,
   "id": "7c54a11a-9fb2-4a0d-9000-8ce7cbf92803",
   "metadata": {},
   "outputs": [],
   "source": [
    "%%writefile Dockerfile\n",
    "FROM python\n",
    "WORKDIR /app\n",
    "RUN pip install streamlit -q\n",
    "COPY . /app\n",
    "EXPOSE 9000\n",
    "CMD [\"streamlit\", \"run\", \"app.py\", \"--server.address\", \"0.0.0.0\", \"--server.port\", \"9000\"]"
   ]
  },
  {
   "cell_type": "code",
   "execution_count": null,
   "id": "75662a41-997d-490e-8549-2bd6d8465639",
   "metadata": {},
   "outputs": [],
   "source": [
    "!docker build -t simple-app . -q"
   ]
  },
  {
   "cell_type": "code",
   "execution_count": null,
   "id": "acd11c28-bb23-4a7e-8d52-4f13634d71e2",
   "metadata": {},
   "outputs": [],
   "source": [
    "# List images\n",
    "!docker images"
   ]
  },
  {
   "cell_type": "code",
   "execution_count": null,
   "id": "85f45b29-4ed1-44e0-8cc5-fd18f2b95b57",
   "metadata": {},
   "outputs": [],
   "source": [
    "# Run the app in detached mode\n",
    "!docker run -d -p 9000:9000 -v $(pwd):/app --name simple-app simple-app"
   ]
  },
  {
   "cell_type": "code",
   "execution_count": null,
   "id": "ca6236cc-a0d7-4028-b5d4-f2fcb426c08d",
   "metadata": {},
   "outputs": [],
   "source": [
    "!docker ps -a"
   ]
  },
  {
   "cell_type": "code",
   "execution_count": null,
   "id": "e6ad04ee-1f6a-4104-aee8-215dfa8d0ae8",
   "metadata": {},
   "outputs": [],
   "source": [
    "# Remove all docker ps\n",
    "# !docker rm -f $(docker ps -aq)"
   ]
  },
  {
   "cell_type": "code",
   "execution_count": null,
   "id": "a368e109-3095-474c-8d17-233ffb5cd995",
   "metadata": {},
   "outputs": [],
   "source": [
    "!docker rm -f simple-app"
   ]
  },
  {
   "cell_type": "markdown",
   "id": "f3de90b6-b631-4882-9ddd-b9390ff40619",
   "metadata": {
    "tags": []
   },
   "source": [
    "#### Create a firewall (GCP)"
   ]
  },
  {
   "cell_type": "code",
   "execution_count": null,
   "id": "11f0f172-aca6-4f63-b338-0d7a62467882",
   "metadata": {},
   "outputs": [],
   "source": [
    "!gcloud compute --project=$(gcloud config get project) firewall-rules create ports \\\n",
    "    --direction=INGRESS --priority=1000 --network=default --action=ALLOW --rules=tcp:5000,tcp:8000,tcp:8501,tcp:9000 --source-ranges=0.0.0.0/0"
   ]
  },
  {
   "cell_type": "markdown",
   "id": "6d2f5f6f-5de6-481c-acee-0141c65229be",
   "metadata": {},
   "source": [
    "### Deployment"
   ]
  },
  {
   "cell_type": "markdown",
   "id": "51a04d76-7aad-45d6-9469-dd2f6a2adced",
   "metadata": {
    "tags": []
   },
   "source": [
    "#### Deploy using Cloud Build, Artifact Registry, and Cloud Run"
   ]
  },
  {
   "cell_type": "code",
   "execution_count": null,
   "id": "c693450a-77ff-4f54-8671-458b83c081f9",
   "metadata": {},
   "outputs": [],
   "source": [
    "%%sh\n",
    "# Create a Docker repository in Artifact Registry\n",
    "gcloud artifacts repositories create simple-app \\\n",
    "    --repository-format=docker \\\n",
    "    --location=us-west2 \\\n",
    "    --description=\"Docker repository\""
   ]
  },
  {
   "cell_type": "code",
   "execution_count": null,
   "id": "8b93a5a7-5e1c-4bc9-a2ba-92d8bf7c8070",
   "metadata": {},
   "outputs": [],
   "source": [
    "%%sh\n",
    "# Verify\n",
    "gcloud artifacts repositories list"
   ]
  },
  {
   "cell_type": "markdown",
   "id": "f638487c-4536-4860-a2b4-d6acdb3b15d2",
   "metadata": {},
   "source": [
    "#### Build an image using Dockerfile"
   ]
  },
  {
   "cell_type": "code",
   "execution_count": null,
   "id": "026408f6-afd0-4b7e-a063-df4c2b3e8fb4",
   "metadata": {},
   "outputs": [],
   "source": [
    "# Check if the path is correct\n",
    "!pwd"
   ]
  },
  {
   "cell_type": "code",
   "execution_count": null,
   "id": "6c367ee0-daf7-4b0c-80a2-682ca4051250",
   "metadata": {},
   "outputs": [],
   "source": [
    "cd cloud-run-test-env"
   ]
  },
  {
   "cell_type": "code",
   "execution_count": null,
   "id": "b4fd20b3-f6f5-47e0-b1d2-0101d2e43ff7",
   "metadata": {},
   "outputs": [],
   "source": [
    "!gcloud builds submit \\\n",
    "    --region=us-west2 \\\n",
    "    --tag us-west2-docker.pkg.dev/$(gcloud config get-value project)/simple-app/simple-app:tag1"
   ]
  },
  {
   "cell_type": "code",
   "execution_count": null,
   "id": "f23ce497-a68a-4ac3-a6c6-094739f9cda0",
   "metadata": {},
   "outputs": [],
   "source": [
    "# It's working."
   ]
  }
 ],
 "metadata": {
  "environment": {
   "kernel": "python3",
   "name": "tf2-cpu.2-11.m112",
   "type": "gcloud",
   "uri": "gcr.io/deeplearning-platform-release/tf2-cpu.2-11:m112"
  },
  "kernelspec": {
   "display_name": "Python 3",
   "language": "python",
   "name": "python3"
  },
  "language_info": {
   "codemirror_mode": {
    "name": "ipython",
    "version": 3
   },
   "file_extension": ".py",
   "mimetype": "text/x-python",
   "name": "python",
   "nbconvert_exporter": "python",
   "pygments_lexer": "ipython3",
   "version": "3.10.12"
  }
 },
 "nbformat": 4,
 "nbformat_minor": 5
}
