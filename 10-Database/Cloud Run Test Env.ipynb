{
 "cells": [
  {
   "cell_type": "markdown",
   "id": "317cf86d-6e5f-4827-88e7-410e3a9f236c",
   "metadata": {},
   "source": [
    "# Cloud Run Test Env"
   ]
  },
  {
   "cell_type": "markdown",
   "id": "059fff4f-66ba-404c-b6f7-27ddaacfd8d7",
   "metadata": {
    "jp-MarkdownHeadingCollapsed": true,
    "tags": []
   },
   "source": [
    "## Cloud Run Test Env (Simple App)"
   ]
  },
  {
   "cell_type": "code",
   "execution_count": null,
   "id": "04179eb7-ef86-4135-b371-e6d50ca0584f",
   "metadata": {},
   "outputs": [],
   "source": [
    "# Simple App"
   ]
  },
  {
   "cell_type": "code",
   "execution_count": null,
   "id": "3e149f27-be8c-4419-8344-dd6ab0001e4a",
   "metadata": {},
   "outputs": [],
   "source": [
    "!mkdir cloud-run-test-env"
   ]
  },
  {
   "cell_type": "code",
   "execution_count": null,
   "id": "9efb9a99-a378-4bda-90a3-0b38534e851f",
   "metadata": {},
   "outputs": [],
   "source": [
    "cd cloud-run-test-env"
   ]
  },
  {
   "cell_type": "code",
   "execution_count": null,
   "id": "27467264-ff13-47cf-8302-424a9fa3c1ae",
   "metadata": {},
   "outputs": [],
   "source": [
    "%%writefile env.py\n",
    "NAME=\"Matt\""
   ]
  },
  {
   "cell_type": "code",
   "execution_count": null,
   "id": "78a16d54-664d-443c-8e12-9e7d1bd55a97",
   "metadata": {},
   "outputs": [],
   "source": [
    "%%writefile app.py\n",
    "import streamlit as st\n",
    "from env import *\n",
    "import os\n",
    "\n",
    "st.write(\"It's working.\")\n",
    "st.write(NAME)\n",
    "st.write(os.getenv(\"NAME\"))\n",
    "st.write(os.environ.get(\"NAME\"))"
   ]
  },
  {
   "cell_type": "code",
   "execution_count": null,
   "id": "7c54a11a-9fb2-4a0d-9000-8ce7cbf92803",
   "metadata": {},
   "outputs": [],
   "source": [
    "%%writefile Dockerfile\n",
    "FROM python\n",
    "WORKDIR /app\n",
    "RUN pip install streamlit -q\n",
    "COPY . /app\n",
    "EXPOSE 9000\n",
    "CMD [\"streamlit\", \"run\", \"app.py\", \"--server.address\", \"0.0.0.0\", \"--server.port\", \"9000\"]"
   ]
  },
  {
   "cell_type": "code",
   "execution_count": null,
   "id": "75662a41-997d-490e-8549-2bd6d8465639",
   "metadata": {},
   "outputs": [],
   "source": [
    "!docker build -t simple-app . -q"
   ]
  },
  {
   "cell_type": "code",
   "execution_count": null,
   "id": "acd11c28-bb23-4a7e-8d52-4f13634d71e2",
   "metadata": {},
   "outputs": [],
   "source": [
    "# List images\n",
    "!docker images"
   ]
  },
  {
   "cell_type": "code",
   "execution_count": null,
   "id": "85f45b29-4ed1-44e0-8cc5-fd18f2b95b57",
   "metadata": {},
   "outputs": [],
   "source": [
    "# Run the app in detached mode\n",
    "!docker run -d -p 9000:9000 -v $(pwd):/app --name simple-app simple-app"
   ]
  },
  {
   "cell_type": "code",
   "execution_count": null,
   "id": "ca6236cc-a0d7-4028-b5d4-f2fcb426c08d",
   "metadata": {},
   "outputs": [],
   "source": [
    "!docker ps -a"
   ]
  },
  {
   "cell_type": "code",
   "execution_count": null,
   "id": "e6ad04ee-1f6a-4104-aee8-215dfa8d0ae8",
   "metadata": {},
   "outputs": [],
   "source": [
    "# Remove all docker ps\n",
    "# !docker rm -f $(docker ps -aq)"
   ]
  },
  {
   "cell_type": "code",
   "execution_count": null,
   "id": "a368e109-3095-474c-8d17-233ffb5cd995",
   "metadata": {},
   "outputs": [],
   "source": [
    "!docker rm -f simple-app"
   ]
  },
  {
   "cell_type": "markdown",
   "id": "f3de90b6-b631-4882-9ddd-b9390ff40619",
   "metadata": {
    "tags": []
   },
   "source": [
    "#### Create a firewall (GCP)"
   ]
  },
  {
   "cell_type": "code",
   "execution_count": null,
   "id": "11f0f172-aca6-4f63-b338-0d7a62467882",
   "metadata": {},
   "outputs": [],
   "source": [
    "!gcloud compute --project=$(gcloud config get project) firewall-rules create ports \\\n",
    "    --direction=INGRESS --priority=1000 --network=default --action=ALLOW --rules=tcp:5000,tcp:8000,tcp:8501,tcp:9000 --source-ranges=0.0.0.0/0"
   ]
  },
  {
   "cell_type": "markdown",
   "id": "6d2f5f6f-5de6-481c-acee-0141c65229be",
   "metadata": {},
   "source": [
    "### Deployment"
   ]
  },
  {
   "cell_type": "markdown",
   "id": "51a04d76-7aad-45d6-9469-dd2f6a2adced",
   "metadata": {
    "tags": []
   },
   "source": [
    "#### Deploy using Cloud Build, Artifact Registry, and Cloud Run"
   ]
  },
  {
   "cell_type": "code",
   "execution_count": null,
   "id": "c693450a-77ff-4f54-8671-458b83c081f9",
   "metadata": {},
   "outputs": [],
   "source": [
    "%%sh\n",
    "# Create a Docker repository in Artifact Registry\n",
    "gcloud artifacts repositories create simple-app \\\n",
    "    --repository-format=docker \\\n",
    "    --location=us-west2 \\\n",
    "    --description=\"Docker repository\""
   ]
  },
  {
   "cell_type": "code",
   "execution_count": null,
   "id": "8b93a5a7-5e1c-4bc9-a2ba-92d8bf7c8070",
   "metadata": {},
   "outputs": [],
   "source": [
    "%%sh\n",
    "# Verify\n",
    "gcloud artifacts repositories list"
   ]
  },
  {
   "cell_type": "markdown",
   "id": "f638487c-4536-4860-a2b4-d6acdb3b15d2",
   "metadata": {},
   "source": [
    "#### Build an image using Dockerfile"
   ]
  },
  {
   "cell_type": "code",
   "execution_count": null,
   "id": "026408f6-afd0-4b7e-a063-df4c2b3e8fb4",
   "metadata": {},
   "outputs": [],
   "source": [
    "# Check if the path is correct\n",
    "!pwd"
   ]
  },
  {
   "cell_type": "code",
   "execution_count": null,
   "id": "6c367ee0-daf7-4b0c-80a2-682ca4051250",
   "metadata": {},
   "outputs": [],
   "source": [
    "cd cloud-run-test-env"
   ]
  },
  {
   "cell_type": "code",
   "execution_count": null,
   "id": "b4fd20b3-f6f5-47e0-b1d2-0101d2e43ff7",
   "metadata": {},
   "outputs": [],
   "source": [
    "!gcloud builds submit \\\n",
    "    --region=us-west2 \\\n",
    "    --tag us-west2-docker.pkg.dev/$(gcloud config get-value project)/simple-app/simple-app:tag1"
   ]
  },
  {
   "cell_type": "code",
   "execution_count": null,
   "id": "f23ce497-a68a-4ac3-a6c6-094739f9cda0",
   "metadata": {},
   "outputs": [],
   "source": [
    "# It's working."
   ]
  },
  {
   "cell_type": "markdown",
   "id": "bf81df3e-1073-48c1-92c2-4b3afe0feb06",
   "metadata": {
    "jp-MarkdownHeadingCollapsed": true,
    "tags": []
   },
   "source": [
    "# Cloud Run Test Env (Database and App)"
   ]
  },
  {
   "cell_type": "markdown",
   "id": "13780832-c1c2-4ca8-aa1b-14e718e741cb",
   "metadata": {
    "jp-MarkdownHeadingCollapsed": true,
    "tags": []
   },
   "source": [
    "## Site App Dev\n",
    "\n",
    "* For development\n",
    "* Cloud Run Deployment and using environment variables \n",
    "* Environment Variables using os.getenv and os.environ.get"
   ]
  },
  {
   "cell_type": "markdown",
   "id": "8df9a189-35c4-4c04-b95f-5061c6d32a98",
   "metadata": {
    "jp-MarkdownHeadingCollapsed": true,
    "tags": []
   },
   "source": [
    "## Directory"
   ]
  },
  {
   "cell_type": "code",
   "execution_count": null,
   "id": "7455a430-f05b-4bc3-892e-db1a39092e0e",
   "metadata": {},
   "outputs": [],
   "source": [
    "!mkdir cloud-run-test-env"
   ]
  },
  {
   "cell_type": "code",
   "execution_count": null,
   "id": "59289a0b-5d8c-4186-a05a-88fbeb711d48",
   "metadata": {},
   "outputs": [],
   "source": [
    "cd cloud-run-test-env"
   ]
  },
  {
   "cell_type": "markdown",
   "id": "db7408ff-3993-467d-99e4-a6da75b37d4e",
   "metadata": {
    "jp-MarkdownHeadingCollapsed": true,
    "tags": []
   },
   "source": [
    "## Database"
   ]
  },
  {
   "cell_type": "markdown",
   "id": "08cc391a-1193-41ac-b813-ed5f013757a0",
   "metadata": {
    "tags": []
   },
   "source": [
    "### Create a database server using Docker"
   ]
  },
  {
   "cell_type": "markdown",
   "id": "ecd9b92d-632d-4a80-b6bb-0c3ad402d89b",
   "metadata": {
    "tags": []
   },
   "source": [
    "#### Postgres Docker"
   ]
  },
  {
   "cell_type": "code",
   "execution_count": null,
   "id": "0f1b10ff-fa22-4ba5-89a2-3c21ec033fd3",
   "metadata": {},
   "outputs": [],
   "source": [
    "# Without volume/data connected\n",
    "# !docker run --name postgres-sql -e POSTGRES_USER=matt -e POSTGRES_PASSWORD=password  -d postgres"
   ]
  },
  {
   "cell_type": "code",
   "execution_count": null,
   "id": "1ca134a2-8160-40ae-baf7-fdac9f0da245",
   "metadata": {},
   "outputs": [],
   "source": [
    "# With volume/data connected\n",
    "!docker run -d \\\n",
    "    --name postgres-sql \\\n",
    "    -e POSTGRES_USER=matt \\\n",
    "    -e POSTGRES_PASSWORD=password \\\n",
    "    -v $(pwd)/data/:/var/lib/postgresql/data/ \\\n",
    "    -p 5000:5432 \\\n",
    "    postgres"
   ]
  },
  {
   "cell_type": "code",
   "execution_count": null,
   "id": "04e7ebe6-c84d-4308-82f0-a9b776012baf",
   "metadata": {},
   "outputs": [],
   "source": [
    "!docker ps"
   ]
  },
  {
   "cell_type": "code",
   "execution_count": null,
   "id": "0144b234-ee07-4c59-9277-ad5e925b208f",
   "metadata": {},
   "outputs": [],
   "source": [
    "!ls -a"
   ]
  },
  {
   "cell_type": "code",
   "execution_count": null,
   "id": "1e9e8842-5ca5-4992-8f09-754541826d6d",
   "metadata": {},
   "outputs": [],
   "source": [
    "# Check the data\n",
    "# In a terminal\n",
    "# sudo su\n",
    "# cd $(pwd)/data/\n",
    "# ls -a"
   ]
  },
  {
   "cell_type": "code",
   "execution_count": null,
   "id": "459ed2a3-413b-4b7f-b530-2be9b7d83788",
   "metadata": {},
   "outputs": [],
   "source": [
    "# Test the data of the DB\n",
    "# docker rm -f <CONTAINER_ID>\n",
    "# run the docker run <...>\n",
    "# check the pgAdmin\n",
    "# the data persists"
   ]
  },
  {
   "cell_type": "markdown",
   "id": "21acc7a8-9804-48e3-a3af-f845b39fa376",
   "metadata": {
    "tags": []
   },
   "source": [
    "#### pgAdmin"
   ]
  },
  {
   "cell_type": "code",
   "execution_count": null,
   "id": "d5ae442f-c5ed-4cae-b7ab-e8a57fbd581f",
   "metadata": {},
   "outputs": [],
   "source": [
    "!docker run -p 8000:80 \\\n",
    "    -e 'PGADMIN_DEFAULT_EMAIL=matt@example.com' \\\n",
    "    -e 'PGADMIN_DEFAULT_PASSWORD=password' \\\n",
    "    -d dpage/pgadmin4"
   ]
  },
  {
   "cell_type": "code",
   "execution_count": null,
   "id": "a1d4f640-bd59-48d2-949a-a90545323e83",
   "metadata": {},
   "outputs": [],
   "source": [
    "!docker ps"
   ]
  },
  {
   "cell_type": "markdown",
   "id": "181967a4-1bfa-454b-a272-d3ba110c8fb0",
   "metadata": {
    "jp-MarkdownHeadingCollapsed": true,
    "tags": []
   },
   "source": [
    "#### Create a firewall (GCP)"
   ]
  },
  {
   "cell_type": "code",
   "execution_count": null,
   "id": "6e371474-482d-4809-9719-710c6c69488b",
   "metadata": {},
   "outputs": [],
   "source": [
    "!gcloud compute --project=$(gcloud config get project) firewall-rules create ports \\\n",
    "    --direction=INGRESS --priority=1000 --network=default --action=ALLOW --rules=tcp:5000,tcp:8000,tcp:8501,tcp:9000 --source-ranges=0.0.0.0/0"
   ]
  },
  {
   "cell_type": "markdown",
   "id": "b5930dfb-6ed9-4690-9901-97580a703092",
   "metadata": {
    "tags": []
   },
   "source": [
    "#### Open pgAdmin Browser"
   ]
  },
  {
   "cell_type": "code",
   "execution_count": null,
   "id": "1e0354b1-fa7e-42f2-8096-a7a291d0c312",
   "metadata": {},
   "outputs": [],
   "source": [
    "# http://<IP_ADDRESS>:<PORT>\n",
    "# Login with credentials\n",
    "\n",
    "# Register Server\n",
    "# HOST: <IP_ADDRESS>\n",
    "# PORT: 5000\n",
    "# USER: <POSTGRES_USER>\n",
    "# PASSWORD: <PASSWORD>"
   ]
  },
  {
   "cell_type": "markdown",
   "id": "cc1fe77c-4503-4aaf-bcbc-a7f9aeffe183",
   "metadata": {
    "tags": []
   },
   "source": [
    "## Application"
   ]
  },
  {
   "cell_type": "code",
   "execution_count": null,
   "id": "59f75b7d-dc08-4485-9555-7eee3e8057fc",
   "metadata": {},
   "outputs": [],
   "source": [
    "!mkdir cloud-run-test-env"
   ]
  },
  {
   "cell_type": "code",
   "execution_count": null,
   "id": "70481e9a-cced-476c-99b8-d8644aca5c5e",
   "metadata": {},
   "outputs": [],
   "source": [
    "cd cloud-run-test-env"
   ]
  },
  {
   "cell_type": "raw",
   "id": "ef85286c-24b4-4b65-8af5-4820a90ea923",
   "metadata": {},
   "source": [
    "%%writefile env.py\n",
    "# DB Credentials\n",
    "DBNAME=\"matt\"\n",
    "USER='matt'\n",
    "HOST= ''\n",
    "DBPORT='5000'\n",
    "DBPASSWORD='password'"
   ]
  },
  {
   "cell_type": "code",
   "execution_count": null,
   "id": "0ae97f6b-5b90-4667-a015-1eceb2221629",
   "metadata": {},
   "outputs": [],
   "source": [
    "%%writefile app.py\n",
    "# Import libraries\n",
    "import streamlit as st\n",
    "import psycopg2\n",
    "import os\n",
    "import time\n",
    "import vertexai\n",
    "from vertexai.language_models import TextGenerationModel\n",
    "# from env import *\n",
    "\n",
    "# Database Credentials\n",
    "DBNAME=os.getenv(\"DBNAME\")\n",
    "USER=os.getenv(\"USER\")\n",
    "HOST= os.getenv(\"HOST\")\n",
    "DBPORT=os.getenv(\"DBPORT\")\n",
    "DBPASSWORD=os.getenv(\"DBPASSWORD\")\n",
    "\n",
    "#----------Page Configuration----------# \n",
    "st.set_page_config(page_title=\"Matt Cloud Tech\",\n",
    "                   page_icon=\":cloud:\",\n",
    "                   menu_items={\n",
    "                       'About':\"# Matt Cloud Tech\"})\n",
    "\n",
    "#----------About Me Section----------#\n",
    "st.title(\":cloud: Matt Cloud Tech\")\n",
    "st.header(\"\", divider=\"rainbow\")\n",
    "\n",
    "st.write(\"\"\"\n",
    "        ### Good day :wave:.\n",
    "        ### My name is :blue[Matt]. I am a Cloud Technology Enthusiast.\n",
    "        ### Currently, I am learning and building Cloud Infrastructure, Data and CI/CD Pipelines, and Intelligent Systems. \n",
    "        \"\"\") \n",
    "st.divider()\n",
    "st.write(\":link: :computer: [Personal Website](https://)\")\n",
    "st.write(\":link: :book: [Project Repository](https://)\")\n",
    "st.write(\":link: :notebook: [Blog](https://)\")\n",
    "st.write(\":link: :hand: [Connect with me](https://)\")\n",
    "#----------End of About Me Section----------#\n",
    "\n",
    "#----------Portfolio Section----------#\n",
    "st.header(\"Project Collections\",divider=\"rainbow\")\n",
    "\n",
    "st.write(\"#### :link: [PROJECT TITLE #1](https://)\")\n",
    "st.caption(\"Caption\")\n",
    "# with st.expander(f\"Learn more\"):\n",
    "#    st.write(\"Description\")\n",
    "    \n",
    "st.divider()\n",
    "\n",
    "st.write(\"#### :link: [PROJECT TITLE #2](https://)\")\n",
    "st.caption(\"Caption\")\n",
    "# with st.expander(f\"Learn more\"):\n",
    "#    st.write(\"Description\")\n",
    "st.divider()\n",
    "\n",
    "#----------End of Portfolio Section----------#\n",
    "\n",
    "#----------Notepad Section----------#\n",
    "st.header(\"Notepad :notebook:\",divider=\"rainbow\")\n",
    "st.caption(\"\"\"\n",
    "            Add your thoughts here! It will be stored in a database! \\n\n",
    "            :warning: :red[Do not add sensitive data.]\n",
    "            \"\"\")\n",
    "# Connect to a database\n",
    "con = psycopg2.connect(f\"\"\"\n",
    "                       dbname={DBNAME}\n",
    "                       user={USER}\n",
    "                       host={HOST}\n",
    "                       port={DBPORT}\n",
    "                       password={DBPASSWORD}\n",
    "                       \"\"\")\n",
    "cur = con.cursor()\n",
    "\n",
    "# Create a table if not exists\n",
    "cur.execute(\"CREATE TABLE IF NOT EXISTS notes(id serial PRIMARY KEY, name varchar, header varchar, note varchar, time varchar)\")\n",
    "con.commit()\n",
    "\n",
    "# Inputs\n",
    "name = st.text_input(\"Your Name\")\n",
    "header = st.text_input(\"Header\")\n",
    "note = st.text_area(\"Note\")\n",
    "if st.button(\"Add a note\"):\n",
    "    time = time.strftime(\"Date: %Y-%m-%d | Time: %H:%M:%S UTC\")\n",
    "    st.write(f\"\"\" \\n\n",
    "            ##### :pencil: {header} \\n\n",
    "            #### {note} \\n\n",
    "            :man: {name} \\n\"\"\")\n",
    "    st.caption(f\":watch: {time}\")\n",
    "    st.success(\"Successfully Added.\")\n",
    "    # st.balloons()\n",
    "    ### Insert into adatabase\n",
    "    SQL = \"INSERT INTO notes (name, header, note, time) VALUES(%s, %s, %s, %s);\"\n",
    "    data = (name, header, note, time)\n",
    "    cur.execute(SQL, data)\n",
    "    con.commit()\n",
    "    \n",
    "# Previous Notes \n",
    "st.divider()\n",
    "st.write(\"### *Previous Notes*\")\n",
    "# Write the data\n",
    "cur.execute(\"\"\"\n",
    "            SELECT * \n",
    "            FROM notes\n",
    "            ORDER BY time DESC\n",
    "            \"\"\")\n",
    "for id, name, header, note, time in cur.fetchall():\n",
    "    st.write(f\"\"\" \\n\n",
    "            ##### :pencil: {header} \\n\n",
    "            #### {note} \\n\n",
    "            :man: {name} \\n\"\"\")\n",
    "    st.caption(f\":watch: {time}\")\n",
    "\n",
    "    with st.expander(f\"Edit or Delete (ID #: {id})\"):\n",
    "        name = st.text_input(f\"Your Name (ID #: {id})\", name)\n",
    "        header = st.text_input(f\"Header (ID #: {id})\", header)\n",
    "        note = st.text_area(f\"Note (ID #: {id})\", note)\n",
    "        if st.button(f\"UPDATE ID #: {id}\"):\n",
    "            SQL = \" UPDATE notes SET id=%s, name=%s, header=%s, note=%s WHERE id = %s\"\n",
    "            data = (id, name, header, note, id)\n",
    "            cur.execute(SQL, data)\n",
    "            con.commit()\n",
    "            st.success(\"Successfully Edited.\")\n",
    "        if st.button(f\"DELETE ID #: {id}\"):\n",
    "            cur.execute(f\"DELETE FROM notes WHERE id = {id}\")\n",
    "            con.commit()\n",
    "            st.success(\"Successfully Deleted.\")\n",
    "    st.subheader(\"\",divider=\"gray\")\n",
    "    \n",
    "# Close Connection\n",
    "cur.close()\n",
    "con.close()\n",
    "#----------End of Notepad Section----------#\n",
    "\n",
    "#----------Counter----------#\n",
    "st.header(\"Counter\")\n",
    "st.caption(\"\"\"\n",
    "            Count every request in this app.\n",
    "            \"\"\")\n",
    "st.subheader(\"\",divider=\"rainbow\")\n",
    "\n",
    "con = psycopg2.connect(f\"\"\"\n",
    "                       dbname={DBNAME}\n",
    "                       user={USER}\n",
    "                       host={HOST}\n",
    "                       port={DBPORT}\n",
    "                       password={DBPASSWORD}\n",
    "                       \"\"\")\n",
    "cur = con.cursor()\n",
    "# Create a table if not exists\n",
    "cur.execute(\"CREATE TABLE IF NOT EXISTS counter(id serial PRIMARY KEY, view int, time varchar)\")\n",
    "con.commit()\n",
    "\n",
    "# Counter\n",
    "import time\n",
    "time = time.strftime(\"Date: %Y-%m-%d | Time: %H:%M:%S UTC\")\n",
    "view = 1\n",
    "### Insert into a database\n",
    "SQL = \"INSERT INTO counter (view, time) VALUES(%s, %s);\"\n",
    "data = (view, time)\n",
    "cur.execute(SQL, data)\n",
    "con.commit()\n",
    "\n",
    "# Total views\n",
    "cur.execute(\"\"\"\n",
    "            SELECT SUM(view) \n",
    "            FROM counter\n",
    "            \"\"\")\n",
    "st.write(f\"### Total views: **{cur.fetchone()[0]}**\")\n",
    "\n",
    "# Current view\n",
    "st.write(f\"Current: {time}\")\n",
    "# Previous views\n",
    "st.divider()\n",
    "with st.expander(\"See Previous Views\"):\n",
    "    st.write(\"**Previous Views**\")\n",
    "    cur.execute(\"\"\"\n",
    "                SELECT * \n",
    "                FROM counter\n",
    "                ORDER BY time DESC\n",
    "                \"\"\")\n",
    "    for _, _, time in cur.fetchall():\n",
    "        st.text(f\"{time}\")\n",
    "    \n",
    "# Close Connection\n",
    "cur.close()\n",
    "con.close()\n",
    "#----------End of Counter----------#\n",
    "\n",
    "#----------Agent Section----------#\n",
    "#----------Vertex AI----------#\n",
    "vertexai.init(project=\"matt-project-training\", location=\"us-central1\")\n",
    "parameters = {\n",
    "    \"candidate_count\": 1,\n",
    "    \"max_output_tokens\": 1024,\n",
    "    \"temperature\": 0.2,\n",
    "    \"top_p\": 0.8,\n",
    "    \"top_k\": 40\n",
    "}\n",
    "model = TextGenerationModel.from_pretrained(\"text-bison\")\n",
    "\n",
    "# response = model.predict(\n",
    "#    \"\"\"Hi\"\"\",\n",
    "#    **parameters\n",
    "# )\n",
    "# st.write(f\"Response from Model: {response.text}\")\n",
    "\n",
    "#----------End of Vertex AI----------#\n",
    "import time\n",
    "st.header(\":computer: Agent :construction:\",divider=\"rainbow\")\n",
    "st.caption(\"### Chat with my agent (still under construction)\")\n",
    "st.write(f\":violet[Your chat will be stored in a database, so use the same name to see your past conversations]\")\n",
    "st.caption(\":warning: :red[Do not add sensitive data.]\")\n",
    "\n",
    "\n",
    "               \n",
    "# Variable\n",
    "database_name = DBNAME\n",
    "# Connect to a database\n",
    "con = psycopg2.connect(f\"\"\"\n",
    "                       dbname={DBNAME}\n",
    "                       user={USER}\n",
    "                       host={HOST}\n",
    "                       port={DBPORT}\n",
    "                       password={DBPASSWORD}\n",
    "                       \"\"\")\n",
    "cur = con.cursor()\n",
    "# Create a table if not exists\n",
    "cur.execute(\"CREATE TABLE IF NOT EXISTS chats(id serial PRIMARY KEY, name varchar, prompt varchar, output varchar, time varchar)\")\n",
    "con.commit()\n",
    "\n",
    "# Prompt\n",
    "input_name = st.text_input(\"Your Name:\")\n",
    "agent = st.toggle(\"**Let's go**\")\n",
    "if agent:\n",
    "    st.write(f\"Your name for this chat is :blue[{input_name}]\")\n",
    "    prompt = st.chat_input(\"Talk to my agent\")\n",
    "    if prompt:\n",
    "        time = time.strftime(\"Date: %Y-%m-%d | Time: %H:%M:%S UTC\")\n",
    "        message = st.chat_message(\"user\")\n",
    "        message.write(f\":blue[{input_name}]: {prompt}\")\n",
    "        message.caption(f\"{time}\")\n",
    "        message = st.chat_message(\"assistant\")\n",
    "        response = model.predict(prompt,\n",
    "            **parameters\n",
    "        )\n",
    "        output = response.text\n",
    "        message.write(output)\n",
    "        message.caption(f\"{time}\")\n",
    "        st.divider()\n",
    "\n",
    "        ### Insert into a database\n",
    "        SQL = \"INSERT INTO chats (name, prompt, output, time) VALUES(%s, %s, %s, %s);\"\n",
    "        data = (input_name, prompt, output, time)\n",
    "        cur.execute(SQL, data)\n",
    "        con.commit()\n",
    "\n",
    "\n",
    "    with st.expander(f\"See Previous Conversation for {input_name}\"):\n",
    "        cur.execute(f\"\"\"\n",
    "                    SELECT * \n",
    "                    FROM chats\n",
    "                    WHERE name='{input_name}'\n",
    "                    ORDER BY time ASC\n",
    "                    \"\"\")\n",
    "        for id, name, prompt, output, time in cur.fetchall():\n",
    "            message = st.chat_message(\"user\")\n",
    "            message.write(f\":blue[{name}]: {prompt}\")\n",
    "            message.caption(f\"{time}\")\n",
    "            message = st.chat_message(\"assistant\")\n",
    "            message.write(output)\n",
    "            message.caption(f\"{time}\")\n",
    "# Close Connection\n",
    "cur.close()\n",
    "con.close()\n",
    "#----------End of Agent Section----------#"
   ]
  },
  {
   "cell_type": "code",
   "execution_count": null,
   "id": "add4508f-6324-4744-9f78-930b4530e820",
   "metadata": {},
   "outputs": [],
   "source": [
    "%%writefile Dockerfile\n",
    "FROM python\n",
    "WORKDIR /app\n",
    "RUN pip install streamlit psycopg2-binary google-cloud-aiplatform -q\n",
    "COPY . /app\n",
    "EXPOSE 9000\n",
    "CMD [\"streamlit\", \"run\", \"app.py\", \"--server.address\", \"0.0.0.0\", \"--server.port\", \"9000\"]"
   ]
  },
  {
   "cell_type": "markdown",
   "id": "db4c5fa7-f848-43cc-94dc-e662fa58ca8b",
   "metadata": {
    "tags": []
   },
   "source": [
    "## Build an image locally"
   ]
  },
  {
   "cell_type": "code",
   "execution_count": null,
   "id": "b5c7fc2a-7f8b-489c-8b87-6b77ff430188",
   "metadata": {},
   "outputs": [],
   "source": [
    "!pwd"
   ]
  },
  {
   "cell_type": "code",
   "execution_count": null,
   "id": "bfab5e2f-ef4c-4263-aa6b-6c050ff169c4",
   "metadata": {},
   "outputs": [],
   "source": [
    "!docker build -t app . -q"
   ]
  },
  {
   "cell_type": "code",
   "execution_count": null,
   "id": "5add1e17-17e6-4a14-8834-c8498679a9da",
   "metadata": {},
   "outputs": [],
   "source": [
    "# List images\n",
    "!docker images"
   ]
  },
  {
   "cell_type": "code",
   "execution_count": null,
   "id": "115c441b-4f82-44fb-b3aa-0b693459563c",
   "metadata": {},
   "outputs": [],
   "source": [
    "# Run the app in detached mode\n",
    "!docker run -d -p 9000:9000 -v $(pwd):/app --name app app"
   ]
  },
  {
   "cell_type": "code",
   "execution_count": null,
   "id": "99090619-82af-4702-8b7d-caaee15e2ff2",
   "metadata": {},
   "outputs": [],
   "source": [
    "!docker ps -a"
   ]
  },
  {
   "cell_type": "code",
   "execution_count": null,
   "id": "5066421c-a182-4c2b-9c71-d837db80675c",
   "metadata": {},
   "outputs": [],
   "source": [
    "# Remove all docker ps\n",
    "# !docker rm -f $(docker ps -aq)"
   ]
  },
  {
   "cell_type": "code",
   "execution_count": null,
   "id": "44faaad4-111c-4bb0-9a2d-c30d6f956908",
   "metadata": {},
   "outputs": [],
   "source": [
    "!docker rm -f app"
   ]
  },
  {
   "cell_type": "markdown",
   "id": "fafb0bce-81e2-4f1c-baf0-2cfe217117d6",
   "metadata": {
    "tags": []
   },
   "source": [
    "## Deployment"
   ]
  },
  {
   "cell_type": "markdown",
   "id": "d0062745-fecc-404e-872b-744def7ec63b",
   "metadata": {
    "tags": []
   },
   "source": [
    "### Deploy using Cloud Build, Artifact Registry, and Cloud Run"
   ]
  },
  {
   "cell_type": "code",
   "execution_count": null,
   "id": "cfcd49e0-1d00-469d-9f9b-86da4eb6645b",
   "metadata": {},
   "outputs": [],
   "source": [
    "%%sh\n",
    "# Create a Docker repository in Artifact Registry\n",
    "gcloud artifacts repositories create app \\\n",
    "    --repository-format=docker \\\n",
    "    --location=us-west2 \\\n",
    "    --description=\"Docker repository\""
   ]
  },
  {
   "cell_type": "code",
   "execution_count": null,
   "id": "b3b2c78d-a25d-4801-80d1-8122c5785e10",
   "metadata": {},
   "outputs": [],
   "source": [
    "%%sh\n",
    "# Verify\n",
    "gcloud artifacts repositories list"
   ]
  },
  {
   "cell_type": "markdown",
   "id": "ac0a46ab-99a4-4ea5-b3a4-891fc600a413",
   "metadata": {},
   "source": [
    "### Build an image using Dockerfile"
   ]
  },
  {
   "cell_type": "code",
   "execution_count": null,
   "id": "4ec95dc5-c63e-49a4-b0bc-fd05013caf4e",
   "metadata": {},
   "outputs": [],
   "source": [
    "# Check if the path is correct\n",
    "!pwd"
   ]
  },
  {
   "cell_type": "code",
   "execution_count": null,
   "id": "c9f51fde-74d3-45a1-8bb9-9aa172f71124",
   "metadata": {},
   "outputs": [],
   "source": [
    "cd cloud-run-test-env"
   ]
  },
  {
   "cell_type": "code",
   "execution_count": null,
   "id": "46982052-0d09-4c24-a48f-541149d50b35",
   "metadata": {},
   "outputs": [],
   "source": [
    "!gcloud builds submit \\\n",
    "    --region=us-west2 \\\n",
    "    --tag us-west2-docker.pkg.dev/$(gcloud config get-value project)/app/app:tag1"
   ]
  },
  {
   "cell_type": "code",
   "execution_count": null,
   "id": "7cfaa1a3-e1fc-4d49-91b2-0b5040a1894d",
   "metadata": {},
   "outputs": [],
   "source": [
    "# It's working."
   ]
  }
 ],
 "metadata": {
  "environment": {
   "kernel": "python3",
   "name": "tf2-cpu.2-11.m112",
   "type": "gcloud",
   "uri": "gcr.io/deeplearning-platform-release/tf2-cpu.2-11:m112"
  },
  "kernelspec": {
   "display_name": "Python 3",
   "language": "python",
   "name": "python3"
  },
  "language_info": {
   "codemirror_mode": {
    "name": "ipython",
    "version": 3
   },
   "file_extension": ".py",
   "mimetype": "text/x-python",
   "name": "python",
   "nbconvert_exporter": "python",
   "pygments_lexer": "ipython3",
   "version": "3.10.12"
  }
 },
 "nbformat": 4,
 "nbformat_minor": 5
}
