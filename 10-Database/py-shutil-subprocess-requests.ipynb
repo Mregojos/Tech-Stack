{
 "cells": [
  {
   "cell_type": "markdown",
   "id": "842141d4-0dbd-4d0b-a32c-ab93f378316e",
   "metadata": {},
   "source": [
    "# Python shutil, subprocess, requests"
   ]
  },
  {
   "cell_type": "code",
   "execution_count": null,
   "id": "811121d7-54b6-4ae4-97d6-26f811a1e670",
   "metadata": {},
   "outputs": [],
   "source": []
  }
 ],
 "metadata": {
  "environment": {
   "kernel": "python3",
   "name": "tf2-cpu.2-11.m112",
   "type": "gcloud",
   "uri": "gcr.io/deeplearning-platform-release/tf2-cpu.2-11:m112"
  },
  "kernelspec": {
   "display_name": "Python 3",
   "language": "python",
   "name": "python3"
  },
  "language_info": {
   "codemirror_mode": {
    "name": "ipython",
    "version": 3
   },
   "file_extension": ".py",
   "mimetype": "text/x-python",
   "name": "python",
   "nbconvert_exporter": "python",
   "pygments_lexer": "ipython3",
   "version": "3.10.12"
  }
 },
 "nbformat": 4,
 "nbformat_minor": 5
}
