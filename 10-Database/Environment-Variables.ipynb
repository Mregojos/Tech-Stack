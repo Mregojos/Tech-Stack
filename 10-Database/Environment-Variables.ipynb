{
 "cells": [
  {
   "cell_type": "markdown",
   "id": "049a9d27-9add-443e-a812-aff8b681cf16",
   "metadata": {},
   "source": [
    "# Environment Variables"
   ]
  },
  {
   "cell_type": "markdown",
   "id": "2cbd9ae5-3353-470b-811f-44f05e6fb11b",
   "metadata": {},
   "source": [
    "## Cloud Run Test Environment"
   ]
  },
  {
   "cell_type": "code",
   "execution_count": null,
   "id": "19c434c5-dad0-4c1c-b4f1-e1e595428663",
   "metadata": {},
   "outputs": [],
   "source": [
    "# In a terminal\n",
    "# export NAME=\"\""
   ]
  },
  {
   "cell_type": "code",
   "execution_count": 2,
   "id": "a66e2d79-33d4-405b-8d00-9b69e3904178",
   "metadata": {},
   "outputs": [],
   "source": [
    "import os"
   ]
  },
  {
   "cell_type": "code",
   "execution_count": 3,
   "id": "d84ecd86-ac70-4daa-beb1-0e8b64d1e497",
   "metadata": {},
   "outputs": [],
   "source": [
    "os.getenv(\"NAME\")"
   ]
  },
  {
   "cell_type": "code",
   "execution_count": null,
   "id": "0b0a69dd-6106-41f2-a7a9-5b5bb4b487c9",
   "metadata": {},
   "outputs": [],
   "source": []
  }
 ],
 "metadata": {
  "environment": {
   "kernel": "python3",
   "name": "tf2-cpu.2-11.m112",
   "type": "gcloud",
   "uri": "gcr.io/deeplearning-platform-release/tf2-cpu.2-11:m112"
  },
  "kernelspec": {
   "display_name": "Python 3",
   "language": "python",
   "name": "python3"
  },
  "language_info": {
   "codemirror_mode": {
    "name": "ipython",
    "version": 3
   },
   "file_extension": ".py",
   "mimetype": "text/x-python",
   "name": "python",
   "nbconvert_exporter": "python",
   "pygments_lexer": "ipython3",
   "version": "3.10.12"
  }
 },
 "nbformat": 4,
 "nbformat_minor": 5
}
