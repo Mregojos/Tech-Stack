{
 "cells": [
  {
   "cell_type": "markdown",
   "id": "049a9d27-9add-443e-a812-aff8b681cf16",
   "metadata": {},
   "source": [
    "# Environment Variables"
   ]
  },
  {
   "cell_type": "markdown",
   "id": "2cbd9ae5-3353-470b-811f-44f05e6fb11b",
   "metadata": {
    "tags": []
   },
   "source": [
    "## Cloud Run Test Environment"
   ]
  },
  {
   "cell_type": "code",
   "execution_count": null,
   "id": "19c434c5-dad0-4c1c-b4f1-e1e595428663",
   "metadata": {},
   "outputs": [],
   "source": [
    "# In a terminal\n",
    "# export NAME=\"\""
   ]
  },
  {
   "cell_type": "code",
   "execution_count": null,
   "id": "a66e2d79-33d4-405b-8d00-9b69e3904178",
   "metadata": {},
   "outputs": [],
   "source": [
    "import os"
   ]
  },
  {
   "cell_type": "code",
   "execution_count": null,
   "id": "d84ecd86-ac70-4daa-beb1-0e8b64d1e497",
   "metadata": {},
   "outputs": [],
   "source": [
    "os.getenv(\"NAME\")"
   ]
  },
  {
   "cell_type": "markdown",
   "id": "d9ceace1-c0ca-48b2-9d2b-8d0d8862b1a0",
   "metadata": {
    "jp-MarkdownHeadingCollapsed": true,
    "tags": []
   },
   "source": [
    "### Install and import libraries"
   ]
  },
  {
   "cell_type": "code",
   "execution_count": null,
   "id": "1e48f4cd-d9ce-4f42-9d6a-6fcbfb76a1ff",
   "metadata": {
    "tags": []
   },
   "outputs": [],
   "source": [
    "!pip install streamlit psycopg2-binary -q"
   ]
  },
  {
   "cell_type": "code",
   "execution_count": null,
   "id": "78bca895-7156-4bbc-9c32-dd75dd5e78d9",
   "metadata": {},
   "outputs": [],
   "source": [
    "import streamlit as st\n",
    "import psycopg2"
   ]
  },
  {
   "cell_type": "code",
   "execution_count": null,
   "id": "6c66dbde-92ff-4472-9e10-03f413ec1fa4",
   "metadata": {},
   "outputs": [],
   "source": [
    "# Restart the terminal"
   ]
  },
  {
   "cell_type": "markdown",
   "id": "02bb3d33-1f98-4542-b16a-c80d79761da6",
   "metadata": {
    "jp-MarkdownHeadingCollapsed": true,
    "tags": []
   },
   "source": [
    "### app-run"
   ]
  },
  {
   "cell_type": "code",
   "execution_count": null,
   "id": "a07a6f55-1cd3-451c-a94b-23ecae075d97",
   "metadata": {},
   "outputs": [],
   "source": [
    "!mkdir app-run"
   ]
  },
  {
   "cell_type": "code",
   "execution_count": null,
   "id": "d6530991-fb04-4123-bfed-45009e720ce8",
   "metadata": {},
   "outputs": [],
   "source": [
    "cd app-run"
   ]
  },
  {
   "cell_type": "code",
   "execution_count": null,
   "id": "4752ddd5-ecc2-4098-b954-3a1c2a55656a",
   "metadata": {},
   "outputs": [],
   "source": [
    "pwd"
   ]
  },
  {
   "cell_type": "code",
   "execution_count": null,
   "id": "11ba52fe-658e-454c-acab-f6460ce8213e",
   "metadata": {},
   "outputs": [],
   "source": [
    "%%writefile env.py\n",
    "# DB Credentials\n",
    "NAME=\"matt\""
   ]
  },
  {
   "cell_type": "code",
   "execution_count": null,
   "id": "8c5964ac-aaf5-4c20-afd8-4b0f71f58122",
   "metadata": {
    "tags": []
   },
   "outputs": [],
   "source": [
    "%%writefile app.py\n",
    "# Import libraries\n",
    "import streamlit as st\n",
    "import psycopg2\n",
    "import os\n",
    "import time\n",
    "from env import *\n",
    "\n",
    "st.write(os.getenv('Hi'))\n",
    "st.write(NAME)"
   ]
  },
  {
   "cell_type": "code",
   "execution_count": null,
   "id": "4f746b6e-49aa-4f39-960e-57a7fa52fbf9",
   "metadata": {},
   "outputs": [],
   "source": [
    "%%writefile Dockerfile\n",
    "FROM python\n",
    "WORKDIR /app\n",
    "RUN pip install streamlit psycopg2-binary -q\n",
    "COPY app.py env.py ./app/\n",
    "EXPOSE 9000\n",
    "CMD [\"streamlit\", \"run\", \"app.py\", \"--server.address\", \"0.0.0.0\"]"
   ]
  },
  {
   "cell_type": "markdown",
   "id": "86a027d6-aa78-4fe9-bdbe-8e278cd02935",
   "metadata": {
    "jp-MarkdownHeadingCollapsed": true,
    "tags": []
   },
   "source": [
    "### Build the image locally"
   ]
  },
  {
   "cell_type": "code",
   "execution_count": null,
   "id": "6a7877ce-557f-4fe3-986f-f3ce08324354",
   "metadata": {},
   "outputs": [],
   "source": [
    "!docker build -t app-run . -q"
   ]
  },
  {
   "cell_type": "code",
   "execution_count": null,
   "id": "dd5696b6-4d62-49de-8230-d87800a2e4c5",
   "metadata": {},
   "outputs": [],
   "source": [
    "# List images\n",
    "!docker images"
   ]
  },
  {
   "cell_type": "code",
   "execution_count": null,
   "id": "d59e0680-a96c-4d38-afed-8bf314a83898",
   "metadata": {},
   "outputs": [],
   "source": [
    "# Run the app in detached mode\n",
    "!docker run -d -p 8501:8501 -v $(pwd):/app app-run"
   ]
  },
  {
   "cell_type": "code",
   "execution_count": null,
   "id": "358b492d-e257-4829-b188-97ede824d20e",
   "metadata": {},
   "outputs": [],
   "source": [
    "!docker ps -a"
   ]
  },
  {
   "cell_type": "code",
   "execution_count": null,
   "id": "f2c5bc57-9f39-4716-9742-274adc39feb9",
   "metadata": {},
   "outputs": [],
   "source": [
    "# Remove all docker ps\n",
    "# !docker rm -f $(docker ps -aq)"
   ]
  },
  {
   "cell_type": "code",
   "execution_count": null,
   "id": "05dd6e1e-22cb-4ab0-af80-8dfe5a7f895d",
   "metadata": {},
   "outputs": [],
   "source": [
    "# Remove docker ps\n",
    "# !docker rm -f <...>"
   ]
  },
  {
   "cell_type": "code",
   "execution_count": null,
   "id": "69c61d06-45cb-4b1e-a0a2-8a1814e225ea",
   "metadata": {},
   "outputs": [],
   "source": [
    "# !docker rm -f <...>"
   ]
  },
  {
   "cell_type": "markdown",
   "id": "bdf0ec60-277a-41fb-81ae-69ce870e8bd7",
   "metadata": {},
   "source": [
    "### Build the image in cloud build"
   ]
  },
  {
   "cell_type": "code",
   "execution_count": null,
   "id": "b8c12298-087b-429e-9d15-6e976d7d2d25",
   "metadata": {},
   "outputs": [],
   "source": []
  }
 ],
 "metadata": {
  "environment": {
   "kernel": "python3",
   "name": "tf2-cpu.2-11.m112",
   "type": "gcloud",
   "uri": "gcr.io/deeplearning-platform-release/tf2-cpu.2-11:m112"
  },
  "kernelspec": {
   "display_name": "Python 3",
   "language": "python",
   "name": "python3"
  },
  "language_info": {
   "codemirror_mode": {
    "name": "ipython",
    "version": 3
   },
   "file_extension": ".py",
   "mimetype": "text/x-python",
   "name": "python",
   "nbconvert_exporter": "python",
   "pygments_lexer": "ipython3",
   "version": "3.10.12"
  }
 },
 "nbformat": 4,
 "nbformat_minor": 5
}
