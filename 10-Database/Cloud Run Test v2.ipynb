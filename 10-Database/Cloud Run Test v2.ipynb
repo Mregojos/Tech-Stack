{
 "cells": [
  {
   "cell_type": "markdown",
   "id": "7ea0628a-5d2e-41c6-ae3f-43f7abaca641",
   "metadata": {},
   "source": [
    "# Cloud Run Test v2"
   ]
  },
  {
   "cell_type": "markdown",
   "id": "b1fccfdc-a9fa-42e4-b5f1-186a055bfdea",
   "metadata": {},
   "source": [
    "# Cloud Run Test"
   ]
  },
  {
   "cell_type": "code",
   "execution_count": null,
   "id": "d498352a-38d3-4f6a-a1bf-037cf82a076d",
   "metadata": {},
   "outputs": [],
   "source": [
    "# Simple App"
   ]
  },
  {
   "cell_type": "code",
   "execution_count": null,
   "id": "3c7c7607-550e-4479-8d56-6d30e96b8a7f",
   "metadata": {},
   "outputs": [],
   "source": [
    "!mkdir cloud-run-test-v2"
   ]
  },
  {
   "cell_type": "code",
   "execution_count": null,
   "id": "e9e46fa2-1c37-4c2c-9feb-7e088adcb880",
   "metadata": {},
   "outputs": [],
   "source": [
    "cd cloud-run-test-v2"
   ]
  },
  {
   "cell_type": "code",
   "execution_count": null,
   "id": "0e8162b1-38c9-4796-a2ef-9b51b5f66f46",
   "metadata": {},
   "outputs": [],
   "source": [
    "%%writefile env.py\n",
    "# DB Credentials\n",
    "DBNAME=\"matt\"\n",
    "USER='matt'\n",
    "HOST= ''\n",
    "PORT='5000'\n",
    "PASSWORD='password'"
   ]
  },
  {
   "cell_type": "code",
   "execution_count": null,
   "id": "60ad0cae-456a-49df-86bf-d2bf4703e7c5",
   "metadata": {},
   "outputs": [],
   "source": [
    "%%writefile app.py\n",
    "# Import libraries\n",
    "import streamlit as st\n",
    "import psycopg2\n",
    "import os\n",
    "import time\n",
    "import vertexai\n",
    "from vertexai.language_models import TextGenerationModel\n",
    "from env import *\n",
    "\n",
    "#----------Page Configuration----------# \n",
    "st.set_page_config(page_title=\"Matt Cloud Tech\",\n",
    "                   page_icon=\":cloud:\",\n",
    "                   menu_items={\n",
    "                       'About':\"# Matt Cloud Tech Version 4\"})\n",
    "\n",
    "#----------About Me Section----------#\n",
    "st.title(\":cloud: Matt Cloud Tech v4\")\n",
    "st.header(\"\", divider=\"rainbow\")\n",
    "\n",
    "st.write(\"\"\"\n",
    "        ### Good day :wave:.\n",
    "        ### My name is :blue[Matt]. I am a Cloud Technology Enthusiast.\n",
    "        ### Currently, I am learning and building Cloud Infrastructure, Data and CI/CD Pipelines, and Intelligent Systems. \n",
    "        \"\"\") \n",
    "st.divider()\n",
    "st.write(\":link: :computer: [Personal Website](https://)\")\n",
    "st.write(\":link: :book: [Project Repository](https://)\")\n",
    "st.write(\":link: :notebook: [Blog](https://)\")\n",
    "st.write(\":link: :hand: [Connect with me](https://)\")\n",
    "#----------End of About Me Section----------#\n",
    "\n",
    "#----------Portfolio Section----------#\n",
    "st.header(\"Project Collections\",divider=\"rainbow\")\n",
    "\n",
    "st.write(\"#### :link: [PROJECT TITLE #1](https://)\")\n",
    "st.caption(\"Caption\")\n",
    "# with st.expander(f\"Learn more\"):\n",
    "#    st.write(\"Description\")\n",
    "    \n",
    "st.divider()\n",
    "\n",
    "st.write(\"#### :link: [PROJECT TITLE #2](https://)\")\n",
    "st.caption(\"Caption\")\n",
    "# with st.expander(f\"Learn more\"):\n",
    "#    st.write(\"Description\")\n",
    "st.divider()\n",
    "\n",
    "#----------End of Portfolio Section----------#\n",
    "\n",
    "#----------Counter----------#\n",
    "st.header(\"Counter\")\n",
    "st.caption(\"\"\"\n",
    "            Count every request in this app.\n",
    "            \"\"\")\n",
    "st.subheader(\"\",divider=\"rainbow\")\n",
    "\n",
    "con = psycopg2.connect(f\"\"\"\n",
    "                       dbname={DBNAME}\n",
    "                       user={USER}\n",
    "                       host={HOST}\n",
    "                       port={PORT}\n",
    "                       password={PASSWORD}\n",
    "                       \"\"\")\n",
    "cur = con.cursor()\n",
    "# Create a table if not exists\n",
    "cur.execute(\"CREATE TABLE IF NOT EXISTS counter(id serial PRIMARY KEY, view int, time varchar)\")\n",
    "con.commit()\n",
    "\n",
    "# Counter\n",
    "import time\n",
    "time = time.strftime(\"Date: %Y-%m-%d | Time: %H:%M:%S UTC\")\n",
    "view = 1\n",
    "### Insert into a database\n",
    "SQL = \"INSERT INTO counter (view, time) VALUES(%s, %s);\"\n",
    "data = (view, time)\n",
    "cur.execute(SQL, data)\n",
    "con.commit()\n",
    "\n",
    "# Total views\n",
    "cur.execute(\"\"\"\n",
    "            SELECT SUM(view) \n",
    "            FROM counter\n",
    "            \"\"\")\n",
    "st.write(f\"### Total views: **{cur.fetchone()[0]}**\")\n",
    "\n",
    "# Current view\n",
    "st.write(f\"Current: {time}\")\n",
    "# Previous views\n",
    "st.divider()\n",
    "with st.expander(\"See Previous Views\"):\n",
    "    st.write(\"**Previous Views**\")\n",
    "    cur.execute(\"\"\"\n",
    "                SELECT * \n",
    "                FROM counter\n",
    "                ORDER BY time DESC\n",
    "                \"\"\")\n",
    "    for _, _, time in cur.fetchall():\n",
    "        st.text(f\"{time}\")\n",
    "    \n",
    "# Close Connection\n",
    "cur.close()\n",
    "con.close()\n",
    "#----------End of Counter----------#\n",
    "\n",
    "st.write(\"It's working. tag4\")\n",
    "st.write(USER)"
   ]
  },
  {
   "cell_type": "code",
   "execution_count": null,
   "id": "f409c561-8fc6-4213-bc10-d0c569baa4fa",
   "metadata": {},
   "outputs": [],
   "source": [
    "%%writefile Dockerfile\n",
    "FROM python\n",
    "WORKDIR /app\n",
    "RUN pip install streamlit psycopg2-binary google-cloud-aiplatform -q\n",
    "COPY . /app\n",
    "EXPOSE 9000\n",
    "CMD [\"streamlit\", \"run\", \"app.py\", \"--server.address\", \"0.0.0.0\", \"--server.port\", \"9000\"]"
   ]
  },
  {
   "cell_type": "code",
   "execution_count": null,
   "id": "8398a30a-5b73-40a8-b19e-6bfb342b2edc",
   "metadata": {},
   "outputs": [],
   "source": [
    "!pwd"
   ]
  },
  {
   "cell_type": "code",
   "execution_count": null,
   "id": "bfb91094-1a72-46e1-b587-4abc6beeee06",
   "metadata": {},
   "outputs": [],
   "source": [
    "!docker build -t simple-app . -q"
   ]
  },
  {
   "cell_type": "code",
   "execution_count": null,
   "id": "fb7d623b-7e79-4fd0-8a37-968a33e0b03a",
   "metadata": {},
   "outputs": [],
   "source": [
    "# List images\n",
    "!docker images"
   ]
  },
  {
   "cell_type": "code",
   "execution_count": null,
   "id": "321a9fb4-8a18-459e-9967-0e1cc27d8d0b",
   "metadata": {},
   "outputs": [],
   "source": [
    "# Run the app in detached mode\n",
    "!docker run -d -p 9000:9000 -v $(pwd):/app --name simple-app simple-app"
   ]
  },
  {
   "cell_type": "code",
   "execution_count": null,
   "id": "5d8d1e9c-3d2f-4185-b414-65729f5722b2",
   "metadata": {},
   "outputs": [],
   "source": [
    "!docker ps -a"
   ]
  },
  {
   "cell_type": "code",
   "execution_count": null,
   "id": "d50cab30-4acd-4f85-a850-95fa3899af3c",
   "metadata": {},
   "outputs": [],
   "source": [
    "# Remove all docker ps\n",
    "# !docker rm -f $(docker ps -aq)"
   ]
  },
  {
   "cell_type": "code",
   "execution_count": null,
   "id": "8834d3fb-38d4-49c6-853d-c20a25695b95",
   "metadata": {},
   "outputs": [],
   "source": [
    "!docker rm -f simple-app"
   ]
  },
  {
   "cell_type": "markdown",
   "id": "3418f48a-1b7f-46f5-9a9c-59bb1866248d",
   "metadata": {},
   "source": [
    "### Deployment"
   ]
  },
  {
   "cell_type": "markdown",
   "id": "a3977d6d-c13f-4c50-959e-7b2b416edd7d",
   "metadata": {
    "tags": []
   },
   "source": [
    "#### Deploy using Cloud Build, Artifact Registry, and Cloud Run"
   ]
  },
  {
   "cell_type": "code",
   "execution_count": null,
   "id": "6aaf55d2-ba04-42ff-ae94-50bfd490b26c",
   "metadata": {},
   "outputs": [],
   "source": [
    "%%sh\n",
    "# Create a Docker repository in Artifact Registry\n",
    "gcloud artifacts repositories create simple-app \\\n",
    "    --repository-format=docker \\\n",
    "    --location=us-west2 \\\n",
    "    --description=\"Docker repository\""
   ]
  },
  {
   "cell_type": "code",
   "execution_count": null,
   "id": "ac8d47c1-25b8-459d-a2b8-c49ab5bc9e54",
   "metadata": {},
   "outputs": [],
   "source": [
    "%%sh\n",
    "# Verify\n",
    "gcloud artifacts repositories list"
   ]
  },
  {
   "cell_type": "markdown",
   "id": "61af5c69-52aa-4726-b617-2f442f0479f3",
   "metadata": {},
   "source": [
    "#### Build an image using Dockerfile"
   ]
  },
  {
   "cell_type": "code",
   "execution_count": null,
   "id": "5a98292a-a180-4282-b544-e9e9d1f1fc22",
   "metadata": {},
   "outputs": [],
   "source": [
    "# Check if the path is correct\n",
    "!pwd"
   ]
  },
  {
   "cell_type": "code",
   "execution_count": null,
   "id": "d5f842ad-6de9-4c96-ab6d-ae9b5d629215",
   "metadata": {},
   "outputs": [],
   "source": [
    "cd cloud-run-test-v2"
   ]
  },
  {
   "cell_type": "code",
   "execution_count": null,
   "id": "bf4139f5-6409-441c-bdff-097d1f469a27",
   "metadata": {},
   "outputs": [],
   "source": [
    "!gcloud builds submit \\\n",
    "    --region=us-west2 \\\n",
    "    --tag us-west2-docker.pkg.dev/$(gcloud config get-value project)/simple-app/simple-app:tag4"
   ]
  },
  {
   "cell_type": "code",
   "execution_count": null,
   "id": "7a9a42cc-9513-4aed-992c-4273717979d3",
   "metadata": {},
   "outputs": [],
   "source": [
    "# It's working."
   ]
  },
  {
   "cell_type": "code",
   "execution_count": null,
   "id": "1b26962c-9d0b-4d23-a4e4-af341d81e8c7",
   "metadata": {},
   "outputs": [],
   "source": []
  }
 ],
 "metadata": {
  "environment": {
   "kernel": "python3",
   "name": "tf2-cpu.2-11.m112",
   "type": "gcloud",
   "uri": "gcr.io/deeplearning-platform-release/tf2-cpu.2-11:m112"
  },
  "kernelspec": {
   "display_name": "Python 3",
   "language": "python",
   "name": "python3"
  },
  "language_info": {
   "codemirror_mode": {
    "name": "ipython",
    "version": 3
   },
   "file_extension": ".py",
   "mimetype": "text/x-python",
   "name": "python",
   "nbconvert_exporter": "python",
   "pygments_lexer": "ipython3",
   "version": "3.10.12"
  }
 },
 "nbformat": 4,
 "nbformat_minor": 5
}
