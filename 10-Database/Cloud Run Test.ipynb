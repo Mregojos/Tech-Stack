{
 "cells": [
  {
   "cell_type": "markdown",
   "id": "294dbaee-f847-41f4-90a7-b8f2dced1e53",
   "metadata": {},
   "source": [
    "# Cloud Run Test"
   ]
  },
  {
   "cell_type": "code",
   "execution_count": null,
   "id": "d48ff7db-3933-4aee-81c0-611bb0e7a4c1",
   "metadata": {},
   "outputs": [],
   "source": [
    "# Simple App"
   ]
  },
  {
   "cell_type": "code",
   "execution_count": null,
   "id": "b37c09de-64a5-475e-a27b-1964222c0157",
   "metadata": {},
   "outputs": [],
   "source": [
    "!mkdir cloud-run-test"
   ]
  },
  {
   "cell_type": "code",
   "execution_count": null,
   "id": "21ce43e5-67ce-4b4d-858c-70106acc3cd8",
   "metadata": {},
   "outputs": [],
   "source": [
    "cd cloud-run-test"
   ]
  },
  {
   "cell_type": "code",
   "execution_count": null,
   "id": "ba62d9be-b46b-4498-9076-1e5001efe00d",
   "metadata": {},
   "outputs": [],
   "source": [
    "%%writefile app.py\n",
    "import streamlit as st\n",
    "\n",
    "st.write(\"It's working. v2\")"
   ]
  },
  {
   "cell_type": "code",
   "execution_count": null,
   "id": "5c17ac6f-3e21-4dcc-a266-391c3455dc4c",
   "metadata": {},
   "outputs": [],
   "source": [
    "%%writefile Dockerfile\n",
    "FROM python\n",
    "WORKDIR /app\n",
    "RUN pip install streamlit -q\n",
    "COPY . /app\n",
    "EXPOSE 9000\n",
    "CMD [\"streamlit\", \"run\", \"app.py\", \"--server.address\", \"0.0.0.0\", \"--server.port\", \"9000\"]"
   ]
  },
  {
   "cell_type": "code",
   "execution_count": null,
   "id": "232e9f46-e2fa-45af-8e68-e3f7146c17d5",
   "metadata": {},
   "outputs": [],
   "source": [
    "!docker build -t simple-app . -q"
   ]
  },
  {
   "cell_type": "code",
   "execution_count": null,
   "id": "0c01d279-13af-47bb-abfd-dedecd3a6474",
   "metadata": {},
   "outputs": [],
   "source": [
    "# List images\n",
    "!docker images"
   ]
  },
  {
   "cell_type": "code",
   "execution_count": null,
   "id": "770b8eb8-f6c6-4dc1-96d1-79fb56c4bc50",
   "metadata": {},
   "outputs": [],
   "source": [
    "# Run the app in detached mode\n",
    "!docker run -d -p 9000:9000 -v $(pwd):/app --name simple-app simple-app"
   ]
  },
  {
   "cell_type": "code",
   "execution_count": null,
   "id": "22afef7d-f4f4-4103-ad5e-d857f7de21fd",
   "metadata": {},
   "outputs": [],
   "source": [
    "!docker ps -a"
   ]
  },
  {
   "cell_type": "code",
   "execution_count": null,
   "id": "4e1d8c75-8480-4881-abfc-b6333d005e9e",
   "metadata": {},
   "outputs": [],
   "source": [
    "# Remove all docker ps\n",
    "# !docker rm -f $(docker ps -aq)"
   ]
  },
  {
   "cell_type": "code",
   "execution_count": null,
   "id": "c4290ef0-8286-4018-a119-4c0af7c9256b",
   "metadata": {},
   "outputs": [],
   "source": [
    "!docker rm -f simple-app"
   ]
  },
  {
   "cell_type": "markdown",
   "id": "107237d3-96a7-4879-b781-25261b403745",
   "metadata": {},
   "source": [
    "### Deployment"
   ]
  },
  {
   "cell_type": "markdown",
   "id": "4ecdb46d-2815-465d-be6f-bbab0e070ee7",
   "metadata": {
    "tags": []
   },
   "source": [
    "#### Deploy using Cloud Build, Artifact Registry, and Cloud Run"
   ]
  },
  {
   "cell_type": "code",
   "execution_count": null,
   "id": "35cd4570-26fe-4395-95df-dd1b0937fc2c",
   "metadata": {},
   "outputs": [],
   "source": [
    "%%sh\n",
    "# Create a Docker repository in Artifact Registry\n",
    "gcloud artifacts repositories create simple-app \\\n",
    "    --repository-format=docker \\\n",
    "    --location=us-west2 \\\n",
    "    --description=\"Docker repository\""
   ]
  },
  {
   "cell_type": "code",
   "execution_count": null,
   "id": "db5d4013-5330-449a-9953-f7a30c5f8c4d",
   "metadata": {},
   "outputs": [],
   "source": [
    "%%sh\n",
    "# Verify\n",
    "gcloud artifacts repositories list"
   ]
  },
  {
   "cell_type": "markdown",
   "id": "c0b3e143-9908-4237-ab07-0988973f6373",
   "metadata": {},
   "source": [
    "#### Build an image using Dockerfile"
   ]
  },
  {
   "cell_type": "code",
   "execution_count": null,
   "id": "3d64fac1-49b1-4ac5-9731-55eeef795a3a",
   "metadata": {},
   "outputs": [],
   "source": [
    "# Check if the path is correct\n",
    "!pwd"
   ]
  },
  {
   "cell_type": "code",
   "execution_count": null,
   "id": "318ea170-25b4-45e9-b0ad-f56626f18291",
   "metadata": {},
   "outputs": [],
   "source": [
    "cd cloud-run-test"
   ]
  },
  {
   "cell_type": "code",
   "execution_count": null,
   "id": "007939f8-986d-491f-b7ea-44d2fd625eba",
   "metadata": {},
   "outputs": [],
   "source": [
    "!gcloud builds submit \\\n",
    "    --region=us-west2 \\\n",
    "    --tag us-west2-docker.pkg.dev/$(gcloud config get-value project)/simple-app/simple-app:tag1"
   ]
  },
  {
   "cell_type": "markdown",
   "id": "8510c69a-96cb-476f-9e3b-99034b13a7e6",
   "metadata": {},
   "source": [
    "#### Pull the image from Artifact Registry"
   ]
  },
  {
   "cell_type": "code",
   "execution_count": null,
   "id": "0caa98be-8796-48c7-aabd-b4af32a6a00c",
   "metadata": {},
   "outputs": [],
   "source": [
    "# !gcloud auth configure-docker us-west2-docker.pkg.dev"
   ]
  },
  {
   "cell_type": "code",
   "execution_count": null,
   "id": "583042c2-fdd7-4543-a484-1b2bad14b298",
   "metadata": {},
   "outputs": [],
   "source": [
    "!docker pull us-west2-docker.pkg.dev/$(gcloud config get-value project)/app-v2/app:tag1"
   ]
  },
  {
   "cell_type": "code",
   "execution_count": null,
   "id": "b5d5c1e2-c717-41a1-8b2f-5ee33f82b3dc",
   "metadata": {},
   "outputs": [],
   "source": [
    "!docker images"
   ]
  },
  {
   "cell_type": "code",
   "execution_count": null,
   "id": "9fc366c0-2e35-4148-bf3c-4c48e62fb176",
   "metadata": {},
   "outputs": [],
   "source": [
    "!docker run -d -p 8501:8501 -v $(pwd):/app us-west2-docker.pkg.dev/$(gcloud config get-value project)/app-v2/app:tag1"
   ]
  },
  {
   "cell_type": "code",
   "execution_count": null,
   "id": "cb2d55dc-01d7-44a7-8ef4-f19115f5547b",
   "metadata": {},
   "outputs": [],
   "source": [
    "!docker ps"
   ]
  },
  {
   "cell_type": "code",
   "execution_count": null,
   "id": "31b705b4-3f19-410d-a160-9083d720b0b9",
   "metadata": {},
   "outputs": [],
   "source": [
    "# !docker rm -f <...>"
   ]
  },
  {
   "cell_type": "code",
   "execution_count": null,
   "id": "8bc54de7-b600-40fb-aaa3-2e737e434971",
   "metadata": {},
   "outputs": [],
   "source": []
  }
 ],
 "metadata": {
  "environment": {
   "kernel": "python3",
   "name": "tf2-cpu.2-11.m112",
   "type": "gcloud",
   "uri": "gcr.io/deeplearning-platform-release/tf2-cpu.2-11:m112"
  },
  "kernelspec": {
   "display_name": "Python 3",
   "language": "python",
   "name": "python3"
  },
  "language_info": {
   "codemirror_mode": {
    "name": "ipython",
    "version": 3
   },
   "file_extension": ".py",
   "mimetype": "text/x-python",
   "name": "python",
   "nbconvert_exporter": "python",
   "pygments_lexer": "ipython3",
   "version": "3.10.12"
  }
 },
 "nbformat": 4,
 "nbformat_minor": 5
}
