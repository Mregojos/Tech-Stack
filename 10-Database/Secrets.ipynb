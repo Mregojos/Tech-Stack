{
 "cells": [
  {
   "cell_type": "markdown",
   "id": "19f951d1-9e84-4815-903c-2d2667b2a770",
   "metadata": {},
   "source": [
    "# Secrets"
   ]
  },
  {
   "cell_type": "markdown",
   "id": "74262b9f-7813-45cf-b331-f8817b4c5190",
   "metadata": {},
   "source": [
    "# Docker Secrets"
   ]
  },
  {
   "cell_type": "code",
   "execution_count": null,
   "id": "b1a8cc43-12a8-4e8e-9e2a-facb894ceab3",
   "metadata": {},
   "outputs": [],
   "source": []
  },
  {
   "cell_type": "markdown",
   "id": "6fb1b344-ba14-426c-a4db-60e32f6e8a07",
   "metadata": {},
   "source": [
    "# Vault"
   ]
  },
  {
   "cell_type": "code",
   "execution_count": null,
   "id": "1d33e74f-be43-473d-83f6-dcf4adb5fcba",
   "metadata": {},
   "outputs": [],
   "source": []
  }
 ],
 "metadata": {
  "environment": {
   "kernel": "python3",
   "name": "tf2-cpu.2-11.m112",
   "type": "gcloud",
   "uri": "gcr.io/deeplearning-platform-release/tf2-cpu.2-11:m112"
  },
  "kernelspec": {
   "display_name": "Python 3",
   "language": "python",
   "name": "python3"
  },
  "language_info": {
   "codemirror_mode": {
    "name": "ipython",
    "version": 3
   },
   "file_extension": ".py",
   "mimetype": "text/x-python",
   "name": "python",
   "nbconvert_exporter": "python",
   "pygments_lexer": "ipython3",
   "version": "3.10.12"
  }
 },
 "nbformat": 4,
 "nbformat_minor": 5
}
