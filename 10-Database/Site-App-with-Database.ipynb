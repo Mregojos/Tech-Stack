{
 "cells": [
  {
   "cell_type": "markdown",
   "id": "85fc04f0-1db9-4d1e-87c3-57757e9b3d29",
   "metadata": {},
   "source": [
    "# Site App with Database \n",
    "\n",
    "* About Me Section\n",
    "* Notepad: Create, Read\n",
    "* Counter"
   ]
  },
  {
   "cell_type": "markdown",
   "id": "57dc9814-8e2a-4ee9-bf9b-04b22be05f9d",
   "metadata": {
    "jp-MarkdownHeadingCollapsed": true,
    "tags": []
   },
   "source": [
    "## Create a database server using Docker"
   ]
  },
  {
   "cell_type": "markdown",
   "id": "95c65332-dd3b-492a-bcf9-b8ab397c9393",
   "metadata": {},
   "source": [
    "### Postgres Docker"
   ]
  },
  {
   "cell_type": "code",
   "execution_count": null,
   "id": "0382c8dc-64df-428d-a6c2-7d46857f41b6",
   "metadata": {},
   "outputs": [],
   "source": [
    "# Without volume/data connected\n",
    "!docker run --name postgres-sql -e POSTGRES_USER=matt -e POSTGRES_PASSWORD=password  -d postgres"
   ]
  },
  {
   "cell_type": "code",
   "execution_count": null,
   "id": "1ee0f9a0-a2a7-4b60-b013-0f514cad7550",
   "metadata": {},
   "outputs": [],
   "source": [
    "# With volume/data connected\n",
    "!docker run -d \\\n",
    "    --name postgres-sql \\\n",
    "    -e POSTGRES_USER=matt \\\n",
    "    -e POSTGRES_PASSWORD=password \\\n",
    "    -v $(pwd)/data/:/var/lib/postgresql/data/ \\\n",
    "    -p 5000:5432 \\\n",
    "    postgres"
   ]
  },
  {
   "cell_type": "code",
   "execution_count": null,
   "id": "ef271c3a-38ae-47a1-96c5-d7364b7475e0",
   "metadata": {},
   "outputs": [],
   "source": [
    "!docker ps"
   ]
  },
  {
   "cell_type": "code",
   "execution_count": null,
   "id": "3d4503e8-7d6b-4514-8182-e4b2367f6cd0",
   "metadata": {},
   "outputs": [],
   "source": [
    "!ls -a"
   ]
  },
  {
   "cell_type": "code",
   "execution_count": null,
   "id": "ca95491a-3033-4624-8b02-d2143a4cb1a1",
   "metadata": {},
   "outputs": [],
   "source": [
    "# Check the data\n",
    "# In a terminal\n",
    "# sudo su\n",
    "# cd $(pwd)/data/\n",
    "# ls -a"
   ]
  },
  {
   "cell_type": "code",
   "execution_count": null,
   "id": "221e57d8-9dda-45f4-8f7d-21a2b55a9bc2",
   "metadata": {},
   "outputs": [],
   "source": [
    "# Test the data of the DB\n",
    "# docker rm -f <CONTAINER_ID>\n",
    "# run the docker run <...>\n",
    "# check the pgAdmin\n",
    "# the data persists"
   ]
  },
  {
   "cell_type": "markdown",
   "id": "d52a189b-fc10-403d-8c64-e827dc74224c",
   "metadata": {},
   "source": [
    "### pgAdmin"
   ]
  },
  {
   "cell_type": "code",
   "execution_count": null,
   "id": "b2114d74-d409-46cf-afdd-b9b550e2b654",
   "metadata": {},
   "outputs": [],
   "source": [
    "!docker run -p 8000:80 \\\n",
    "    -e 'PGADMIN_DEFAULT_EMAIL=matt@example.com' \\\n",
    "    -e 'PGADMIN_DEFAULT_PASSWORD=password' \\\n",
    "    -d dpage/pgadmin4"
   ]
  },
  {
   "cell_type": "code",
   "execution_count": null,
   "id": "ea5eea40-96aa-4bf2-886f-9bc3b32907f5",
   "metadata": {},
   "outputs": [],
   "source": [
    "!docker ps"
   ]
  },
  {
   "cell_type": "markdown",
   "id": "1e719bec-8890-4cdd-b9ba-c97c19badb2d",
   "metadata": {},
   "source": [
    "### Create a firewall (GCP)"
   ]
  },
  {
   "cell_type": "code",
   "execution_count": null,
   "id": "01568e7f-5cc0-488a-925d-4c749905ff9e",
   "metadata": {},
   "outputs": [],
   "source": [
    "!gcloud compute --project=$(gcloud config get project) firewall-rules create ports \\\n",
    "    --direction=INGRESS --priority=1000 --network=default --action=ALLOW --rules=tcp:5000,tcp:8000,tcp:5401,tcp:9000 --source-ranges=0.0.0.0/0"
   ]
  },
  {
   "cell_type": "markdown",
   "id": "d3c32d75-065d-430a-bde7-ccac7a06f7a5",
   "metadata": {},
   "source": [
    "### Open pgAdmin Browser"
   ]
  },
  {
   "cell_type": "code",
   "execution_count": null,
   "id": "03feae01-c2fa-49c6-a7b7-fcd19c90a6a8",
   "metadata": {},
   "outputs": [],
   "source": [
    "# http://<IP_ADDRESS>:<PORT>\n",
    "# Login with credentials\n",
    "\n",
    "# Register Server\n",
    "# HOST: <IP_ADDRESS>\n",
    "# PORT: 5000\n",
    "# USER: <POSTGRES_USER>\n",
    "# PASSWORD: <PASSWORD>"
   ]
  },
  {
   "cell_type": "markdown",
   "id": "f5fdfcdf-448d-4037-be22-7c3e9ed91ca4",
   "metadata": {
    "tags": []
   },
   "source": [
    "## Install and import libraries"
   ]
  },
  {
   "cell_type": "code",
   "execution_count": null,
   "id": "296373dc-818a-41f7-87ab-bd4ff53ff357",
   "metadata": {},
   "outputs": [],
   "source": [
    "!pip install streamlit psycopg2-binary -q"
   ]
  },
  {
   "cell_type": "code",
   "execution_count": 1,
   "id": "84d64610-0cce-4baa-9837-7ff57bfa449e",
   "metadata": {},
   "outputs": [],
   "source": [
    "import streamlit as st\n",
    "import psycopg2"
   ]
  },
  {
   "cell_type": "code",
   "execution_count": null,
   "id": "38d920e6-0540-4bae-8726-ba69ef895cea",
   "metadata": {},
   "outputs": [],
   "source": [
    "# Restart the terminal"
   ]
  },
  {
   "cell_type": "code",
   "execution_count": 4,
   "id": "a10c0470-db27-40b5-8054-bd28d2a7e1ef",
   "metadata": {},
   "outputs": [
    {
     "name": "stdout",
     "output_type": "stream",
     "text": [
      "Overwriting env.py\n"
     ]
    }
   ],
   "source": [
    "%%writefile env.py\n",
    "# DB Credentials\n",
    "DBNAME=\"matt\"\n",
    "USER='matt'\n",
    "HOST='35.193.80.15'\n",
    "PORT='5000'\n",
    "PASSWORD='password'"
   ]
  },
  {
   "cell_type": "code",
   "execution_count": 7,
   "id": "8d64eecd-8e42-44de-a6aa-c7e69296f19f",
   "metadata": {
    "tags": []
   },
   "outputs": [
    {
     "name": "stdout",
     "output_type": "stream",
     "text": [
      "Overwriting app.py\n"
     ]
    }
   ],
   "source": [
    "%%writefile app.py\n",
    "# Import libraries\n",
    "import streamlit as st\n",
    "import psycopg2\n",
    "import os\n",
    "import time\n",
    "from env import *\n",
    "\n",
    "# Header\n",
    "st.write(\"# Notepad :notebook:\")\n",
    "st.caption(\"\"\"\n",
    "            Add your thoughts here! It will be stored in a database! \\n\n",
    "            :warning: :red[Do not add sensitive data].\n",
    "            \"\"\")\n",
    "st.subheader(\"\",divider=\"rainbow\")\n",
    "\n",
    "# Variable\n",
    "database_name = DBNAME\n",
    "\n",
    "con = psycopg2.connect(f\"\"\"\n",
    "                       dbname={DBNAME}\n",
    "                       user={USER}\n",
    "                       host={HOST}\n",
    "                       port={PORT}\n",
    "                       password={PASSWORD}\n",
    "                       \"\"\")\n",
    "cur = con.cursor()\n",
    "# Create a table if not exists\n",
    "cur.execute(\"CREATE TABLE IF NOT EXISTS notes(id serial PRIMARY KEY, name varchar, header varchar, note varchar, time varchar)\")\n",
    "con.commit()\n",
    "\n",
    "# Inputs\n",
    "name = st.text_input(\"Your Name\")\n",
    "header = st.text_input(\"Header\")\n",
    "note = st.text_area(\"Note\",)\n",
    "if st.button(\"Add a note\"):\n",
    "    time = time.strftime(\"Date: %Y-%m-%d | Time: %H:%M:%S UTC\")\n",
    "    st.write(f\"\"\" \\n\n",
    "            ### :pencil: {header} \\n\n",
    "            {note}\n",
    "            :man: {name} \\n\n",
    "            :watch: {time}\"\"\")\n",
    "    st.success(\"Successful Added.\")\n",
    "    # st.balloons()\n",
    "    ### Insert into adatabase\n",
    "    SQL = \"INSERT INTO notes (name, header, note, time) VALUES(%s, %s, %s, %s);\"\n",
    "    data = (name, header, note, time)\n",
    "    cur.execute(SQL, data)\n",
    "    con.commit()\n",
    "    \n",
    "# Previous Notes \n",
    "st.subheader(\"\",divider=\"rainbow\")\n",
    "st.write(\"### *Previous Notes*\")\n",
    "# Write the data\n",
    "cur.execute(\"\"\"\n",
    "            SELECT * \n",
    "            FROM notes\n",
    "            ORDER BY time DESC\n",
    "            \"\"\")\n",
    "for name, header, note, time in cur.fetchall():\n",
    "    st.write(f\"\"\" \\n\n",
    "            ### :pencil: {header} \\n\n",
    "            {note}\n",
    "            :man: {name} \\n\n",
    "            :watch: {time}\"\"\")\n",
    "    st.subheader(\"\",divider=\"gray\")\n",
    "    \n",
    "# Close Connection\n",
    "cur.close()\n",
    "con.close()\n"
   ]
  },
  {
   "cell_type": "code",
   "execution_count": null,
   "id": "5962c797-a504-49e7-bc65-27419335d62a",
   "metadata": {},
   "outputs": [],
   "source": [
    "%%writefile Dockerfile\n",
    "FROM python\n",
    "WORKDIR /app\n",
    "RUN pip install streamlit psycopg2-binary -q\n",
    "COPY app.py .\n",
    "EXPOSE 8501\n",
    "CMD [\"streamlit\", \"run\", \"app.py\", \"--server.address\", \"0.0.0.0\"]"
   ]
  },
  {
   "cell_type": "code",
   "execution_count": null,
   "id": "3f5d68cd-2649-4d55-b58d-3cc36fbd5ee5",
   "metadata": {},
   "outputs": [],
   "source": [
    "# Build an image\n",
    "!docker build -t notepad-app . -q"
   ]
  },
  {
   "cell_type": "code",
   "execution_count": null,
   "id": "50203a8c-cbcd-48b5-a4c2-127acab681fb",
   "metadata": {},
   "outputs": [],
   "source": [
    "# List images\n",
    "!docker images"
   ]
  },
  {
   "cell_type": "code",
   "execution_count": null,
   "id": "1152ecb4-777d-42b1-9aa2-ac49325d34cd",
   "metadata": {},
   "outputs": [],
   "source": [
    "# Run the app in detached mode\n",
    "!docker run -d -p 8501:8501 -v $(pwd):/app notepad-app"
   ]
  },
  {
   "cell_type": "code",
   "execution_count": null,
   "id": "3f216e25-7abd-452b-a925-c945aea6dab8",
   "metadata": {},
   "outputs": [],
   "source": [
    "!docker ps -a"
   ]
  },
  {
   "cell_type": "code",
   "execution_count": null,
   "id": "21df7620-6aca-47fc-942e-05403f7105f4",
   "metadata": {},
   "outputs": [],
   "source": [
    "# Remove all docker ps\n",
    "# !docker rm -f $(docker ps -aq)"
   ]
  },
  {
   "cell_type": "code",
   "execution_count": null,
   "id": "71b1065a-f0ff-4dde-8070-2e65ec5d4079",
   "metadata": {},
   "outputs": [],
   "source": []
  },
  {
   "cell_type": "code",
   "execution_count": null,
   "id": "96b8c7c9-1515-4b1c-be57-9e7d1d2f0bb0",
   "metadata": {},
   "outputs": [],
   "source": []
  }
 ],
 "metadata": {
  "environment": {
   "kernel": "python3",
   "name": "tf2-cpu.2-11.m112",
   "type": "gcloud",
   "uri": "gcr.io/deeplearning-platform-release/tf2-cpu.2-11:m112"
  },
  "kernelspec": {
   "display_name": "Python 3",
   "language": "python",
   "name": "python3"
  },
  "language_info": {
   "codemirror_mode": {
    "name": "ipython",
    "version": 3
   },
   "file_extension": ".py",
   "mimetype": "text/x-python",
   "name": "python",
   "nbconvert_exporter": "python",
   "pygments_lexer": "ipython3",
   "version": "3.10.12"
  }
 },
 "nbformat": 4,
 "nbformat_minor": 5
}
