{
 "cells": [
  {
   "cell_type": "markdown",
   "id": "85fc04f0-1db9-4d1e-87c3-57757e9b3d29",
   "metadata": {},
   "source": [
    "# Site App with Database \n",
    "\n",
    "* About Me Section\n",
    "* Notepad: Create, Read\n",
    "* Counter"
   ]
  },
  {
   "cell_type": "markdown",
   "id": "f5fdfcdf-448d-4037-be22-7c3e9ed91ca4",
   "metadata": {},
   "source": [
    "## Install and import libraries"
   ]
  },
  {
   "cell_type": "code",
   "execution_count": null,
   "id": "296373dc-818a-41f7-87ab-bd4ff53ff357",
   "metadata": {},
   "outputs": [],
   "source": [
    "!pip install streamlit psycopg2-binary -q"
   ]
  },
  {
   "cell_type": "code",
   "execution_count": null,
   "id": "1483f9ea-4ab6-4174-90a8-09c5d4ac772a",
   "metadata": {},
   "outputs": [],
   "source": [
    "import streamlit as st\n",
    "import psycopg2"
   ]
  },
  {
   "cell_type": "code",
   "execution_count": null,
   "id": "96b8c7c9-1515-4b1c-be57-9e7d1d2f0bb0",
   "metadata": {},
   "outputs": [],
   "source": []
  }
 ],
 "metadata": {
  "environment": {
   "kernel": "python3",
   "name": "tf2-cpu.2-11.m112",
   "type": "gcloud",
   "uri": "gcr.io/deeplearning-platform-release/tf2-cpu.2-11:m112"
  },
  "kernelspec": {
   "display_name": "Python 3",
   "language": "python",
   "name": "python3"
  },
  "language_info": {
   "codemirror_mode": {
    "name": "ipython",
    "version": 3
   },
   "file_extension": ".py",
   "mimetype": "text/x-python",
   "name": "python",
   "nbconvert_exporter": "python",
   "pygments_lexer": "ipython3",
   "version": "3.10.12"
  }
 },
 "nbformat": 4,
 "nbformat_minor": 5
}
