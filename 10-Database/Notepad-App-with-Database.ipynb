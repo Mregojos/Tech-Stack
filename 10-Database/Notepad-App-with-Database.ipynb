{
 "cells": [
  {
   "cell_type": "markdown",
   "id": "85fc04f0-1db9-4d1e-87c3-57757e9b3d29",
   "metadata": {},
   "source": [
    "# Notepad App with Database \n",
    "\n",
    "* Create, Read\n",
    "* Counter"
   ]
  },
  {
   "cell_type": "markdown",
   "id": "f5fdfcdf-448d-4037-be22-7c3e9ed91ca4",
   "metadata": {},
   "source": []
  }
 ],
 "metadata": {
  "environment": {
   "kernel": "python3",
   "name": "tf2-cpu.2-11.m112",
   "type": "gcloud",
   "uri": "gcr.io/deeplearning-platform-release/tf2-cpu.2-11:m112"
  },
  "kernelspec": {
   "display_name": "Python 3",
   "language": "python",
   "name": "python3"
  },
  "language_info": {
   "codemirror_mode": {
    "name": "ipython",
    "version": 3
   },
   "file_extension": ".py",
   "mimetype": "text/x-python",
   "name": "python",
   "nbconvert_exporter": "python",
   "pygments_lexer": "ipython3",
   "version": "3.10.12"
  }
 },
 "nbformat": 4,
 "nbformat_minor": 5
}
