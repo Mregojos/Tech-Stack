{
 "cells": [
  {
   "cell_type": "markdown",
   "id": "5a45da39-0efb-4d4d-b4d7-c9bf228e0114",
   "metadata": {},
   "source": [
    "# PostgreSQL Database\n",
    "\n",
    "Resources:\n",
    "* Docker Hub: https://hub.docker.com\n",
    "* Docker Hub: PostgreSQL\n",
    "* DOcker Hub: pgAdmin\n",
    "* psycopg: https://psycopg.org/docs "
   ]
  },
  {
   "cell_type": "markdown",
   "id": "cdcce520-e7df-42db-b53f-f713518122ae",
   "metadata": {},
   "source": [
    "## Run Postgres and pgAdmin using Docker Hub"
   ]
  },
  {
   "cell_type": "markdown",
   "id": "2ca4020b-5095-4297-9375-18b415d46926",
   "metadata": {},
   "source": [
    "### Postgres Docker"
   ]
  },
  {
   "cell_type": "code",
   "execution_count": null,
   "id": "a36ab808-c220-4969-ac57-c702952f4bfc",
   "metadata": {},
   "outputs": [],
   "source": [
    "!docker run --name postgres-sql -e POSTGRES_USER=matt -e POSTGRES_PASSWORD=password  -d postgres"
   ]
  },
  {
   "cell_type": "code",
   "execution_count": null,
   "id": "ab86a3c1-6eff-499a-ae06-3e65782bafad",
   "metadata": {},
   "outputs": [],
   "source": [
    "!docker run -d \\\n",
    "    --name postgres-sql \\\n",
    "    -e POSTGRES_USER=matt \\\n",
    "    -e POSTGRES_PASSWORD=password \\\n",
    "    -v $(pwd)/data/:/var/lib/postgresql/data/ \\\n",
    "    -p 5000:5432 \\\n",
    "    postgres"
   ]
  },
  {
   "cell_type": "code",
   "execution_count": null,
   "id": "d703788f-f80f-4595-b224-d1079bb254c7",
   "metadata": {},
   "outputs": [],
   "source": [
    "!docker ps"
   ]
  },
  {
   "cell_type": "code",
   "execution_count": null,
   "id": "a9fb61b7-ad6c-4f13-8b9e-4db79d915973",
   "metadata": {},
   "outputs": [],
   "source": [
    "!ls -a"
   ]
  },
  {
   "cell_type": "code",
   "execution_count": null,
   "id": "d6c464a2-be3a-45a7-a72f-2eda5eb87cc9",
   "metadata": {},
   "outputs": [],
   "source": [
    "# Check the data\n",
    "# In a terminal\n",
    "# sudo su\n",
    "# cd $(pwd)/data/\n",
    "# ls -a"
   ]
  },
  {
   "cell_type": "code",
   "execution_count": null,
   "id": "4075b08d-111e-4f33-9226-8bdefd784bfd",
   "metadata": {},
   "outputs": [],
   "source": [
    "# Test the data of the DB\n",
    "# docker rm -f <CONTAINER_ID>\n",
    "# run the docker run <...>\n",
    "# check the pgAdmin\n",
    "# the data persists"
   ]
  },
  {
   "cell_type": "markdown",
   "id": "78f1c839-960c-405b-8d05-ad203a75ec9d",
   "metadata": {},
   "source": [
    "### pgAdmin"
   ]
  },
  {
   "cell_type": "code",
   "execution_count": null,
   "id": "df7fb742-d199-4821-9ef1-ff4339634551",
   "metadata": {},
   "outputs": [],
   "source": [
    "!docker run -p 8000:80 \\\n",
    "    -e 'PGADMIN_DEFAULT_EMAIL=matt@example.com' \\\n",
    "    -e 'PGADMIN_DEFAULT_PASSWORD=password' \\\n",
    "    -d dpage/pgadmin4"
   ]
  },
  {
   "cell_type": "code",
   "execution_count": null,
   "id": "a1db1cd4-c5f4-4699-a361-4058cb4e93fd",
   "metadata": {},
   "outputs": [],
   "source": [
    "!docker ps"
   ]
  },
  {
   "cell_type": "markdown",
   "id": "47a46b30-0089-40fb-8858-a65b218bb58c",
   "metadata": {},
   "source": [
    "### Create a firewall (GCP)"
   ]
  },
  {
   "cell_type": "code",
   "execution_count": null,
   "id": "aad2bc56-e1d8-43ce-a15e-598f91318a53",
   "metadata": {},
   "outputs": [],
   "source": [
    "!gcloud compute --project=$(gcloud config get project) firewall-rules create ports \\\n",
    "    --direction=INGRESS --priority=1000 --network=default --action=ALLOW --rules=tcp:5000,tcp:8000,tcp:5401,tcp:9000 --source-ranges=0.0.0.0/0"
   ]
  },
  {
   "cell_type": "markdown",
   "id": "c4b8da50-30dc-4d84-b13b-ed1ab3927892",
   "metadata": {},
   "source": [
    "### Open pgAdmin Browser"
   ]
  },
  {
   "cell_type": "code",
   "execution_count": null,
   "id": "8a4b96c7-0e21-4414-9c80-c1cdbc8658dc",
   "metadata": {},
   "outputs": [],
   "source": [
    "# http://<IP_ADDRESS>:<PORT>\n",
    "# Login with credentials\n",
    "\n",
    "# Register Server\n",
    "# HOST: <IP_ADDRESS>\n",
    "# PORT: 5000\n",
    "# USER: <POSTGRES_USER>\n",
    "# PASSWORD: <PASSWORD>"
   ]
  },
  {
   "cell_type": "markdown",
   "id": "e42b3cdc-5926-443d-9106-06490a49f54d",
   "metadata": {},
   "source": [
    "## Connect PostgreSQL using psycopg\n",
    "\n",
    "Resource: https://psycopg.org/docs/usage.html"
   ]
  },
  {
   "cell_type": "code",
   "execution_count": null,
   "id": "af05a3bc-8291-498a-b40f-007588bcccd9",
   "metadata": {},
   "outputs": [],
   "source": [
    "# Install psycopg2-binary and streamlit\n",
    "!pip install psycopg2-binary streamlit -q"
   ]
  },
  {
   "cell_type": "code",
   "execution_count": null,
   "id": "38f82d1f-dc99-4fda-b094-bbfc65584fac",
   "metadata": {},
   "outputs": [],
   "source": [
    "# Restart"
   ]
  },
  {
   "cell_type": "code",
   "execution_count": null,
   "id": "f83c2a69-7a73-449c-a69f-1e78213db98b",
   "metadata": {},
   "outputs": [],
   "source": [
    "# Import psycopg2\n",
    "import psycopg2, streamlit as st"
   ]
  },
  {
   "cell_type": "code",
   "execution_count": null,
   "id": "2af55e81-123b-4872-86eb-1d706eb3b5f8",
   "metadata": {},
   "outputs": [],
   "source": [
    "# Connect to an existing database\n",
    "conn = psycopg2.connect(\"\"\"\n",
    "                        dbname=matt\n",
    "                        user=matt\n",
    "                        host=<IP_ADDRESS>\n",
    "                        port=5000\n",
    "                        password=password\n",
    "                        \"\"\")"
   ]
  },
  {
   "cell_type": "code",
   "execution_count": null,
   "id": "f8dc5f58-120d-483f-854a-606ed611a5cf",
   "metadata": {},
   "outputs": [],
   "source": [
    "# Open a cursor to perform database operations\n",
    "cur = conn.cursor()"
   ]
  },
  {
   "cell_type": "code",
   "execution_count": null,
   "id": "73ee3605-84ec-4203-8df1-1ba1707cf1c9",
   "metadata": {},
   "outputs": [],
   "source": [
    "# Execute a command\n",
    "cur.execute(\"\"\"\n",
    "            CREATE TABLE test (id serial PRIMARY KEY, num integer, data varchar);\n",
    "            \"\"\")\n",
    "conn.commit()"
   ]
  },
  {
   "cell_type": "code",
   "execution_count": null,
   "id": "b7a33f38-2dad-4509-848c-1e26a284cc80",
   "metadata": {},
   "outputs": [],
   "source": [
    "cur.execute(\"\"\"\n",
    "            INSERT INTO test (num, data) VALUES (%s, %s)\n",
    "            \"\"\", (100, \"b\"))\n",
    "conn.commit()      "
   ]
  },
  {
   "cell_type": "code",
   "execution_count": null,
   "id": "c1f902a3-a81f-4fd2-9e18-cfb349d77c5d",
   "metadata": {},
   "outputs": [],
   "source": [
    "cur.execute(\"\"\"\n",
    "            SELECT *\n",
    "            FROM test\n",
    "            \"\"\")\n",
    "cur.fetchall() # cur.fecthone()"
   ]
  },
  {
   "cell_type": "code",
   "execution_count": null,
   "id": "d69ae786-4e36-4a36-89b5-b46022a30616",
   "metadata": {},
   "outputs": [],
   "source": [
    "### REMEMBER: DO NOT DO THIS \n",
    "# SQL = \"INSERT INTO test (num, data) VALUES ('%s', '%s');\" # Adding quotes\n",
    "# data = (200, \"c\")\n",
    "# cur.execute(SQL % data) # using %"
   ]
  },
  {
   "cell_type": "code",
   "execution_count": null,
   "id": "ebe586ad-a26d-40f3-81bc-66ea96e99810",
   "metadata": {},
   "outputs": [],
   "source": [
    "# This is the coorect way.\n",
    "SQL = \"INSERT INTO test (num, data) VALUES (%s, %s);\"\n",
    "data = (200, \"c\")\n",
    "cur.execute(SQL, data)"
   ]
  },
  {
   "cell_type": "code",
   "execution_count": null,
   "id": "7ff2fb88-31e6-407b-9631-d8333bf9d59f",
   "metadata": {},
   "outputs": [],
   "source": [
    "cur.execute(\"\"\"\n",
    "            SELECT *\n",
    "            FROM test\n",
    "            \"\"\")\n",
    "cur.fetchall() # cur.fecthone()"
   ]
  },
  {
   "cell_type": "code",
   "execution_count": null,
   "id": "799bacac-36d1-4e6a-af57-70c22a86ed00",
   "metadata": {},
   "outputs": [],
   "source": [
    "# Close communication with database\n",
    "cur.close()\n",
    "conn.close()"
   ]
  }
 ],
 "metadata": {
  "environment": {
   "kernel": "python3",
   "name": "tf2-cpu.2-11.m112",
   "type": "gcloud",
   "uri": "gcr.io/deeplearning-platform-release/tf2-cpu.2-11:m112"
  },
  "kernelspec": {
   "display_name": "Python 3",
   "language": "python",
   "name": "python3"
  },
  "language_info": {
   "codemirror_mode": {
    "name": "ipython",
    "version": 3
   },
   "file_extension": ".py",
   "mimetype": "text/x-python",
   "name": "python",
   "nbconvert_exporter": "python",
   "pygments_lexer": "ipython3",
   "version": "3.10.12"
  }
 },
 "nbformat": 4,
 "nbformat_minor": 5
}
