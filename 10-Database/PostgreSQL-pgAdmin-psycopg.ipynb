{
 "cells": [
  {
   "cell_type": "markdown",
   "id": "5a45da39-0efb-4d4d-b4d7-c9bf228e0114",
   "metadata": {},
   "source": [
    "# PostgreSQL Database\n",
    "\n",
    "Resources:\n",
    "* Docker Hub: https://hub.docker.com\n",
    "* Docker Hub: PostgreSQL\n",
    "* DOcker Hub: pgAdmin\n",
    "* psycopg: https://psycopg.org/docs "
   ]
  },
  {
   "cell_type": "markdown",
   "id": "cdcce520-e7df-42db-b53f-f713518122ae",
   "metadata": {},
   "source": [
    "## Run Postgres and pgAdmin using Docker Hub"
   ]
  },
  {
   "cell_type": "markdown",
   "id": "2ca4020b-5095-4297-9375-18b415d46926",
   "metadata": {},
   "source": [
    "### Postgres Docker"
   ]
  },
  {
   "cell_type": "code",
   "execution_count": null,
   "id": "a36ab808-c220-4969-ac57-c702952f4bfc",
   "metadata": {},
   "outputs": [],
   "source": [
    "!docker run --name postgres-sql -e POSTGRES_USER=matt -e POSTGRES_PASSWORD=password  -d postgres"
   ]
  },
  {
   "cell_type": "code",
   "execution_count": null,
   "id": "ab86a3c1-6eff-499a-ae06-3e65782bafad",
   "metadata": {},
   "outputs": [],
   "source": [
    "!docker run -d \\\n",
    "    --name postgres-sql \\\n",
    "    -e POSTGRES_USER=matt \\\n",
    "    -e POSTGRES_PASSWORD=password \\\n",
    "    -v ${pwd}/data:/var/lib/postgresql/data \\\n",
    "    -p 5000:5432 \\\n",
    "    postgres"
   ]
  },
  {
   "cell_type": "code",
   "execution_count": null,
   "id": "d703788f-f80f-4595-b224-d1079bb254c7",
   "metadata": {},
   "outputs": [],
   "source": [
    "!docker ps"
   ]
  },
  {
   "cell_type": "markdown",
   "id": "78f1c839-960c-405b-8d05-ad203a75ec9d",
   "metadata": {},
   "source": [
    "### pgAdmin"
   ]
  },
  {
   "cell_type": "markdown",
   "id": "47a46b30-0089-40fb-8858-a65b218bb58c",
   "metadata": {},
   "source": [
    "## Create a firewall (GCP)"
   ]
  },
  {
   "cell_type": "code",
   "execution_count": null,
   "id": "aad2bc56-e1d8-43ce-a15e-598f91318a53",
   "metadata": {},
   "outputs": [],
   "source": []
  },
  {
   "cell_type": "markdown",
   "id": "e42b3cdc-5926-443d-9106-06490a49f54d",
   "metadata": {},
   "source": [
    "## Connect PostgreSQL using psycopg"
   ]
  },
  {
   "cell_type": "code",
   "execution_count": null,
   "id": "af05a3bc-8291-498a-b40f-007588bcccd9",
   "metadata": {},
   "outputs": [],
   "source": [
    "# Install psycopg2-binary\n",
    "!pip install psycopg2-binary streamlit -q"
   ]
  },
  {
   "cell_type": "code",
   "execution_count": null,
   "id": "f83c2a69-7a73-449c-a69f-1e78213db98b",
   "metadata": {},
   "outputs": [],
   "source": [
    "# Import psycopg2\n",
    "import psycopg2"
   ]
  },
  {
   "cell_type": "code",
   "execution_count": null,
   "id": "2af55e81-123b-4872-86eb-1d706eb3b5f8",
   "metadata": {},
   "outputs": [],
   "source": []
  }
 ],
 "metadata": {
  "environment": {
   "kernel": "python3",
   "name": "tf2-cpu.2-11.m112",
   "type": "gcloud",
   "uri": "gcr.io/deeplearning-platform-release/tf2-cpu.2-11:m112"
  },
  "kernelspec": {
   "display_name": "Python 3",
   "language": "python",
   "name": "python3"
  },
  "language_info": {
   "codemirror_mode": {
    "name": "ipython",
    "version": 3
   },
   "file_extension": ".py",
   "mimetype": "text/x-python",
   "name": "python",
   "nbconvert_exporter": "python",
   "pygments_lexer": "ipython3",
   "version": "3.10.12"
  }
 },
 "nbformat": 4,
 "nbformat_minor": 5
}
