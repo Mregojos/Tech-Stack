{
 "cells": [
  {
   "cell_type": "markdown",
   "id": "5a45da39-0efb-4d4d-b4d7-c9bf228e0114",
   "metadata": {},
   "source": [
    "# PostgreSQL Database\n",
    "\n",
    "Resources:\n",
    "* Docker Hub: https://hub.docker.com\n",
    "* Docker Hub: PostgreSQL\n",
    "* DOcker Hub: pgAdmin\n",
    "* psycopg: https://psycopg.org/docs "
   ]
  },
  {
   "cell_type": "markdown",
   "id": "cdcce520-e7df-42db-b53f-f713518122ae",
   "metadata": {},
   "source": [
    "## Run Postgres and pgAdmin using Docker Hub"
   ]
  },
  {
   "cell_type": "code",
   "execution_count": null,
   "id": "a36ab808-c220-4969-ac57-c702952f4bfc",
   "metadata": {},
   "outputs": [],
   "source": []
  },
  {
   "cell_type": "code",
   "execution_count": null,
   "id": "ab86a3c1-6eff-499a-ae06-3e65782bafad",
   "metadata": {},
   "outputs": [],
   "source": []
  },
  {
   "cell_type": "markdown",
   "id": "e42b3cdc-5926-443d-9106-06490a49f54d",
   "metadata": {},
   "source": [
    "## Connect PostgreSQL using psycopg"
   ]
  },
  {
   "cell_type": "code",
   "execution_count": null,
   "id": "af05a3bc-8291-498a-b40f-007588bcccd9",
   "metadata": {},
   "outputs": [],
   "source": []
  }
 ],
 "metadata": {
  "environment": {
   "kernel": "python3",
   "name": "tf2-cpu.2-11.m112",
   "type": "gcloud",
   "uri": "gcr.io/deeplearning-platform-release/tf2-cpu.2-11:m112"
  },
  "kernelspec": {
   "display_name": "Python 3",
   "language": "python",
   "name": "python3"
  },
  "language_info": {
   "codemirror_mode": {
    "name": "ipython",
    "version": 3
   },
   "file_extension": ".py",
   "mimetype": "text/x-python",
   "name": "python",
   "nbconvert_exporter": "python",
   "pygments_lexer": "ipython3",
   "version": "3.10.12"
  }
 },
 "nbformat": 4,
 "nbformat_minor": 5
}
