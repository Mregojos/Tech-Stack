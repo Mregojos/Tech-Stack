{
 "cells": [
  {
   "cell_type": "markdown",
   "id": "c91750c3-8c65-4bd9-aea6-f691c1c483d0",
   "metadata": {},
   "source": [
    "# NoSQL"
   ]
  },
  {
   "cell_type": "markdown",
   "id": "1adb60c0-d39b-495a-a2da-f97edd1cfc62",
   "metadata": {},
   "source": [
    "### PyMongo"
   ]
  },
  {
   "cell_type": "code",
   "execution_count": null,
   "id": "b2d048f4-075a-4c93-a9bc-cd0dec95644c",
   "metadata": {},
   "outputs": [],
   "source": []
  }
 ],
 "metadata": {
  "environment": {
   "kernel": "python3",
   "name": "tf2-cpu.2-11.m112",
   "type": "gcloud",
   "uri": "gcr.io/deeplearning-platform-release/tf2-cpu.2-11:m112"
  },
  "kernelspec": {
   "display_name": "Python 3",
   "language": "python",
   "name": "python3"
  },
  "language_info": {
   "codemirror_mode": {
    "name": "ipython",
    "version": 3
   },
   "file_extension": ".py",
   "mimetype": "text/x-python",
   "name": "python",
   "nbconvert_exporter": "python",
   "pygments_lexer": "ipython3",
   "version": "3.10.12"
  }
 },
 "nbformat": 4,
 "nbformat_minor": 5
}
