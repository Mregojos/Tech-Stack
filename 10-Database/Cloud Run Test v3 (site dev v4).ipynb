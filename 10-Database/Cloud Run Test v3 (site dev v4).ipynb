{
 "cells": [
  {
   "cell_type": "markdown",
   "id": "0977a842-6bb8-487d-9824-038b170633e4",
   "metadata": {},
   "source": [
    "# Cloud Run Test v3 (site dev v4)"
   ]
  },
  {
   "cell_type": "markdown",
   "id": "5aa68b68-98aa-44d5-acbe-673a593348ac",
   "metadata": {},
   "source": [
    "# Cloud Run Test"
   ]
  },
  {
   "cell_type": "code",
   "execution_count": null,
   "id": "2b00e662-94bf-42f4-8486-82e4c785fd2a",
   "metadata": {},
   "outputs": [],
   "source": [
    "# Simple App"
   ]
  },
  {
   "cell_type": "code",
   "execution_count": null,
   "id": "657aa36a-3efa-4883-ad0f-c484e2ffb746",
   "metadata": {},
   "outputs": [],
   "source": [
    "!mkdir cloud-run-test-v3"
   ]
  },
  {
   "cell_type": "code",
   "execution_count": null,
   "id": "770a22e2-0f46-4c04-8112-e6b96d370acd",
   "metadata": {},
   "outputs": [],
   "source": [
    "cd cloud-run-test-v3"
   ]
  },
  {
   "cell_type": "code",
   "execution_count": null,
   "id": "ab7a43b0-ed20-4882-9dc3-83a292742c9e",
   "metadata": {},
   "outputs": [],
   "source": [
    "%%writefile env.py\n",
    "# DB Credentials\n",
    "DBNAME=\"matt\"\n",
    "USER='matt'\n",
    "HOST= ''\n",
    "PORT='5000'\n",
    "PASSWORD='password'"
   ]
  },
  {
   "cell_type": "code",
   "execution_count": null,
   "id": "fd0ceb2d-eed7-4f1b-b707-2c13f57c6abf",
   "metadata": {},
   "outputs": [],
   "source": [
    "%%writefile app.py\n",
    "# Import libraries\n",
    "import streamlit as st\n",
    "import psycopg2\n",
    "import os\n",
    "import time\n",
    "import vertexai\n",
    "from vertexai.language_models import TextGenerationModel\n",
    "from env import *\n",
    "\n",
    "#----------Page Configuration----------# \n",
    "st.set_page_config(page_title=\"Matt Cloud Tech\",\n",
    "                   page_icon=\":cloud:\",\n",
    "                   menu_items={\n",
    "                       'About':\"# Matt Cloud Tech Version 4\"})\n",
    "\n",
    "#----------About Me Section----------#\n",
    "st.title(\":cloud: Matt Cloud Tech v4\")\n",
    "st.header(\"\", divider=\"rainbow\")\n",
    "\n",
    "st.write(\"\"\"\n",
    "        ### Good day :wave:.\n",
    "        ### My name is :blue[Matt]. I am a Cloud Technology Enthusiast.\n",
    "        ### Currently, I am learning and building Cloud Infrastructure, Data and CI/CD Pipelines, and Intelligent Systems. \n",
    "        \"\"\") \n",
    "st.divider()\n",
    "st.write(\":link: :computer: [Personal Website](https://)\")\n",
    "st.write(\":link: :book: [Project Repository](https://)\")\n",
    "st.write(\":link: :notebook: [Blog](https://)\")\n",
    "st.write(\":link: :hand: [Connect with me](https://)\")\n",
    "#----------End of About Me Section----------#\n",
    "\n",
    "#----------Portfolio Section----------#\n",
    "st.header(\"Project Collections\",divider=\"rainbow\")\n",
    "\n",
    "st.write(\"#### :link: [PROJECT TITLE #1](https://)\")\n",
    "st.caption(\"Caption\")\n",
    "# with st.expander(f\"Learn more\"):\n",
    "#    st.write(\"Description\")\n",
    "    \n",
    "st.divider()\n",
    "\n",
    "st.write(\"#### :link: [PROJECT TITLE #2](https://)\")\n",
    "st.caption(\"Caption\")\n",
    "# with st.expander(f\"Learn more\"):\n",
    "#    st.write(\"Description\")\n",
    "st.divider()\n",
    "\n",
    "#----------End of Portfolio Section----------#\n",
    "\n",
    "#----------Notepad Section----------#\n",
    "st.header(\"Notepad :notebook:\",divider=\"rainbow\")\n",
    "st.caption(\"\"\"\n",
    "            Add your thoughts here! It will be stored in a database! \\n\n",
    "            :warning: :red[Do not add sensitive data.]\n",
    "            \"\"\")\n",
    "# Connect to a database\n",
    "con = psycopg2.connect(f\"\"\"\n",
    "                       dbname={DBNAME}\n",
    "                       user={USER}\n",
    "                       host={HOST}\n",
    "                       port={PORT}\n",
    "                       password={PASSWORD}\n",
    "                       \"\"\")\n",
    "cur = con.cursor()\n",
    "\n",
    "# Create a table if not exists\n",
    "cur.execute(\"CREATE TABLE IF NOT EXISTS notes(id serial PRIMARY KEY, name varchar, header varchar, note varchar, time varchar)\")\n",
    "con.commit()\n",
    "\n",
    "# Inputs\n",
    "name = st.text_input(\"Your Name\")\n",
    "header = st.text_input(\"Header\")\n",
    "note = st.text_area(\"Note\")\n",
    "if st.button(\"Add a note\"):\n",
    "    time = time.strftime(\"Date: %Y-%m-%d | Time: %H:%M:%S UTC\")\n",
    "    st.write(f\"\"\" \\n\n",
    "            ##### :pencil: {header} \\n\n",
    "            #### {note} \\n\n",
    "            :man: {name} \\n\"\"\")\n",
    "    st.caption(f\":watch: {time}\")\n",
    "    st.success(\"Successfully Added.\")\n",
    "    # st.balloons()\n",
    "    ### Insert into adatabase\n",
    "    SQL = \"INSERT INTO notes (name, header, note, time) VALUES(%s, %s, %s, %s);\"\n",
    "    data = (name, header, note, time)\n",
    "    cur.execute(SQL, data)\n",
    "    con.commit()\n",
    "    \n",
    "# Previous Notes \n",
    "st.divider()\n",
    "st.write(\"### *Previous Notes*\")\n",
    "# Write the data\n",
    "cur.execute(\"\"\"\n",
    "            SELECT * \n",
    "            FROM notes\n",
    "            ORDER BY time DESC\n",
    "            \"\"\")\n",
    "for id, name, header, note, time in cur.fetchall():\n",
    "    st.write(f\"\"\" \\n\n",
    "            ##### :pencil: {header} \\n\n",
    "            #### {note} \\n\n",
    "            :man: {name} \\n\"\"\")\n",
    "    st.caption(f\":watch: {time}\")\n",
    "\n",
    "    with st.expander(f\"Edit or Delete (ID #: {id})\"):\n",
    "        name = st.text_input(f\"Your Name (ID #: {id})\", name)\n",
    "        header = st.text_input(f\"Header (ID #: {id})\", header)\n",
    "        note = st.text_area(f\"Note (ID #: {id})\", note)\n",
    "        if st.button(f\"UPDATE ID #: {id}\"):\n",
    "            SQL = \" UPDATE notes SET id=%s, name=%s, header=%s, note=%s WHERE id = %s\"\n",
    "            data = (id, name, header, note, id)\n",
    "            cur.execute(SQL, data)\n",
    "            con.commit()\n",
    "            st.success(\"Successfully Edited.\")\n",
    "        if st.button(f\"DELETE ID #: {id}\"):\n",
    "            cur.execute(f\"DELETE FROM notes WHERE id = {id}\")\n",
    "            con.commit()\n",
    "            st.success(\"Successfully Deleted.\")\n",
    "    st.subheader(\"\",divider=\"gray\")\n",
    "    \n",
    "# Close Connection\n",
    "cur.close()\n",
    "con.close()\n",
    "#----------End of Notepad Section----------#\n",
    "\n",
    "#----------Counter----------#\n",
    "st.header(\"Counter\")\n",
    "st.caption(\"\"\"\n",
    "            Count every request in this app.\n",
    "            \"\"\")\n",
    "st.subheader(\"\",divider=\"rainbow\")\n",
    "\n",
    "con = psycopg2.connect(f\"\"\"\n",
    "                       dbname={DBNAME}\n",
    "                       user={USER}\n",
    "                       host={HOST}\n",
    "                       port={PORT}\n",
    "                       password={PASSWORD}\n",
    "                       \"\"\")\n",
    "cur = con.cursor()\n",
    "# Create a table if not exists\n",
    "cur.execute(\"CREATE TABLE IF NOT EXISTS counter(id serial PRIMARY KEY, view int, time varchar)\")\n",
    "con.commit()\n",
    "\n",
    "# Counter\n",
    "import time\n",
    "time = time.strftime(\"Date: %Y-%m-%d | Time: %H:%M:%S UTC\")\n",
    "view = 1\n",
    "### Insert into a database\n",
    "SQL = \"INSERT INTO counter (view, time) VALUES(%s, %s);\"\n",
    "data = (view, time)\n",
    "cur.execute(SQL, data)\n",
    "con.commit()\n",
    "\n",
    "# Total views\n",
    "cur.execute(\"\"\"\n",
    "            SELECT SUM(view) \n",
    "            FROM counter\n",
    "            \"\"\")\n",
    "st.write(f\"### Total views: **{cur.fetchone()[0]}**\")\n",
    "\n",
    "# Current view\n",
    "st.write(f\"Current: {time}\")\n",
    "# Previous views\n",
    "st.divider()\n",
    "with st.expander(\"See Previous Views\"):\n",
    "    st.write(\"**Previous Views**\")\n",
    "    cur.execute(\"\"\"\n",
    "                SELECT * \n",
    "                FROM counter\n",
    "                ORDER BY time DESC\n",
    "                \"\"\")\n",
    "    for _, _, time in cur.fetchall():\n",
    "        st.text(f\"{time}\")\n",
    "    \n",
    "# Close Connection\n",
    "cur.close()\n",
    "con.close()\n",
    "#----------End of Counter----------#\n",
    "\n",
    "#----------Agent Section----------#\n",
    "#----------Vertex AI----------#\n",
    "vertexai.init(project=\"matt-project-training\", location=\"us-central1\")\n",
    "parameters = {\n",
    "    \"candidate_count\": 1,\n",
    "    \"max_output_tokens\": 1024,\n",
    "    \"temperature\": 0.2,\n",
    "    \"top_p\": 0.8,\n",
    "    \"top_k\": 40\n",
    "}\n",
    "model = TextGenerationModel.from_pretrained(\"text-bison\")\n",
    "\n",
    "# response = model.predict(\n",
    "#    \"\"\"Hi\"\"\",\n",
    "#    **parameters\n",
    "# )\n",
    "# st.write(f\"Response from Model: {response.text}\")\n",
    "\n",
    "#----------End of Vertex AI----------#\n",
    "import time\n",
    "st.header(\":computer: Agent :construction:\",divider=\"rainbow\")\n",
    "st.caption(\"### Chat with my agent (still under construction)\")\n",
    "st.write(f\":violet[Your chat will be stored in a database, so use the same name to see your past conversations]\")\n",
    "st.caption(\":warning: :red[Do not add sensitive data.]\")\n",
    "\n",
    "\n",
    "               \n",
    "# Variable\n",
    "database_name = DBNAME\n",
    "# Connect to a database\n",
    "con = psycopg2.connect(f\"\"\"\n",
    "                       dbname={DBNAME}\n",
    "                       user={USER}\n",
    "                       host={HOST}\n",
    "                       port={PORT}\n",
    "                       password={PASSWORD}\n",
    "                       \"\"\")\n",
    "cur = con.cursor()\n",
    "# Create a table if not exists\n",
    "cur.execute(\"CREATE TABLE IF NOT EXISTS chats(id serial PRIMARY KEY, name varchar, prompt varchar, output varchar, time varchar)\")\n",
    "con.commit()\n",
    "\n",
    "# Prompt\n",
    "input_name = st.text_input(\"Your Name:\")\n",
    "agent = st.toggle(\"**Let's go**\")\n",
    "if agent:\n",
    "    st.write(f\"Your name for this chat is :blue[{input_name}]\")\n",
    "    prompt = st.chat_input(\"Talk to my agent\")\n",
    "    if prompt:\n",
    "        time = time.strftime(\"Date: %Y-%m-%d | Time: %H:%M:%S UTC\")\n",
    "        message = st.chat_message(\"user\")\n",
    "        message.write(f\":blue[{input_name}]: {prompt}\")\n",
    "        message.caption(f\"{time}\")\n",
    "        message = st.chat_message(\"assistant\")\n",
    "        response = model.predict(prompt,\n",
    "            **parameters\n",
    "        )\n",
    "        output = response.text\n",
    "        message.write(output)\n",
    "        message.caption(f\"{time}\")\n",
    "        st.divider()\n",
    "\n",
    "        ### Insert into a database\n",
    "        SQL = \"INSERT INTO chats (name, prompt, output, time) VALUES(%s, %s, %s, %s);\"\n",
    "        data = (input_name, prompt, output, time)\n",
    "        cur.execute(SQL, data)\n",
    "        con.commit()\n",
    "\n",
    "\n",
    "    with st.expander(f\"See Previous Conversation for {input_name}\"):\n",
    "        cur.execute(f\"\"\"\n",
    "                    SELECT * \n",
    "                    FROM chats\n",
    "                    WHERE name='{input_name}'\n",
    "                    ORDER BY time ASC\n",
    "                    \"\"\")\n",
    "        for id, name, prompt, output, time in cur.fetchall():\n",
    "            message = st.chat_message(\"user\")\n",
    "            message.write(f\":blue[{name}]: {prompt}\")\n",
    "            message.caption(f\"{time}\")\n",
    "            message = st.chat_message(\"assistant\")\n",
    "            message.write(output)\n",
    "            message.caption(f\"{time}\")\n",
    "# Close Connection\n",
    "cur.close()\n",
    "con.close()\n",
    "#----------End of Agent Section----------#\n",
    "\n",
    "st.write(\"It's working. tag6\")\n",
    "st.write(USER)"
   ]
  },
  {
   "cell_type": "code",
   "execution_count": null,
   "id": "8ef7e79e-ec16-4667-85b1-36bb83ad1291",
   "metadata": {},
   "outputs": [],
   "source": [
    "%%writefile Dockerfile\n",
    "FROM python\n",
    "WORKDIR /app\n",
    "RUN pip install streamlit psycopg2-binary google-cloud-aiplatform -q\n",
    "COPY . /app\n",
    "EXPOSE 9000\n",
    "CMD [\"streamlit\", \"run\", \"app.py\", \"--server.address\", \"0.0.0.0\", \"--server.port\", \"9000\"]"
   ]
  },
  {
   "cell_type": "code",
   "execution_count": null,
   "id": "937539d9-7bed-4c29-8064-d86c396e6f56",
   "metadata": {},
   "outputs": [],
   "source": [
    "cd cloud-run-test-v3"
   ]
  },
  {
   "cell_type": "code",
   "execution_count": null,
   "id": "f98ca2b7-4fa1-46c0-9c1d-43c98d34d59d",
   "metadata": {},
   "outputs": [],
   "source": [
    "!pwd"
   ]
  },
  {
   "cell_type": "code",
   "execution_count": null,
   "id": "018bdf01-53d7-47f7-9a53-72b98c10d9b8",
   "metadata": {},
   "outputs": [],
   "source": [
    "!docker build -t simple-app . -q"
   ]
  },
  {
   "cell_type": "code",
   "execution_count": null,
   "id": "02a20d84-fd85-4d8c-928f-b4ac4a10f0fe",
   "metadata": {},
   "outputs": [],
   "source": [
    "# List images\n",
    "!docker images"
   ]
  },
  {
   "cell_type": "code",
   "execution_count": null,
   "id": "a7fab761-7294-444e-a95f-433d497e1760",
   "metadata": {},
   "outputs": [],
   "source": [
    "# Run the app in detached mode\n",
    "!docker run -d -p 9000:9000 -v $(pwd):/app --name simple-app simple-app"
   ]
  },
  {
   "cell_type": "code",
   "execution_count": null,
   "id": "04c0a2a5-6de7-40b7-8806-43d86dc27506",
   "metadata": {},
   "outputs": [],
   "source": [
    "!docker ps -a"
   ]
  },
  {
   "cell_type": "code",
   "execution_count": null,
   "id": "898455f1-3f6c-4ab6-95f3-4f8f74309da0",
   "metadata": {},
   "outputs": [],
   "source": [
    "# Remove all docker ps\n",
    "# !docker rm -f $(docker ps -aq)"
   ]
  },
  {
   "cell_type": "code",
   "execution_count": null,
   "id": "27febaed-f432-427a-977f-3cea7ff0704a",
   "metadata": {},
   "outputs": [],
   "source": [
    "!docker rm -f simple-app"
   ]
  },
  {
   "cell_type": "markdown",
   "id": "524114f9-6779-4fc5-a528-b9279f16bf31",
   "metadata": {},
   "source": [
    "### Deployment"
   ]
  },
  {
   "cell_type": "markdown",
   "id": "d4a51c9b-69a3-4ab5-bfed-c6ac54dceca9",
   "metadata": {
    "tags": []
   },
   "source": [
    "#### Deploy using Cloud Build, Artifact Registry, and Cloud Run"
   ]
  },
  {
   "cell_type": "code",
   "execution_count": null,
   "id": "5aefbed4-a9bd-42ad-92c1-7bf0748605cf",
   "metadata": {},
   "outputs": [],
   "source": [
    "%%sh\n",
    "# Create a Docker repository in Artifact Registry\n",
    "gcloud artifacts repositories create app \\\n",
    "    --repository-format=docker \\\n",
    "    --location=us-west2 \\\n",
    "    --description=\"Docker repository\""
   ]
  },
  {
   "cell_type": "code",
   "execution_count": null,
   "id": "5e0f1bb9-bf88-4822-a9ae-6792da941a8b",
   "metadata": {},
   "outputs": [],
   "source": [
    "%%sh\n",
    "# Verify\n",
    "gcloud artifacts repositories list"
   ]
  },
  {
   "cell_type": "markdown",
   "id": "d0301f4a-a0ce-4578-93ed-79100c4df0a3",
   "metadata": {},
   "source": [
    "#### Build an image using Dockerfile"
   ]
  },
  {
   "cell_type": "code",
   "execution_count": null,
   "id": "ed51cd65-2a07-425b-9885-2186084dee2c",
   "metadata": {},
   "outputs": [],
   "source": [
    "# Check if the path is correct\n",
    "!pwd"
   ]
  },
  {
   "cell_type": "code",
   "execution_count": null,
   "id": "dee92ebe-b8ce-4079-b5eb-2fc36eeb49db",
   "metadata": {},
   "outputs": [],
   "source": [
    "cd cloud-run-test-v2"
   ]
  },
  {
   "cell_type": "code",
   "execution_count": null,
   "id": "8dc68c7e-3df9-45d7-bc3e-de3172bd08cb",
   "metadata": {},
   "outputs": [],
   "source": [
    "!gcloud builds submit \\\n",
    "    --region=us-west2 \\\n",
    "    --tag us-west2-docker.pkg.dev/$(gcloud config get-value project)/app/app:tag1"
   ]
  },
  {
   "cell_type": "code",
   "execution_count": null,
   "id": "434d0fca-cdc8-4a03-a054-aa729f8b5f74",
   "metadata": {},
   "outputs": [],
   "source": [
    "# It's still really working. ^_^"
   ]
  },
  {
   "cell_type": "code",
   "execution_count": null,
   "id": "aa509218-bd5b-48f5-bd69-fc85fb4a57fd",
   "metadata": {},
   "outputs": [],
   "source": []
  },
  {
   "cell_type": "code",
   "execution_count": null,
   "id": "ae54a477-d571-4905-b31b-32e6e4f7724a",
   "metadata": {},
   "outputs": [],
   "source": []
  }
 ],
 "metadata": {
  "environment": {
   "kernel": "python3",
   "name": "tf2-cpu.2-11.m112",
   "type": "gcloud",
   "uri": "gcr.io/deeplearning-platform-release/tf2-cpu.2-11:m112"
  },
  "kernelspec": {
   "display_name": "Python 3",
   "language": "python",
   "name": "python3"
  },
  "language_info": {
   "codemirror_mode": {
    "name": "ipython",
    "version": 3
   },
   "file_extension": ".py",
   "mimetype": "text/x-python",
   "name": "python",
   "nbconvert_exporter": "python",
   "pygments_lexer": "ipython3",
   "version": "3.10.12"
  }
 },
 "nbformat": 4,
 "nbformat_minor": 5
}
