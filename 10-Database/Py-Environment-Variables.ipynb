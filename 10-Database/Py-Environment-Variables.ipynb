{
 "cells": [
  {
   "cell_type": "markdown",
   "id": "be835ee9-ba71-4938-9769-e29466f41f70",
   "metadata": {},
   "source": [
    "## Python Environment Variables"
   ]
  },
  {
   "cell_type": "code",
   "execution_count": 2,
   "id": "b8798907-6c38-4d9e-9cec-590e221d4c9a",
   "metadata": {},
   "outputs": [
    {
     "name": "stdout",
     "output_type": "stream",
     "text": [
      "Writing env.py\n"
     ]
    }
   ],
   "source": [
    "%%writefile env.py\n",
    "NAME=\"MATT\""
   ]
  },
  {
   "cell_type": "code",
   "execution_count": 9,
   "id": "f1f09de1-c5f1-4784-ab8d-f6b290bfdd96",
   "metadata": {},
   "outputs": [
    {
     "name": "stdout",
     "output_type": "stream",
     "text": [
      "Overwriting main.py\n"
     ]
    }
   ],
   "source": [
    "%%writefile main.py\n",
    "from env import * # or from env import NAME # or import env; env.NAME\n",
    "print(NAME)"
   ]
  },
  {
   "cell_type": "code",
   "execution_count": 10,
   "id": "279a8e14-2b21-487e-bd0f-ee2fd3770adf",
   "metadata": {},
   "outputs": [
    {
     "name": "stdout",
     "output_type": "stream",
     "text": [
      "MATT\n"
     ]
    }
   ],
   "source": [
    "!python main.py"
   ]
  },
  {
   "cell_type": "code",
   "execution_count": 14,
   "id": "bd74c801-bd26-4f46-93fb-73ddbed62dbb",
   "metadata": {},
   "outputs": [
    {
     "data": {
      "text/plain": [
       "'MATT'"
      ]
     },
     "execution_count": 14,
     "metadata": {},
     "output_type": "execute_result"
    }
   ],
   "source": [
    "import env\n",
    "env.NAME"
   ]
  }
 ],
 "metadata": {
  "environment": {
   "kernel": "python3",
   "name": "tf2-cpu.2-11.m112",
   "type": "gcloud",
   "uri": "gcr.io/deeplearning-platform-release/tf2-cpu.2-11:m112"
  },
  "kernelspec": {
   "display_name": "Python 3",
   "language": "python",
   "name": "python3"
  },
  "language_info": {
   "codemirror_mode": {
    "name": "ipython",
    "version": 3
   },
   "file_extension": ".py",
   "mimetype": "text/x-python",
   "name": "python",
   "nbconvert_exporter": "python",
   "pygments_lexer": "ipython3",
   "version": "3.10.12"
  }
 },
 "nbformat": 4,
 "nbformat_minor": 5
}
