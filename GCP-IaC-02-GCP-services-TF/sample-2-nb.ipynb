{
 "cells": [
  {
   "cell_type": "markdown",
   "id": "9388ea54-a143-4459-800a-698d79881ae6",
   "metadata": {},
   "source": [
    "# Sample-2\n",
    "\n",
    "Reference: terraform.io/docs"
   ]
  },
  {
   "cell_type": "markdown",
   "id": "57cc8499-1b90-4497-bd44-2aa63fa656ae",
   "metadata": {},
   "source": [
    "## Sample-2 Without using variables.tf"
   ]
  },
  {
   "cell_type": "code",
   "execution_count": null,
   "id": "aa98f006-f85e-48e5-8ccf-85f9f5d38384",
   "metadata": {},
   "outputs": [],
   "source": [
    "%%writefile main.tf\n",
    "# Provider\n",
    "terraform {\n",
    "  required_providers {\n",
    "    google = {\n",
    "      source = \"hashicorp/google\"\n",
    "      version = \"4.51.0\"\n",
    "    }\n",
    "  }\n",
    "}\n",
    "\n",
    "provider \"google\" {\n",
    "  project = \"<PROJECT_ID>\"\n",
    "  region  = \"northamerica-northeast1\"\n",
    "  zone    = \"northamerica-northeast1-a\"\n",
    "}\n",
    "\n",
    "# Create VPC Network resource\n",
    "resource \"google_compute_network\" \"vpc_network\" {\n",
    "  name = \"terraform-network\"\n",
    "}\n",
    "\n",
    "# Create VM Instance resource\n",
    "resource \"google_compute_instance\" \"vm_instance\" {\n",
    "  name         = \"terraform-instance\"\n",
    "  machine_type = \"e2-standard-4\"\n",
    "  tags         = [\"web\", \"dev\"]\n",
    "\n",
    "  boot_disk {\n",
    "    initialize_params {\n",
    "      image = \"debian-cloud/debian-11\"\n",
    "    }\n",
    "  }\n",
    "\n",
    "  network_interface {\n",
    "    network = google_compute_network.vpc_network.name\n",
    "    access_config {\n",
    "    }\n",
    "  }\n",
    "}\n",
    "\n",
    " "
   ]
  },
  {
   "cell_type": "code",
   "execution_count": null,
   "id": "9deee386-e36f-4097-bf64-dc43e18a9a32",
   "metadata": {},
   "outputs": [],
   "source": [
    "!terraform init"
   ]
  },
  {
   "cell_type": "code",
   "execution_count": null,
   "id": "3fcbbef5-0105-4ad2-b55c-f6a46ba2fe74",
   "metadata": {},
   "outputs": [],
   "source": [
    "!terraform fmt"
   ]
  },
  {
   "cell_type": "code",
   "execution_count": null,
   "id": "77a7dfe9-a315-45c3-8000-96bfd5acf0ef",
   "metadata": {},
   "outputs": [],
   "source": [
    "!terraform validate"
   ]
  },
  {
   "cell_type": "code",
   "execution_count": null,
   "id": "aae2cb90-b825-4eb8-acbc-0328b4fccec0",
   "metadata": {},
   "outputs": [],
   "source": [
    "!terraform apply -auto-approve"
   ]
  },
  {
   "cell_type": "code",
   "execution_count": null,
   "id": "0cdd3e64-66fa-4ad9-97cf-ba17bda24b83",
   "metadata": {},
   "outputs": [],
   "source": [
    "!terraform show"
   ]
  },
  {
   "cell_type": "code",
   "execution_count": null,
   "id": "4a750d88-8355-4b47-b586-0f694fd274f4",
   "metadata": {},
   "outputs": [],
   "source": [
    "!terraform destroy -auto-approve"
   ]
  },
  {
   "cell_type": "markdown",
   "id": "e71cc294-0254-45d4-9521-4ef08abde15c",
   "metadata": {},
   "source": [
    "## Sample-2 With variables.tf"
   ]
  },
  {
   "cell_type": "code",
   "execution_count": null,
   "id": "15811e68-bd82-44aa-8f85-a72674e47d61",
   "metadata": {},
   "outputs": [],
   "source": [
    "%%writefile main.tf\n",
    "# Provider\n",
    "terraform {\n",
    "  required_providers {\n",
    "    google = {\n",
    "      source = \"hashicorp/google\"\n",
    "      version = \"4.51.0\"\n",
    "    }\n",
    "  }\n",
    "}\n",
    "\n",
    "provider \"google\" {\n",
    "  project = var.project\n",
    "  region  = var.region\n",
    "  zone    = var.zone\n",
    "}\n",
    "\n",
    "# Create VPC Network resource\n",
    "resource \"google_compute_network\" \"vpc_network\" {\n",
    "  name = \"terraform-network\"\n",
    "}\n",
    "\n",
    "# Create VM Instance resource\n",
    "resource \"google_compute_instance\" \"vm_instance\" {\n",
    "  name         = \"terraform-instance\"\n",
    "  machine_type = \"e2-standard-4\"\n",
    "  tags         = [\"web\", \"dev\"]\n",
    "\n",
    "  boot_disk {\n",
    "    initialize_params {\n",
    "      image = \"debian-cloud/debian-11\"\n",
    "    }\n",
    "  }\n",
    "\n",
    "  network_interface {\n",
    "    network = google_compute_network.vpc_network.name\n",
    "    access_config {\n",
    "    }\n",
    "  }\n",
    "}\n",
    "\n",
    " "
   ]
  },
  {
   "cell_type": "code",
   "execution_count": null,
   "id": "ff3618ea-4240-4070-829d-501c623989b7",
   "metadata": {},
   "outputs": [],
   "source": [
    "%%writefile variables.tf\n",
    "# Variables\n",
    "variable \"project\" {}\n",
    "\n",
    "variable \"region\" {\n",
    "  default = \"northamerica-northeast1\"\n",
    "}\n",
    "\n",
    "variable \"zone\" {\n",
    "  default = \"northamerica-northeast1-a\"\n",
    "}"
   ]
  },
  {
   "cell_type": "code",
   "execution_count": null,
   "id": "dfd54bfd-10f4-4a38-8cb8-779e49a80b51",
   "metadata": {},
   "outputs": [],
   "source": [
    "%%writefile terraform.tfvars\n",
    "# Never commit in repo\n",
    "project       = \"<PROJECT_ID>\""
   ]
  },
  {
   "cell_type": "code",
   "execution_count": null,
   "id": "5d44bd47-1b70-4495-af3a-ab7fba6726f1",
   "metadata": {},
   "outputs": [],
   "source": [
    "!terraform apply -auto-approve"
   ]
  },
  {
   "cell_type": "code",
   "execution_count": null,
   "id": "582cb448-8cf5-4549-b005-44ca2176abeb",
   "metadata": {},
   "outputs": [],
   "source": [
    "%%writefile outputs.tf\n",
    "output \"ip\" {\n",
    "  value = google_compute_instance.vm_instance.network_interface.0.network_ip\n",
    "}\n"
   ]
  },
  {
   "cell_type": "code",
   "execution_count": null,
   "id": "cba1443c-d122-4177-aa94-4fb101229c7b",
   "metadata": {},
   "outputs": [],
   "source": [
    "!terraform apply -auto-approve"
   ]
  },
  {
   "cell_type": "code",
   "execution_count": null,
   "id": "026680f5-8aee-4f63-98a6-7efb56f3bdfd",
   "metadata": {},
   "outputs": [],
   "source": [
    "!terraform output"
   ]
  },
  {
   "cell_type": "code",
   "execution_count": null,
   "id": "0cc24743-fdec-4248-993d-279032d5d245",
   "metadata": {},
   "outputs": [],
   "source": [
    "!terraform destroy -auto-approve"
   ]
  }
 ],
 "metadata": {
  "environment": {
   "kernel": "python3",
   "name": "tf2-cpu.2-11.m112",
   "type": "gcloud",
   "uri": "gcr.io/deeplearning-platform-release/tf2-cpu.2-11:m112"
  },
  "kernelspec": {
   "display_name": "Python 3",
   "language": "python",
   "name": "python3"
  },
  "language_info": {
   "codemirror_mode": {
    "name": "ipython",
    "version": 3
   },
   "file_extension": ".py",
   "mimetype": "text/x-python",
   "name": "python",
   "nbconvert_exporter": "python",
   "pygments_lexer": "ipython3",
   "version": "3.10.12"
  }
 },
 "nbformat": 4,
 "nbformat_minor": 5
}
