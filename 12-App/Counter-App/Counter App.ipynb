{
 "cells": [
  {
   "cell_type": "markdown",
   "id": "8f5c81cc-0d45-4baf-a1b4-2209c9c9910e",
   "metadata": {},
   "source": [
    "# Counter App"
   ]
  },
  {
   "cell_type": "code",
   "execution_count": null,
   "id": "76cad505-6925-4c0e-80d4-7a4526ead2b3",
   "metadata": {},
   "outputs": [],
   "source": []
  }
 ],
 "metadata": {
  "environment": {
   "kernel": "python3",
   "name": "tf2-cpu.2-11.m112",
   "type": "gcloud",
   "uri": "gcr.io/deeplearning-platform-release/tf2-cpu.2-11:m112"
  },
  "kernelspec": {
   "display_name": "Python 3",
   "language": "python",
   "name": "python3"
  },
  "language_info": {
   "codemirror_mode": {
    "name": "ipython",
    "version": 3
   },
   "file_extension": ".py",
   "mimetype": "text/x-python",
   "name": "python",
   "nbconvert_exporter": "python",
   "pygments_lexer": "ipython3",
   "version": "3.10.12"
  }
 },
 "nbformat": 4,
 "nbformat_minor": 5
}
