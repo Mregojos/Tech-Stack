{
 "cells": [
  {
   "cell_type": "markdown",
   "id": "8f5c81cc-0d45-4baf-a1b4-2209c9c9910e",
   "metadata": {},
   "source": [
    "# Counter App"
   ]
  },
  {
   "cell_type": "markdown",
   "id": "5f0bbf6f-2e45-479f-89b6-f3f28a589f51",
   "metadata": {},
   "source": [
    "## Counter App (Streamlit and sqlite3)"
   ]
  },
  {
   "cell_type": "code",
   "execution_count": null,
   "id": "e8dcf8d5-86f6-4d36-bb12-6159c160719c",
   "metadata": {},
   "outputs": [],
   "source": [
    "# Install streamlit\n",
    "!pip install streamlit -q"
   ]
  },
  {
   "cell_type": "code",
   "execution_count": null,
   "id": "a7e1c6ee-c9f5-4344-9dbf-0b819f2e289e",
   "metadata": {},
   "outputs": [],
   "source": [
    "# Restart the notebook"
   ]
  },
  {
   "cell_type": "code",
   "execution_count": null,
   "id": "0cd9600f-825d-442a-b858-10a92fd71812",
   "metadata": {},
   "outputs": [],
   "source": [
    "# Import libraries\n",
    "import sqlite3\n",
    "import streamlit as st"
   ]
  },
  {
   "cell_type": "raw",
   "id": "ac481877-bcfb-4572-8b86-037720b01c22",
   "metadata": {},
   "source": [
    "%%writefile app.py\n",
    "# Import libraries\n",
    "import streamlit as st\n",
    "import sqlite3\n",
    "import os\n",
    "import time\n",
    "\n",
    "st.write(\"It's working. v2\")"
   ]
  },
  {
   "cell_type": "code",
   "execution_count": null,
   "id": "6841a758-6627-42b4-acf0-9312b54c48ce",
   "metadata": {
    "tags": []
   },
   "outputs": [],
   "source": [
    "%%writefile app.py\n",
    "# Import libraries\n",
    "import streamlit as st\n",
    "import sqlite3\n",
    "import os\n",
    "import time\n",
    "\n",
    "# Title\n",
    "st.title(\"Counter App\")\n",
    "st.caption(\"\"\"\n",
    "            Count every request in this app.\n",
    "            \"\"\")\n",
    "st.subheader(\"\",divider=\"rainbow\")\n",
    "\n",
    "# Variable\n",
    "database_name = \"counter.db\"\n",
    "\n",
    "# Create a database\n",
    "if database_name in os.listdir():\n",
    "    con = sqlite3.connect(database_name)\n",
    "    cur = con.cursor()\n",
    "else:\n",
    "    con = sqlite3.connect(database_name)\n",
    "    # Database Cursor (cur)\n",
    "    cur = con.cursor()\n",
    "    cur.execute(\"CREATE TABLE counter(hit, time)\")\n",
    "    con.commit()\n",
    "\n",
    "# Counter\n",
    "time = time.strftime(\"Date: %Y-%m-%d | Time: %H:%M:%S UTC\")\n",
    "hit = 1\n",
    "### Insert into adatabase\n",
    "cur.execute(f\"\"\"\n",
    "        INSERT INTO counter VALUES\n",
    "        (\"{hit}\", \"{time}\")\n",
    "        \"\"\")\n",
    "con.commit()\n",
    "\n",
    "# Total hits\n",
    "result = cur.execute(\"\"\"\n",
    "                    SELECT SUM(hit) \n",
    "                    FROM counter\n",
    "                    \"\"\")\n",
    "st.write(f\"### Total hits: **{result.fetchone()[0]}**\")\n",
    "\n",
    "# Current hit\n",
    "st.write(f\"Current: {time}\")\n",
    "# Previous hits\n",
    "st.subheader(\"\",divider=\"rainbow\")\n",
    "st.write(\"### *Previous Hits*\")\n",
    "# Write the data\n",
    "result = cur.execute(\"\"\"\n",
    "                    SELECT * \n",
    "                    FROM counter\n",
    "                    ORDER BY time DESC\n",
    "                    \"\"\")\n",
    "for name, time in result.fetchall():\n",
    "    st.text(f\"{time}\")\n",
    "    \n",
    "# Close Connection\n",
    "con.close()"
   ]
  },
  {
   "cell_type": "code",
   "execution_count": null,
   "id": "f3f988d5-526e-411b-a6ad-f22b950a3459",
   "metadata": {},
   "outputs": [],
   "source": [
    "%%writefile Dockerfile\n",
    "FROM python\n",
    "WORKDIR /app\n",
    "RUN pip install streamlit -q\n",
    "COPY app.py .\n",
    "EXPOSE 8501\n",
    "CMD [\"streamlit\", \"run\", \"app.py\", \"--server.address\", \"0.0.0.0\"]"
   ]
  },
  {
   "cell_type": "code",
   "execution_count": null,
   "id": "c3f9e7e7-ccd1-426c-bb63-f197b36a7eb4",
   "metadata": {},
   "outputs": [],
   "source": [
    "# Build an image\n",
    "!docker build -t app . -q"
   ]
  },
  {
   "cell_type": "code",
   "execution_count": null,
   "id": "93d5630d-9028-40e7-9fd4-50c4212807f3",
   "metadata": {},
   "outputs": [],
   "source": [
    "# List images\n",
    "!docker images"
   ]
  },
  {
   "cell_type": "code",
   "execution_count": null,
   "id": "d350b364-8725-4257-8f00-cadaad9d515c",
   "metadata": {},
   "outputs": [],
   "source": [
    "# Run the app in detached mode\n",
    "!docker run -d -p 8501:8501 -v $(pwd):/app app"
   ]
  },
  {
   "cell_type": "code",
   "execution_count": null,
   "id": "d4c6e4f9-b3ab-4cb4-bf72-3c1387d89970",
   "metadata": {},
   "outputs": [],
   "source": [
    "!docker ps -a"
   ]
  },
  {
   "cell_type": "code",
   "execution_count": null,
   "id": "f8101232-f8bb-44bd-aa4d-9318754f83f1",
   "metadata": {},
   "outputs": [],
   "source": [
    "# Remove all docker ps\n",
    "# !docker rm -f $(docker ps -aq)"
   ]
  },
  {
   "cell_type": "code",
   "execution_count": null,
   "id": "7ead1083-770f-41d6-8306-84c7f0b527a9",
   "metadata": {},
   "outputs": [],
   "source": [
    "# Create a firewall (GCP)\n",
    "!gcloud compute --project=$(gcloud config get project) firewall-rules create ports \\\n",
    "    --direction=INGRESS --priority=1000 --network=default --action=ALLOW --rules=tcp:8501,tcp:8000,tcp:9000 --source-ranges=0.0.0.0/0"
   ]
  },
  {
   "cell_type": "markdown",
   "id": "20cda46f-bc6f-4d68-89a3-94d8e7105566",
   "metadata": {},
   "source": [
    "### Add requests"
   ]
  },
  {
   "cell_type": "code",
   "execution_count": null,
   "id": "97c9118f-c180-4a84-911e-701950f8a70d",
   "metadata": {},
   "outputs": [],
   "source": [
    "import time\n",
    "requests = 50\n",
    "for _ in range(1,requests+1):\n",
    "    #\n",
    "    time.sleep(1)"
   ]
  }
 ],
 "metadata": {
  "environment": {
   "kernel": "python3",
   "name": "tf2-cpu.2-11.m112",
   "type": "gcloud",
   "uri": "gcr.io/deeplearning-platform-release/tf2-cpu.2-11:m112"
  },
  "kernelspec": {
   "display_name": "Python 3",
   "language": "python",
   "name": "python3"
  },
  "language_info": {
   "codemirror_mode": {
    "name": "ipython",
    "version": 3
   },
   "file_extension": ".py",
   "mimetype": "text/x-python",
   "name": "python",
   "nbconvert_exporter": "python",
   "pygments_lexer": "ipython3",
   "version": "3.10.12"
  }
 },
 "nbformat": 4,
 "nbformat_minor": 5
}
