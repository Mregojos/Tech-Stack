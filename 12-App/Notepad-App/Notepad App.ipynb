{
 "cells": [
  {
   "cell_type": "markdown",
   "id": "9d04611c-b599-4c36-b99b-da53bf6c69c8",
   "metadata": {},
   "source": [
    "# Notepad App"
   ]
  },
  {
   "cell_type": "markdown",
   "id": "b43899a3-ad39-4a59-8b7d-b4ebf0a5359f",
   "metadata": {},
   "source": [
    "## Notepad App (Streamlit and sqlite3)"
   ]
  },
  {
   "cell_type": "code",
   "execution_count": null,
   "id": "3491c8c1-0aee-4f03-a482-f5e43b82dfc9",
   "metadata": {},
   "outputs": [],
   "source": [
    "# Install streamlit\n",
    "!pip install streamlit -q"
   ]
  },
  {
   "cell_type": "code",
   "execution_count": null,
   "id": "47f49178-4f0f-4a84-a6a3-0dd3324f6dcf",
   "metadata": {},
   "outputs": [],
   "source": [
    "# Import libraries\n",
    "import sqlite3\n",
    "import streamlit as st"
   ]
  },
  {
   "cell_type": "raw",
   "id": "fb006251-2990-4028-89d5-f7da4643552f",
   "metadata": {
    "jupyter": {
     "source_hidden": true
    },
    "tags": []
   },
   "source": [
    "# Create a folder\n",
    "import os\n",
    "dir_name = \"app\"\n",
    "if dir_name in os.listdir():\n",
    "    print(\"Directory is already created.\")\n",
    "else:\n",
    "    os.mkdir(dir_name)\n",
    "    print(\"Successfully created.\")"
   ]
  },
  {
   "cell_type": "raw",
   "id": "34b26d08-69c3-4c1f-8bbf-f0bd3c22be77",
   "metadata": {
    "jupyter": {
     "source_hidden": true
    },
    "tags": []
   },
   "source": [
    "# Change directory\n",
    "os.chdir(dir_name)"
   ]
  },
  {
   "cell_type": "raw",
   "id": "3d3f59cd-922b-47d2-859f-8d85b44d9b29",
   "metadata": {
    "jupyter": {
     "source_hidden": true
    },
    "tags": []
   },
   "source": [
    "# Print working directory\n",
    "os.getcwd()"
   ]
  },
  {
   "cell_type": "raw",
   "id": "80d0098f-0abd-4012-9272-087d5ef07bb2",
   "metadata": {
    "jupyter": {
     "source_hidden": true
    },
    "tags": []
   },
   "source": [
    "%%writefile app.py\n",
    "# Simple Streamlit App Docker Python\n",
    "import streamlit as st\n",
    "st.subheader(\"Simple Notepad :notebook:\")\n",
    "st.caption(\"Add your thoughts here! It will be stored in a database!\")\n",
    "st.subheader(\"\",divider=\"rainbow\")\n",
    "\n",
    "name = st.text_input(\"Your Name here\")\n",
    "note = st.text_area(\"Add Note here\")\n",
    "if st.button(\"Add a note\"):\n",
    "    st.write(name,\":\", note)\n",
    "    st.balloons()\n",
    "    \n",
    "st.subheader(\"\",divider=\"rainbow\")\n",
    "st.write(\"**Previous Notes**\")"
   ]
  },
  {
   "cell_type": "raw",
   "id": "6189cbed-ab8e-45e4-9a91-d5770f9dfb79",
   "metadata": {
    "jupyter": {
     "source_hidden": true
    },
    "tags": []
   },
   "source": [
    "%%writefile app.py\n",
    "# Import libraries\n",
    "import streamlit as st\n",
    "import sqlite3\n",
    "import os\n",
    "\n",
    "# Header\n",
    "st.subheader(\"Simple Notepad :notebook:\")\n",
    "st.caption(\"\"\"\n",
    "            Add your thoughts here! It will be stored in a database! \\n\n",
    "            :warning: :red[Do not add sensitive data].\n",
    "            \"\"\")\n",
    "st.subheader(\"\",divider=\"rainbow\")\n",
    "\n",
    "# Variable\n",
    "database_name = \"notes.db\"\n",
    "\n",
    "# Create a database\n",
    "if database_name in os.listdir():\n",
    "    con = sqlite3.connect(database_name)\n",
    "    cur = con.cursor()\n",
    "else:\n",
    "    con = sqlite3.connect(database_name)\n",
    "    # Database Cursor (cur)\n",
    "    cur = con.cursor()\n",
    "    cur.execute(\"CREATE TABLE notes(name, note)\")\n",
    "    con.commit()\n",
    "\n",
    "# Inputs\n",
    "name = st.text_input(\"Your Name here\")\n",
    "note = st.text_area(\"Add Note here\")\n",
    "if st.button(\"Add a note\"):\n",
    "    st.write(name,\":\", note)\n",
    "    st.success(\"Successful Added.\")\n",
    "    # st.balloons()\n",
    "    ### Insert into adatabase\n",
    "    cur.execute(f\"\"\"\n",
    "            INSERT INTO notes VALUES\n",
    "            (\"{name}\", \"{note}\")\n",
    "            \"\"\")\n",
    "    con.commit()\n",
    "    \n",
    "# Previous Notes \n",
    "st.subheader(\"\",divider=\"rainbow\")\n",
    "st.write(\"**Previous Notes**\")\n",
    "# Write the data\n",
    "result = cur.execute(\"\"\"\n",
    "                    SELECT * \n",
    "                    FROM notes\n",
    "                    ORDER BY name DESC\n",
    "                    \"\"\")\n",
    "for name, note in result.fetchall():\n",
    "    st.write(name,\":\", note)\n",
    "    \n",
    "# Close Connection\n",
    "con.close()"
   ]
  },
  {
   "cell_type": "raw",
   "id": "6c9c80b8-0364-4d31-b9da-ed945d88db0f",
   "metadata": {
    "jupyter": {
     "source_hidden": true
    },
    "tags": []
   },
   "source": [
    "%%writefile app.py\n",
    "# Import libraries\n",
    "import streamlit as st\n",
    "import sqlite3\n",
    "import os\n",
    "import time\n",
    "\n",
    "# Header\n",
    "st.subheader(\"Simple Notepad :notebook:\")\n",
    "st.caption(\"\"\"\n",
    "            Add your thoughts here! It will be stored in a database! \\n\n",
    "            :warning: :red[Do not add sensitive data].\n",
    "            \"\"\")\n",
    "st.subheader(\"\",divider=\"rainbow\")\n",
    "\n",
    "# Variable\n",
    "database_name = \"notes.db\"\n",
    "\n",
    "# Create a database\n",
    "if database_name in os.listdir():\n",
    "    con = sqlite3.connect(database_name)\n",
    "    cur = con.cursor()\n",
    "else:\n",
    "    con = sqlite3.connect(database_name)\n",
    "    # Database Cursor (cur)\n",
    "    cur = con.cursor()\n",
    "    cur.execute(\"CREATE TABLE notes(name, note, time)\")\n",
    "    con.commit()\n",
    "\n",
    "# Inputs\n",
    "name = st.text_input(\"Your Name here\")\n",
    "note = st.text_area(\"Add Note here\")\n",
    "if st.button(\"Add a note\"):\n",
    "    time = time.strftime(\"Date: %Y-%m-%d | Time: %H:%M:%S UTC\")\n",
    "    st.write(f\"\"\" \\n\n",
    "            ### :pencil: {note} \\n\n",
    "            :man: {name} \\n\n",
    "            :watch: {time}\"\"\")\n",
    "    st.success(\"Successful Added.\")\n",
    "    # st.balloons()\n",
    "    ### Insert into adatabase\n",
    "    cur.execute(f\"\"\"\n",
    "            INSERT INTO notes VALUES\n",
    "            (\"{name}\", \"{note}\", \"{time}\")\n",
    "            \"\"\")\n",
    "    con.commit()\n",
    "    \n",
    "# Previous Notes \n",
    "st.subheader(\"\",divider=\"rainbow\")\n",
    "st.write(\"## *Previous Notes*\")\n",
    "# Write the data\n",
    "result = cur.execute(\"\"\"\n",
    "                    SELECT * \n",
    "                    FROM notes\n",
    "                    ORDER BY time DESC\n",
    "                    \"\"\")\n",
    "for name, note, time in result.fetchall():\n",
    "    st.write(f\"\"\" \\n\n",
    "            ### :pencil: {note} \\n\n",
    "            :man: {name} \\n\n",
    "            :watch: {time}\"\"\")\n",
    "    st.subheader(\"\",divider=\"gray\")\n",
    "    \n",
    "# Close Connection\n",
    "con.close()"
   ]
  },
  {
   "cell_type": "code",
   "execution_count": null,
   "id": "8d64eecd-8e42-44de-a6aa-c7e69296f19f",
   "metadata": {
    "tags": []
   },
   "outputs": [],
   "source": [
    "%%writefile app.py\n",
    "# Import libraries\n",
    "import streamlit as st\n",
    "import sqlite3\n",
    "import os\n",
    "import time\n",
    "\n",
    "# Header\n",
    "st.write(\"# Notepad :notebook:\")\n",
    "st.caption(\"\"\"\n",
    "            Add your thoughts here! It will be stored in a database! \\n\n",
    "            :warning: :red[Do not add sensitive data].\n",
    "            \"\"\")\n",
    "st.subheader(\"\",divider=\"rainbow\")\n",
    "\n",
    "# Variable\n",
    "database_name = \"notes.db\"\n",
    "\n",
    "# Create a database\n",
    "if database_name in os.listdir():\n",
    "    con = sqlite3.connect(database_name)\n",
    "    cur = con.cursor()\n",
    "else:\n",
    "    con = sqlite3.connect(database_name)\n",
    "    # Database Cursor (cur)\n",
    "    cur = con.cursor()\n",
    "    cur.execute(\"CREATE TABLE notes(name, note, time)\")\n",
    "    con.commit()\n",
    "\n",
    "# Inputs\n",
    "name = st.text_input(\"Your Name here\")\n",
    "note = st.text_area(\"Add Note here\",)\n",
    "if st.button(\"Add a note\"):\n",
    "    time = time.strftime(\"Date: %Y-%m-%d | Time: %H:%M:%S UTC\")\n",
    "    st.write(f\"\"\" \\n\n",
    "            ### :pencil: {note} \\n\n",
    "            :man: {name} \\n\n",
    "            :watch: {time}\"\"\")\n",
    "    st.success(\"Successful Added.\")\n",
    "    # st.balloons()\n",
    "    ### Insert into adatabase\n",
    "    cur.execute(f\"\"\"\n",
    "            INSERT INTO notes VALUES\n",
    "            (\"{name}\", \"{note}\", \"{time}\")\n",
    "            \"\"\")\n",
    "    con.commit()\n",
    "    \n",
    "# Previous Notes \n",
    "st.subheader(\"\",divider=\"rainbow\")\n",
    "st.write(\"### *Previous Notes*\")\n",
    "# Write the data\n",
    "result = cur.execute(\"\"\"\n",
    "                    SELECT * \n",
    "                    FROM notes\n",
    "                    ORDER BY time DESC\n",
    "                    \"\"\")\n",
    "for name, note, time in result.fetchall():\n",
    "    st.write(f\"\"\" \\n\n",
    "            #### :pencil: {note} \\n\n",
    "            :man: Written By: **{name}** \\n\n",
    "            :watch: {time}\"\"\")\n",
    "    st.subheader(\"\",divider=\"gray\")\n",
    "    \n",
    "# Close Connection\n",
    "con.close()"
   ]
  },
  {
   "cell_type": "code",
   "execution_count": null,
   "id": "5962c797-a504-49e7-bc65-27419335d62a",
   "metadata": {},
   "outputs": [],
   "source": [
    "%%writefile Dockerfile\n",
    "FROM python\n",
    "WORKDIR /app\n",
    "RUN pip install streamlit -q\n",
    "COPY app.py .\n",
    "EXPOSE 8501\n",
    "CMD [\"streamlit\", \"run\", \"app.py\", \"--server.address\", \"0.0.0.0\"]"
   ]
  },
  {
   "cell_type": "code",
   "execution_count": null,
   "id": "3f5d68cd-2649-4d55-b58d-3cc36fbd5ee5",
   "metadata": {},
   "outputs": [],
   "source": [
    "# Build an image\n",
    "!docker build -t notepad-app . -q"
   ]
  },
  {
   "cell_type": "code",
   "execution_count": null,
   "id": "50203a8c-cbcd-48b5-a4c2-127acab681fb",
   "metadata": {},
   "outputs": [],
   "source": [
    "# List images\n",
    "!docker images"
   ]
  },
  {
   "cell_type": "code",
   "execution_count": null,
   "id": "1152ecb4-777d-42b1-9aa2-ac49325d34cd",
   "metadata": {},
   "outputs": [],
   "source": [
    "# Run the app in detached mode\n",
    "!docker run -d -p 8501:8501 -v $(pwd):/app notepad-app"
   ]
  },
  {
   "cell_type": "code",
   "execution_count": null,
   "id": "3f216e25-7abd-452b-a925-c945aea6dab8",
   "metadata": {},
   "outputs": [],
   "source": [
    "!docker ps -a"
   ]
  },
  {
   "cell_type": "code",
   "execution_count": null,
   "id": "21df7620-6aca-47fc-942e-05403f7105f4",
   "metadata": {},
   "outputs": [],
   "source": [
    "# Remove all docker ps\n",
    "# !docker rm -f $(docker ps -aq)"
   ]
  },
  {
   "cell_type": "code",
   "execution_count": null,
   "id": "020a1feb-d250-46df-a9ed-73081771f082",
   "metadata": {},
   "outputs": [],
   "source": [
    "# Create a firewall (GCP)\n",
    "!gcloud compute --project=$(gcloud config get project) firewall-rules create ports \\\n",
    "    --direction=INGRESS --priority=1000 --network=default --action=ALLOW --rules=tcp:8501,tcp:8000,tcp:9000 --source-ranges=0.0.0.0/0"
   ]
  },
  {
   "cell_type": "code",
   "execution_count": null,
   "id": "8dc3f3ee-d756-4e7a-b22f-21ae22b18fb4",
   "metadata": {},
   "outputs": [],
   "source": []
  }
 ],
 "metadata": {
  "environment": {
   "kernel": "python3",
   "name": "tf2-cpu.2-11.m112",
   "type": "gcloud",
   "uri": "gcr.io/deeplearning-platform-release/tf2-cpu.2-11:m112"
  },
  "kernelspec": {
   "display_name": "Python 3",
   "language": "python",
   "name": "python3"
  },
  "language_info": {
   "codemirror_mode": {
    "name": "ipython",
    "version": 3
   },
   "file_extension": ".py",
   "mimetype": "text/x-python",
   "name": "python",
   "nbconvert_exporter": "python",
   "pygments_lexer": "ipython3",
   "version": "3.10.12"
  }
 },
 "nbformat": 4,
 "nbformat_minor": 5
}
