{
 "cells": [
  {
   "cell_type": "markdown",
   "id": "83bba653-cd98-4e6b-8135-665eabdb3cc5",
   "metadata": {},
   "source": [
    "# site.mattcloudtech.com"
   ]
  },
  {
   "cell_type": "code",
   "execution_count": null,
   "id": "ead13678-375d-4bc4-b45d-9440b512ee02",
   "metadata": {},
   "outputs": [],
   "source": []
  }
 ],
 "metadata": {
  "environment": {
   "kernel": "python3",
   "name": "tf2-cpu.2-11.m112",
   "type": "gcloud",
   "uri": "gcr.io/deeplearning-platform-release/tf2-cpu.2-11:m112"
  },
  "kernelspec": {
   "display_name": "Python 3",
   "language": "python",
   "name": "python3"
  },
  "language_info": {
   "codemirror_mode": {
    "name": "ipython",
    "version": 3
   },
   "file_extension": ".py",
   "mimetype": "text/x-python",
   "name": "python",
   "nbconvert_exporter": "python",
   "pygments_lexer": "ipython3",
   "version": "3.10.12"
  }
 },
 "nbformat": 4,
 "nbformat_minor": 5
}
