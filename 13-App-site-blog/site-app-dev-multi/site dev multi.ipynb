{
 "cells": [
  {
   "cell_type": "markdown",
   "id": "ea6a9c8f-e5a6-439f-a942-4fb8549b2289",
   "metadata": {},
   "source": [
    "# Site App Dev Multi\n",
    "\n",
    "For development"
   ]
  },
  {
   "cell_type": "markdown",
   "id": "304787e7-fd18-4ad6-8701-11bda6f6f211",
   "metadata": {
    "tags": []
   },
   "source": [
    "# Site App using env.py"
   ]
  },
  {
   "cell_type": "markdown",
   "id": "aa6f4757-7f35-415b-a589-41a5f703c9fa",
   "metadata": {
    "jp-MarkdownHeadingCollapsed": true,
    "tags": []
   },
   "source": [
    "## Database"
   ]
  },
  {
   "cell_type": "markdown",
   "id": "bf848327-df65-4674-9d5e-45dbaa05fe44",
   "metadata": {
    "tags": []
   },
   "source": [
    "### Create a database server using Docker"
   ]
  },
  {
   "cell_type": "markdown",
   "id": "cadd0f9d-0289-4514-97aa-668ce9928c44",
   "metadata": {
    "jp-MarkdownHeadingCollapsed": true,
    "tags": []
   },
   "source": [
    "#### Postgres Docker"
   ]
  },
  {
   "cell_type": "code",
   "execution_count": null,
   "id": "0ad78e2e-c177-4acb-b3e9-755de12a3b36",
   "metadata": {},
   "outputs": [],
   "source": [
    "# Without volume/data connected\n",
    "# !docker run --name postgres-sql -e POSTGRES_USER=matt -e POSTGRES_PASSWORD=password  -d postgres"
   ]
  },
  {
   "cell_type": "code",
   "execution_count": null,
   "id": "a402165c-80c9-4fc5-80c6-fd9999cb4d3c",
   "metadata": {},
   "outputs": [],
   "source": [
    "# With volume/data connected\n",
    "!docker run -d \\\n",
    "    --name postgres-sql \\\n",
    "    -e POSTGRES_USER=matt \\\n",
    "    -e POSTGRES_PASSWORD=password \\\n",
    "    -v $(pwd)/data/:/var/lib/postgresql/data/ \\\n",
    "    -p 5000:5432 \\\n",
    "    postgres"
   ]
  },
  {
   "cell_type": "code",
   "execution_count": null,
   "id": "53da97c6-3d4e-4828-8c68-92b1c8e95242",
   "metadata": {},
   "outputs": [],
   "source": [
    "!docker ps"
   ]
  },
  {
   "cell_type": "code",
   "execution_count": null,
   "id": "bef8a515-2348-4d44-867c-e3e232483e7a",
   "metadata": {},
   "outputs": [],
   "source": [
    "!ls -a"
   ]
  },
  {
   "cell_type": "code",
   "execution_count": null,
   "id": "af61328b-b6f4-4190-9a85-63d1fd8900f6",
   "metadata": {},
   "outputs": [],
   "source": [
    "# Check the data\n",
    "# In a terminal\n",
    "# sudo su\n",
    "# cd $(pwd)/data/\n",
    "# ls -a"
   ]
  },
  {
   "cell_type": "code",
   "execution_count": null,
   "id": "702621b7-8622-4a37-a236-831e694d57d6",
   "metadata": {},
   "outputs": [],
   "source": [
    "# Test the data of the DB\n",
    "# docker rm -f <CONTAINER_ID>\n",
    "# run the docker run <...>\n",
    "# check the pgAdmin\n",
    "# the data persists"
   ]
  },
  {
   "cell_type": "markdown",
   "id": "dad53af3-c18b-4d5f-85c9-7eef1838ad95",
   "metadata": {
    "jp-MarkdownHeadingCollapsed": true,
    "tags": []
   },
   "source": [
    "#### pgAdmin"
   ]
  },
  {
   "cell_type": "code",
   "execution_count": null,
   "id": "72b9a918-f091-4bac-90f0-3b7973da0a79",
   "metadata": {},
   "outputs": [],
   "source": [
    "!docker run -p 8000:80 \\\n",
    "    -e 'PGADMIN_DEFAULT_EMAIL=matt@example.com' \\\n",
    "    -e 'PGADMIN_DEFAULT_PASSWORD=password' \\\n",
    "    -d dpage/pgadmin4"
   ]
  },
  {
   "cell_type": "code",
   "execution_count": null,
   "id": "50176a40-46ee-4f03-9927-7b5c7938a9b8",
   "metadata": {},
   "outputs": [],
   "source": [
    "!docker ps"
   ]
  },
  {
   "cell_type": "markdown",
   "id": "3c42d416-f39d-4d32-b7d9-c1b9f0f3dd3d",
   "metadata": {
    "jp-MarkdownHeadingCollapsed": true,
    "tags": []
   },
   "source": [
    "#### Create a firewall (GCP)"
   ]
  },
  {
   "cell_type": "code",
   "execution_count": null,
   "id": "ee610166-994b-4059-b831-5215ed4ddecf",
   "metadata": {},
   "outputs": [],
   "source": [
    "!gcloud compute --project=$(gcloud config get project) firewall-rules create ports \\\n",
    "    --direction=INGRESS --priority=1000 --network=default --action=ALLOW --rules=tcp:5000,tcp:8000,tcp:8501,tcp:9000 --source-ranges=0.0.0.0/0"
   ]
  },
  {
   "cell_type": "markdown",
   "id": "137f5044-f353-4f74-972c-3b1e74aa6622",
   "metadata": {
    "tags": []
   },
   "source": [
    "#### Open pgAdmin Browser"
   ]
  },
  {
   "cell_type": "code",
   "execution_count": null,
   "id": "6ee2012e-c193-43ca-aab2-5c0e329cc624",
   "metadata": {},
   "outputs": [],
   "source": [
    "# http://<IP_ADDRESS>:<PORT>\n",
    "# Login with credentials\n",
    "\n",
    "# Register Server\n",
    "# HOST: <IP_ADDRESS>\n",
    "# PORT: 5000\n",
    "# USER: <POSTGRES_USER>\n",
    "# PASSWORD: <PASSWORD>"
   ]
  },
  {
   "cell_type": "markdown",
   "id": "902aaf4f-f12c-489d-9c9f-1e64194f9ea5",
   "metadata": {
    "jp-MarkdownHeadingCollapsed": true,
    "tags": []
   },
   "source": [
    "## Directory"
   ]
  },
  {
   "cell_type": "code",
   "execution_count": null,
   "id": "898a24d3-9b82-4206-aced-d98380e0b434",
   "metadata": {},
   "outputs": [],
   "source": [
    "!mkdir site-app-dev-multi"
   ]
  },
  {
   "cell_type": "code",
   "execution_count": null,
   "id": "4ec489c9-71d1-4e0d-82d6-cbf2617afa6d",
   "metadata": {},
   "outputs": [],
   "source": [
    "cd site-app-dev-multi"
   ]
  },
  {
   "cell_type": "markdown",
   "id": "d2595318-48c9-4234-bd55-aa1cedc8a956",
   "metadata": {
    "tags": []
   },
   "source": [
    "## Application"
   ]
  },
  {
   "cell_type": "code",
   "execution_count": null,
   "id": "f96c35e1-73ca-4902-93e3-9d1931efc0fe",
   "metadata": {},
   "outputs": [],
   "source": [
    "%%writefile env.py\n",
    "# DB Credentials\n",
    "DBNAME=\"matt\"\n",
    "USER='matt'\n",
    "HOST= '34.31.52.138'\n",
    "PORT='5000'\n",
    "PASSWORD='password'"
   ]
  },
  {
   "cell_type": "raw",
   "id": "1be71811-bdbf-4d3d-a59f-974bcaea2d99",
   "metadata": {},
   "source": [
    "%%writefile app.py\n",
    "# Import libraries\n",
    "import streamlit as st\n",
    "import psycopg2\n",
    "import os\n",
    "import time\n",
    "import vertexai\n",
    "from vertexai.language_models import TextGenerationModel\n",
    "from env import *\n",
    "\n",
    "#----------Page Configuration----------# \n",
    "st.set_page_config(page_title=\"Matt Cloud Tech\",\n",
    "                   page_icon=\":cloud:\",\n",
    "                   menu_items={\n",
    "                       'About':\"# Matt Cloud Tech Version\"})\n",
    "\n",
    "#----------About Me Section----------#\n",
    "st.title(\":cloud: Matt Cloud Tech\")\n",
    "st.header(\"\", divider=\"rainbow\")\n",
    "\n",
    "st.write(\"\"\"\n",
    "        ### Good day :wave:.\n",
    "        ### My name is :blue[Matt]. I am a Cloud Technology Enthusiast.\n",
    "        ### Currently, I am learning and building Cloud Infrastructure, Data and CI/CD Pipelines, and Intelligent Systems. \n",
    "        \"\"\") \n",
    "st.divider()\n",
    "st.write(\":link: :computer: [Personal Website](https://)\")\n",
    "st.write(\":link: :book: [Project Repository](https://)\")\n",
    "st.write(\":link: :notebook: [Blog](https://)\")\n",
    "st.write(\":link: :hand: [Connect with me](https://)\")\n",
    "#----------End of About Me Section----------#\n",
    "\n",
    "#----------Portfolio Section----------#\n",
    "st.header(\"Project Collections\",divider=\"rainbow\")\n",
    "\n",
    "st.write(\"#### :link: [PROJECT TITLE #1](https://)\")\n",
    "st.caption(\"Caption\")\n",
    "# with st.expander(f\"Learn more\"):\n",
    "#    st.write(\"Description\")\n",
    "    \n",
    "st.divider()\n",
    "\n",
    "st.write(\"#### :link: [PROJECT TITLE #2](https://)\")\n",
    "st.caption(\"Caption\")\n",
    "# with st.expander(f\"Learn more\"):\n",
    "#    st.write(\"Description\")\n",
    "st.divider()\n",
    "\n",
    "#----------End of Portfolio Section----------#\n",
    "\n",
    "#----------Notepad Section----------#\n",
    "st.header(\"Notepad :notebook:\",divider=\"rainbow\")\n",
    "st.caption(\"\"\"\n",
    "            Add your thoughts here! It will be stored in a database! \\n\n",
    "            :warning: :red[Do not add sensitive data.]\n",
    "            \"\"\")\n",
    "# Connect to a database\n",
    "con = psycopg2.connect(f\"\"\"\n",
    "                       dbname={DBNAME}\n",
    "                       user={USER}\n",
    "                       host={HOST}\n",
    "                       port={PORT}\n",
    "                       password={PASSWORD}\n",
    "                       \"\"\")\n",
    "cur = con.cursor()\n",
    "\n",
    "# Create a table if not exists\n",
    "cur.execute(\"CREATE TABLE IF NOT EXISTS notes(id serial PRIMARY KEY, name varchar, header varchar, note varchar, time varchar)\")\n",
    "con.commit()\n",
    "\n",
    "# Inputs\n",
    "name = st.text_input(\"Your Name\")\n",
    "header = st.text_input(\"Header\")\n",
    "note = st.text_area(\"Note\")\n",
    "if st.button(\"Add a note\"):\n",
    "    time = time.strftime(\"Date: %Y-%m-%d | Time: %H:%M:%S UTC\")\n",
    "    st.write(f\"\"\" \\n\n",
    "            ##### :pencil: {header} \\n\n",
    "            #### {note} \\n\n",
    "            :man: {name} \\n\"\"\")\n",
    "    st.caption(f\":watch: {time}\")\n",
    "    st.success(\"Successfully Added.\")\n",
    "    # st.balloons()\n",
    "    ### Insert into adatabase\n",
    "    SQL = \"INSERT INTO notes (name, header, note, time) VALUES(%s, %s, %s, %s);\"\n",
    "    data = (name, header, note, time)\n",
    "    cur.execute(SQL, data)\n",
    "    con.commit()\n",
    "    \n",
    "# Previous Notes \n",
    "st.divider()\n",
    "st.write(\"### *Previous Notes*\")\n",
    "# Write the data\n",
    "cur.execute(\"\"\"\n",
    "            SELECT * \n",
    "            FROM notes\n",
    "            ORDER BY time DESC\n",
    "            \"\"\")\n",
    "for id, name, header, note, time in cur.fetchall():\n",
    "    st.write(f\"\"\" \\n\n",
    "            ##### :pencil: {header} \\n\n",
    "            #### {note} \\n\n",
    "            :man: {name} \\n\"\"\")\n",
    "    st.caption(f\":watch: {time}\")\n",
    "\n",
    "    with st.expander(f\"Edit or Delete (ID #: {id})\"):\n",
    "        name = st.text_input(f\"Your Name (ID #: {id})\", name)\n",
    "        header = st.text_input(f\"Header (ID #: {id})\", header)\n",
    "        note = st.text_area(f\"Note (ID #: {id})\", note)\n",
    "        if st.button(f\"UPDATE ID #: {id}\"):\n",
    "            SQL = \" UPDATE notes SET id=%s, name=%s, header=%s, note=%s WHERE id = %s\"\n",
    "            data = (id, name, header, note, id)\n",
    "            cur.execute(SQL, data)\n",
    "            con.commit()\n",
    "            st.success(\"Successfully Edited.\")\n",
    "        if st.button(f\"DELETE ID #: {id}\"):\n",
    "            cur.execute(f\"DELETE FROM notes WHERE id = {id}\")\n",
    "            con.commit()\n",
    "            st.success(\"Successfully Deleted.\")\n",
    "    st.subheader(\"\",divider=\"gray\")\n",
    "    \n",
    "# Close Connection\n",
    "cur.close()\n",
    "con.close()\n",
    "#----------End of Notepad Section----------#\n",
    "\n",
    "#----------Counter----------#\n",
    "st.header(\"Counter\")\n",
    "st.caption(\"\"\"\n",
    "            Count every request in this app.\n",
    "            \"\"\")\n",
    "st.subheader(\"\",divider=\"rainbow\")\n",
    "\n",
    "con = psycopg2.connect(f\"\"\"\n",
    "                       dbname={DBNAME}\n",
    "                       user={USER}\n",
    "                       host={HOST}\n",
    "                       port={PORT}\n",
    "                       password={PASSWORD}\n",
    "                       \"\"\")\n",
    "cur = con.cursor()\n",
    "# Create a table if not exists\n",
    "cur.execute(\"CREATE TABLE IF NOT EXISTS counter(id serial PRIMARY KEY, view int, time varchar)\")\n",
    "con.commit()\n",
    "\n",
    "# Counter\n",
    "import time\n",
    "time = time.strftime(\"Date: %Y-%m-%d | Time: %H:%M:%S UTC\")\n",
    "view = 1\n",
    "### Insert into a database\n",
    "SQL = \"INSERT INTO counter (view, time) VALUES(%s, %s);\"\n",
    "data = (view, time)\n",
    "cur.execute(SQL, data)\n",
    "con.commit()\n",
    "\n",
    "# Total views\n",
    "cur.execute(\"\"\"\n",
    "            SELECT SUM(view) \n",
    "            FROM counter\n",
    "            \"\"\")\n",
    "st.write(f\"### Total views: **{cur.fetchone()[0]}**\")\n",
    "\n",
    "# Current view\n",
    "st.write(f\"Current: {time}\")\n",
    "# Previous views\n",
    "st.divider()\n",
    "with st.expander(\"See Previous Views\"):\n",
    "    st.write(\"**Previous Views**\")\n",
    "    cur.execute(\"\"\"\n",
    "                SELECT * \n",
    "                FROM counter\n",
    "                ORDER BY time DESC\n",
    "                \"\"\")\n",
    "    for _, _, time in cur.fetchall():\n",
    "        st.text(f\"{time}\")\n",
    "    \n",
    "# Close Connection\n",
    "cur.close()\n",
    "con.close()\n",
    "#----------End of Counter----------#\n",
    "\n",
    "#----------Agent Section----------#\n",
    "#----------Vertex AI----------#\n",
    "vertexai.init(project=\"matt-project-training\", location=\"us-central1\")\n",
    "parameters = {\n",
    "    \"candidate_count\": 1,\n",
    "    \"max_output_tokens\": 1024,\n",
    "    \"temperature\": 0.2,\n",
    "    \"top_p\": 0.8,\n",
    "    \"top_k\": 40\n",
    "}\n",
    "model = TextGenerationModel.from_pretrained(\"text-bison\")\n",
    "\n",
    "# response = model.predict(\n",
    "#    \"\"\"Hi\"\"\",\n",
    "#    **parameters\n",
    "# )\n",
    "# st.write(f\"Response from Model: {response.text}\")\n",
    "\n",
    "#----------End of Vertex AI----------#\n",
    "import time\n",
    "st.header(\":computer: Agent :construction:\",divider=\"rainbow\")\n",
    "st.caption(\"### Chat with my agent (still under construction)\")\n",
    "st.write(f\":violet[Your chat will be stored in a database, so use the same name to see your past conversations]\")\n",
    "st.caption(\":warning: :red[Do not add sensitive data.]\")\n",
    "\n",
    "\n",
    "               \n",
    "# Variable\n",
    "database_name = DBNAME\n",
    "# Connect to a database\n",
    "con = psycopg2.connect(f\"\"\"\n",
    "                       dbname={DBNAME}\n",
    "                       user={USER}\n",
    "                       host={HOST}\n",
    "                       port={PORT}\n",
    "                       password={PASSWORD}\n",
    "                       \"\"\")\n",
    "cur = con.cursor()\n",
    "# Create a table if not exists\n",
    "cur.execute(\"CREATE TABLE IF NOT EXISTS chats(id serial PRIMARY KEY, name varchar, prompt varchar, output varchar, time varchar)\")\n",
    "con.commit()\n",
    "\n",
    "# Prompt\n",
    "input_name = st.text_input(\"Your Name:\")\n",
    "agent = st.toggle(\"**Let's go**\")\n",
    "if agent:\n",
    "    st.write(f\"Your name for this chat is :blue[{input_name}]\")\n",
    "    prompt = st.chat_input(\"Talk to my agent\")\n",
    "    if prompt:\n",
    "        time = time.strftime(\"Date: %Y-%m-%d | Time: %H:%M:%S UTC\")\n",
    "        message = st.chat_message(\"user\")\n",
    "        message.write(f\":blue[{input_name}]: {prompt}\")\n",
    "        message.caption(f\"{time}\")\n",
    "        message = st.chat_message(\"assistant\")\n",
    "        response = model.predict(prompt,\n",
    "            **parameters\n",
    "        )\n",
    "        output = response.text\n",
    "        message.write(output)\n",
    "        message.caption(f\"{time}\")\n",
    "        st.divider()\n",
    "\n",
    "        ### Insert into a database\n",
    "        SQL = \"INSERT INTO chats (name, prompt, output, time) VALUES(%s, %s, %s, %s);\"\n",
    "        data = (input_name, prompt, output, time)\n",
    "        cur.execute(SQL, data)\n",
    "        con.commit()\n",
    "\n",
    "\n",
    "    with st.expander(f\"See Previous Conversation for {input_name}\"):\n",
    "        cur.execute(f\"\"\"\n",
    "                    SELECT * \n",
    "                    FROM chats\n",
    "                    WHERE name='{input_name}'\n",
    "                    ORDER BY time ASC\n",
    "                    \"\"\")\n",
    "        for id, name, prompt, output, time in cur.fetchall():\n",
    "            message = st.chat_message(\"user\")\n",
    "            message.write(f\":blue[{name}]: {prompt}\")\n",
    "            message.caption(f\"{time}\")\n",
    "            message = st.chat_message(\"assistant\")\n",
    "            message.write(output)\n",
    "            message.caption(f\"{time}\")\n",
    "# Close Connection\n",
    "cur.close()\n",
    "con.close()\n",
    "#----------End of Agent Section----------#"
   ]
  },
  {
   "cell_type": "code",
   "execution_count": null,
   "id": "512ac564-d7f3-45f7-978f-20bd7de34056",
   "metadata": {},
   "outputs": [],
   "source": [
    "%%writefile Dockerfile\n",
    "FROM python\n",
    "WORKDIR /app\n",
    "RUN pip install streamlit psycopg2-binary google-cloud-aiplatform -q\n",
    "COPY . /app\n",
    "EXPOSE 9000\n",
    "CMD [\"streamlit\", \"run\", \"app.py\", \"--server.address\", \"0.0.0.0\", \"--server.port\", \"9000\"]"
   ]
  },
  {
   "cell_type": "markdown",
   "id": "9718ea94-4101-47cd-9bb8-6a51de778657",
   "metadata": {},
   "source": [
    "### Build an image locally"
   ]
  },
  {
   "cell_type": "code",
   "execution_count": null,
   "id": "2511eeef-267b-4d4b-bd86-227ea00376b6",
   "metadata": {},
   "outputs": [],
   "source": [
    "!pwd"
   ]
  },
  {
   "cell_type": "code",
   "execution_count": null,
   "id": "c9b768c0-3834-474c-a560-77b8bbce6cb4",
   "metadata": {},
   "outputs": [],
   "source": [
    "!docker build -t app . -q"
   ]
  },
  {
   "cell_type": "code",
   "execution_count": null,
   "id": "ce8a750c-1392-42d3-8936-865faff5b52f",
   "metadata": {},
   "outputs": [],
   "source": [
    "# List images\n",
    "!docker images"
   ]
  },
  {
   "cell_type": "code",
   "execution_count": null,
   "id": "add0fdfe-bb0c-46b3-a172-38e9d9ad93ae",
   "metadata": {},
   "outputs": [],
   "source": [
    "# Run the app in detached mode\n",
    "!docker run -d -p 9000:9000 -v $(pwd):/app --name app app"
   ]
  },
  {
   "cell_type": "code",
   "execution_count": null,
   "id": "788dc88e-2357-4469-b772-017aa76e7e6d",
   "metadata": {},
   "outputs": [],
   "source": [
    "!docker ps -a"
   ]
  },
  {
   "cell_type": "code",
   "execution_count": null,
   "id": "1bbe32ca-6962-4311-ad12-b047b44c266f",
   "metadata": {},
   "outputs": [],
   "source": [
    "# Remove all docker ps\n",
    "# !docker rm -f $(docker ps -aq)"
   ]
  },
  {
   "cell_type": "code",
   "execution_count": null,
   "id": "118ffd27-da6a-437d-a581-179989973420",
   "metadata": {},
   "outputs": [],
   "source": [
    "!docker rm -f app"
   ]
  },
  {
   "cell_type": "markdown",
   "id": "04b1fb0f-3c9a-495d-bab3-5794044d4a1a",
   "metadata": {
    "jp-MarkdownHeadingCollapsed": true,
    "tags": []
   },
   "source": [
    "## Deployment"
   ]
  },
  {
   "cell_type": "markdown",
   "id": "15d8ceae-f99e-42d6-a724-8c7da7fad73c",
   "metadata": {
    "tags": []
   },
   "source": [
    "### Deploy using Cloud Build, Artifact Registry, and Cloud Run"
   ]
  },
  {
   "cell_type": "code",
   "execution_count": null,
   "id": "adf96288-d93d-4338-804c-39a82c5e973a",
   "metadata": {},
   "outputs": [],
   "source": [
    "%%sh\n",
    "# Create a Docker repository in Artifact Registry\n",
    "gcloud artifacts repositories create simple-app \\\n",
    "    --repository-format=docker \\\n",
    "    --location=us-west2 \\\n",
    "    --description=\"Docker repository\""
   ]
  },
  {
   "cell_type": "code",
   "execution_count": null,
   "id": "28c567e4-fd05-456c-ba63-920f79139511",
   "metadata": {},
   "outputs": [],
   "source": [
    "%%sh\n",
    "# Verify\n",
    "gcloud artifacts repositories list"
   ]
  },
  {
   "cell_type": "markdown",
   "id": "4a88b792-554d-41d3-b86c-4b414efd7bd5",
   "metadata": {},
   "source": [
    "### Build an image using Dockerfile"
   ]
  },
  {
   "cell_type": "code",
   "execution_count": null,
   "id": "2a7bd6ab-f6a2-44e9-babc-2687b4da2f64",
   "metadata": {},
   "outputs": [],
   "source": [
    "# Check if the path is correct\n",
    "!pwd"
   ]
  },
  {
   "cell_type": "code",
   "execution_count": null,
   "id": "e5a26001-4c00-4d94-8458-ca068699b2d8",
   "metadata": {},
   "outputs": [],
   "source": [
    "cd cloud-run-test-v2"
   ]
  },
  {
   "cell_type": "code",
   "execution_count": null,
   "id": "0681e6c7-3a21-441b-875e-aca8bad1f371",
   "metadata": {},
   "outputs": [],
   "source": [
    "!gcloud builds submit \\\n",
    "    --region=us-west2 \\\n",
    "    --tag us-west2-docker.pkg.dev/$(gcloud config get-value project)/simple-app/simple-app:tag6"
   ]
  },
  {
   "cell_type": "markdown",
   "id": "65c7bc4b-c269-440f-b05a-863cb7f7a402",
   "metadata": {
    "tags": []
   },
   "source": [
    "# Site App using Cloud Run Environemnt Variables"
   ]
  },
  {
   "cell_type": "markdown",
   "id": "95f15fd1-0e23-4b84-8a94-8d3b417d1ce7",
   "metadata": {
    "tags": []
   },
   "source": [
    "## Cloud Run Test Env (Database and App)"
   ]
  },
  {
   "cell_type": "markdown",
   "id": "fe2c831d-2a91-41c8-92ed-5b5b0dbfd77b",
   "metadata": {
    "jp-MarkdownHeadingCollapsed": true,
    "tags": []
   },
   "source": [
    "### Site App Dev\n",
    "\n",
    "* For development\n",
    "* Cloud Run Deployment and using environment variables \n",
    "* Environment Variables using os.getenv / os.environ.get"
   ]
  },
  {
   "cell_type": "markdown",
   "id": "3388f531-2015-423a-914e-e197d229a5ea",
   "metadata": {
    "jp-MarkdownHeadingCollapsed": true,
    "tags": []
   },
   "source": [
    "## Directory"
   ]
  },
  {
   "cell_type": "code",
   "execution_count": null,
   "id": "4b06ad19-d05a-4e5a-b599-c4ececb2c6db",
   "metadata": {},
   "outputs": [],
   "source": [
    "!mkdir site-app-dev-env"
   ]
  },
  {
   "cell_type": "code",
   "execution_count": null,
   "id": "d4767527-0c21-4437-9e1c-1bb890ee283f",
   "metadata": {},
   "outputs": [],
   "source": [
    "cd site-app-dev-env"
   ]
  },
  {
   "cell_type": "markdown",
   "id": "bfef55a4-b681-407d-8e68-f9e9fee66b44",
   "metadata": {
    "jp-MarkdownHeadingCollapsed": true,
    "tags": []
   },
   "source": [
    "## Database"
   ]
  },
  {
   "cell_type": "markdown",
   "id": "fc3b95ec-5401-4038-bbeb-cd408836fedf",
   "metadata": {
    "tags": []
   },
   "source": [
    "### Create a database server using Docker"
   ]
  },
  {
   "cell_type": "markdown",
   "id": "d7356bdd-6da7-4757-967a-d1438df0d48c",
   "metadata": {
    "tags": []
   },
   "source": [
    "#### Postgres Docker"
   ]
  },
  {
   "cell_type": "code",
   "execution_count": null,
   "id": "b6e129c1-da38-4f47-9222-039481d7ba79",
   "metadata": {},
   "outputs": [],
   "source": [
    "# Without volume/data connected\n",
    "# !docker run --name postgres-sql -e POSTGRES_USER=matt -e POSTGRES_PASSWORD=password  -d postgres"
   ]
  },
  {
   "cell_type": "code",
   "execution_count": null,
   "id": "a126f7fd-e517-4ac7-8971-99d152b967a2",
   "metadata": {},
   "outputs": [],
   "source": [
    "# With volume/data connected\n",
    "!docker run -d \\\n",
    "    --name postgres-sql \\\n",
    "    -e POSTGRES_USER=matt \\\n",
    "    -e POSTGRES_PASSWORD=password \\\n",
    "    -v $(pwd)/data/:/var/lib/postgresql/data/ \\\n",
    "    -p 5000:5432 \\\n",
    "    postgres"
   ]
  },
  {
   "cell_type": "code",
   "execution_count": null,
   "id": "ae0a9c27-aab7-42dd-87c4-045849599c88",
   "metadata": {},
   "outputs": [],
   "source": [
    "!docker ps"
   ]
  },
  {
   "cell_type": "code",
   "execution_count": null,
   "id": "ee486ddf-91ac-4275-b6cb-115957e3040a",
   "metadata": {},
   "outputs": [],
   "source": [
    "!ls -a"
   ]
  },
  {
   "cell_type": "code",
   "execution_count": null,
   "id": "9697de9f-6e4f-44db-9654-496a3554d954",
   "metadata": {},
   "outputs": [],
   "source": [
    "# Check the data\n",
    "# In a terminal\n",
    "# sudo su\n",
    "# cd $(pwd)/data/\n",
    "# ls -a"
   ]
  },
  {
   "cell_type": "code",
   "execution_count": null,
   "id": "fcfe5b5e-412d-4614-a87c-937d00f0e74b",
   "metadata": {},
   "outputs": [],
   "source": [
    "# Test the data of the DB\n",
    "# docker rm -f <CONTAINER_ID>\n",
    "# run the docker run <...>\n",
    "# check the pgAdmin\n",
    "# the data persists"
   ]
  },
  {
   "cell_type": "markdown",
   "id": "821dd726-a44f-483b-863a-054074aa223a",
   "metadata": {
    "tags": []
   },
   "source": [
    "#### pgAdmin"
   ]
  },
  {
   "cell_type": "code",
   "execution_count": null,
   "id": "ca4f0b6e-3ee8-4bca-a146-c49b802ad8ac",
   "metadata": {},
   "outputs": [],
   "source": [
    "!docker run -p 8000:80 \\\n",
    "    -e 'PGADMIN_DEFAULT_EMAIL=matt@example.com' \\\n",
    "    -e 'PGADMIN_DEFAULT_PASSWORD=password' \\\n",
    "    -d dpage/pgadmin4"
   ]
  },
  {
   "cell_type": "code",
   "execution_count": null,
   "id": "395613b0-fd30-45a4-b273-778d7caae9a8",
   "metadata": {},
   "outputs": [],
   "source": [
    "!docker ps"
   ]
  },
  {
   "cell_type": "markdown",
   "id": "6819e242-fcad-43ce-95f4-6e0f4cf44bba",
   "metadata": {
    "jp-MarkdownHeadingCollapsed": true,
    "tags": []
   },
   "source": [
    "#### Create a firewall (GCP)"
   ]
  },
  {
   "cell_type": "code",
   "execution_count": null,
   "id": "3d8acbad-8566-468c-b905-ad3c17ca0c8f",
   "metadata": {},
   "outputs": [],
   "source": [
    "!gcloud compute --project=$(gcloud config get project) firewall-rules create ports \\\n",
    "    --direction=INGRESS --priority=1000 --network=default --action=ALLOW --rules=tcp:5000,tcp:8000,tcp:8501,tcp:9000 --source-ranges=0.0.0.0/0"
   ]
  },
  {
   "cell_type": "markdown",
   "id": "9600b5b3-be01-4a0a-8389-902021c42011",
   "metadata": {
    "tags": []
   },
   "source": [
    "#### Open pgAdmin Browser"
   ]
  },
  {
   "cell_type": "code",
   "execution_count": null,
   "id": "4b99a9c8-a26e-4586-8a22-4f5d784063cb",
   "metadata": {},
   "outputs": [],
   "source": [
    "# http://<IP_ADDRESS>:<PORT>\n",
    "# Login with credentials\n",
    "\n",
    "# Register Server\n",
    "# HOST: <IP_ADDRESS>\n",
    "# PORT: 5000\n",
    "# USER: <POSTGRES_USER>\n",
    "# PASSWORD: <PASSWORD>"
   ]
  },
  {
   "cell_type": "markdown",
   "id": "9ca4acd3-038b-4c9a-bacb-91b788fe0b4c",
   "metadata": {
    "jp-MarkdownHeadingCollapsed": true,
    "tags": []
   },
   "source": [
    "## Application"
   ]
  },
  {
   "cell_type": "code",
   "execution_count": null,
   "id": "f4560710-b58c-4478-be21-511ee2bdf8a2",
   "metadata": {},
   "outputs": [],
   "source": [
    "!mkdir site-app-dev-env"
   ]
  },
  {
   "cell_type": "code",
   "execution_count": null,
   "id": "b788fda5-90e0-44f9-b0bf-c9e0145495fa",
   "metadata": {},
   "outputs": [],
   "source": [
    "cd site-app-dev-env"
   ]
  },
  {
   "cell_type": "raw",
   "id": "97f98c7b-8304-4470-a241-7c2467950cce",
   "metadata": {},
   "source": [
    "%%writefile env.py\n",
    "# DB Credentials\n",
    "DBNAME=\"matt\"\n",
    "USER='matt'\n",
    "HOST= ''\n",
    "DBPORT='5000'\n",
    "DBPASSWORD='password'"
   ]
  },
  {
   "cell_type": "code",
   "execution_count": null,
   "id": "e558997a-4ed9-4dc2-a0b7-90999b20bb51",
   "metadata": {},
   "outputs": [],
   "source": [
    "%%writefile app.py\n",
    "# Import libraries\n",
    "import streamlit as st\n",
    "import psycopg2\n",
    "import os\n",
    "import time\n",
    "import vertexai\n",
    "from vertexai.language_models import TextGenerationModel\n",
    "# from env import *\n",
    "\n",
    "# Database Credentials\n",
    "DBNAME=os.getenv(\"DBNAME\")\n",
    "USER=os.getenv(\"USER\")\n",
    "HOST= os.getenv(\"HOST\")\n",
    "DBPORT=os.getenv(\"DBPORT\")\n",
    "DBPASSWORD=os.getenv(\"DBPASSWORD\")\n",
    "\n",
    "#----------Page Configuration----------# \n",
    "st.set_page_config(page_title=\"Matt Cloud Tech\",\n",
    "                   page_icon=\":cloud:\",\n",
    "                   menu_items={\n",
    "                       'About':\"# Matt Cloud Tech\"})\n",
    "\n",
    "#----------About Me Section----------#\n",
    "st.title(\":cloud: Matt Cloud Tech\")\n",
    "st.header(\"\", divider=\"rainbow\")\n",
    "\n",
    "st.write(\"\"\"\n",
    "        ### Good day :wave:.\n",
    "        ### My name is :blue[Matt]. I am a Cloud Technology Enthusiast.\n",
    "        ### Currently, I am learning and building Cloud Infrastructure, Data and CI/CD Pipelines, and Intelligent Systems. \n",
    "        \"\"\") \n",
    "st.divider()\n",
    "st.write(\":link: :computer: [Personal Website](https://)\")\n",
    "st.write(\":link: :book: [Project Repository](https://)\")\n",
    "st.write(\":link: :notebook: [Blog](https://)\")\n",
    "st.write(\":link: :hand: [Connect with me](https://)\")\n",
    "#----------End of About Me Section----------#\n",
    "\n",
    "#----------Portfolio Section----------#\n",
    "st.header(\"Project Collections\",divider=\"rainbow\")\n",
    "\n",
    "st.write(\"#### :link: [PROJECT TITLE #1](https://)\")\n",
    "st.caption(\"Caption\")\n",
    "# with st.expander(f\"Learn more\"):\n",
    "#    st.write(\"Description\")\n",
    "    \n",
    "st.divider()\n",
    "\n",
    "st.write(\"#### :link: [PROJECT TITLE #2](https://)\")\n",
    "st.caption(\"Caption\")\n",
    "# with st.expander(f\"Learn more\"):\n",
    "#    st.write(\"Description\")\n",
    "st.divider()\n",
    "\n",
    "#----------End of Portfolio Section----------#\n",
    "\n",
    "#----------Notepad Section----------#\n",
    "st.header(\"Notepad :notebook:\",divider=\"rainbow\")\n",
    "st.caption(\"\"\"\n",
    "            Add your thoughts here! It will be stored in a database! \\n\n",
    "            :warning: :red[Do not add sensitive data.]\n",
    "            \"\"\")\n",
    "# Connect to a database\n",
    "con = psycopg2.connect(f\"\"\"\n",
    "                       dbname={DBNAME}\n",
    "                       user={USER}\n",
    "                       host={HOST}\n",
    "                       port={DBPORT}\n",
    "                       password={DBPASSWORD}\n",
    "                       \"\"\")\n",
    "cur = con.cursor()\n",
    "\n",
    "# Create a table if not exists\n",
    "cur.execute(\"CREATE TABLE IF NOT EXISTS notes(id serial PRIMARY KEY, name varchar, header varchar, note varchar, time varchar)\")\n",
    "con.commit()\n",
    "\n",
    "# Inputs\n",
    "name = st.text_input(\"Your Name\")\n",
    "header = st.text_input(\"Header\")\n",
    "note = st.text_area(\"Note\")\n",
    "if st.button(\"Add a note\"):\n",
    "    time = time.strftime(\"Date: %Y-%m-%d | Time: %H:%M:%S UTC\")\n",
    "    st.write(f\"\"\" \\n\n",
    "            ##### :pencil: {header} \\n\n",
    "            #### {note} \\n\n",
    "            :man: {name} \\n\"\"\")\n",
    "    st.caption(f\":watch: {time}\")\n",
    "    st.success(\"Successfully Added.\")\n",
    "    # st.balloons()\n",
    "    ### Insert into adatabase\n",
    "    SQL = \"INSERT INTO notes (name, header, note, time) VALUES(%s, %s, %s, %s);\"\n",
    "    data = (name, header, note, time)\n",
    "    cur.execute(SQL, data)\n",
    "    con.commit()\n",
    "    \n",
    "# Previous Notes \n",
    "st.divider()\n",
    "st.write(\"### *Previous Notes*\")\n",
    "# Write the data\n",
    "cur.execute(\"\"\"\n",
    "            SELECT * \n",
    "            FROM notes\n",
    "            ORDER BY time DESC\n",
    "            \"\"\")\n",
    "for id, name, header, note, time in cur.fetchall():\n",
    "    st.write(f\"\"\" \\n\n",
    "            ##### :pencil: {header} \\n\n",
    "            #### {note} \\n\n",
    "            :man: {name} \\n\"\"\")\n",
    "    st.caption(f\":watch: {time}\")\n",
    "\n",
    "    with st.expander(f\"Edit or Delete (ID #: {id})\"):\n",
    "        name = st.text_input(f\"Your Name (ID #: {id})\", name)\n",
    "        header = st.text_input(f\"Header (ID #: {id})\", header)\n",
    "        note = st.text_area(f\"Note (ID #: {id})\", note)\n",
    "        if st.button(f\"UPDATE ID #: {id}\"):\n",
    "            SQL = \" UPDATE notes SET id=%s, name=%s, header=%s, note=%s WHERE id = %s\"\n",
    "            data = (id, name, header, note, id)\n",
    "            cur.execute(SQL, data)\n",
    "            con.commit()\n",
    "            st.success(\"Successfully Edited.\")\n",
    "        if st.button(f\"DELETE ID #: {id}\"):\n",
    "            cur.execute(f\"DELETE FROM notes WHERE id = {id}\")\n",
    "            con.commit()\n",
    "            st.success(\"Successfully Deleted.\")\n",
    "    st.subheader(\"\",divider=\"gray\")\n",
    "    \n",
    "# Close Connection\n",
    "cur.close()\n",
    "con.close()\n",
    "#----------End of Notepad Section----------#\n",
    "\n",
    "#----------Counter----------#\n",
    "st.header(\"Counter\")\n",
    "st.caption(\"\"\"\n",
    "            Count every request in this app.\n",
    "            \"\"\")\n",
    "st.subheader(\"\",divider=\"rainbow\")\n",
    "\n",
    "con = psycopg2.connect(f\"\"\"\n",
    "                       dbname={DBNAME}\n",
    "                       user={USER}\n",
    "                       host={HOST}\n",
    "                       port={DBPORT}\n",
    "                       password={DBPASSWORD}\n",
    "                       \"\"\")\n",
    "cur = con.cursor()\n",
    "# Create a table if not exists\n",
    "cur.execute(\"CREATE TABLE IF NOT EXISTS counter(id serial PRIMARY KEY, view int, time varchar)\")\n",
    "con.commit()\n",
    "\n",
    "# Counter\n",
    "import time\n",
    "time = time.strftime(\"Date: %Y-%m-%d | Time: %H:%M:%S UTC\")\n",
    "view = 1\n",
    "### Insert into a database\n",
    "SQL = \"INSERT INTO counter (view, time) VALUES(%s, %s);\"\n",
    "data = (view, time)\n",
    "cur.execute(SQL, data)\n",
    "con.commit()\n",
    "\n",
    "# Total views\n",
    "cur.execute(\"\"\"\n",
    "            SELECT SUM(view) \n",
    "            FROM counter\n",
    "            \"\"\")\n",
    "st.write(f\"### Total views: **{cur.fetchone()[0]}**\")\n",
    "\n",
    "# Current view\n",
    "st.write(f\"Current: {time}\")\n",
    "# Previous views\n",
    "st.divider()\n",
    "with st.expander(\"See Previous Views\"):\n",
    "    st.write(\"**Previous Views**\")\n",
    "    cur.execute(\"\"\"\n",
    "                SELECT * \n",
    "                FROM counter\n",
    "                ORDER BY time DESC\n",
    "                \"\"\")\n",
    "    for _, _, time in cur.fetchall():\n",
    "        st.text(f\"{time}\")\n",
    "    \n",
    "# Close Connection\n",
    "cur.close()\n",
    "con.close()\n",
    "#----------End of Counter----------#\n",
    "\n",
    "#----------Agent Section----------#\n",
    "#----------Vertex AI----------#\n",
    "vertexai.init(project=\"matt-project-training\", location=\"us-central1\")\n",
    "parameters = {\n",
    "    \"candidate_count\": 1,\n",
    "    \"max_output_tokens\": 1024,\n",
    "    \"temperature\": 0.2,\n",
    "    \"top_p\": 0.8,\n",
    "    \"top_k\": 40\n",
    "}\n",
    "model = TextGenerationModel.from_pretrained(\"text-bison\")\n",
    "\n",
    "# response = model.predict(\n",
    "#    \"\"\"Hi\"\"\",\n",
    "#    **parameters\n",
    "# )\n",
    "# st.write(f\"Response from Model: {response.text}\")\n",
    "\n",
    "#----------End of Vertex AI----------#\n",
    "import time\n",
    "st.header(\":computer: Agent :construction:\",divider=\"rainbow\")\n",
    "st.caption(\"### Chat with my agent (still under construction)\")\n",
    "st.write(f\":violet[Your chat will be stored in a database, so use the same name to see your past conversations]\")\n",
    "st.caption(\":warning: :red[Do not add sensitive data.]\")\n",
    "\n",
    "\n",
    "               \n",
    "# Variable\n",
    "database_name = DBNAME\n",
    "# Connect to a database\n",
    "con = psycopg2.connect(f\"\"\"\n",
    "                       dbname={DBNAME}\n",
    "                       user={USER}\n",
    "                       host={HOST}\n",
    "                       port={DBPORT}\n",
    "                       password={DBPASSWORD}\n",
    "                       \"\"\")\n",
    "cur = con.cursor()\n",
    "# Create a table if not exists\n",
    "cur.execute(\"CREATE TABLE IF NOT EXISTS chats(id serial PRIMARY KEY, name varchar, prompt varchar, output varchar, time varchar)\")\n",
    "con.commit()\n",
    "\n",
    "# Prompt\n",
    "input_name = st.text_input(\"Your Name:\")\n",
    "agent = st.toggle(\"**Let's go**\")\n",
    "if agent:\n",
    "    st.write(f\"Your name for this chat is :blue[{input_name}]\")\n",
    "    prompt = st.chat_input(\"Talk to my agent\")\n",
    "    if prompt:\n",
    "        time = time.strftime(\"Date: %Y-%m-%d | Time: %H:%M:%S UTC\")\n",
    "        message = st.chat_message(\"user\")\n",
    "        message.write(f\":blue[{input_name}]: {prompt}\")\n",
    "        message.caption(f\"{time}\")\n",
    "        message = st.chat_message(\"assistant\")\n",
    "        response = model.predict(prompt,\n",
    "            **parameters\n",
    "        )\n",
    "        output = response.text\n",
    "        message.write(output)\n",
    "        message.caption(f\"{time}\")\n",
    "        st.divider()\n",
    "\n",
    "        ### Insert into a database\n",
    "        SQL = \"INSERT INTO chats (name, prompt, output, time) VALUES(%s, %s, %s, %s);\"\n",
    "        data = (input_name, prompt, output, time)\n",
    "        cur.execute(SQL, data)\n",
    "        con.commit()\n",
    "\n",
    "\n",
    "    with st.expander(f\"See Previous Conversation for {input_name}\"):\n",
    "        cur.execute(f\"\"\"\n",
    "                    SELECT * \n",
    "                    FROM chats\n",
    "                    WHERE name='{input_name}'\n",
    "                    ORDER BY time ASC\n",
    "                    \"\"\")\n",
    "        for id, name, prompt, output, time in cur.fetchall():\n",
    "            message = st.chat_message(\"user\")\n",
    "            message.write(f\":blue[{name}]: {prompt}\")\n",
    "            message.caption(f\"{time}\")\n",
    "            message = st.chat_message(\"assistant\")\n",
    "            message.write(output)\n",
    "            message.caption(f\"{time}\")\n",
    "# Close Connection\n",
    "cur.close()\n",
    "con.close()\n",
    "#----------End of Agent Section----------#"
   ]
  },
  {
   "cell_type": "code",
   "execution_count": null,
   "id": "b1535488-c496-4a56-b8a7-5441cabb54cb",
   "metadata": {},
   "outputs": [],
   "source": [
    "%%writefile Dockerfile\n",
    "FROM python\n",
    "WORKDIR /app\n",
    "RUN pip install streamlit psycopg2-binary google-cloud-aiplatform -q\n",
    "COPY . /app\n",
    "EXPOSE 9000\n",
    "CMD [\"streamlit\", \"run\", \"app.py\", \"--server.address\", \"0.0.0.0\", \"--server.port\", \"9000\"]"
   ]
  },
  {
   "cell_type": "markdown",
   "id": "9fb77c33-2d2d-460a-ae3a-9508bffd5c75",
   "metadata": {
    "jp-MarkdownHeadingCollapsed": true,
    "tags": []
   },
   "source": [
    "## Build an image locally"
   ]
  },
  {
   "cell_type": "code",
   "execution_count": null,
   "id": "2be14b9b-5068-4363-b1c1-16ee8cfa321e",
   "metadata": {},
   "outputs": [],
   "source": [
    "!pwd"
   ]
  },
  {
   "cell_type": "code",
   "execution_count": null,
   "id": "e64d9832-f26e-4321-a95b-66f46c3b3532",
   "metadata": {},
   "outputs": [],
   "source": [
    "!docker build -t app . -q"
   ]
  },
  {
   "cell_type": "code",
   "execution_count": null,
   "id": "61504290-9cc4-4b60-a0b1-d82cbbb46d77",
   "metadata": {},
   "outputs": [],
   "source": [
    "# List images\n",
    "!docker images"
   ]
  },
  {
   "cell_type": "code",
   "execution_count": null,
   "id": "369979e2-fb18-4f31-8629-f4a6231c3cf3",
   "metadata": {},
   "outputs": [],
   "source": [
    "# Run the app in detached mode\n",
    "!docker run -d -p 9000:9000 -v $(pwd):/app --name app app"
   ]
  },
  {
   "cell_type": "code",
   "execution_count": null,
   "id": "9c7d9aee-0498-40db-af9e-1d20893ce445",
   "metadata": {},
   "outputs": [],
   "source": [
    "!docker ps -a"
   ]
  },
  {
   "cell_type": "code",
   "execution_count": null,
   "id": "0d5f7bd6-2b4f-43b8-9d0b-e43ab928b208",
   "metadata": {},
   "outputs": [],
   "source": [
    "# Remove all docker ps\n",
    "# !docker rm -f $(docker ps -aq)"
   ]
  },
  {
   "cell_type": "code",
   "execution_count": null,
   "id": "39280387-7e4d-4b7a-a258-9d0aaa57f0da",
   "metadata": {},
   "outputs": [],
   "source": [
    "!docker rm -f app"
   ]
  },
  {
   "cell_type": "markdown",
   "id": "d53427a3-1d9d-4f20-ab3d-ddb35403b08b",
   "metadata": {
    "jp-MarkdownHeadingCollapsed": true,
    "tags": []
   },
   "source": [
    "## Deployment"
   ]
  }
 ],
 "metadata": {
  "environment": {
   "kernel": "python3",
   "name": "tf2-cpu.2-11.m112",
   "type": "gcloud",
   "uri": "gcr.io/deeplearning-platform-release/tf2-cpu.2-11:m112"
  },
  "kernelspec": {
   "display_name": "Python 3",
   "language": "python",
   "name": "python3"
  },
  "language_info": {
   "codemirror_mode": {
    "name": "ipython",
    "version": 3
   },
   "file_extension": ".py",
   "mimetype": "text/x-python",
   "name": "python",
   "nbconvert_exporter": "python",
   "pygments_lexer": "ipython3",
   "version": "3.10.12"
  }
 },
 "nbformat": 4,
 "nbformat_minor": 5
}
