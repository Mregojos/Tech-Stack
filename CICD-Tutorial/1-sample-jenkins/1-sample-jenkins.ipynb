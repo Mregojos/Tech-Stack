{
 "cells": [
  {
   "cell_type": "markdown",
   "id": "6f43155f-9696-4319-90fb-1c8dcb04fc03",
   "metadata": {},
   "source": [
    "# 1 Sample Jenkins\n",
    "\n",
    "Reference: jenkins.io/doc"
   ]
  },
  {
   "cell_type": "markdown",
   "id": "d8bfddf3-c5a0-4411-949b-90ea121c321c",
   "metadata": {},
   "source": [
    "## Install Jenkins Docker\n",
    "\n",
    "Reference: jenkins.io/doc/book/installing/docker\n",
    "\n",
    "Go to install-jenkins/install-jenkins.sh"
   ]
  },
  {
   "cell_type": "markdown",
   "id": "f32609bc-8461-409d-b2eb-94a8d50ae793",
   "metadata": {},
   "source": []
  }
 ],
 "metadata": {
  "environment": {
   "kernel": "python3",
   "name": "tf2-cpu.2-11.m112",
   "type": "gcloud",
   "uri": "gcr.io/deeplearning-platform-release/tf2-cpu.2-11:m112"
  },
  "kernelspec": {
   "display_name": "Python 3",
   "language": "python",
   "name": "python3"
  },
  "language_info": {
   "codemirror_mode": {
    "name": "ipython",
    "version": 3
   },
   "file_extension": ".py",
   "mimetype": "text/x-python",
   "name": "python",
   "nbconvert_exporter": "python",
   "pygments_lexer": "ipython3",
   "version": "3.10.12"
  }
 },
 "nbformat": 4,
 "nbformat_minor": 5
}
