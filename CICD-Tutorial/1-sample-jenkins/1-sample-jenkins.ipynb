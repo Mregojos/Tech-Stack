{
 "cells": [
  {
   "cell_type": "markdown",
   "id": "6f43155f-9696-4319-90fb-1c8dcb04fc03",
   "metadata": {},
   "source": [
    "# 1 Sample Jenkins\n",
    "\n",
    "Reference: jenkins.io/doc"
   ]
  },
  {
   "cell_type": "markdown",
   "id": "d8bfddf3-c5a0-4411-949b-90ea121c321c",
   "metadata": {},
   "source": [
    "## Install Jenkins Docker\n",
    "\n",
    "Reference: jenkins.io/doc/book/installing/docker\n",
    "\n",
    "Go to install-jenkins/install-jenkins.sh"
   ]
  },
  {
   "cell_type": "markdown",
   "id": "f32609bc-8461-409d-b2eb-94a8d50ae793",
   "metadata": {},
   "source": [
    "## Post-installation setup wizard"
   ]
  },
  {
   "cell_type": "code",
   "execution_count": 1,
   "id": "04c8214b-5675-4c4c-877a-ce0f1d0eac7f",
   "metadata": {},
   "outputs": [],
   "source": [
    "# Using GCP \n",
    "# Create a firewall: 0.0.0.0/0 and TCP:8000\n",
    "# http://<EXTERNAL_IP_ADDRESS>:8000"
   ]
  },
  {
   "cell_type": "markdown",
   "id": "9d010d52-5de9-4213-9507-0254229f4230",
   "metadata": {},
   "source": [
    "### Unlocking Jenkins"
   ]
  },
  {
   "cell_type": "code",
   "execution_count": 2,
   "id": "99c72ce4-418b-468d-ad0a-755a10a5b26c",
   "metadata": {},
   "outputs": [
    {
     "name": "stdout",
     "output_type": "stream",
     "text": [
      "CONTAINER ID   IMAGE                           COMMAND                  CREATED          STATUS          PORTS                                                                                      NAMES\n",
      "7bca245c89be   myjenkins-blueocean:2.414.3-1   \"/usr/bin/tini -- /u…\"   10 minutes ago   Up 10 minutes   0.0.0.0:50000->50000/tcp, :::50000->50000/tcp, 0.0.0.0:8000->8080/tcp, :::8000->8080/tcp   jenkins-blueocean\n",
      "280c9888092f   docker:dind                     \"dockerd-entrypoint.…\"   11 minutes ago   Up 11 minutes   2375/tcp, 0.0.0.0:2376->2376/tcp, :::2376->2376/tcp                                        jenkins-docker\n"
     ]
    }
   ],
   "source": [
    "!docker ps"
   ]
  },
  {
   "cell_type": "code",
   "execution_count": null,
   "id": "e14d9456-15e7-417f-8a8f-83af647c8c99",
   "metadata": {},
   "outputs": [],
   "source": [
    "# Print Ansible Docker password\n",
    "# Input this to the password field and set up user\n",
    "!sudo docker exec 7bca245c89be cat /var/jenkins_home/secrets/initialAdminPassword"
   ]
  },
  {
   "cell_type": "markdown",
   "id": "53a52fa5-5a23-4130-8c84-9d6ae1e607ec",
   "metadata": {},
   "source": [
    "## Build a Pipeline"
   ]
  },
  {
   "cell_type": "code",
   "execution_count": 6,
   "id": "d7393aeb-1525-4f82-9a8f-a8dbe9bd36b3",
   "metadata": {},
   "outputs": [],
   "source": [
    "# Accessing the Docker container\n",
    "# docker exec -it jenkins-blueocean sh"
   ]
  },
  {
   "cell_type": "code",
   "execution_count": null,
   "id": "a6d1fd7e-6561-4208-a71d-82aa33a85ed9",
   "metadata": {},
   "outputs": [],
   "source": [
    "# Accessing the Docker logs\n",
    "!docker logs jenkins-blueocean"
   ]
  },
  {
   "cell_type": "code",
   "execution_count": null,
   "id": "39e3d85b-c817-44d8-a4dd-a26cde7abf96",
   "metadata": {},
   "outputs": [],
   "source": [
    "# Accessing the Jenkins home directory\n",
    "# docker exec -it jenkins-blueocean sh\n",
    "# cd /var/jenkins_home"
   ]
  },
  {
   "cell_type": "code",
   "execution_count": null,
   "id": "54d1d4c2-3ab5-441f-804f-b143e4a01c11",
   "metadata": {},
   "outputs": [],
   "source": [
    "# Stopping and restarting Jenkins\n",
    "!docker stop jenkins-blueocean jenkins-docker"
   ]
  },
  {
   "cell_type": "code",
   "execution_count": null,
   "id": "72790b6a-1390-4d4c-a1f8-bd89d8c0ab02",
   "metadata": {},
   "outputs": [],
   "source": [
    "# Start again\n",
    "!docker start jenkins-blueocean jenkins-docker"
   ]
  },
  {
   "cell_type": "code",
   "execution_count": 8,
   "id": "97f56f03-976c-494d-8811-fe0532397443",
   "metadata": {},
   "outputs": [
    {
     "name": "stdout",
     "output_type": "stream",
     "text": [
      "Writing jenkinsfile\n"
     ]
    }
   ],
   "source": [
    "%%writefile jenkinsfile\n",
    "# Simple pipeline\n",
    "pipeline {\n",
    "    agent any\n",
    "    stages {\n",
    "        stage ('Test') {\n",
    "            steps {\n",
    "                echo \"It's working.\"\n",
    "            }\n",
    "        }\n",
    "    }\n",
    "}"
   ]
  },
  {
   "cell_type": "code",
   "execution_count": 9,
   "id": "5c469511-f7ed-4c41-ac9e-c754cf65920c",
   "metadata": {},
   "outputs": [
    {
     "name": "stdout",
     "output_type": "stream",
     "text": [
      "Writing jenkinsfile2\n"
     ]
    }
   ],
   "source": [
    "%%writefile jenkinsfile2\n",
    "# Simple pipeline\n",
    "pipeline {\n",
    "    agent any\n",
    "    stages {\n",
    "        stage ('Test') {\n",
    "            steps {\n",
    "                sh \"\"\"\n",
    "                pwd\n",
    "                \"\"\"\n",
    "            }\n",
    "        }\n",
    "    }\n",
    "}"
   ]
  },
  {
   "cell_type": "code",
   "execution_count": null,
   "id": "832a0080-5cab-46df-8394-014e02d6af78",
   "metadata": {},
   "outputs": [],
   "source": []
  }
 ],
 "metadata": {
  "environment": {
   "kernel": "python3",
   "name": "tf2-cpu.2-11.m112",
   "type": "gcloud",
   "uri": "gcr.io/deeplearning-platform-release/tf2-cpu.2-11:m112"
  },
  "kernelspec": {
   "display_name": "Python 3",
   "language": "python",
   "name": "python3"
  },
  "language_info": {
   "codemirror_mode": {
    "name": "ipython",
    "version": 3
   },
   "file_extension": ".py",
   "mimetype": "text/x-python",
   "name": "python",
   "nbconvert_exporter": "python",
   "pygments_lexer": "ipython3",
   "version": "3.10.12"
  }
 },
 "nbformat": 4,
 "nbformat_minor": 5
}
