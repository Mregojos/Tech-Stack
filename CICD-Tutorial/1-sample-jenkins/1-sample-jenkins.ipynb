{
 "cells": [
  {
   "cell_type": "markdown",
   "id": "6f43155f-9696-4319-90fb-1c8dcb04fc03",
   "metadata": {},
   "source": [
    "# 1 Sample Jenkins\n",
    "\n",
    "Reference: jenkins.io/doc"
   ]
  },
  {
   "cell_type": "code",
   "execution_count": null,
   "id": "2493b585-f138-4927-b43f-a64bc5c94778",
   "metadata": {},
   "outputs": [],
   "source": []
  }
 ],
 "metadata": {
  "environment": {
   "kernel": "python3",
   "name": "tf2-cpu.2-11.m112",
   "type": "gcloud",
   "uri": "gcr.io/deeplearning-platform-release/tf2-cpu.2-11:m112"
  },
  "kernelspec": {
   "display_name": "Python 3",
   "language": "python",
   "name": "python3"
  },
  "language_info": {
   "codemirror_mode": {
    "name": "ipython",
    "version": 3
   },
   "file_extension": ".py",
   "mimetype": "text/x-python",
   "name": "python",
   "nbconvert_exporter": "python",
   "pygments_lexer": "ipython3",
   "version": "3.10.12"
  }
 },
 "nbformat": 4,
 "nbformat_minor": 5
}
