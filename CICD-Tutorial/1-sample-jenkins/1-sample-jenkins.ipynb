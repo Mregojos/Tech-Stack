{
 "cells": [
  {
   "cell_type": "markdown",
   "id": "6f43155f-9696-4319-90fb-1c8dcb04fc03",
   "metadata": {},
   "source": [
    "# 1 Sample Jenkins\n",
    "\n",
    "Reference: jenkins.io/doc"
   ]
  },
  {
   "cell_type": "markdown",
   "id": "d8bfddf3-c5a0-4411-949b-90ea121c321c",
   "metadata": {},
   "source": [
    "## Install Jenkins Docker\n",
    "\n",
    "Reference: jenkins.io/doc/book/installing/docker\n",
    "\n",
    "Go to install-jenkins/install-jenkins.sh"
   ]
  },
  {
   "cell_type": "markdown",
   "id": "f32609bc-8461-409d-b2eb-94a8d50ae793",
   "metadata": {},
   "source": [
    "## Post-installation setup wizard"
   ]
  },
  {
   "cell_type": "code",
   "execution_count": 1,
   "id": "04c8214b-5675-4c4c-877a-ce0f1d0eac7f",
   "metadata": {},
   "outputs": [],
   "source": [
    "# Using GCP \n",
    "# Create a firewall: 0.0.0.0/0 and TCP:8000\n",
    "# http://<IP_ADDRESS>:8000"
   ]
  },
  {
   "cell_type": "markdown",
   "id": "9d010d52-5de9-4213-9507-0254229f4230",
   "metadata": {},
   "source": [
    "### Unlocking Jenkins"
   ]
  },
  {
   "cell_type": "code",
   "execution_count": 2,
   "id": "99c72ce4-418b-468d-ad0a-755a10a5b26c",
   "metadata": {},
   "outputs": [
    {
     "name": "stdout",
     "output_type": "stream",
     "text": [
      "CONTAINER ID   IMAGE                           COMMAND                  CREATED          STATUS          PORTS                                                                                      NAMES\n",
      "7bca245c89be   myjenkins-blueocean:2.414.3-1   \"/usr/bin/tini -- /u…\"   10 minutes ago   Up 10 minutes   0.0.0.0:50000->50000/tcp, :::50000->50000/tcp, 0.0.0.0:8000->8080/tcp, :::8000->8080/tcp   jenkins-blueocean\n",
      "280c9888092f   docker:dind                     \"dockerd-entrypoint.…\"   11 minutes ago   Up 11 minutes   2375/tcp, 0.0.0.0:2376->2376/tcp, :::2376->2376/tcp                                        jenkins-docker\n"
     ]
    }
   ],
   "source": [
    "!docker ps"
   ]
  },
  {
   "cell_type": "code",
   "execution_count": null,
   "id": "e14d9456-15e7-417f-8a8f-83af647c8c99",
   "metadata": {},
   "outputs": [],
   "source": [
    "# Print Ansible Docker password\n",
    "# Input this to the password field and set up user\n",
    "!sudo docker exec 7bca245c89be cat /var/jenkins_home/secrets/initialAdminPassword"
   ]
  },
  {
   "cell_type": "code",
   "execution_count": null,
   "id": "6e01ae21-5424-4cb7-8ec9-7cd1d4105ef3",
   "metadata": {},
   "outputs": [],
   "source": []
  }
 ],
 "metadata": {
  "environment": {
   "kernel": "python3",
   "name": "tf2-cpu.2-11.m112",
   "type": "gcloud",
   "uri": "gcr.io/deeplearning-platform-release/tf2-cpu.2-11:m112"
  },
  "kernelspec": {
   "display_name": "Python 3",
   "language": "python",
   "name": "python3"
  },
  "language_info": {
   "codemirror_mode": {
    "name": "ipython",
    "version": 3
   },
   "file_extension": ".py",
   "mimetype": "text/x-python",
   "name": "python",
   "nbconvert_exporter": "python",
   "pygments_lexer": "ipython3",
   "version": "3.10.12"
  }
 },
 "nbformat": 4,
 "nbformat_minor": 5
}
