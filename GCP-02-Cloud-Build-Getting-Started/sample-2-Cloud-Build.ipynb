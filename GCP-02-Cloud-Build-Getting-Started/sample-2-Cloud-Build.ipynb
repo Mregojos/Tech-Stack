{
 "cells": [
  {
   "cell_type": "markdown",
   "id": "fc726d11-01bd-434a-a154-d29438b2d9af",
   "metadata": {},
   "source": [
    "# Sample 2: Cloud Build\n",
    "\n",
    "Reference: cloud.google.com/build/docs/overview"
   ]
  },
  {
   "cell_type": "markdown",
   "id": "0411a93d-d0eb-459b-8504-f27b7dceae32",
   "metadata": {},
   "source": [
    "## Build and Push a Docker image with Cloud Build\n",
    "Reference: https://cloud.google.com/build/docs/build-push-docker-image"
   ]
  },
  {
   "cell_type": "code",
   "execution_count": null,
   "id": "9fcdc8ad-42a2-4147-ac3e-f11d47953620",
   "metadata": {},
   "outputs": [],
   "source": [
    "# Enable APIs\n",
    "# Cloud Build and Artifact Registry APIs"
   ]
  },
  {
   "cell_type": "code",
   "execution_count": null,
   "id": "b5813781-c0d3-44cf-84a3-1bf24f73456f",
   "metadata": {},
   "outputs": [],
   "source": [
    "# gcloud init"
   ]
  },
  {
   "cell_type": "markdown",
   "id": "82a05846-6e81-4309-8a3e-27e8d425728b",
   "metadata": {},
   "source": [
    "### Prepare source files to build"
   ]
  },
  {
   "cell_type": "code",
   "execution_count": null,
   "id": "c17b8a4f-894a-4da1-aa0b-c4c5523a0c5f",
   "metadata": {},
   "outputs": [],
   "source": [
    "%%sh\n",
    "mkdir quickstart-docker"
   ]
  },
  {
   "cell_type": "code",
   "execution_count": null,
   "id": "52350bf1-38e7-49f2-af4f-e08af3387143",
   "metadata": {},
   "outputs": [],
   "source": [
    "cd quickstart-docker"
   ]
  },
  {
   "cell_type": "code",
   "execution_count": null,
   "id": "019c88da-26a2-478f-b90c-adadf1a97c8f",
   "metadata": {},
   "outputs": [],
   "source": [
    "%%writefile quickstart.sh\n",
    "echo \"Hi\""
   ]
  },
  {
   "cell_type": "code",
   "execution_count": null,
   "id": "32bed5d9-58e5-4182-8e02-e3736f22fff6",
   "metadata": {},
   "outputs": [],
   "source": [
    "%%writefile Dockerfile\n",
    "FROM ubuntu\n",
    "COPY quickstart.sh /\n",
    "CMD [\"/quickstart.sh\"]"
   ]
  },
  {
   "cell_type": "code",
   "execution_count": null,
   "id": "d02e32d9-f4af-47ff-835b-29ba4225b445",
   "metadata": {},
   "outputs": [],
   "source": [
    "!chmod +x quickstart.sh"
   ]
  },
  {
   "cell_type": "markdown",
   "id": "18fdaa5a-f852-448b-96f1-91d3bd55e2ee",
   "metadata": {},
   "source": [
    "### Create a Docker repository in Artifact Registry"
   ]
  },
  {
   "cell_type": "code",
   "execution_count": null,
   "id": "866bd4ea-c9e5-4b29-909e-31dc38ff2cfa",
   "metadata": {},
   "outputs": [],
   "source": [
    "%%sh\n",
    "# Create a Docker repository in Artifact Registry\n",
    "gcloud artifacts repositories create quickstart-docker-repo \\\n",
    "    --repository-format=docker \\\n",
    "    --location=us-west2 \\\n",
    "    --description=\"Docker repository\""
   ]
  },
  {
   "cell_type": "code",
   "execution_count": null,
   "id": "2723e28c-2c3c-43b7-8c21-fd8582dd4cba",
   "metadata": {},
   "outputs": [],
   "source": [
    "%%sh\n",
    "# Verify\n",
    "gcloud artifacts repositories list"
   ]
  },
  {
   "cell_type": "markdown",
   "id": "7b100977-1446-435b-84fb-4656e265ff4b",
   "metadata": {},
   "source": [
    "### Build an image using Dockerfile"
   ]
  },
  {
   "cell_type": "code",
   "execution_count": null,
   "id": "44d04643-0574-4a91-9475-d61fd6c05f83",
   "metadata": {},
   "outputs": [],
   "source": [
    "!gcloud config get-value project"
   ]
  },
  {
   "cell_type": "code",
   "execution_count": null,
   "id": "affef02b-697e-40fa-a202-2aba6cde8b7e",
   "metadata": {},
   "outputs": [],
   "source": [
    "!gcloud builds submit \\\n",
    "    --region=us-west2 \\\n",
    "    --tag us-west2-docker.pkg.dev/$(gcloud config get-value project)/quickstart-docker-repo/quickstart-image:tag1"
   ]
  },
  {
   "cell_type": "markdown",
   "id": "63d7b40a-53fc-4903-8db7-3e83eea90256",
   "metadata": {},
   "source": [
    "### Build an image using a build config file"
   ]
  },
  {
   "cell_type": "code",
   "execution_count": null,
   "id": "3d01b3f3-efbc-4fb8-ab2f-b3cc6236f6da",
   "metadata": {},
   "outputs": [],
   "source": [
    "%%writefile cloudbuild.yaml\n",
    "steps:\n",
    "- name: 'gcr.io/cloud-builders/docker'\n",
    "  script: |\n",
    "    docker build -t us-west2-docker.pkg.dev/$PROJECT_ID/quickstart-docker-repo/quickstart-image:tag1 .\n",
    "  automapSubstitutions: true\n",
    "images:\n",
    "- 'us-west2-docker.pkg.dev/$PROJECT_ID/quickstart-docker-repo/quickstart-image:tag1'"
   ]
  },
  {
   "cell_type": "code",
   "execution_count": null,
   "id": "12344c00-e9fd-4b98-b75d-f71091d7cb4e",
   "metadata": {},
   "outputs": [],
   "source": [
    "!gcloud builds submit \\\n",
    "    --region=us-west2 \\\n",
    "    --config cloudbuild.yaml"
   ]
  },
  {
   "cell_type": "markdown",
   "id": "dd95bdea-b0fe-49fe-93f5-a299d8b39456",
   "metadata": {},
   "source": [
    "### Clean up"
   ]
  },
  {
   "cell_type": "code",
   "execution_count": null,
   "id": "f55712e6-8c9a-41eb-a6b3-de86efb03a6e",
   "metadata": {},
   "outputs": [],
   "source": [
    "# Delete quickstart-docker-repo"
   ]
  },
  {
   "cell_type": "code",
   "execution_count": null,
   "id": "bb5bada9-66bb-4667-aeb6-d7bb90026653",
   "metadata": {},
   "outputs": [],
   "source": [
    "cd .."
   ]
  },
  {
   "cell_type": "markdown",
   "id": "fed275d2-ef3f-4080-a7c8-72c034b8cfec",
   "metadata": {
    "tags": []
   },
   "source": [
    "## Deploy a containerized application to Cloud Run using Cloud Build\n",
    "\n",
    "Reference: https://cloud.google.com/build/docs/deploy-containerized-application-cloud-run"
   ]
  },
  {
   "cell_type": "code",
   "execution_count": null,
   "id": "be149ca7-d9b5-474f-8ff7-e4b75c0fb662",
   "metadata": {},
   "outputs": [],
   "source": [
    "# Enable APIs\n",
    "# Cloud Build, Cloud Run, Artifact Registry, and Compute Engine APIs"
   ]
  },
  {
   "cell_type": "code",
   "execution_count": null,
   "id": "02911ac9-dc1f-4ba8-8844-6131c4ebb9db",
   "metadata": {},
   "outputs": [],
   "source": [
    "# gcloud init"
   ]
  },
  {
   "cell_type": "markdown",
   "id": "16ec3f9a-cb2a-44e6-9328-d05031dfaa78",
   "metadata": {},
   "source": [
    "### Grant Permissions"
   ]
  },
  {
   "cell_type": "code",
   "execution_count": null,
   "id": "cb8b2a72-7317-458a-86d4-85abf8dd1d99",
   "metadata": {},
   "outputs": [],
   "source": [
    "!PROJECT_ID=$(gcloud config list --format='value(core.project)')\n",
    "# Enable Cloud Resource Manager\n",
    "!PROJECT_NUMBER=$(gcloud projects describe $PROJECT_ID --format='value(projectNumber)')"
   ]
  },
  {
   "cell_type": "code",
   "execution_count": null,
   "id": "a2063293-7029-481b-b0b8-012cb829d8cf",
   "metadata": {},
   "outputs": [],
   "source": [
    "# Grant Cloud Run Admin role to the CLoud Build service account\n",
    "!gcloud projects add-iam-policy-binding $(gcloud config list --format='value(core.project)') \\\n",
    "    --member=serviceAccount:$(gcloud projects describe $PROJECT_ID --format='value(projectNumber)')@cloudbuild.gserviceaccount.com \\\n",
    "    --role=roles/run.admin"
   ]
  },
  {
   "cell_type": "code",
   "execution_count": null,
   "id": "b8e4fb25-ba1d-4c1f-9c68-dd2f6972c4cf",
   "metadata": {},
   "outputs": [],
   "source": [
    "# Grant the IAM Service Account User role to the Cloud Build service account for the Cloud Run runtime service account\n",
    "!gcloud iam service-accounts add-iam-policy-binding \\\n",
    "    $(gcloud projects describe $PROJECT_ID --format='value(projectNumber)')-compute@developer.gserviceaccount.com \\\n",
    "    --member=serviceAccount:$(gcloud projects describe $PROJECT_ID --format='value(projectNumber)')@cloudbuild.gserviceaccount.com \\\n",
    "    --role=roles/iam.serviceAccountUser"
   ]
  },
  {
   "cell_type": "markdown",
   "id": "9223ea1f-25dd-47d3-8cba-c8eeb0470559",
   "metadata": {},
   "source": [
    "### Deploy a prebuilt image"
   ]
  },
  {
   "cell_type": "code",
   "execution_count": null,
   "id": "26dbe8e6-c4b7-42b8-b804-702301e90993",
   "metadata": {},
   "outputs": [],
   "source": [
    "!mkdir cloud-build-hello"
   ]
  },
  {
   "cell_type": "code",
   "execution_count": null,
   "id": "9c4fc094-6a58-4723-aa5c-ee07997eb37d",
   "metadata": {},
   "outputs": [],
   "source": [
    "cd cloud-build-hello"
   ]
  },
  {
   "cell_type": "code",
   "execution_count": null,
   "id": "1492d01e-c719-4994-8db7-b0f4e90f8c85",
   "metadata": {},
   "outputs": [],
   "source": [
    "%%writefile cloudbuild.yaml\n",
    "steps:\n",
    "- name: 'gcr.io/cloud-builders/gcloud'\n",
    "  script: |\n",
    "    gcloud run deploy cloudrunservice --image us-docker.pkg.dev/cloudrun/container/hello --region us-central1 --platform managed --allow-unauthenticated"
   ]
  },
  {
   "cell_type": "code",
   "execution_count": null,
   "id": "e5c6951b-7ea8-4916-8898-0091441026ea",
   "metadata": {},
   "outputs": [],
   "source": [
    "!gcloud builds submit \\\n",
    "    --region=us-west2 \\\n",
    "    --config cloudbuild.yaml"
   ]
  },
  {
   "cell_type": "markdown",
   "id": "ad14e6b1-a5b4-4615-a22a-6edcccd49391",
   "metadata": {},
   "source": [
    "### Clean up"
   ]
  },
  {
   "cell_type": "code",
   "execution_count": null,
   "id": "5732b64e-ba0b-44da-ad6f-a7a83e6ca67e",
   "metadata": {},
   "outputs": [],
   "source": [
    "# Delete Cloud Run service"
   ]
  },
  {
   "cell_type": "code",
   "execution_count": null,
   "id": "c4849088-54dd-46cf-afac-18f2501ad41b",
   "metadata": {},
   "outputs": [],
   "source": [
    "cd .."
   ]
  },
  {
   "cell_type": "markdown",
   "id": "5782a654-8669-4834-afcb-d73849c82c88",
   "metadata": {},
   "source": [
    "## Automate Builds"
   ]
  },
  {
   "cell_type": "markdown",
   "id": "2dfceb63-2626-4367-8188-7e539d88981b",
   "metadata": {},
   "source": [
    "### Create a repository"
   ]
  },
  {
   "cell_type": "code",
   "execution_count": null,
   "id": "e88dfbe0-d0a6-4c68-8956-a3cb7878d41d",
   "metadata": {},
   "outputs": [],
   "source": [
    "# I'll be using GCP Cloud Repositories.\n",
    "# Create a repo and clone\n",
    "!gcloud source repos clone cloud-build-automate-builds --project=training1027"
   ]
  },
  {
   "cell_type": "code",
   "execution_count": null,
   "id": "fe1e9fb0-75bc-4794-9c01-325b69c3f4c6",
   "metadata": {},
   "outputs": [],
   "source": [
    "cd cloud-build-automate-builds"
   ]
  },
  {
   "cell_type": "code",
   "execution_count": null,
   "id": "41e4059a-b30c-48e9-adae-c971500ee7d8",
   "metadata": {},
   "outputs": [],
   "source": [
    "!touch sample.txt"
   ]
  },
  {
   "cell_type": "code",
   "execution_count": null,
   "id": "6f3a37d2-7f5c-4845-bc7f-9afbc7f1cf23",
   "metadata": {},
   "outputs": [],
   "source": [
    "!git add .\n",
    "!git commit -m \"Add and modify files\""
   ]
  },
  {
   "cell_type": "code",
   "execution_count": null,
   "id": "72878c78-09d0-47ff-8d9a-34a6b154e58f",
   "metadata": {},
   "outputs": [],
   "source": [
    "!git push -u origin master\n",
    "# or \n",
    "# !git push -u origin main"
   ]
  },
  {
   "cell_type": "markdown",
   "id": "e144c81f-8c43-4223-9f3b-b35264b195b9",
   "metadata": {},
   "source": [
    "### Create files"
   ]
  },
  {
   "cell_type": "code",
   "execution_count": null,
   "id": "6f4b5402-444e-4e94-b895-343c901c8368",
   "metadata": {},
   "outputs": [],
   "source": [
    "%%writefile main.py\n",
    "print(\"Success!\")"
   ]
  },
  {
   "cell_type": "code",
   "execution_count": null,
   "id": "2175debd-ff2b-4e5b-8100-227d0e88ac66",
   "metadata": {},
   "outputs": [],
   "source": [
    "%%writefile cloudbuild.yaml\n",
    "steps:\n",
    "    - name: python\n",
    "      script: |\n",
    "        python3 main.py"
   ]
  },
  {
   "cell_type": "markdown",
   "id": "81282094-0f4d-486a-addf-2eea75fec2ef",
   "metadata": {},
   "source": [
    "### Build Triggers"
   ]
  },
  {
   "cell_type": "code",
   "execution_count": null,
   "id": "a3d67647-c59a-486f-aad1-e7027a61ccaa",
   "metadata": {},
   "outputs": [],
   "source": [
    "# Go to Cloud Build triggers and create one trigger "
   ]
  },
  {
   "cell_type": "code",
   "execution_count": null,
   "id": "14dd9a4f-ee97-45b2-a529-2047c48ca99d",
   "metadata": {},
   "outputs": [],
   "source": [
    "%%sh\n",
    "# Commit the file to the repo\n",
    "git add .\n",
    "git commit -m \"Add and modify files\"\n",
    "git push -u origin master"
   ]
  },
  {
   "cell_type": "code",
   "execution_count": null,
   "id": "0306e8aa-41a9-4cba-b607-0fe15b7a65bb",
   "metadata": {},
   "outputs": [],
   "source": [
    "# Success!"
   ]
  },
  {
   "cell_type": "markdown",
   "id": "34cb3e24-b291-4f16-b427-791351697bc2",
   "metadata": {
    "tags": []
   },
   "source": [
    "### Clean up"
   ]
  },
  {
   "cell_type": "code",
   "execution_count": null,
   "id": "235309d7-4057-4fa8-b92c-01a91962d72e",
   "metadata": {},
   "outputs": [],
   "source": [
    "# Delete resources"
   ]
  },
  {
   "cell_type": "code",
   "execution_count": null,
   "id": "ba340588-9d85-442b-bed8-120d90c53de6",
   "metadata": {},
   "outputs": [],
   "source": [
    "cd .."
   ]
  },
  {
   "cell_type": "markdown",
   "id": "15460d16-35d6-438b-bf70-a963685e5222",
   "metadata": {},
   "source": [
    "## Automate Builds and Deploy using Cloud Repositories, Cloud Build, and Cloud Run"
   ]
  },
  {
   "cell_type": "code",
   "execution_count": null,
   "id": "a5d37917-0b80-4796-89ff-62f5fe5ad7e2",
   "metadata": {},
   "outputs": [],
   "source": [
    "# Use Automate Builds repos"
   ]
  },
  {
   "cell_type": "code",
   "execution_count": null,
   "id": "3a9619d2-4a0e-4a9f-a963-01a356cdbd41",
   "metadata": {},
   "outputs": [],
   "source": [
    "cd cloud-build-automate-builds"
   ]
  },
  {
   "cell_type": "code",
   "execution_count": null,
   "id": "e22c2cc5-24e8-48d2-bb86-0cedb4597d97",
   "metadata": {},
   "outputs": [],
   "source": [
    "%%writefile cloudbuild.yaml\n",
    "steps:\n",
    "- name: 'gcr.io/cloud-builders/gcloud'\n",
    "  script: |\n",
    "    gcloud run deploy cloudrunservice --image us-docker.pkg.dev/cloudrun/container/hello --region us-central1 --platform managed --allow-unauthenticated"
   ]
  },
  {
   "cell_type": "code",
   "execution_count": null,
   "id": "7899da27-f4c2-489f-aae7-4600a579e430",
   "metadata": {},
   "outputs": [],
   "source": [
    "%%sh\n",
    "# Commit the file to the repo\n",
    "git add .\n",
    "git commit -m \"Add and modify files\"\n",
    "git push -u origin master"
   ]
  },
  {
   "cell_type": "code",
   "execution_count": null,
   "id": "4c7e6b86-2d02-483a-a552-0756fae5f3bd",
   "metadata": {},
   "outputs": [],
   "source": [
    "# Success!"
   ]
  },
  {
   "cell_type": "markdown",
   "id": "a34d802e-f5cb-48a3-a057-497f6d8979ee",
   "metadata": {
    "tags": []
   },
   "source": [
    "### Clean up"
   ]
  },
  {
   "cell_type": "code",
   "execution_count": null,
   "id": "2977714d-f59c-4978-bc95-16487f3f1f0e",
   "metadata": {},
   "outputs": [],
   "source": [
    "# Delete resources"
   ]
  },
  {
   "cell_type": "code",
   "execution_count": null,
   "id": "f963be86-7694-4ba1-8fd8-99f21a259b66",
   "metadata": {},
   "outputs": [],
   "source": [
    "cd .."
   ]
  }
 ],
 "metadata": {
  "environment": {
   "kernel": "python3",
   "name": "tf2-cpu.2-11.m112",
   "type": "gcloud",
   "uri": "gcr.io/deeplearning-platform-release/tf2-cpu.2-11:m112"
  },
  "kernelspec": {
   "display_name": "Python 3",
   "language": "python",
   "name": "python3"
  },
  "language_info": {
   "codemirror_mode": {
    "name": "ipython",
    "version": 3
   },
   "file_extension": ".py",
   "mimetype": "text/x-python",
   "name": "python",
   "nbconvert_exporter": "python",
   "pygments_lexer": "ipython3",
   "version": "3.10.12"
  }
 },
 "nbformat": 4,
 "nbformat_minor": 5
}
