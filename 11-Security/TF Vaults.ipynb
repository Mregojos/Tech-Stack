{
 "cells": [
  {
   "cell_type": "markdown",
   "id": "6f906ab2-6bc9-4739-8cf2-56e2fb4da63f",
   "metadata": {},
   "source": [
    "# Terraform Vaults"
   ]
  },
  {
   "cell_type": "code",
   "execution_count": null,
   "id": "5a0e692d-e4e8-4c82-a45d-661bc1a913ed",
   "metadata": {},
   "outputs": [],
   "source": []
  }
 ],
 "metadata": {
  "environment": {
   "kernel": "python3",
   "name": "tf2-cpu.2-11.m112",
   "type": "gcloud",
   "uri": "gcr.io/deeplearning-platform-release/tf2-cpu.2-11:m112"
  },
  "kernelspec": {
   "display_name": "Python 3",
   "language": "python",
   "name": "python3"
  },
  "language_info": {
   "codemirror_mode": {
    "name": "ipython",
    "version": 3
   },
   "file_extension": ".py",
   "mimetype": "text/x-python",
   "name": "python",
   "nbconvert_exporter": "python",
   "pygments_lexer": "ipython3",
   "version": "3.10.12"
  }
 },
 "nbformat": 4,
 "nbformat_minor": 5
}
