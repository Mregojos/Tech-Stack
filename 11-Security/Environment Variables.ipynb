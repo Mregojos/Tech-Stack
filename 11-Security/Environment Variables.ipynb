{
 "cells": [
  {
   "cell_type": "markdown",
   "id": "b4506c65-e74d-40ee-ae95-182bfb671a02",
   "metadata": {},
   "source": [
    "# Environment Variables"
   ]
  },
  {
   "cell_type": "markdown",
   "id": "f382d986-66f1-449f-b45f-1b117170c2d9",
   "metadata": {
    "tags": []
   },
   "source": [
    "## Python Variables"
   ]
  },
  {
   "cell_type": "code",
   "execution_count": 1,
   "id": "a56a7cc9-d3d5-446c-8fa5-a9cb5aeb04d6",
   "metadata": {},
   "outputs": [
    {
     "name": "stdout",
     "output_type": "stream",
     "text": [
      "Writing env.py\n"
     ]
    }
   ],
   "source": [
    "%%writefile env.py\n",
    "VAR_KEY=\"VAR_VALUE\""
   ]
  },
  {
   "cell_type": "code",
   "execution_count": 3,
   "id": "71080c28-53b0-4f92-ba01-62f88267a7e4",
   "metadata": {},
   "outputs": [
    {
     "name": "stdout",
     "output_type": "stream",
     "text": [
      "VAR_VALUE\n"
     ]
    }
   ],
   "source": [
    "import env\n",
    "\n",
    "print(env.VAR_KEY)"
   ]
  },
  {
   "cell_type": "code",
   "execution_count": 4,
   "id": "13970704-0463-4a1b-8586-53f940f74834",
   "metadata": {},
   "outputs": [
    {
     "name": "stdout",
     "output_type": "stream",
     "text": [
      "VAR_VALUE\n"
     ]
    }
   ],
   "source": [
    "from env import *\n",
    "\n",
    "print(VAR_KEY)"
   ]
  },
  {
   "cell_type": "markdown",
   "id": "2bb8fd5e-db7d-4afb-ba04-d101f9f7246b",
   "metadata": {},
   "source": [
    "## OS Variables"
   ]
  },
  {
   "cell_type": "code",
   "execution_count": 6,
   "id": "de273723-c7e1-46a3-833d-e107b7f8cb3e",
   "metadata": {},
   "outputs": [],
   "source": [
    "# export VAR_KEY=\"VAR_VALUE\""
   ]
  },
  {
   "cell_type": "code",
   "execution_count": 19,
   "id": "d6091a18-553e-4ea1-add9-0ed88b4c1ffa",
   "metadata": {},
   "outputs": [],
   "source": [
    "# import os\n",
    "# print(os.getenv('VAR_KEY'))"
   ]
  },
  {
   "cell_type": "code",
   "execution_count": null,
   "id": "136d6b9f-774e-4738-ae33-071796cf6486",
   "metadata": {},
   "outputs": [],
   "source": []
  }
 ],
 "metadata": {
  "environment": {
   "kernel": "python3",
   "name": "tf2-cpu.2-11.m112",
   "type": "gcloud",
   "uri": "gcr.io/deeplearning-platform-release/tf2-cpu.2-11:m112"
  },
  "kernelspec": {
   "display_name": "Python 3",
   "language": "python",
   "name": "python3"
  },
  "language_info": {
   "codemirror_mode": {
    "name": "ipython",
    "version": 3
   },
   "file_extension": ".py",
   "mimetype": "text/x-python",
   "name": "python",
   "nbconvert_exporter": "python",
   "pygments_lexer": "ipython3",
   "version": "3.10.12"
  }
 },
 "nbformat": 4,
 "nbformat_minor": 5
}
