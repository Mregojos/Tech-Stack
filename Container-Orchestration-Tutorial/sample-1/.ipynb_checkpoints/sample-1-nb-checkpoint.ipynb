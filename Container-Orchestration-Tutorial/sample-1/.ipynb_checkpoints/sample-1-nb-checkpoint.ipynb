{
 "cells": [
  {
   "cell_type": "markdown",
   "id": "a496c61d-6aa2-4104-b8e1-fca786ca887e",
   "metadata": {},
   "source": [
    "# Sample 1: Minikube Start and Hello Minikube \n",
    "\n",
    "Reference: kubernetes.io/docs"
   ]
  },
  {
   "cell_type": "markdown",
   "id": "df4461c2-9cc8-4266-9eb2-bfaa18ecf1d3",
   "metadata": {},
   "source": [
    "# Minikube Start\n",
    "Reference: minikube.sigs.k8s.io/docs/start"
   ]
  },
  {
   "cell_type": "markdown",
   "id": "50c411d1-afd8-4150-9499-80b80f335a5d",
   "metadata": {},
   "source": [
    "## Install Minkinube"
   ]
  },
  {
   "cell_type": "code",
   "execution_count": 2,
   "id": "428cda45-94b4-4387-a351-b57c5ae8e621",
   "metadata": {},
   "outputs": [
    {
     "name": "stderr",
     "output_type": "stream",
     "text": [
      "  % Total    % Received % Xferd  Average Speed   Time    Time     Time  Current\n",
      "                                 Dload  Upload   Total   Spent    Left  Speed\n",
      "100 82.4M  100 82.4M    0     0   165M      0 --:--:-- --:--:-- --:--:--  165M\n"
     ]
    }
   ],
   "source": [
    "%%sh\n",
    "curl -LO https://storage.googleapis.com/minikube/releases/latest/minikube-linux-amd64\n",
    "sudo install minikube-linux-amd64 /usr/local/bin/minikube"
   ]
  },
  {
   "cell_type": "code",
   "execution_count": 4,
   "id": "8cba2a45-6555-4d38-b6b7-2a0323fe943e",
   "metadata": {},
   "outputs": [
    {
     "name": "stdout",
     "output_type": "stream",
     "text": [
      "😄  minikube v1.31.2 on Debian 11.7 (amd64)\n",
      "✨  Automatically selected the docker driver\n",
      "📌  Using Docker driver with root privileges\n",
      "👍  Starting control plane node minikube in cluster minikube\n",
      "🚜  Pulling base image ...\n",
      "💾  Downloading Kubernetes v1.27.4 preload ...\n",
      "    > preloaded-images-k8s-v18-v1...:  393.21 MiB / 393.21 MiB  100.00% 234.90 \n",
      "    > gcr.io/k8s-minikube/kicbase...:  447.62 MiB / 447.62 MiB  100.00% 129.27 \n",
      "🔥  Creating docker container (CPUs=2, Memory=16000MB) ...\u001b[K\u001b[K\u001b[K\u001b[K\u001b[K\u001b[K\u001b[K\u001b[K\u001b[K\u001b[K\u001b[K\u001b[K\u001b[K\u001b[K\u001b[K\u001b[K\u001b[K\u001b[K\u001b[K\u001b[K\u001b[K\u001b[K\u001b[K\u001b[K\u001b[K\u001b[K\u001b[K\u001b[K\u001b[K\u001b[K\u001b[K\u001b[K\u001b[K\u001b[K\u001b[K\u001b[K\u001b[K\u001b[K\u001b[K\u001b[K\u001b[K\u001b[K\u001b[K\u001b[K\u001b[K\u001b[K\u001b[K\u001b[K\u001b[K\u001b[K\u001b[K\u001b[K\u001b[K\u001b[K\u001b[K\u001b[K\u001b[K\u001b[K\u001b[K\u001b[K\u001b[K\u001b[K\u001b[K\u001b[K\u001b[K\u001b[K\u001b[K\u001b[K\u001b[K\u001b[K\u001b[K\u001b[K\u001b[K\u001b[K\u001b[K\u001b[K\u001b[K\u001b[K\u001b[K\u001b[K\u001b[K\u001b[K\u001b[K\u001b[K\u001b[K\u001b[K\u001b[K\u001b[K\u001b[K\u001b[K\u001b[K\u001b[K\u001b[K\u001b[K\u001b[K\u001b[K\u001b[K\u001b[K\u001b[K\u001b[K\u001b[K\u001b[K\u001b[K\u001b[K\u001b[K\u001b[K\u001b[K\u001b[K\u001b[K\u001b[K\u001b[K\u001b[K\u001b[K\u001b[K\u001b[K\u001b[K\u001b[K\u001b[K\u001b[K\u001b[K\u001b[K\u001b[K\u001b[K\u001b[K\u001b[K\u001b[K\u001b[K\u001b[K\u001b[K\u001b[K\u001b[K\u001b[K\u001b[K\u001b[K\u001b[K\u001b[K\u001b[K\u001b[K\u001b[K\u001b[K\u001b[K\u001b[K\u001b[K\u001b[K\u001b[K\u001b[K\u001b[K\u001b[K\u001b[K\u001b[K\u001b[K\u001b[K\u001b[K\u001b[K\u001b[K\u001b[K\u001b[K\u001b[K\u001b[K\u001b[K\u001b[K\u001b[K\u001b[K\u001b[K\u001b[K\u001b[K\u001b[K\u001b[K\u001b[K\u001b[K\u001b[K\u001b[K\u001b[K\u001b[K\u001b[K\u001b[K\u001b[K\u001b[K\u001b[K\u001b[K\u001b[K\u001b[K\u001b[K\u001b[K\u001b[K\u001b[K\u001b[K\u001b[K\u001b[K\u001b[K\u001b[K\u001b[K\u001b[K\u001b[K\u001b[K\u001b[K\u001b[K\u001b[K\u001b[K\u001b[K\u001b[K\u001b[K\u001b[K\u001b[K\u001b[K\u001b[K\u001b[K\u001b[K\u001b[K\u001b[K\u001b[K\u001b[K\u001b[K\u001b[K\u001b[K\u001b[K\u001b[K\u001b[K\u001b[K\u001b[K\u001b[K\u001b[K\u001b[K\u001b[K\u001b[K\u001b[K\u001b[K\u001b[K\u001b[K\u001b[K\u001b[K\u001b[K\u001b[K\u001b[K\u001b[K\u001b[K\u001b[K\u001b[K\u001b[K\u001b[K\u001b[K\u001b[K\u001b[K\u001b[K\u001b[K\u001b[K\u001b[K\u001b[K\u001b[K\u001b[K\u001b[K\u001b[K\u001b[K\u001b[K\u001b[K\u001b[K\u001b[K\u001b[K\u001b[K\u001b[K\u001b[K\u001b[K\u001b[K\u001b[K\u001b[K\u001b[K\u001b[K\u001b[K\u001b[K\u001b[K\u001b[K\u001b[K\u001b[K\u001b[K\u001b[K\u001b[K\u001b[K\u001b[K\u001b[K\u001b[K\u001b[K\u001b[K\u001b[K\u001b[K\u001b[K\u001b[K\u001b[K\u001b[K\u001b[K\u001b[K\u001b[K\u001b[K\u001b[K\u001b[K\u001b[K\u001b[K\u001b[K\u001b[K\u001b[K\u001b[K\u001b[K\u001b[K\u001b[K\u001b[K\u001b[K\u001b[K\u001b[K\u001b[K\u001b[K\u001b[K\u001b[K\u001b[K\u001b[K\u001b[K\u001b[K\u001b[K\u001b[K\u001b[K\u001b[K\u001b[K\u001b[K\u001b[K\u001b[K\u001b[K\u001b[K\u001b[K\u001b[K\u001b[K\u001b[K\u001b[K\u001b[K\u001b[K\u001b[K\u001b[K\u001b[K\u001b[K\u001b[K\u001b[K\u001b[K\u001b[K\u001b[K\u001b[K\u001b[K\u001b[K\u001b[K\u001b[K\u001b[K\u001b[K\u001b[K\u001b[K\u001b[K\u001b[K\u001b[K\u001b[K\u001b[K\u001b[K\u001b[K\u001b[K\u001b[K\u001b[K\u001b[K\u001b[K\u001b[K\u001b[K\u001b[K\u001b[K\u001b[K\u001b[K\u001b[K\u001b[K\u001b[K\u001b[K\u001b[K\u001b[K\u001b[K\u001b[K\u001b[K\u001b[K\u001b[K\u001b[K\u001b[K\u001b[K\u001b[K\u001b[K\u001b[K\u001b[K\u001b[K\u001b[K\u001b[K\u001b[K\u001b[K\u001b[K\u001b[K\u001b[K\u001b[K\u001b[K\u001b[K\u001b[K\u001b[K\u001b[K\u001b[K\u001b[K\u001b[K\u001b[K\u001b[K\u001b[K\u001b[K\u001b[K\u001b[K\u001b[K\u001b[K\u001b[K\u001b[K\u001b[K\u001b[K\u001b[K\u001b[K\u001b[K\u001b[K\u001b[K\u001b[K\u001b[K\u001b[K\u001b[K\u001b[K\u001b[K\u001b[K\u001b[K\u001b[K\u001b[K\u001b[K\u001b[K\u001b[K\u001b[K\u001b[K\u001b[K\u001b[K\u001b[K\u001b[K\u001b[K\u001b[K\u001b[K\u001b[K\u001b[K\u001b[K\u001b[K\u001b[K\u001b[K\u001b[K\u001b[K\u001b[K\u001b[K\u001b[K\u001b[K\u001b[K\u001b[K\u001b[K\u001b[K\u001b[K\u001b[K\u001b[K\u001b[K\u001b[K\u001b[K\u001b[K\u001b[K\u001b[K\u001b[K\u001b[K\u001b[K\u001b[K\u001b[K\u001b[K\u001b[K\u001b[K\u001b[K\u001b[K\u001b[K\u001b[K\u001b[K\u001b[K\u001b[K\u001b[K\u001b[K\u001b[K\u001b[K\u001b[K\u001b[K\u001b[K\u001b[K\u001b[K\u001b[K\u001b[K\u001b[K\u001b[K\u001b[K\u001b[K\u001b[K\u001b[K\u001b[K\u001b[K\u001b[K\u001b[K\u001b[K\u001b[K\u001b[K\u001b[K\u001b[K\u001b[K\u001b[K\u001b[K\u001b[K\u001b[K\u001b[K\u001b[K\u001b[K\u001b[K\u001b[K\u001b[K\u001b[K\u001b[K\u001b[K\u001b[K\u001b[K\u001b[K\u001b[K\u001b[K\u001b[K\u001b[K\u001b[K\u001b[K\u001b[K\u001b[K\u001b[K\u001b[K\u001b[K\u001b[K\u001b[K\u001b[K\u001b[K\u001b[K\u001b[K\n",
      "🐳  Preparing Kubernetes v1.27.4 on Docker 24.0.4 ...\u001b[K\u001b[K\u001b[K\u001b[K\u001b[K\u001b[K\u001b[K\u001b[K\u001b[K\u001b[K\u001b[K\u001b[K\u001b[K\u001b[K\u001b[K\u001b[K\u001b[K\u001b[K\u001b[K\u001b[K\u001b[K\u001b[K\u001b[K\u001b[K\u001b[K\u001b[K\u001b[K\u001b[K\u001b[K\u001b[K\u001b[K\u001b[K\u001b[K\u001b[K\u001b[K\u001b[K\u001b[K\u001b[K\u001b[K\u001b[K\u001b[K\u001b[K\u001b[K\u001b[K\u001b[K\u001b[K\u001b[K\u001b[K\u001b[K\u001b[K\u001b[K\u001b[K\u001b[K\u001b[K\u001b[K\u001b[K\u001b[K\u001b[K\n",
      "    ▪ Generating certificates and keys ...\u001b[K\u001b[K\u001b[K\u001b[K\u001b[K\u001b[K\u001b[K\u001b[K\u001b[K\u001b[K\u001b[K\u001b[K\u001b[K\u001b[K\u001b[K\u001b[K\u001b[K\u001b[K\u001b[K\u001b[K\u001b[K\u001b[K\u001b[K\u001b[K\u001b[K\u001b[K\u001b[K\u001b[K\u001b[K\u001b[K\u001b[K\u001b[K\u001b[K\u001b[K\u001b[K\u001b[K\u001b[K\u001b[K\u001b[K\u001b[K\u001b[K\u001b[K\u001b[K\u001b[K\u001b[K\u001b[K\u001b[K\u001b[K\u001b[K\u001b[K\u001b[K\u001b[K\u001b[K\u001b[K\u001b[K\u001b[K\u001b[K\u001b[K\u001b[K\u001b[K\u001b[K\u001b[K\u001b[K\u001b[K\u001b[K\u001b[K\u001b[K\u001b[K\u001b[K\u001b[K\u001b[K\u001b[K\u001b[K\u001b[K\u001b[K\u001b[K\u001b[K\u001b[K\u001b[K\u001b[K\u001b[K\u001b[K\u001b[K\u001b[K\u001b[K\u001b[K\u001b[K\u001b[K\u001b[K\u001b[K\u001b[K\u001b[K\u001b[K\u001b[K\u001b[K\u001b[K\u001b[K\u001b[K\u001b[K\u001b[K\n",
      "    ▪ Booting up control plane ...\u001b[K\u001b[K\u001b[K\u001b[K\u001b[K\u001b[K\u001b[K\u001b[K\u001b[K\u001b[K\u001b[K\u001b[K\u001b[K\u001b[K\u001b[K\u001b[K\u001b[K\u001b[K\u001b[K\u001b[K\u001b[K\u001b[K\u001b[K\u001b[K\u001b[K\u001b[K\u001b[K\u001b[K\u001b[K\u001b[K\u001b[K\u001b[K\u001b[K\u001b[K\u001b[K\u001b[K\u001b[K\u001b[K\u001b[K\u001b[K\u001b[K\u001b[K\u001b[K\u001b[K\u001b[K\u001b[K\u001b[K\u001b[K\u001b[K\u001b[K\u001b[K\u001b[K\u001b[K\u001b[K\u001b[K\u001b[K\u001b[K\u001b[K\u001b[K\u001b[K\u001b[K\u001b[K\u001b[K\u001b[K\u001b[K\u001b[K\u001b[K\u001b[K\u001b[K\u001b[K\u001b[K\u001b[K\u001b[K\u001b[K\u001b[K\u001b[K\u001b[K\u001b[K\u001b[K\u001b[K\u001b[K\u001b[K\u001b[K\u001b[K\u001b[K\u001b[K\u001b[K\u001b[K\u001b[K\u001b[K\u001b[K\u001b[K\u001b[K\u001b[K\u001b[K\u001b[K\u001b[K\u001b[K\u001b[K\u001b[K\u001b[K\u001b[K\u001b[K\u001b[K\u001b[K\u001b[K\u001b[K\u001b[K\u001b[K\u001b[K\u001b[K\u001b[K\u001b[K\u001b[K\u001b[K\u001b[K\u001b[K\u001b[K\u001b[K\u001b[K\u001b[K\u001b[K\u001b[K\u001b[K\u001b[K\u001b[K\u001b[K\u001b[K\u001b[K\u001b[K\u001b[K\u001b[K\u001b[K\u001b[K\u001b[K\u001b[K\u001b[K\u001b[K\u001b[K\u001b[K\n",
      "    ▪ Configuring RBAC rules ...\u001b[K\u001b[K\u001b[K\u001b[K\u001b[K\u001b[K\u001b[K\u001b[K\n",
      "🔗  Configuring bridge CNI (Container Networking Interface) ...\n",
      "🔎  Verifying Kubernetes components...\n",
      "    ▪ Using image gcr.io/k8s-minikube/storage-provisioner:v5\n",
      "🌟  Enabled addons: storage-provisioner, default-storageclass\n",
      "🏄  Done! kubectl is now configured to use \"minikube\" cluster and \"default\" namespace by default\n"
     ]
    }
   ],
   "source": [
    "# Start Minikube\n",
    "!minikube start"
   ]
  },
  {
   "cell_type": "code",
   "execution_count": 5,
   "id": "453fff71-3c2f-4f25-8463-9b7cddefc8c0",
   "metadata": {},
   "outputs": [
    {
     "name": "stdout",
     "output_type": "stream",
     "text": [
      "NAMESPACE     NAME                               READY   STATUS    RESTARTS   AGE\n",
      "kube-system   coredns-5d78c9869d-2k28j           1/1     Running   0          17s\n",
      "kube-system   etcd-minikube                      1/1     Running   0          29s\n",
      "kube-system   kube-apiserver-minikube            1/1     Running   0          29s\n",
      "kube-system   kube-controller-manager-minikube   1/1     Running   0          29s\n",
      "kube-system   kube-proxy-8zx54                   1/1     Running   0          17s\n",
      "kube-system   kube-scheduler-minikube            1/1     Running   0          29s\n",
      "kube-system   storage-provisioner                1/1     Running   0          28s\n"
     ]
    }
   ],
   "source": [
    "# Interact with your cluster\n",
    "!kubectl get po -A"
   ]
  },
  {
   "cell_type": "code",
   "execution_count": 6,
   "id": "f1b50255-4616-44a2-9755-9940273834bf",
   "metadata": {},
   "outputs": [],
   "source": [
    "# minikube dashboard"
   ]
  },
  {
   "cell_type": "markdown",
   "id": "acdb846e-e929-471b-a287-ff66b55147b8",
   "metadata": {},
   "source": [
    "## Deploy Applications"
   ]
  },
  {
   "cell_type": "markdown",
   "id": "bf2f78af-56e0-4722-9b23-b6677210793a",
   "metadata": {},
   "source": [
    "### Service"
   ]
  },
  {
   "cell_type": "code",
   "execution_count": 8,
   "id": "97d9fc85-75c0-4be4-8c5e-993ae4d00836",
   "metadata": {},
   "outputs": [
    {
     "name": "stdout",
     "output_type": "stream",
     "text": [
      "deployment.apps/hello-minikube created\n",
      "service/hello-minikube exposed\n"
     ]
    }
   ],
   "source": [
    "%%sh\n",
    "kubectl create deployment hello-minikube \\\n",
    "    --image=kicbase/echo-server:1.0\n",
    "kubectl expose deployment hello-minikube \\\n",
    "    --type=NodePort \\\n",
    "    --port=8080"
   ]
  },
  {
   "cell_type": "code",
   "execution_count": 9,
   "id": "9a9b11b8-4ec3-4b5c-9bb3-b9121ab329f5",
   "metadata": {},
   "outputs": [
    {
     "name": "stdout",
     "output_type": "stream",
     "text": [
      "NAME             TYPE       CLUSTER-IP      EXTERNAL-IP   PORT(S)          AGE\n",
      "hello-minikube   NodePort   10.96.108.229   <none>        8080:31480/TCP   51s\n"
     ]
    }
   ],
   "source": [
    "!kubectl get services hello-minikube"
   ]
  },
  {
   "cell_type": "code",
   "execution_count": null,
   "id": "6bcbbacd-aa39-45d6-ab17-52b2f07173ae",
   "metadata": {},
   "outputs": [],
   "source": [
    "# !minikube service hello-minikube"
   ]
  },
  {
   "cell_type": "code",
   "execution_count": 16,
   "id": "aabe1c00-7188-41b8-8c63-0fe414be5961",
   "metadata": {},
   "outputs": [
    {
     "name": "stdout",
     "output_type": "stream",
     "text": [
      "Forwarding from 0.0.0.0:7080 -> 8080\n",
      "Handling connection for 7080\n",
      "Handling connection for 7080\n",
      "^C\n"
     ]
    }
   ],
   "source": [
    "# kubectl to forward the port\n",
    "!kubectl port-forward service/hello-minikube 7080:8080 \\\n",
    "    --address 0.0.0.0"
   ]
  },
  {
   "cell_type": "markdown",
   "id": "366d581e-42b4-4858-bf90-39f2a4dd4454",
   "metadata": {},
   "source": [
    "### LoadBalancer"
   ]
  },
  {
   "cell_type": "code",
   "execution_count": null,
   "id": "8b1a353d-2622-415c-9c3f-d9ca2cc12580",
   "metadata": {},
   "outputs": [],
   "source": [
    "%%sh\n",
    "kubectl create deployment balanced \\\n",
    "    --image=kicbase/echo-server:1.0\n",
    "kubectl expose deployment balanced \\\n",
    "    --type=LoadBalancer \\\n",
    "    --port=8080"
   ]
  },
  {
   "cell_type": "code",
   "execution_count": null,
   "id": "6a26ed43-e596-4e27-88a7-ca15bbf3f516",
   "metadata": {},
   "outputs": [],
   "source": [
    "# Start a new shell\n",
    "# !minikube tunnel --bind-address='35.225.31.116'"
   ]
  },
  {
   "cell_type": "code",
   "execution_count": null,
   "id": "de4c0750-ca15-492a-9d06-d28bf36a779a",
   "metadata": {},
   "outputs": [],
   "source": [
    "# !kubectl get services balanced\n",
    "# Didn't work in Jupyter"
   ]
  },
  {
   "cell_type": "markdown",
   "id": "78132862-0fe3-49cd-95c6-3df0a78c253b",
   "metadata": {},
   "source": [
    "### Ingress"
   ]
  },
  {
   "cell_type": "markdown",
   "id": "46497c5a-70b2-416c-bcf7-63365f711377",
   "metadata": {},
   "source": [
    "## Manage your cluster"
   ]
  },
  {
   "cell_type": "code",
   "execution_count": 31,
   "id": "04e8ee78-4dfa-4cd4-bd4a-4ab62b0f06fc",
   "metadata": {},
   "outputs": [
    {
     "name": "stdout",
     "output_type": "stream",
     "text": [
      "⏸️  Pausing node minikube ... \n",
      "⏯️  Paused 14 containers in: kube-system, kubernetes-dashboard, storage-gluster, istio-operator\n"
     ]
    }
   ],
   "source": [
    "!minikube pause"
   ]
  },
  {
   "cell_type": "code",
   "execution_count": 32,
   "id": "a0e5888d-113a-46fc-90c5-867123c1b0c3",
   "metadata": {},
   "outputs": [
    {
     "name": "stdout",
     "output_type": "stream",
     "text": [
      "/bin/bash: line 1: minkibe: command not found\n"
     ]
    }
   ],
   "source": [
    "!minkibe unpause"
   ]
  },
  {
   "cell_type": "code",
   "execution_count": 33,
   "id": "5eec9829-bfeb-4b0f-9c5c-a7d629eb4006",
   "metadata": {},
   "outputs": [
    {
     "name": "stdout",
     "output_type": "stream",
     "text": [
      "✋  Stopping node \"minikube\"  ...\n",
      "🛑  Powering off \"minikube\" via SSH ...\n",
      "🛑  1 node stopped.\n"
     ]
    }
   ],
   "source": [
    "!minikube stop"
   ]
  },
  {
   "cell_type": "code",
   "execution_count": 35,
   "id": "6dba8269-1337-4ef7-8681-a85f16ba3561",
   "metadata": {},
   "outputs": [
    {
     "name": "stdout",
     "output_type": "stream",
     "text": [
      "🔥  Deleting \"minikube\" in docker ...\n",
      "🔥  Removing /home/jupyter/.minikube/machines/minikube ...\n",
      "💀  Removed all traces of the \"minikube\" cluster.\n",
      "🔥  Successfully deleted all profiles\n"
     ]
    }
   ],
   "source": [
    "!minikube delete --all"
   ]
  },
  {
   "cell_type": "markdown",
   "id": "57a97e6f-d227-4b2a-8cc8-d123fe19c618",
   "metadata": {},
   "source": [
    "# Hello Minikube "
   ]
  },
  {
   "cell_type": "code",
   "execution_count": 36,
   "id": "6809ad87-3c51-466a-baf9-caad27a743f6",
   "metadata": {},
   "outputs": [
    {
     "name": "stdout",
     "output_type": "stream",
     "text": [
      "😄  minikube v1.31.2 on Debian 11.7 (amd64)\n",
      "✨  Automatically selected the docker driver\n",
      "📌  Using Docker driver with root privileges\n",
      "👍  Starting control plane node minikube in cluster minikube\n",
      "🚜  Pulling base image ...\n",
      "🔥  Creating docker container (CPUs=2, Memory=16000MB) ...\u001b[K\u001b[K\u001b[K\u001b[K\u001b[K\u001b[K\u001b[K\u001b[K\u001b[K\u001b[K\u001b[K\u001b[K\u001b[K\u001b[K\u001b[K\u001b[K\u001b[K\u001b[K\u001b[K\u001b[K\u001b[K\u001b[K\u001b[K\u001b[K\u001b[K\u001b[K\u001b[K\u001b[K\u001b[K\u001b[K\u001b[K\u001b[K\u001b[K\u001b[K\u001b[K\u001b[K\u001b[K\u001b[K\u001b[K\u001b[K\u001b[K\u001b[K\u001b[K\u001b[K\u001b[K\u001b[K\u001b[K\u001b[K\u001b[K\u001b[K\u001b[K\u001b[K\u001b[K\u001b[K\u001b[K\u001b[K\u001b[K\u001b[K\u001b[K\u001b[K\u001b[K\u001b[K\u001b[K\u001b[K\u001b[K\u001b[K\u001b[K\u001b[K\u001b[K\u001b[K\u001b[K\u001b[K\u001b[K\u001b[K\u001b[K\u001b[K\u001b[K\u001b[K\u001b[K\u001b[K\u001b[K\u001b[K\u001b[K\u001b[K\u001b[K\u001b[K\u001b[K\u001b[K\u001b[K\u001b[K\u001b[K\u001b[K\u001b[K\u001b[K\u001b[K\u001b[K\u001b[K\u001b[K\u001b[K\u001b[K\u001b[K\u001b[K\u001b[K\u001b[K\u001b[K\u001b[K\u001b[K\u001b[K\u001b[K\u001b[K\u001b[K\u001b[K\u001b[K\u001b[K\u001b[K\u001b[K\u001b[K\u001b[K\u001b[K\u001b[K\u001b[K\u001b[K\u001b[K\u001b[K\u001b[K\u001b[K\u001b[K\u001b[K\u001b[K\u001b[K\u001b[K\u001b[K\u001b[K\u001b[K\u001b[K\u001b[K\u001b[K\u001b[K\u001b[K\u001b[K\u001b[K\u001b[K\u001b[K\u001b[K\u001b[K\u001b[K\u001b[K\u001b[K\u001b[K\u001b[K\u001b[K\u001b[K\u001b[K\u001b[K\u001b[K\u001b[K\u001b[K\u001b[K\u001b[K\u001b[K\u001b[K\u001b[K\u001b[K\u001b[K\u001b[K\u001b[K\u001b[K\u001b[K\u001b[K\u001b[K\u001b[K\u001b[K\u001b[K\u001b[K\u001b[K\u001b[K\u001b[K\u001b[K\u001b[K\u001b[K\u001b[K\u001b[K\u001b[K\u001b[K\u001b[K\u001b[K\u001b[K\u001b[K\u001b[K\u001b[K\u001b[K\u001b[K\u001b[K\u001b[K\u001b[K\u001b[K\u001b[K\u001b[K\u001b[K\u001b[K\u001b[K\u001b[K\u001b[K\u001b[K\u001b[K\u001b[K\u001b[K\u001b[K\u001b[K\u001b[K\u001b[K\u001b[K\u001b[K\u001b[K\u001b[K\u001b[K\u001b[K\u001b[K\u001b[K\u001b[K\u001b[K\u001b[K\u001b[K\u001b[K\u001b[K\u001b[K\u001b[K\u001b[K\u001b[K\u001b[K\u001b[K\u001b[K\u001b[K\u001b[K\u001b[K\u001b[K\u001b[K\u001b[K\u001b[K\u001b[K\u001b[K\u001b[K\u001b[K\u001b[K\u001b[K\u001b[K\u001b[K\u001b[K\u001b[K\u001b[K\u001b[K\u001b[K\u001b[K\u001b[K\u001b[K\u001b[K\u001b[K\u001b[K\u001b[K\u001b[K\u001b[K\u001b[K\u001b[K\u001b[K\u001b[K\u001b[K\u001b[K\u001b[K\u001b[K\u001b[K\u001b[K\u001b[K\u001b[K\u001b[K\u001b[K\u001b[K\u001b[K\u001b[K\u001b[K\u001b[K\u001b[K\u001b[K\u001b[K\u001b[K\u001b[K\u001b[K\u001b[K\u001b[K\u001b[K\u001b[K\u001b[K\u001b[K\u001b[K\u001b[K\u001b[K\u001b[K\u001b[K\u001b[K\u001b[K\u001b[K\u001b[K\u001b[K\u001b[K\u001b[K\u001b[K\u001b[K\u001b[K\u001b[K\u001b[K\u001b[K\u001b[K\u001b[K\u001b[K\u001b[K\u001b[K\u001b[K\u001b[K\u001b[K\u001b[K\u001b[K\u001b[K\u001b[K\u001b[K\u001b[K\u001b[K\u001b[K\u001b[K\u001b[K\u001b[K\u001b[K\u001b[K\u001b[K\u001b[K\u001b[K\u001b[K\u001b[K\u001b[K\u001b[K\u001b[K\u001b[K\u001b[K\u001b[K\u001b[K\u001b[K\u001b[K\u001b[K\u001b[K\u001b[K\u001b[K\u001b[K\u001b[K\u001b[K\u001b[K\u001b[K\u001b[K\u001b[K\u001b[K\u001b[K\u001b[K\u001b[K\u001b[K\u001b[K\u001b[K\u001b[K\u001b[K\u001b[K\u001b[K\u001b[K\u001b[K\u001b[K\u001b[K\u001b[K\u001b[K\u001b[K\u001b[K\u001b[K\u001b[K\u001b[K\u001b[K\u001b[K\u001b[K\u001b[K\u001b[K\u001b[K\u001b[K\u001b[K\u001b[K\u001b[K\u001b[K\u001b[K\n",
      "🐳  Preparing Kubernetes v1.27.4 on Docker 24.0.4 ...\u001b[K\u001b[K\u001b[K\u001b[K\u001b[K\u001b[K\u001b[K\u001b[K\u001b[K\u001b[K\u001b[K\u001b[K\u001b[K\u001b[K\u001b[K\u001b[K\u001b[K\u001b[K\u001b[K\u001b[K\u001b[K\u001b[K\u001b[K\u001b[K\u001b[K\u001b[K\u001b[K\u001b[K\u001b[K\u001b[K\u001b[K\u001b[K\u001b[K\u001b[K\u001b[K\u001b[K\u001b[K\u001b[K\u001b[K\u001b[K\u001b[K\u001b[K\u001b[K\u001b[K\n",
      "    ▪ Generating certificates and keys ...\u001b[K\u001b[K\u001b[K\u001b[K\u001b[K\u001b[K\u001b[K\u001b[K\u001b[K\u001b[K\u001b[K\u001b[K\u001b[K\u001b[K\u001b[K\u001b[K\u001b[K\u001b[K\u001b[K\u001b[K\u001b[K\u001b[K\u001b[K\u001b[K\u001b[K\u001b[K\u001b[K\u001b[K\u001b[K\u001b[K\u001b[K\u001b[K\u001b[K\u001b[K\u001b[K\u001b[K\u001b[K\u001b[K\u001b[K\u001b[K\u001b[K\u001b[K\u001b[K\u001b[K\u001b[K\u001b[K\u001b[K\u001b[K\u001b[K\u001b[K\u001b[K\u001b[K\u001b[K\u001b[K\n",
      "    ▪ Booting up control plane ...\u001b[K\u001b[K\u001b[K\u001b[K\u001b[K\u001b[K\u001b[K\u001b[K\u001b[K\u001b[K\u001b[K\u001b[K\u001b[K\u001b[K\u001b[K\u001b[K\u001b[K\u001b[K\u001b[K\u001b[K\u001b[K\u001b[K\u001b[K\u001b[K\u001b[K\u001b[K\u001b[K\u001b[K\u001b[K\u001b[K\u001b[K\u001b[K\u001b[K\u001b[K\u001b[K\u001b[K\u001b[K\u001b[K\u001b[K\u001b[K\u001b[K\u001b[K\u001b[K\u001b[K\u001b[K\u001b[K\u001b[K\u001b[K\u001b[K\u001b[K\u001b[K\u001b[K\u001b[K\u001b[K\u001b[K\u001b[K\u001b[K\u001b[K\u001b[K\u001b[K\u001b[K\u001b[K\u001b[K\u001b[K\u001b[K\u001b[K\u001b[K\u001b[K\u001b[K\u001b[K\u001b[K\u001b[K\u001b[K\u001b[K\u001b[K\u001b[K\u001b[K\u001b[K\u001b[K\u001b[K\u001b[K\u001b[K\u001b[K\u001b[K\u001b[K\u001b[K\u001b[K\u001b[K\u001b[K\u001b[K\u001b[K\u001b[K\u001b[K\u001b[K\u001b[K\u001b[K\u001b[K\u001b[K\u001b[K\u001b[K\u001b[K\u001b[K\u001b[K\u001b[K\u001b[K\u001b[K\u001b[K\u001b[K\u001b[K\u001b[K\u001b[K\u001b[K\u001b[K\u001b[K\u001b[K\u001b[K\u001b[K\u001b[K\u001b[K\u001b[K\u001b[K\u001b[K\u001b[K\u001b[K\u001b[K\u001b[K\u001b[K\u001b[K\u001b[K\u001b[K\u001b[K\u001b[K\u001b[K\u001b[K\u001b[K\u001b[K\u001b[K\u001b[K\u001b[K\u001b[K\n",
      "    ▪ Configuring RBAC rules ...\u001b[K\u001b[K\u001b[K\u001b[K\u001b[K\u001b[K\u001b[K\u001b[K\u001b[K\u001b[K\n",
      "🔗  Configuring bridge CNI (Container Networking Interface) ...\n",
      "🔎  Verifying Kubernetes components...\n",
      "    ▪ Using image gcr.io/k8s-minikube/storage-provisioner:v5\n",
      "🌟  Enabled addons: storage-provisioner, default-storageclass\n",
      "🏄  Done! kubectl is now configured to use \"minikube\" cluster and \"default\" namespace by default\n"
     ]
    }
   ],
   "source": [
    "!minikube start"
   ]
  },
  {
   "cell_type": "code",
   "execution_count": null,
   "id": "83b6af6c-54a2-4368-b153-273d1a62ab2c",
   "metadata": {},
   "outputs": [],
   "source": [
    "# Run in another shell\n",
    "#!minikube dashboard --url"
   ]
  },
  {
   "cell_type": "code",
   "execution_count": 47,
   "id": "8220a09e-92e3-45ed-9429-c3a52827dc8d",
   "metadata": {},
   "outputs": [
    {
     "name": "stdout",
     "output_type": "stream",
     "text": [
      "NAME                                             READY   STATUS    RESTARTS   AGE\n",
      "pod/dashboard-metrics-scraper-5dd9cbfd69-vj9sw   1/1     Running   0          4m38s\n",
      "pod/kubernetes-dashboard-5c5cfc8747-bsxpb        1/1     Running   0          4m38s\n",
      "\n",
      "NAME                                TYPE        CLUSTER-IP      EXTERNAL-IP   PORT(S)    AGE\n",
      "service/dashboard-metrics-scraper   ClusterIP   10.105.131.13   <none>        8000/TCP   4m38s\n",
      "service/kubernetes-dashboard        ClusterIP   10.97.103.10    <none>        80/TCP     4m38s\n",
      "\n",
      "NAME                                        READY   UP-TO-DATE   AVAILABLE   AGE\n",
      "deployment.apps/dashboard-metrics-scraper   1/1     1            1           4m38s\n",
      "deployment.apps/kubernetes-dashboard        1/1     1            1           4m38s\n",
      "\n",
      "NAME                                                   DESIRED   CURRENT   READY   AGE\n",
      "replicaset.apps/dashboard-metrics-scraper-5dd9cbfd69   1         1         1       4m39s\n",
      "replicaset.apps/kubernetes-dashboard-5c5cfc8747        1         1         1       4m39s\n",
      "Forwarding from 0.0.0.0:7080 -> 9090\n",
      "Process is interrupted.\n"
     ]
    }
   ],
   "source": [
    "%%sh\n",
    "# kubectl to forward the port to see kubernetes-dashboard (GCP Compute Engine)\n",
    "kubectl get all -n kubernetes-dashboard\n",
    "kubectl port-forward service/kubernetes-dashboard 7080:80 \\\n",
    "    --address 0.0.0.0 \\\n",
    "    -n kubernetes-dashboard"
   ]
  },
  {
   "cell_type": "markdown",
   "id": "38d8bac3-4c07-4a45-b80f-f4f89033fc10",
   "metadata": {},
   "source": [
    "## Create a deployment"
   ]
  },
  {
   "cell_type": "code",
   "execution_count": 52,
   "id": "e2850d1c-98ae-4172-afc7-ebc32ec09fdc",
   "metadata": {},
   "outputs": [
    {
     "name": "stdout",
     "output_type": "stream",
     "text": [
      "deployment.apps/hello-node created\n"
     ]
    }
   ],
   "source": [
    "%%sh\n",
    "kubectl create deployment hello-node \\\n",
    "    --image=registry.k8s.io/e2e-test-images/agnhost:2.39 -- /agnhost netexec \\\n",
    "    --http-port=8080"
   ]
  },
  {
   "cell_type": "code",
   "execution_count": 53,
   "id": "3a50d0cb-64ea-4d33-8606-1e0436db170e",
   "metadata": {},
   "outputs": [
    {
     "name": "stdout",
     "output_type": "stream",
     "text": [
      "NAME         READY   UP-TO-DATE   AVAILABLE   AGE\n",
      "hello-node   1/1     1            1           9s\n"
     ]
    }
   ],
   "source": [
    "!kubectl get deployments"
   ]
  },
  {
   "cell_type": "code",
   "execution_count": 54,
   "id": "59a48c46-a13c-45f8-813c-f52ef6c09eae",
   "metadata": {},
   "outputs": [
    {
     "name": "stdout",
     "output_type": "stream",
     "text": [
      "NAME                          READY   STATUS    RESTARTS   AGE\n",
      "hello-node-7579565d66-qqwxd   1/1     Running   0          17s\n"
     ]
    }
   ],
   "source": [
    "!kubectl get pods"
   ]
  },
  {
   "cell_type": "code",
   "execution_count": 55,
   "id": "8ee195de-c6f6-4475-a2c2-bb2a2db542ca",
   "metadata": {},
   "outputs": [
    {
     "name": "stdout",
     "output_type": "stream",
     "text": [
      "LAST SEEN   TYPE     REASON                    OBJECT                                 MESSAGE\n",
      "115s        Normal   Scheduled                 pod/hello-minikube-794659f9d8-pth86    Successfully assigned default/hello-minikube-794659f9d8-pth86 to minikube\n",
      "115s        Normal   Pulling                   pod/hello-minikube-794659f9d8-pth86    Pulling image \"registry.k8s.io/e2e-test-images/agnhost:2.39\"\n",
      "112s        Normal   Pulled                    pod/hello-minikube-794659f9d8-pth86    Successfully pulled image \"registry.k8s.io/e2e-test-images/agnhost:2.39\" in 2.163595646s (2.163612289s including waiting)\n",
      "111s        Normal   Created                   pod/hello-minikube-794659f9d8-pth86    Created container agnhost\n",
      "111s        Normal   Started                   pod/hello-minikube-794659f9d8-pth86    Started container agnhost\n",
      "32s         Normal   Killing                   pod/hello-minikube-794659f9d8-pth86    Stopping container agnhost\n",
      "115s        Normal   SuccessfulCreate          replicaset/hello-minikube-794659f9d8   Created pod: hello-minikube-794659f9d8-pth86\n",
      "115s        Normal   ScalingReplicaSet         deployment/hello-minikube              Scaled up replica set hello-minikube-794659f9d8 to 1\n",
      "27s         Normal   Scheduled                 pod/hello-node-7579565d66-qqwxd        Successfully assigned default/hello-node-7579565d66-qqwxd to minikube\n",
      "26s         Normal   Pulled                    pod/hello-node-7579565d66-qqwxd        Container image \"registry.k8s.io/e2e-test-images/agnhost:2.39\" already present on machine\n",
      "26s         Normal   Created                   pod/hello-node-7579565d66-qqwxd        Created container agnhost\n",
      "26s         Normal   Started                   pod/hello-node-7579565d66-qqwxd        Started container agnhost\n",
      "27s         Normal   SuccessfulCreate          replicaset/hello-node-7579565d66       Created pod: hello-node-7579565d66-qqwxd\n",
      "27s         Normal   ScalingReplicaSet         deployment/hello-node                  Scaled up replica set hello-node-7579565d66 to 1\n",
      "13m         Normal   Starting                  node/minikube                          Starting kubelet.\n",
      "13m         Normal   NodeHasSufficientMemory   node/minikube                          Node minikube status is now: NodeHasSufficientMemory\n",
      "13m         Normal   NodeHasNoDiskPressure     node/minikube                          Node minikube status is now: NodeHasNoDiskPressure\n",
      "13m         Normal   NodeHasSufficientPID      node/minikube                          Node minikube status is now: NodeHasSufficientPID\n",
      "13m         Normal   NodeAllocatableEnforced   node/minikube                          Updated Node Allocatable limit across pods\n",
      "13m         Normal   Starting                  node/minikube                          Starting kubelet.\n",
      "13m         Normal   NodeAllocatableEnforced   node/minikube                          Updated Node Allocatable limit across pods\n",
      "13m         Normal   NodeHasSufficientMemory   node/minikube                          Node minikube status is now: NodeHasSufficientMemory\n",
      "13m         Normal   NodeHasNoDiskPressure     node/minikube                          Node minikube status is now: NodeHasNoDiskPressure\n",
      "13m         Normal   NodeHasSufficientPID      node/minikube                          Node minikube status is now: NodeHasSufficientPID\n",
      "13m         Normal   RegisteredNode            node/minikube                          Node minikube event: Registered Node minikube in Controller\n",
      "13m         Normal   Starting                  node/minikube                          \n"
     ]
    }
   ],
   "source": [
    "!kubectl get events"
   ]
  },
  {
   "cell_type": "code",
   "execution_count": 56,
   "id": "5119ba51-ed29-4c7a-b785-41f9ff55ac8d",
   "metadata": {},
   "outputs": [
    {
     "name": "stdout",
     "output_type": "stream",
     "text": [
      "apiVersion: v1\n",
      "clusters:\n",
      "- cluster:\n",
      "    certificate-authority: /home/jupyter/.minikube/ca.crt\n",
      "    extensions:\n",
      "    - extension:\n",
      "        last-update: Fri, 27 Oct 2023 02:14:21 UTC\n",
      "        provider: minikube.sigs.k8s.io\n",
      "        version: v1.31.2\n",
      "      name: cluster_info\n",
      "    server: https://192.168.49.2:8443\n",
      "  name: minikube\n",
      "contexts:\n",
      "- context:\n",
      "    cluster: minikube\n",
      "    extensions:\n",
      "    - extension:\n",
      "        last-update: Fri, 27 Oct 2023 02:14:21 UTC\n",
      "        provider: minikube.sigs.k8s.io\n",
      "        version: v1.31.2\n",
      "      name: context_info\n",
      "    namespace: default\n",
      "    user: minikube\n",
      "  name: minikube\n",
      "current-context: minikube\n",
      "kind: Config\n",
      "preferences: {}\n",
      "users:\n",
      "- name: minikube\n",
      "  user:\n",
      "    client-certificate: /home/jupyter/.minikube/profiles/minikube/client.crt\n",
      "    client-key: /home/jupyter/.minikube/profiles/minikube/client.key\n"
     ]
    }
   ],
   "source": [
    "!kubectl config view"
   ]
  },
  {
   "cell_type": "code",
   "execution_count": 57,
   "id": "a4a8aba4-3f33-46b1-898d-a8efead40d32",
   "metadata": {},
   "outputs": [
    {
     "name": "stdout",
     "output_type": "stream",
     "text": [
      "I1027 02:27:44.560600       1 log.go:195] Started HTTP server on port 8080\n",
      "I1027 02:27:44.561032       1 log.go:195] Started UDP server on port  8081\n"
     ]
    }
   ],
   "source": [
    "!kubectl logs hello-node-7579565d66-qqwxd"
   ]
  },
  {
   "cell_type": "markdown",
   "id": "fce7f91f-d548-4450-a035-1fb1d33d6bdc",
   "metadata": {},
   "source": [
    "## Create a Service"
   ]
  },
  {
   "cell_type": "code",
   "execution_count": 60,
   "id": "3169b8af-a48d-4990-b53f-f8502ba51821",
   "metadata": {},
   "outputs": [
    {
     "name": "stdout",
     "output_type": "stream",
     "text": [
      "service/hello-node exposed\n"
     ]
    }
   ],
   "source": [
    "!kubectl expose deployment hello-node \\\n",
    "    --type=LoadBalancer \\\n",
    "    --port=8080"
   ]
  },
  {
   "cell_type": "code",
   "execution_count": 61,
   "id": "85e16c1c-167c-4639-8a3f-9d9ce3a20d08",
   "metadata": {},
   "outputs": [
    {
     "name": "stdout",
     "output_type": "stream",
     "text": [
      "NAME         TYPE           CLUSTER-IP      EXTERNAL-IP   PORT(S)          AGE\n",
      "hello-node   LoadBalancer   10.106.156.52   <pending>     8080:32485/TCP   11s\n",
      "kubernetes   ClusterIP      10.96.0.1       <none>        443/TCP          17m\n"
     ]
    }
   ],
   "source": [
    "# !kubectl get services"
   ]
  },
  {
   "cell_type": "code",
   "execution_count": 63,
   "id": "e1176567-b234-4988-a752-5359cc0821f3",
   "metadata": {},
   "outputs": [],
   "source": [
    "# !minikube service hello-node\n",
    "# On cloud providers that support load balancers,an IP address would be provisioned to access the Service. (https://kubernetes.io/docs/tutorials/hello-minikube/#create-a-service)"
   ]
  },
  {
   "cell_type": "markdown",
   "id": "b48dd07f-3fe8-45d4-bfae-8f098607511f",
   "metadata": {},
   "source": [
    "## Enable addons"
   ]
  },
  {
   "cell_type": "markdown",
   "id": "fcaeb74c-0219-4139-b742-26e96ec6ec41",
   "metadata": {},
   "source": [
    "## Clean up"
   ]
  },
  {
   "cell_type": "code",
   "execution_count": 65,
   "id": "07267379-5c5f-496e-8e26-f56d72520816",
   "metadata": {},
   "outputs": [
    {
     "name": "stdout",
     "output_type": "stream",
     "text": [
      "service \"hello-node\" deleted\n",
      "deployment.apps \"hello-node\" deleted\n"
     ]
    }
   ],
   "source": [
    "%%sh\n",
    "kubectl delete service hello-node\n",
    "kubectl delete deployment hello-node"
   ]
  },
  {
   "cell_type": "code",
   "execution_count": 66,
   "id": "601b5339-e7bf-47e1-94a2-b3a12f4c14ba",
   "metadata": {},
   "outputs": [
    {
     "name": "stdout",
     "output_type": "stream",
     "text": [
      "✋  Stopping node \"minikube\"  ...\n",
      "🛑  Powering off \"minikube\" via SSH ...\n",
      "🛑  1 node stopped.\n"
     ]
    }
   ],
   "source": [
    "!minikube stop"
   ]
  },
  {
   "cell_type": "code",
   "execution_count": 67,
   "id": "1d2306f9-64b7-40b0-9c09-7118b14846b5",
   "metadata": {},
   "outputs": [
    {
     "name": "stdout",
     "output_type": "stream",
     "text": [
      "/bin/bash: line 1: Minikube: command not found\n"
     ]
    }
   ],
   "source": [
    "!Minikube delete"
   ]
  },
  {
   "cell_type": "code",
   "execution_count": null,
   "id": "80ad743a-afa0-4633-9a5a-2907d4ea4c04",
   "metadata": {},
   "outputs": [],
   "source": []
  }
 ],
 "metadata": {
  "environment": {
   "kernel": "python3",
   "name": "tf2-cpu.2-11.m112",
   "type": "gcloud",
   "uri": "gcr.io/deeplearning-platform-release/tf2-cpu.2-11:m112"
  },
  "kernelspec": {
   "display_name": "Python 3",
   "language": "python",
   "name": "python3"
  },
  "language_info": {
   "codemirror_mode": {
    "name": "ipython",
    "version": 3
   },
   "file_extension": ".py",
   "mimetype": "text/x-python",
   "name": "python",
   "nbconvert_exporter": "python",
   "pygments_lexer": "ipython3",
   "version": "3.10.12"
  }
 },
 "nbformat": 4,
 "nbformat_minor": 5
}
